{
  "nbformat": 4,
  "nbformat_minor": 0,
  "metadata": {
    "colab": {
      "provenance": []
    },
    "kernelspec": {
      "name": "python3",
      "display_name": "Python 3"
    },
    "language_info": {
      "name": "python"
    },
    "widgets": {
      "application/vnd.jupyter.widget-state+json": {
        "9b144162186a4c009df1354287ec58ba": {
          "model_module": "@jupyter-widgets/controls",
          "model_name": "HBoxModel",
          "model_module_version": "1.5.0",
          "state": {
            "_dom_classes": [],
            "_model_module": "@jupyter-widgets/controls",
            "_model_module_version": "1.5.0",
            "_model_name": "HBoxModel",
            "_view_count": null,
            "_view_module": "@jupyter-widgets/controls",
            "_view_module_version": "1.5.0",
            "_view_name": "HBoxView",
            "box_style": "",
            "children": [
              "IPY_MODEL_a8081089b031416188717edaada5c4f4",
              "IPY_MODEL_320a0887317f4f4ab0123b75b6ba0ee8",
              "IPY_MODEL_806d7f09416d4318af341dc655aa7609"
            ],
            "layout": "IPY_MODEL_20738d60f26746d49fceb2b6324a3392"
          }
        },
        "a8081089b031416188717edaada5c4f4": {
          "model_module": "@jupyter-widgets/controls",
          "model_name": "HTMLModel",
          "model_module_version": "1.5.0",
          "state": {
            "_dom_classes": [],
            "_model_module": "@jupyter-widgets/controls",
            "_model_module_version": "1.5.0",
            "_model_name": "HTMLModel",
            "_view_count": null,
            "_view_module": "@jupyter-widgets/controls",
            "_view_module_version": "1.5.0",
            "_view_name": "HTMLView",
            "description": "",
            "description_tooltip": null,
            "layout": "IPY_MODEL_dc99ad01ebc049c882050329c8f6c2f9",
            "placeholder": "​",
            "style": "IPY_MODEL_eeae5749f2e54c35aedfc84453872f14",
            "value": "100%"
          }
        },
        "320a0887317f4f4ab0123b75b6ba0ee8": {
          "model_module": "@jupyter-widgets/controls",
          "model_name": "FloatProgressModel",
          "model_module_version": "1.5.0",
          "state": {
            "_dom_classes": [],
            "_model_module": "@jupyter-widgets/controls",
            "_model_module_version": "1.5.0",
            "_model_name": "FloatProgressModel",
            "_view_count": null,
            "_view_module": "@jupyter-widgets/controls",
            "_view_module_version": "1.5.0",
            "_view_name": "ProgressView",
            "bar_style": "success",
            "description": "",
            "description_tooltip": null,
            "layout": "IPY_MODEL_75f1d6f344244a17a5185bed78519bf8",
            "max": 10,
            "min": 0,
            "orientation": "horizontal",
            "style": "IPY_MODEL_be5942e3769741e68c19d7df34342c26",
            "value": 10
          }
        },
        "806d7f09416d4318af341dc655aa7609": {
          "model_module": "@jupyter-widgets/controls",
          "model_name": "HTMLModel",
          "model_module_version": "1.5.0",
          "state": {
            "_dom_classes": [],
            "_model_module": "@jupyter-widgets/controls",
            "_model_module_version": "1.5.0",
            "_model_name": "HTMLModel",
            "_view_count": null,
            "_view_module": "@jupyter-widgets/controls",
            "_view_module_version": "1.5.0",
            "_view_name": "HTMLView",
            "description": "",
            "description_tooltip": null,
            "layout": "IPY_MODEL_b272678617b24797aa436d95c04091ce",
            "placeholder": "​",
            "style": "IPY_MODEL_67e8880824614225aad64fd7e817a147",
            "value": " 10/10 [02:38&lt;00:00, 16.66s/it]"
          }
        },
        "20738d60f26746d49fceb2b6324a3392": {
          "model_module": "@jupyter-widgets/base",
          "model_name": "LayoutModel",
          "model_module_version": "1.2.0",
          "state": {
            "_model_module": "@jupyter-widgets/base",
            "_model_module_version": "1.2.0",
            "_model_name": "LayoutModel",
            "_view_count": null,
            "_view_module": "@jupyter-widgets/base",
            "_view_module_version": "1.2.0",
            "_view_name": "LayoutView",
            "align_content": null,
            "align_items": null,
            "align_self": null,
            "border": null,
            "bottom": null,
            "display": null,
            "flex": null,
            "flex_flow": null,
            "grid_area": null,
            "grid_auto_columns": null,
            "grid_auto_flow": null,
            "grid_auto_rows": null,
            "grid_column": null,
            "grid_gap": null,
            "grid_row": null,
            "grid_template_areas": null,
            "grid_template_columns": null,
            "grid_template_rows": null,
            "height": null,
            "justify_content": null,
            "justify_items": null,
            "left": null,
            "margin": null,
            "max_height": null,
            "max_width": null,
            "min_height": null,
            "min_width": null,
            "object_fit": null,
            "object_position": null,
            "order": null,
            "overflow": null,
            "overflow_x": null,
            "overflow_y": null,
            "padding": null,
            "right": null,
            "top": null,
            "visibility": null,
            "width": null
          }
        },
        "dc99ad01ebc049c882050329c8f6c2f9": {
          "model_module": "@jupyter-widgets/base",
          "model_name": "LayoutModel",
          "model_module_version": "1.2.0",
          "state": {
            "_model_module": "@jupyter-widgets/base",
            "_model_module_version": "1.2.0",
            "_model_name": "LayoutModel",
            "_view_count": null,
            "_view_module": "@jupyter-widgets/base",
            "_view_module_version": "1.2.0",
            "_view_name": "LayoutView",
            "align_content": null,
            "align_items": null,
            "align_self": null,
            "border": null,
            "bottom": null,
            "display": null,
            "flex": null,
            "flex_flow": null,
            "grid_area": null,
            "grid_auto_columns": null,
            "grid_auto_flow": null,
            "grid_auto_rows": null,
            "grid_column": null,
            "grid_gap": null,
            "grid_row": null,
            "grid_template_areas": null,
            "grid_template_columns": null,
            "grid_template_rows": null,
            "height": null,
            "justify_content": null,
            "justify_items": null,
            "left": null,
            "margin": null,
            "max_height": null,
            "max_width": null,
            "min_height": null,
            "min_width": null,
            "object_fit": null,
            "object_position": null,
            "order": null,
            "overflow": null,
            "overflow_x": null,
            "overflow_y": null,
            "padding": null,
            "right": null,
            "top": null,
            "visibility": null,
            "width": null
          }
        },
        "eeae5749f2e54c35aedfc84453872f14": {
          "model_module": "@jupyter-widgets/controls",
          "model_name": "DescriptionStyleModel",
          "model_module_version": "1.5.0",
          "state": {
            "_model_module": "@jupyter-widgets/controls",
            "_model_module_version": "1.5.0",
            "_model_name": "DescriptionStyleModel",
            "_view_count": null,
            "_view_module": "@jupyter-widgets/base",
            "_view_module_version": "1.2.0",
            "_view_name": "StyleView",
            "description_width": ""
          }
        },
        "75f1d6f344244a17a5185bed78519bf8": {
          "model_module": "@jupyter-widgets/base",
          "model_name": "LayoutModel",
          "model_module_version": "1.2.0",
          "state": {
            "_model_module": "@jupyter-widgets/base",
            "_model_module_version": "1.2.0",
            "_model_name": "LayoutModel",
            "_view_count": null,
            "_view_module": "@jupyter-widgets/base",
            "_view_module_version": "1.2.0",
            "_view_name": "LayoutView",
            "align_content": null,
            "align_items": null,
            "align_self": null,
            "border": null,
            "bottom": null,
            "display": null,
            "flex": null,
            "flex_flow": null,
            "grid_area": null,
            "grid_auto_columns": null,
            "grid_auto_flow": null,
            "grid_auto_rows": null,
            "grid_column": null,
            "grid_gap": null,
            "grid_row": null,
            "grid_template_areas": null,
            "grid_template_columns": null,
            "grid_template_rows": null,
            "height": null,
            "justify_content": null,
            "justify_items": null,
            "left": null,
            "margin": null,
            "max_height": null,
            "max_width": null,
            "min_height": null,
            "min_width": null,
            "object_fit": null,
            "object_position": null,
            "order": null,
            "overflow": null,
            "overflow_x": null,
            "overflow_y": null,
            "padding": null,
            "right": null,
            "top": null,
            "visibility": null,
            "width": null
          }
        },
        "be5942e3769741e68c19d7df34342c26": {
          "model_module": "@jupyter-widgets/controls",
          "model_name": "ProgressStyleModel",
          "model_module_version": "1.5.0",
          "state": {
            "_model_module": "@jupyter-widgets/controls",
            "_model_module_version": "1.5.0",
            "_model_name": "ProgressStyleModel",
            "_view_count": null,
            "_view_module": "@jupyter-widgets/base",
            "_view_module_version": "1.2.0",
            "_view_name": "StyleView",
            "bar_color": null,
            "description_width": ""
          }
        },
        "b272678617b24797aa436d95c04091ce": {
          "model_module": "@jupyter-widgets/base",
          "model_name": "LayoutModel",
          "model_module_version": "1.2.0",
          "state": {
            "_model_module": "@jupyter-widgets/base",
            "_model_module_version": "1.2.0",
            "_model_name": "LayoutModel",
            "_view_count": null,
            "_view_module": "@jupyter-widgets/base",
            "_view_module_version": "1.2.0",
            "_view_name": "LayoutView",
            "align_content": null,
            "align_items": null,
            "align_self": null,
            "border": null,
            "bottom": null,
            "display": null,
            "flex": null,
            "flex_flow": null,
            "grid_area": null,
            "grid_auto_columns": null,
            "grid_auto_flow": null,
            "grid_auto_rows": null,
            "grid_column": null,
            "grid_gap": null,
            "grid_row": null,
            "grid_template_areas": null,
            "grid_template_columns": null,
            "grid_template_rows": null,
            "height": null,
            "justify_content": null,
            "justify_items": null,
            "left": null,
            "margin": null,
            "max_height": null,
            "max_width": null,
            "min_height": null,
            "min_width": null,
            "object_fit": null,
            "object_position": null,
            "order": null,
            "overflow": null,
            "overflow_x": null,
            "overflow_y": null,
            "padding": null,
            "right": null,
            "top": null,
            "visibility": null,
            "width": null
          }
        },
        "67e8880824614225aad64fd7e817a147": {
          "model_module": "@jupyter-widgets/controls",
          "model_name": "DescriptionStyleModel",
          "model_module_version": "1.5.0",
          "state": {
            "_model_module": "@jupyter-widgets/controls",
            "_model_module_version": "1.5.0",
            "_model_name": "DescriptionStyleModel",
            "_view_count": null,
            "_view_module": "@jupyter-widgets/base",
            "_view_module_version": "1.2.0",
            "_view_name": "StyleView",
            "description_width": ""
          }
        },
        "7af121556ba544c09378ea024c9361ae": {
          "model_module": "@jupyter-widgets/controls",
          "model_name": "HBoxModel",
          "model_module_version": "1.5.0",
          "state": {
            "_dom_classes": [],
            "_model_module": "@jupyter-widgets/controls",
            "_model_module_version": "1.5.0",
            "_model_name": "HBoxModel",
            "_view_count": null,
            "_view_module": "@jupyter-widgets/controls",
            "_view_module_version": "1.5.0",
            "_view_name": "HBoxView",
            "box_style": "",
            "children": [
              "IPY_MODEL_696adb4442e542368ac2e4cb55e2cfc5",
              "IPY_MODEL_968e063c5db840e595456b502dbb34bf",
              "IPY_MODEL_3c5c62bf6c6a4040801af0645d6edbfa"
            ],
            "layout": "IPY_MODEL_ee66479a2f52498ea80c392e2b459bf2"
          }
        },
        "696adb4442e542368ac2e4cb55e2cfc5": {
          "model_module": "@jupyter-widgets/controls",
          "model_name": "HTMLModel",
          "model_module_version": "1.5.0",
          "state": {
            "_dom_classes": [],
            "_model_module": "@jupyter-widgets/controls",
            "_model_module_version": "1.5.0",
            "_model_name": "HTMLModel",
            "_view_count": null,
            "_view_module": "@jupyter-widgets/controls",
            "_view_module_version": "1.5.0",
            "_view_name": "HTMLView",
            "description": "",
            "description_tooltip": null,
            "layout": "IPY_MODEL_6e9bdbfaf4bf4e528756fc3c7749b367",
            "placeholder": "​",
            "style": "IPY_MODEL_a74c9533ce764d7d921e029d054d5acf",
            "value": "100%"
          }
        },
        "968e063c5db840e595456b502dbb34bf": {
          "model_module": "@jupyter-widgets/controls",
          "model_name": "FloatProgressModel",
          "model_module_version": "1.5.0",
          "state": {
            "_dom_classes": [],
            "_model_module": "@jupyter-widgets/controls",
            "_model_module_version": "1.5.0",
            "_model_name": "FloatProgressModel",
            "_view_count": null,
            "_view_module": "@jupyter-widgets/controls",
            "_view_module_version": "1.5.0",
            "_view_name": "ProgressView",
            "bar_style": "success",
            "description": "",
            "description_tooltip": null,
            "layout": "IPY_MODEL_e337e14680f34e50addb092d485a897f",
            "max": 3,
            "min": 0,
            "orientation": "horizontal",
            "style": "IPY_MODEL_4c0ed5fae03643e2a6f503e5eebac6f4",
            "value": 3
          }
        },
        "3c5c62bf6c6a4040801af0645d6edbfa": {
          "model_module": "@jupyter-widgets/controls",
          "model_name": "HTMLModel",
          "model_module_version": "1.5.0",
          "state": {
            "_dom_classes": [],
            "_model_module": "@jupyter-widgets/controls",
            "_model_module_version": "1.5.0",
            "_model_name": "HTMLModel",
            "_view_count": null,
            "_view_module": "@jupyter-widgets/controls",
            "_view_module_version": "1.5.0",
            "_view_name": "HTMLView",
            "description": "",
            "description_tooltip": null,
            "layout": "IPY_MODEL_50fc9da778ef40c1960edf4c81d05723",
            "placeholder": "​",
            "style": "IPY_MODEL_c865a0afd1ad4122bbdee81d6930da4c",
            "value": " 3/3 [00:55&lt;00:00, 18.49s/it]"
          }
        },
        "ee66479a2f52498ea80c392e2b459bf2": {
          "model_module": "@jupyter-widgets/base",
          "model_name": "LayoutModel",
          "model_module_version": "1.2.0",
          "state": {
            "_model_module": "@jupyter-widgets/base",
            "_model_module_version": "1.2.0",
            "_model_name": "LayoutModel",
            "_view_count": null,
            "_view_module": "@jupyter-widgets/base",
            "_view_module_version": "1.2.0",
            "_view_name": "LayoutView",
            "align_content": null,
            "align_items": null,
            "align_self": null,
            "border": null,
            "bottom": null,
            "display": null,
            "flex": null,
            "flex_flow": null,
            "grid_area": null,
            "grid_auto_columns": null,
            "grid_auto_flow": null,
            "grid_auto_rows": null,
            "grid_column": null,
            "grid_gap": null,
            "grid_row": null,
            "grid_template_areas": null,
            "grid_template_columns": null,
            "grid_template_rows": null,
            "height": null,
            "justify_content": null,
            "justify_items": null,
            "left": null,
            "margin": null,
            "max_height": null,
            "max_width": null,
            "min_height": null,
            "min_width": null,
            "object_fit": null,
            "object_position": null,
            "order": null,
            "overflow": null,
            "overflow_x": null,
            "overflow_y": null,
            "padding": null,
            "right": null,
            "top": null,
            "visibility": null,
            "width": null
          }
        },
        "6e9bdbfaf4bf4e528756fc3c7749b367": {
          "model_module": "@jupyter-widgets/base",
          "model_name": "LayoutModel",
          "model_module_version": "1.2.0",
          "state": {
            "_model_module": "@jupyter-widgets/base",
            "_model_module_version": "1.2.0",
            "_model_name": "LayoutModel",
            "_view_count": null,
            "_view_module": "@jupyter-widgets/base",
            "_view_module_version": "1.2.0",
            "_view_name": "LayoutView",
            "align_content": null,
            "align_items": null,
            "align_self": null,
            "border": null,
            "bottom": null,
            "display": null,
            "flex": null,
            "flex_flow": null,
            "grid_area": null,
            "grid_auto_columns": null,
            "grid_auto_flow": null,
            "grid_auto_rows": null,
            "grid_column": null,
            "grid_gap": null,
            "grid_row": null,
            "grid_template_areas": null,
            "grid_template_columns": null,
            "grid_template_rows": null,
            "height": null,
            "justify_content": null,
            "justify_items": null,
            "left": null,
            "margin": null,
            "max_height": null,
            "max_width": null,
            "min_height": null,
            "min_width": null,
            "object_fit": null,
            "object_position": null,
            "order": null,
            "overflow": null,
            "overflow_x": null,
            "overflow_y": null,
            "padding": null,
            "right": null,
            "top": null,
            "visibility": null,
            "width": null
          }
        },
        "a74c9533ce764d7d921e029d054d5acf": {
          "model_module": "@jupyter-widgets/controls",
          "model_name": "DescriptionStyleModel",
          "model_module_version": "1.5.0",
          "state": {
            "_model_module": "@jupyter-widgets/controls",
            "_model_module_version": "1.5.0",
            "_model_name": "DescriptionStyleModel",
            "_view_count": null,
            "_view_module": "@jupyter-widgets/base",
            "_view_module_version": "1.2.0",
            "_view_name": "StyleView",
            "description_width": ""
          }
        },
        "e337e14680f34e50addb092d485a897f": {
          "model_module": "@jupyter-widgets/base",
          "model_name": "LayoutModel",
          "model_module_version": "1.2.0",
          "state": {
            "_model_module": "@jupyter-widgets/base",
            "_model_module_version": "1.2.0",
            "_model_name": "LayoutModel",
            "_view_count": null,
            "_view_module": "@jupyter-widgets/base",
            "_view_module_version": "1.2.0",
            "_view_name": "LayoutView",
            "align_content": null,
            "align_items": null,
            "align_self": null,
            "border": null,
            "bottom": null,
            "display": null,
            "flex": null,
            "flex_flow": null,
            "grid_area": null,
            "grid_auto_columns": null,
            "grid_auto_flow": null,
            "grid_auto_rows": null,
            "grid_column": null,
            "grid_gap": null,
            "grid_row": null,
            "grid_template_areas": null,
            "grid_template_columns": null,
            "grid_template_rows": null,
            "height": null,
            "justify_content": null,
            "justify_items": null,
            "left": null,
            "margin": null,
            "max_height": null,
            "max_width": null,
            "min_height": null,
            "min_width": null,
            "object_fit": null,
            "object_position": null,
            "order": null,
            "overflow": null,
            "overflow_x": null,
            "overflow_y": null,
            "padding": null,
            "right": null,
            "top": null,
            "visibility": null,
            "width": null
          }
        },
        "4c0ed5fae03643e2a6f503e5eebac6f4": {
          "model_module": "@jupyter-widgets/controls",
          "model_name": "ProgressStyleModel",
          "model_module_version": "1.5.0",
          "state": {
            "_model_module": "@jupyter-widgets/controls",
            "_model_module_version": "1.5.0",
            "_model_name": "ProgressStyleModel",
            "_view_count": null,
            "_view_module": "@jupyter-widgets/base",
            "_view_module_version": "1.2.0",
            "_view_name": "StyleView",
            "bar_color": null,
            "description_width": ""
          }
        },
        "50fc9da778ef40c1960edf4c81d05723": {
          "model_module": "@jupyter-widgets/base",
          "model_name": "LayoutModel",
          "model_module_version": "1.2.0",
          "state": {
            "_model_module": "@jupyter-widgets/base",
            "_model_module_version": "1.2.0",
            "_model_name": "LayoutModel",
            "_view_count": null,
            "_view_module": "@jupyter-widgets/base",
            "_view_module_version": "1.2.0",
            "_view_name": "LayoutView",
            "align_content": null,
            "align_items": null,
            "align_self": null,
            "border": null,
            "bottom": null,
            "display": null,
            "flex": null,
            "flex_flow": null,
            "grid_area": null,
            "grid_auto_columns": null,
            "grid_auto_flow": null,
            "grid_auto_rows": null,
            "grid_column": null,
            "grid_gap": null,
            "grid_row": null,
            "grid_template_areas": null,
            "grid_template_columns": null,
            "grid_template_rows": null,
            "height": null,
            "justify_content": null,
            "justify_items": null,
            "left": null,
            "margin": null,
            "max_height": null,
            "max_width": null,
            "min_height": null,
            "min_width": null,
            "object_fit": null,
            "object_position": null,
            "order": null,
            "overflow": null,
            "overflow_x": null,
            "overflow_y": null,
            "padding": null,
            "right": null,
            "top": null,
            "visibility": null,
            "width": null
          }
        },
        "c865a0afd1ad4122bbdee81d6930da4c": {
          "model_module": "@jupyter-widgets/controls",
          "model_name": "DescriptionStyleModel",
          "model_module_version": "1.5.0",
          "state": {
            "_model_module": "@jupyter-widgets/controls",
            "_model_module_version": "1.5.0",
            "_model_name": "DescriptionStyleModel",
            "_view_count": null,
            "_view_module": "@jupyter-widgets/base",
            "_view_module_version": "1.2.0",
            "_view_name": "StyleView",
            "description_width": ""
          }
        },
        "825e81e011ac4660a13e5ae7dc56955d": {
          "model_module": "@jupyter-widgets/controls",
          "model_name": "HBoxModel",
          "model_module_version": "1.5.0",
          "state": {
            "_dom_classes": [],
            "_model_module": "@jupyter-widgets/controls",
            "_model_module_version": "1.5.0",
            "_model_name": "HBoxModel",
            "_view_count": null,
            "_view_module": "@jupyter-widgets/controls",
            "_view_module_version": "1.5.0",
            "_view_name": "HBoxView",
            "box_style": "",
            "children": [
              "IPY_MODEL_a6c3fde528b34b6da4d31db3488c84ca",
              "IPY_MODEL_0ed35a4a9912400598895d7097badbd5",
              "IPY_MODEL_ef182ea3901e40df927c2a20cc4cd6a5"
            ],
            "layout": "IPY_MODEL_09baad869e21446594406f99e065a9f2"
          }
        },
        "a6c3fde528b34b6da4d31db3488c84ca": {
          "model_module": "@jupyter-widgets/controls",
          "model_name": "HTMLModel",
          "model_module_version": "1.5.0",
          "state": {
            "_dom_classes": [],
            "_model_module": "@jupyter-widgets/controls",
            "_model_module_version": "1.5.0",
            "_model_name": "HTMLModel",
            "_view_count": null,
            "_view_module": "@jupyter-widgets/controls",
            "_view_module_version": "1.5.0",
            "_view_name": "HTMLView",
            "description": "",
            "description_tooltip": null,
            "layout": "IPY_MODEL_5ed2a040c4354561b63b6f070af069e6",
            "placeholder": "​",
            "style": "IPY_MODEL_2ceda44657cb4653bc214f1df23207c7",
            "value": "100%"
          }
        },
        "0ed35a4a9912400598895d7097badbd5": {
          "model_module": "@jupyter-widgets/controls",
          "model_name": "FloatProgressModel",
          "model_module_version": "1.5.0",
          "state": {
            "_dom_classes": [],
            "_model_module": "@jupyter-widgets/controls",
            "_model_module_version": "1.5.0",
            "_model_name": "FloatProgressModel",
            "_view_count": null,
            "_view_module": "@jupyter-widgets/controls",
            "_view_module_version": "1.5.0",
            "_view_name": "ProgressView",
            "bar_style": "success",
            "description": "",
            "description_tooltip": null,
            "layout": "IPY_MODEL_db944d7d7ced4b3685e715e779034223",
            "max": 10,
            "min": 0,
            "orientation": "horizontal",
            "style": "IPY_MODEL_ef63263931a54770a107f56b889fb560",
            "value": 10
          }
        },
        "ef182ea3901e40df927c2a20cc4cd6a5": {
          "model_module": "@jupyter-widgets/controls",
          "model_name": "HTMLModel",
          "model_module_version": "1.5.0",
          "state": {
            "_dom_classes": [],
            "_model_module": "@jupyter-widgets/controls",
            "_model_module_version": "1.5.0",
            "_model_name": "HTMLModel",
            "_view_count": null,
            "_view_module": "@jupyter-widgets/controls",
            "_view_module_version": "1.5.0",
            "_view_name": "HTMLView",
            "description": "",
            "description_tooltip": null,
            "layout": "IPY_MODEL_c879555efcef4d9d8377a4b5db32b168",
            "placeholder": "​",
            "style": "IPY_MODEL_b837f838ff5e447598a4168011a87f35",
            "value": " 10/10 [09:29&lt;00:00, 52.43s/it]"
          }
        },
        "09baad869e21446594406f99e065a9f2": {
          "model_module": "@jupyter-widgets/base",
          "model_name": "LayoutModel",
          "model_module_version": "1.2.0",
          "state": {
            "_model_module": "@jupyter-widgets/base",
            "_model_module_version": "1.2.0",
            "_model_name": "LayoutModel",
            "_view_count": null,
            "_view_module": "@jupyter-widgets/base",
            "_view_module_version": "1.2.0",
            "_view_name": "LayoutView",
            "align_content": null,
            "align_items": null,
            "align_self": null,
            "border": null,
            "bottom": null,
            "display": null,
            "flex": null,
            "flex_flow": null,
            "grid_area": null,
            "grid_auto_columns": null,
            "grid_auto_flow": null,
            "grid_auto_rows": null,
            "grid_column": null,
            "grid_gap": null,
            "grid_row": null,
            "grid_template_areas": null,
            "grid_template_columns": null,
            "grid_template_rows": null,
            "height": null,
            "justify_content": null,
            "justify_items": null,
            "left": null,
            "margin": null,
            "max_height": null,
            "max_width": null,
            "min_height": null,
            "min_width": null,
            "object_fit": null,
            "object_position": null,
            "order": null,
            "overflow": null,
            "overflow_x": null,
            "overflow_y": null,
            "padding": null,
            "right": null,
            "top": null,
            "visibility": null,
            "width": null
          }
        },
        "5ed2a040c4354561b63b6f070af069e6": {
          "model_module": "@jupyter-widgets/base",
          "model_name": "LayoutModel",
          "model_module_version": "1.2.0",
          "state": {
            "_model_module": "@jupyter-widgets/base",
            "_model_module_version": "1.2.0",
            "_model_name": "LayoutModel",
            "_view_count": null,
            "_view_module": "@jupyter-widgets/base",
            "_view_module_version": "1.2.0",
            "_view_name": "LayoutView",
            "align_content": null,
            "align_items": null,
            "align_self": null,
            "border": null,
            "bottom": null,
            "display": null,
            "flex": null,
            "flex_flow": null,
            "grid_area": null,
            "grid_auto_columns": null,
            "grid_auto_flow": null,
            "grid_auto_rows": null,
            "grid_column": null,
            "grid_gap": null,
            "grid_row": null,
            "grid_template_areas": null,
            "grid_template_columns": null,
            "grid_template_rows": null,
            "height": null,
            "justify_content": null,
            "justify_items": null,
            "left": null,
            "margin": null,
            "max_height": null,
            "max_width": null,
            "min_height": null,
            "min_width": null,
            "object_fit": null,
            "object_position": null,
            "order": null,
            "overflow": null,
            "overflow_x": null,
            "overflow_y": null,
            "padding": null,
            "right": null,
            "top": null,
            "visibility": null,
            "width": null
          }
        },
        "2ceda44657cb4653bc214f1df23207c7": {
          "model_module": "@jupyter-widgets/controls",
          "model_name": "DescriptionStyleModel",
          "model_module_version": "1.5.0",
          "state": {
            "_model_module": "@jupyter-widgets/controls",
            "_model_module_version": "1.5.0",
            "_model_name": "DescriptionStyleModel",
            "_view_count": null,
            "_view_module": "@jupyter-widgets/base",
            "_view_module_version": "1.2.0",
            "_view_name": "StyleView",
            "description_width": ""
          }
        },
        "db944d7d7ced4b3685e715e779034223": {
          "model_module": "@jupyter-widgets/base",
          "model_name": "LayoutModel",
          "model_module_version": "1.2.0",
          "state": {
            "_model_module": "@jupyter-widgets/base",
            "_model_module_version": "1.2.0",
            "_model_name": "LayoutModel",
            "_view_count": null,
            "_view_module": "@jupyter-widgets/base",
            "_view_module_version": "1.2.0",
            "_view_name": "LayoutView",
            "align_content": null,
            "align_items": null,
            "align_self": null,
            "border": null,
            "bottom": null,
            "display": null,
            "flex": null,
            "flex_flow": null,
            "grid_area": null,
            "grid_auto_columns": null,
            "grid_auto_flow": null,
            "grid_auto_rows": null,
            "grid_column": null,
            "grid_gap": null,
            "grid_row": null,
            "grid_template_areas": null,
            "grid_template_columns": null,
            "grid_template_rows": null,
            "height": null,
            "justify_content": null,
            "justify_items": null,
            "left": null,
            "margin": null,
            "max_height": null,
            "max_width": null,
            "min_height": null,
            "min_width": null,
            "object_fit": null,
            "object_position": null,
            "order": null,
            "overflow": null,
            "overflow_x": null,
            "overflow_y": null,
            "padding": null,
            "right": null,
            "top": null,
            "visibility": null,
            "width": null
          }
        },
        "ef63263931a54770a107f56b889fb560": {
          "model_module": "@jupyter-widgets/controls",
          "model_name": "ProgressStyleModel",
          "model_module_version": "1.5.0",
          "state": {
            "_model_module": "@jupyter-widgets/controls",
            "_model_module_version": "1.5.0",
            "_model_name": "ProgressStyleModel",
            "_view_count": null,
            "_view_module": "@jupyter-widgets/base",
            "_view_module_version": "1.2.0",
            "_view_name": "StyleView",
            "bar_color": null,
            "description_width": ""
          }
        },
        "c879555efcef4d9d8377a4b5db32b168": {
          "model_module": "@jupyter-widgets/base",
          "model_name": "LayoutModel",
          "model_module_version": "1.2.0",
          "state": {
            "_model_module": "@jupyter-widgets/base",
            "_model_module_version": "1.2.0",
            "_model_name": "LayoutModel",
            "_view_count": null,
            "_view_module": "@jupyter-widgets/base",
            "_view_module_version": "1.2.0",
            "_view_name": "LayoutView",
            "align_content": null,
            "align_items": null,
            "align_self": null,
            "border": null,
            "bottom": null,
            "display": null,
            "flex": null,
            "flex_flow": null,
            "grid_area": null,
            "grid_auto_columns": null,
            "grid_auto_flow": null,
            "grid_auto_rows": null,
            "grid_column": null,
            "grid_gap": null,
            "grid_row": null,
            "grid_template_areas": null,
            "grid_template_columns": null,
            "grid_template_rows": null,
            "height": null,
            "justify_content": null,
            "justify_items": null,
            "left": null,
            "margin": null,
            "max_height": null,
            "max_width": null,
            "min_height": null,
            "min_width": null,
            "object_fit": null,
            "object_position": null,
            "order": null,
            "overflow": null,
            "overflow_x": null,
            "overflow_y": null,
            "padding": null,
            "right": null,
            "top": null,
            "visibility": null,
            "width": null
          }
        },
        "b837f838ff5e447598a4168011a87f35": {
          "model_module": "@jupyter-widgets/controls",
          "model_name": "DescriptionStyleModel",
          "model_module_version": "1.5.0",
          "state": {
            "_model_module": "@jupyter-widgets/controls",
            "_model_module_version": "1.5.0",
            "_model_name": "DescriptionStyleModel",
            "_view_count": null,
            "_view_module": "@jupyter-widgets/base",
            "_view_module_version": "1.2.0",
            "_view_name": "StyleView",
            "description_width": ""
          }
        },
        "03f369b5ef9f42d18bc027b2c7a67ff7": {
          "model_module": "@jupyter-widgets/controls",
          "model_name": "HBoxModel",
          "model_module_version": "1.5.0",
          "state": {
            "_dom_classes": [],
            "_model_module": "@jupyter-widgets/controls",
            "_model_module_version": "1.5.0",
            "_model_name": "HBoxModel",
            "_view_count": null,
            "_view_module": "@jupyter-widgets/controls",
            "_view_module_version": "1.5.0",
            "_view_name": "HBoxView",
            "box_style": "",
            "children": [
              "IPY_MODEL_68ec973c97e84544919e773d5e9ed015",
              "IPY_MODEL_43f753114d814fe7b892baa67a185891",
              "IPY_MODEL_661553c50d5b489b9754de5401eb4c5f"
            ],
            "layout": "IPY_MODEL_65bb9463befb4e1ca7cec23d8ec3b255"
          }
        },
        "68ec973c97e84544919e773d5e9ed015": {
          "model_module": "@jupyter-widgets/controls",
          "model_name": "HTMLModel",
          "model_module_version": "1.5.0",
          "state": {
            "_dom_classes": [],
            "_model_module": "@jupyter-widgets/controls",
            "_model_module_version": "1.5.0",
            "_model_name": "HTMLModel",
            "_view_count": null,
            "_view_module": "@jupyter-widgets/controls",
            "_view_module_version": "1.5.0",
            "_view_name": "HTMLView",
            "description": "",
            "description_tooltip": null,
            "layout": "IPY_MODEL_791c51e045ad4e60b60e04fd8b1c9ef2",
            "placeholder": "​",
            "style": "IPY_MODEL_b11beb4b0c5148aba0581c4344e11811",
            "value": "Making predictions...: 100%"
          }
        },
        "43f753114d814fe7b892baa67a185891": {
          "model_module": "@jupyter-widgets/controls",
          "model_name": "FloatProgressModel",
          "model_module_version": "1.5.0",
          "state": {
            "_dom_classes": [],
            "_model_module": "@jupyter-widgets/controls",
            "_model_module_version": "1.5.0",
            "_model_name": "FloatProgressModel",
            "_view_count": null,
            "_view_module": "@jupyter-widgets/controls",
            "_view_module_version": "1.5.0",
            "_view_name": "ProgressView",
            "bar_style": "success",
            "description": "",
            "description_tooltip": null,
            "layout": "IPY_MODEL_97c8c11e2c564e1dba0c7c23ab721a63",
            "max": 313,
            "min": 0,
            "orientation": "horizontal",
            "style": "IPY_MODEL_2943727f0c08458d938ce91dd9bcf858",
            "value": 313
          }
        },
        "661553c50d5b489b9754de5401eb4c5f": {
          "model_module": "@jupyter-widgets/controls",
          "model_name": "HTMLModel",
          "model_module_version": "1.5.0",
          "state": {
            "_dom_classes": [],
            "_model_module": "@jupyter-widgets/controls",
            "_model_module_version": "1.5.0",
            "_model_name": "HTMLModel",
            "_view_count": null,
            "_view_module": "@jupyter-widgets/controls",
            "_view_module_version": "1.5.0",
            "_view_name": "HTMLView",
            "description": "",
            "description_tooltip": null,
            "layout": "IPY_MODEL_128874e1679b486e80e5a15fe6795047",
            "placeholder": "​",
            "style": "IPY_MODEL_bf27ae8e944d453490233013cd3df5c9",
            "value": " 313/313 [00:04&lt;00:00, 61.13it/s]"
          }
        },
        "65bb9463befb4e1ca7cec23d8ec3b255": {
          "model_module": "@jupyter-widgets/base",
          "model_name": "LayoutModel",
          "model_module_version": "1.2.0",
          "state": {
            "_model_module": "@jupyter-widgets/base",
            "_model_module_version": "1.2.0",
            "_model_name": "LayoutModel",
            "_view_count": null,
            "_view_module": "@jupyter-widgets/base",
            "_view_module_version": "1.2.0",
            "_view_name": "LayoutView",
            "align_content": null,
            "align_items": null,
            "align_self": null,
            "border": null,
            "bottom": null,
            "display": null,
            "flex": null,
            "flex_flow": null,
            "grid_area": null,
            "grid_auto_columns": null,
            "grid_auto_flow": null,
            "grid_auto_rows": null,
            "grid_column": null,
            "grid_gap": null,
            "grid_row": null,
            "grid_template_areas": null,
            "grid_template_columns": null,
            "grid_template_rows": null,
            "height": null,
            "justify_content": null,
            "justify_items": null,
            "left": null,
            "margin": null,
            "max_height": null,
            "max_width": null,
            "min_height": null,
            "min_width": null,
            "object_fit": null,
            "object_position": null,
            "order": null,
            "overflow": null,
            "overflow_x": null,
            "overflow_y": null,
            "padding": null,
            "right": null,
            "top": null,
            "visibility": null,
            "width": null
          }
        },
        "791c51e045ad4e60b60e04fd8b1c9ef2": {
          "model_module": "@jupyter-widgets/base",
          "model_name": "LayoutModel",
          "model_module_version": "1.2.0",
          "state": {
            "_model_module": "@jupyter-widgets/base",
            "_model_module_version": "1.2.0",
            "_model_name": "LayoutModel",
            "_view_count": null,
            "_view_module": "@jupyter-widgets/base",
            "_view_module_version": "1.2.0",
            "_view_name": "LayoutView",
            "align_content": null,
            "align_items": null,
            "align_self": null,
            "border": null,
            "bottom": null,
            "display": null,
            "flex": null,
            "flex_flow": null,
            "grid_area": null,
            "grid_auto_columns": null,
            "grid_auto_flow": null,
            "grid_auto_rows": null,
            "grid_column": null,
            "grid_gap": null,
            "grid_row": null,
            "grid_template_areas": null,
            "grid_template_columns": null,
            "grid_template_rows": null,
            "height": null,
            "justify_content": null,
            "justify_items": null,
            "left": null,
            "margin": null,
            "max_height": null,
            "max_width": null,
            "min_height": null,
            "min_width": null,
            "object_fit": null,
            "object_position": null,
            "order": null,
            "overflow": null,
            "overflow_x": null,
            "overflow_y": null,
            "padding": null,
            "right": null,
            "top": null,
            "visibility": null,
            "width": null
          }
        },
        "b11beb4b0c5148aba0581c4344e11811": {
          "model_module": "@jupyter-widgets/controls",
          "model_name": "DescriptionStyleModel",
          "model_module_version": "1.5.0",
          "state": {
            "_model_module": "@jupyter-widgets/controls",
            "_model_module_version": "1.5.0",
            "_model_name": "DescriptionStyleModel",
            "_view_count": null,
            "_view_module": "@jupyter-widgets/base",
            "_view_module_version": "1.2.0",
            "_view_name": "StyleView",
            "description_width": ""
          }
        },
        "97c8c11e2c564e1dba0c7c23ab721a63": {
          "model_module": "@jupyter-widgets/base",
          "model_name": "LayoutModel",
          "model_module_version": "1.2.0",
          "state": {
            "_model_module": "@jupyter-widgets/base",
            "_model_module_version": "1.2.0",
            "_model_name": "LayoutModel",
            "_view_count": null,
            "_view_module": "@jupyter-widgets/base",
            "_view_module_version": "1.2.0",
            "_view_name": "LayoutView",
            "align_content": null,
            "align_items": null,
            "align_self": null,
            "border": null,
            "bottom": null,
            "display": null,
            "flex": null,
            "flex_flow": null,
            "grid_area": null,
            "grid_auto_columns": null,
            "grid_auto_flow": null,
            "grid_auto_rows": null,
            "grid_column": null,
            "grid_gap": null,
            "grid_row": null,
            "grid_template_areas": null,
            "grid_template_columns": null,
            "grid_template_rows": null,
            "height": null,
            "justify_content": null,
            "justify_items": null,
            "left": null,
            "margin": null,
            "max_height": null,
            "max_width": null,
            "min_height": null,
            "min_width": null,
            "object_fit": null,
            "object_position": null,
            "order": null,
            "overflow": null,
            "overflow_x": null,
            "overflow_y": null,
            "padding": null,
            "right": null,
            "top": null,
            "visibility": null,
            "width": null
          }
        },
        "2943727f0c08458d938ce91dd9bcf858": {
          "model_module": "@jupyter-widgets/controls",
          "model_name": "ProgressStyleModel",
          "model_module_version": "1.5.0",
          "state": {
            "_model_module": "@jupyter-widgets/controls",
            "_model_module_version": "1.5.0",
            "_model_name": "ProgressStyleModel",
            "_view_count": null,
            "_view_module": "@jupyter-widgets/base",
            "_view_module_version": "1.2.0",
            "_view_name": "StyleView",
            "bar_color": null,
            "description_width": ""
          }
        },
        "128874e1679b486e80e5a15fe6795047": {
          "model_module": "@jupyter-widgets/base",
          "model_name": "LayoutModel",
          "model_module_version": "1.2.0",
          "state": {
            "_model_module": "@jupyter-widgets/base",
            "_model_module_version": "1.2.0",
            "_model_name": "LayoutModel",
            "_view_count": null,
            "_view_module": "@jupyter-widgets/base",
            "_view_module_version": "1.2.0",
            "_view_name": "LayoutView",
            "align_content": null,
            "align_items": null,
            "align_self": null,
            "border": null,
            "bottom": null,
            "display": null,
            "flex": null,
            "flex_flow": null,
            "grid_area": null,
            "grid_auto_columns": null,
            "grid_auto_flow": null,
            "grid_auto_rows": null,
            "grid_column": null,
            "grid_gap": null,
            "grid_row": null,
            "grid_template_areas": null,
            "grid_template_columns": null,
            "grid_template_rows": null,
            "height": null,
            "justify_content": null,
            "justify_items": null,
            "left": null,
            "margin": null,
            "max_height": null,
            "max_width": null,
            "min_height": null,
            "min_width": null,
            "object_fit": null,
            "object_position": null,
            "order": null,
            "overflow": null,
            "overflow_x": null,
            "overflow_y": null,
            "padding": null,
            "right": null,
            "top": null,
            "visibility": null,
            "width": null
          }
        },
        "bf27ae8e944d453490233013cd3df5c9": {
          "model_module": "@jupyter-widgets/controls",
          "model_name": "DescriptionStyleModel",
          "model_module_version": "1.5.0",
          "state": {
            "_model_module": "@jupyter-widgets/controls",
            "_model_module_version": "1.5.0",
            "_model_name": "DescriptionStyleModel",
            "_view_count": null,
            "_view_module": "@jupyter-widgets/base",
            "_view_module_version": "1.2.0",
            "_view_name": "StyleView",
            "description_width": ""
          }
        }
      }
    }
  },
  "cells": [
    {
      "cell_type": "markdown",
      "source": [
        "# PyTorch Computer Vision"
      ],
      "metadata": {
        "id": "AaUibrlFGd0g"
      }
    },
    {
      "cell_type": "markdown",
      "source": [
        "This is a Computer Vision notebook from the **FashionMIST** Pytorch dataset.\n",
        "\n",
        "https://docs.pytorch.org/vision/0.22/generated/torchvision.datasets.FashionMNIST.html"
      ],
      "metadata": {
        "id": "C1aJ_G9uFZT7"
      }
    },
    {
      "cell_type": "code",
      "source": [
        "import torch\n",
        "device = 'cuda' if torch.cuda.is_available() else 'cpu'\n",
        "device"
      ],
      "metadata": {
        "colab": {
          "base_uri": "https://localhost:8080/",
          "height": 36
        },
        "id": "H6JH3nrq6-_M",
        "outputId": "f0d5dc64-ef24-4322-c4eb-042da48feea9"
      },
      "execution_count": null,
      "outputs": [
        {
          "output_type": "execute_result",
          "data": {
            "text/plain": [
              "'cpu'"
            ],
            "application/vnd.google.colaboratory.intrinsic+json": {
              "type": "string"
            }
          },
          "metadata": {},
          "execution_count": 1
        }
      ]
    },
    {
      "cell_type": "markdown",
      "source": [
        "## 0. Computer vision libraries in Pytorch\n",
        "\n",
        "* torchvision - base domain library for PyTorch computer vision\n",
        "* torchvision.datasets - get datasets and data loading functions for computer vision here\n",
        "* torchvision.models - get pretrained computer vision models that you can leverage for your own problems\n",
        "* torchvision.transforms - functions for manipulating your vision data (images) to be suitable for use with an ML model\n",
        "* torch.utils.data.Dataset - Base dataset class for PyTorch\n",
        "* torch.utils.data.DataLoader - Creates a Python iterable over a dataset"
      ],
      "metadata": {
        "id": "q9ufCRgWGpgW"
      }
    },
    {
      "cell_type": "code",
      "source": [
        "# import PyTorch\n",
        "import torch\n",
        "from torch import nn\n",
        "\n",
        "# import torchvision\n",
        "import torchvision\n",
        "from torchvision import datasets\n",
        "from torchvision import transforms\n",
        "from torchvision.transforms import ToTensor\n",
        "\n",
        "# import matplotlib for visualization\n",
        "import matplotlib.pyplot as plt\n",
        "\n",
        "# Check the version\n",
        "print(torch.__version__)\n",
        "print(torchvision.__version__)"
      ],
      "metadata": {
        "colab": {
          "base_uri": "https://localhost:8080/"
        },
        "id": "TS_8NVHeHg7f",
        "outputId": "a4cdc473-30aa-4484-973c-01cf494c8dcc"
      },
      "execution_count": null,
      "outputs": [
        {
          "output_type": "stream",
          "name": "stdout",
          "text": [
            "2.8.0+cu126\n",
            "0.23.0+cu126\n"
          ]
        }
      ]
    },
    {
      "cell_type": "markdown",
      "source": [
        "## 1. Getting a data set"
      ],
      "metadata": {
        "id": "yOYJLOvlIkoX"
      }
    },
    {
      "cell_type": "code",
      "source": [
        "# Setup training data\n",
        "from torchvision import datasets\n",
        "train_data = datasets.FashionMNIST(\n",
        "    root = 'data', # where to download to?\n",
        "    train = True, # do we want the traing dataset?\n",
        "    download = True, # do we want to download?\n",
        "    transform = torchvision.transforms.ToTensor(), # How do we want ot transofrm the data?\n",
        "    target_transform = None # do we want to transform the target? no, we want to see how they com\n",
        ")\n",
        "\n",
        "test_data = datasets.FashionMNIST(\n",
        "    root = 'data',\n",
        "    train = False,\n",
        "    download = True,\n",
        "    transform = torchvision.transforms.ToTensor(),\n",
        "    target_transform = None\n",
        ")"
      ],
      "metadata": {
        "id": "r3yDoYTMIovm",
        "colab": {
          "base_uri": "https://localhost:8080/"
        },
        "outputId": "55a45037-17ea-4d36-ab2d-e3b0b734f836"
      },
      "execution_count": null,
      "outputs": [
        {
          "output_type": "stream",
          "name": "stderr",
          "text": [
            "100%|██████████| 26.4M/26.4M [00:01<00:00, 16.7MB/s]\n",
            "100%|██████████| 29.5k/29.5k [00:00<00:00, 273kB/s]\n",
            "100%|██████████| 4.42M/4.42M [00:00<00:00, 4.48MB/s]\n",
            "100%|██████████| 5.15k/5.15k [00:00<00:00, 12.5MB/s]\n"
          ]
        }
      ]
    },
    {
      "cell_type": "code",
      "source": [
        "# See the length\n",
        "len(train_data), len(test_data)"
      ],
      "metadata": {
        "colab": {
          "base_uri": "https://localhost:8080/"
        },
        "id": "VBA1e3rvU4HO",
        "outputId": "472ff0c6-c91d-44b9-8f9d-d71f69b06417"
      },
      "execution_count": null,
      "outputs": [
        {
          "output_type": "execute_result",
          "data": {
            "text/plain": [
              "(60000, 10000)"
            ]
          },
          "metadata": {},
          "execution_count": 4
        }
      ]
    },
    {
      "cell_type": "code",
      "source": [
        "# See the first training example\n",
        "image, label = train_data[0]\n",
        "image, label"
      ],
      "metadata": {
        "colab": {
          "base_uri": "https://localhost:8080/"
        },
        "collapsed": true,
        "id": "N_9VQ-fkU-SW",
        "outputId": "e3551720-f617-46aa-86e2-4417cde3dcee"
      },
      "execution_count": null,
      "outputs": [
        {
          "output_type": "execute_result",
          "data": {
            "text/plain": [
              "(tensor([[[0.0000, 0.0000, 0.0000, 0.0000, 0.0000, 0.0000, 0.0000, 0.0000,\n",
              "           0.0000, 0.0000, 0.0000, 0.0000, 0.0000, 0.0000, 0.0000, 0.0000,\n",
              "           0.0000, 0.0000, 0.0000, 0.0000, 0.0000, 0.0000, 0.0000, 0.0000,\n",
              "           0.0000, 0.0000, 0.0000, 0.0000],\n",
              "          [0.0000, 0.0000, 0.0000, 0.0000, 0.0000, 0.0000, 0.0000, 0.0000,\n",
              "           0.0000, 0.0000, 0.0000, 0.0000, 0.0000, 0.0000, 0.0000, 0.0000,\n",
              "           0.0000, 0.0000, 0.0000, 0.0000, 0.0000, 0.0000, 0.0000, 0.0000,\n",
              "           0.0000, 0.0000, 0.0000, 0.0000],\n",
              "          [0.0000, 0.0000, 0.0000, 0.0000, 0.0000, 0.0000, 0.0000, 0.0000,\n",
              "           0.0000, 0.0000, 0.0000, 0.0000, 0.0000, 0.0000, 0.0000, 0.0000,\n",
              "           0.0000, 0.0000, 0.0000, 0.0000, 0.0000, 0.0000, 0.0000, 0.0000,\n",
              "           0.0000, 0.0000, 0.0000, 0.0000],\n",
              "          [0.0000, 0.0000, 0.0000, 0.0000, 0.0000, 0.0000, 0.0000, 0.0000,\n",
              "           0.0000, 0.0000, 0.0000, 0.0000, 0.0039, 0.0000, 0.0000, 0.0510,\n",
              "           0.2863, 0.0000, 0.0000, 0.0039, 0.0157, 0.0000, 0.0000, 0.0000,\n",
              "           0.0000, 0.0039, 0.0039, 0.0000],\n",
              "          [0.0000, 0.0000, 0.0000, 0.0000, 0.0000, 0.0000, 0.0000, 0.0000,\n",
              "           0.0000, 0.0000, 0.0000, 0.0000, 0.0118, 0.0000, 0.1412, 0.5333,\n",
              "           0.4980, 0.2431, 0.2118, 0.0000, 0.0000, 0.0000, 0.0039, 0.0118,\n",
              "           0.0157, 0.0000, 0.0000, 0.0118],\n",
              "          [0.0000, 0.0000, 0.0000, 0.0000, 0.0000, 0.0000, 0.0000, 0.0000,\n",
              "           0.0000, 0.0000, 0.0000, 0.0000, 0.0235, 0.0000, 0.4000, 0.8000,\n",
              "           0.6902, 0.5255, 0.5647, 0.4824, 0.0902, 0.0000, 0.0000, 0.0000,\n",
              "           0.0000, 0.0471, 0.0392, 0.0000],\n",
              "          [0.0000, 0.0000, 0.0000, 0.0000, 0.0000, 0.0000, 0.0000, 0.0000,\n",
              "           0.0000, 0.0000, 0.0000, 0.0000, 0.0000, 0.0000, 0.6078, 0.9255,\n",
              "           0.8118, 0.6980, 0.4196, 0.6118, 0.6314, 0.4275, 0.2510, 0.0902,\n",
              "           0.3020, 0.5098, 0.2824, 0.0588],\n",
              "          [0.0000, 0.0000, 0.0000, 0.0000, 0.0000, 0.0000, 0.0000, 0.0000,\n",
              "           0.0000, 0.0000, 0.0000, 0.0039, 0.0000, 0.2706, 0.8118, 0.8745,\n",
              "           0.8549, 0.8471, 0.8471, 0.6392, 0.4980, 0.4745, 0.4784, 0.5725,\n",
              "           0.5529, 0.3451, 0.6745, 0.2588],\n",
              "          [0.0000, 0.0000, 0.0000, 0.0000, 0.0000, 0.0000, 0.0000, 0.0000,\n",
              "           0.0000, 0.0039, 0.0039, 0.0039, 0.0000, 0.7843, 0.9098, 0.9098,\n",
              "           0.9137, 0.8980, 0.8745, 0.8745, 0.8431, 0.8353, 0.6431, 0.4980,\n",
              "           0.4824, 0.7686, 0.8980, 0.0000],\n",
              "          [0.0000, 0.0000, 0.0000, 0.0000, 0.0000, 0.0000, 0.0000, 0.0000,\n",
              "           0.0000, 0.0000, 0.0000, 0.0000, 0.0000, 0.7176, 0.8824, 0.8471,\n",
              "           0.8745, 0.8941, 0.9216, 0.8902, 0.8784, 0.8706, 0.8784, 0.8667,\n",
              "           0.8745, 0.9608, 0.6784, 0.0000],\n",
              "          [0.0000, 0.0000, 0.0000, 0.0000, 0.0000, 0.0000, 0.0000, 0.0000,\n",
              "           0.0000, 0.0000, 0.0000, 0.0000, 0.0000, 0.7569, 0.8941, 0.8549,\n",
              "           0.8353, 0.7765, 0.7059, 0.8314, 0.8235, 0.8275, 0.8353, 0.8745,\n",
              "           0.8627, 0.9529, 0.7922, 0.0000],\n",
              "          [0.0000, 0.0000, 0.0000, 0.0000, 0.0000, 0.0000, 0.0000, 0.0000,\n",
              "           0.0000, 0.0039, 0.0118, 0.0000, 0.0471, 0.8588, 0.8627, 0.8314,\n",
              "           0.8549, 0.7529, 0.6627, 0.8902, 0.8157, 0.8549, 0.8784, 0.8314,\n",
              "           0.8863, 0.7725, 0.8196, 0.2039],\n",
              "          [0.0000, 0.0000, 0.0000, 0.0000, 0.0000, 0.0000, 0.0000, 0.0000,\n",
              "           0.0000, 0.0000, 0.0235, 0.0000, 0.3882, 0.9569, 0.8706, 0.8627,\n",
              "           0.8549, 0.7961, 0.7765, 0.8667, 0.8431, 0.8353, 0.8706, 0.8627,\n",
              "           0.9608, 0.4667, 0.6549, 0.2196],\n",
              "          [0.0000, 0.0000, 0.0000, 0.0000, 0.0000, 0.0000, 0.0000, 0.0000,\n",
              "           0.0000, 0.0157, 0.0000, 0.0000, 0.2157, 0.9255, 0.8941, 0.9020,\n",
              "           0.8941, 0.9412, 0.9098, 0.8353, 0.8549, 0.8745, 0.9176, 0.8510,\n",
              "           0.8510, 0.8196, 0.3608, 0.0000],\n",
              "          [0.0000, 0.0000, 0.0039, 0.0157, 0.0235, 0.0275, 0.0078, 0.0000,\n",
              "           0.0000, 0.0000, 0.0000, 0.0000, 0.9294, 0.8863, 0.8510, 0.8745,\n",
              "           0.8706, 0.8588, 0.8706, 0.8667, 0.8471, 0.8745, 0.8980, 0.8431,\n",
              "           0.8549, 1.0000, 0.3020, 0.0000],\n",
              "          [0.0000, 0.0118, 0.0000, 0.0000, 0.0000, 0.0000, 0.0000, 0.0000,\n",
              "           0.0000, 0.2431, 0.5686, 0.8000, 0.8941, 0.8118, 0.8353, 0.8667,\n",
              "           0.8549, 0.8157, 0.8275, 0.8549, 0.8784, 0.8745, 0.8588, 0.8431,\n",
              "           0.8784, 0.9569, 0.6235, 0.0000],\n",
              "          [0.0000, 0.0000, 0.0000, 0.0000, 0.0706, 0.1725, 0.3216, 0.4196,\n",
              "           0.7412, 0.8941, 0.8627, 0.8706, 0.8510, 0.8863, 0.7843, 0.8039,\n",
              "           0.8275, 0.9020, 0.8784, 0.9176, 0.6902, 0.7373, 0.9804, 0.9725,\n",
              "           0.9137, 0.9333, 0.8431, 0.0000],\n",
              "          [0.0000, 0.2235, 0.7333, 0.8157, 0.8784, 0.8667, 0.8784, 0.8157,\n",
              "           0.8000, 0.8392, 0.8157, 0.8196, 0.7843, 0.6235, 0.9608, 0.7569,\n",
              "           0.8078, 0.8745, 1.0000, 1.0000, 0.8667, 0.9176, 0.8667, 0.8275,\n",
              "           0.8627, 0.9098, 0.9647, 0.0000],\n",
              "          [0.0118, 0.7922, 0.8941, 0.8784, 0.8667, 0.8275, 0.8275, 0.8392,\n",
              "           0.8039, 0.8039, 0.8039, 0.8627, 0.9412, 0.3137, 0.5882, 1.0000,\n",
              "           0.8980, 0.8667, 0.7373, 0.6039, 0.7490, 0.8235, 0.8000, 0.8196,\n",
              "           0.8706, 0.8941, 0.8824, 0.0000],\n",
              "          [0.3843, 0.9137, 0.7765, 0.8235, 0.8706, 0.8980, 0.8980, 0.9176,\n",
              "           0.9765, 0.8627, 0.7608, 0.8431, 0.8510, 0.9451, 0.2549, 0.2863,\n",
              "           0.4157, 0.4588, 0.6588, 0.8588, 0.8667, 0.8431, 0.8510, 0.8745,\n",
              "           0.8745, 0.8784, 0.8980, 0.1137],\n",
              "          [0.2941, 0.8000, 0.8314, 0.8000, 0.7569, 0.8039, 0.8275, 0.8824,\n",
              "           0.8471, 0.7255, 0.7725, 0.8078, 0.7765, 0.8353, 0.9412, 0.7647,\n",
              "           0.8902, 0.9608, 0.9373, 0.8745, 0.8549, 0.8314, 0.8196, 0.8706,\n",
              "           0.8627, 0.8667, 0.9020, 0.2627],\n",
              "          [0.1882, 0.7961, 0.7176, 0.7608, 0.8353, 0.7725, 0.7255, 0.7451,\n",
              "           0.7608, 0.7529, 0.7922, 0.8392, 0.8588, 0.8667, 0.8627, 0.9255,\n",
              "           0.8824, 0.8471, 0.7804, 0.8078, 0.7294, 0.7098, 0.6941, 0.6745,\n",
              "           0.7098, 0.8039, 0.8078, 0.4510],\n",
              "          [0.0000, 0.4784, 0.8588, 0.7569, 0.7020, 0.6706, 0.7176, 0.7686,\n",
              "           0.8000, 0.8235, 0.8353, 0.8118, 0.8275, 0.8235, 0.7843, 0.7686,\n",
              "           0.7608, 0.7490, 0.7647, 0.7490, 0.7765, 0.7529, 0.6902, 0.6118,\n",
              "           0.6549, 0.6941, 0.8235, 0.3608],\n",
              "          [0.0000, 0.0000, 0.2902, 0.7412, 0.8314, 0.7490, 0.6863, 0.6745,\n",
              "           0.6863, 0.7098, 0.7255, 0.7373, 0.7412, 0.7373, 0.7569, 0.7765,\n",
              "           0.8000, 0.8196, 0.8235, 0.8235, 0.8275, 0.7373, 0.7373, 0.7608,\n",
              "           0.7529, 0.8471, 0.6667, 0.0000],\n",
              "          [0.0078, 0.0000, 0.0000, 0.0000, 0.2588, 0.7843, 0.8706, 0.9294,\n",
              "           0.9373, 0.9490, 0.9647, 0.9529, 0.9569, 0.8667, 0.8627, 0.7569,\n",
              "           0.7490, 0.7020, 0.7137, 0.7137, 0.7098, 0.6902, 0.6510, 0.6588,\n",
              "           0.3882, 0.2275, 0.0000, 0.0000],\n",
              "          [0.0000, 0.0000, 0.0000, 0.0000, 0.0000, 0.0000, 0.0000, 0.1569,\n",
              "           0.2392, 0.1725, 0.2824, 0.1608, 0.1373, 0.0000, 0.0000, 0.0000,\n",
              "           0.0000, 0.0000, 0.0000, 0.0000, 0.0000, 0.0000, 0.0000, 0.0000,\n",
              "           0.0000, 0.0000, 0.0000, 0.0000],\n",
              "          [0.0000, 0.0000, 0.0000, 0.0000, 0.0000, 0.0000, 0.0000, 0.0000,\n",
              "           0.0000, 0.0000, 0.0000, 0.0000, 0.0000, 0.0000, 0.0000, 0.0000,\n",
              "           0.0000, 0.0000, 0.0000, 0.0000, 0.0000, 0.0000, 0.0000, 0.0000,\n",
              "           0.0000, 0.0000, 0.0000, 0.0000],\n",
              "          [0.0000, 0.0000, 0.0000, 0.0000, 0.0000, 0.0000, 0.0000, 0.0000,\n",
              "           0.0000, 0.0000, 0.0000, 0.0000, 0.0000, 0.0000, 0.0000, 0.0000,\n",
              "           0.0000, 0.0000, 0.0000, 0.0000, 0.0000, 0.0000, 0.0000, 0.0000,\n",
              "           0.0000, 0.0000, 0.0000, 0.0000]]]),\n",
              " 9)"
            ]
          },
          "metadata": {},
          "execution_count": 5
        }
      ]
    },
    {
      "cell_type": "code",
      "source": [
        "# Check some information\n",
        "image.shape, image.ndim"
      ],
      "metadata": {
        "colab": {
          "base_uri": "https://localhost:8080/"
        },
        "id": "Pdofv5F0VCN2",
        "outputId": "8e539c4e-9f50-4645-a66b-0b0b7c61dae4"
      },
      "execution_count": null,
      "outputs": [
        {
          "output_type": "execute_result",
          "data": {
            "text/plain": [
              "(torch.Size([1, 28, 28]), 3)"
            ]
          },
          "metadata": {},
          "execution_count": 6
        }
      ]
    },
    {
      "cell_type": "code",
      "source": [
        "# Find some information about the classes names\n",
        "class_names = train_data.classes\n",
        "class_names, type(class_names)"
      ],
      "metadata": {
        "colab": {
          "base_uri": "https://localhost:8080/"
        },
        "id": "lUpERod4VnQl",
        "outputId": "ca2b17e6-318b-4913-9c60-1c591724c959"
      },
      "execution_count": null,
      "outputs": [
        {
          "output_type": "execute_result",
          "data": {
            "text/plain": [
              "(['T-shirt/top',\n",
              "  'Trouser',\n",
              "  'Pullover',\n",
              "  'Dress',\n",
              "  'Coat',\n",
              "  'Sandal',\n",
              "  'Shirt',\n",
              "  'Sneaker',\n",
              "  'Bag',\n",
              "  'Ankle boot'],\n",
              " list)"
            ]
          },
          "metadata": {},
          "execution_count": 7
        }
      ]
    },
    {
      "cell_type": "code",
      "source": [
        "class_to_idx = train_data.class_to_idx\n",
        "class_to_idx"
      ],
      "metadata": {
        "colab": {
          "base_uri": "https://localhost:8080/"
        },
        "id": "n9l6F2I3XNZm",
        "outputId": "e0ea21af-1fb9-47db-847e-439bc948b834"
      },
      "execution_count": null,
      "outputs": [
        {
          "output_type": "execute_result",
          "data": {
            "text/plain": [
              "{'T-shirt/top': 0,\n",
              " 'Trouser': 1,\n",
              " 'Pullover': 2,\n",
              " 'Dress': 3,\n",
              " 'Coat': 4,\n",
              " 'Sandal': 5,\n",
              " 'Shirt': 6,\n",
              " 'Sneaker': 7,\n",
              " 'Bag': 8,\n",
              " 'Ankle boot': 9}"
            ]
          },
          "metadata": {},
          "execution_count": 8
        }
      ]
    },
    {
      "cell_type": "code",
      "source": [
        "train_data.targets"
      ],
      "metadata": {
        "colab": {
          "base_uri": "https://localhost:8080/"
        },
        "id": "ayy7Y8m1XaOe",
        "outputId": "e4aa947e-9d8b-436d-c420-9f681ec60991"
      },
      "execution_count": null,
      "outputs": [
        {
          "output_type": "execute_result",
          "data": {
            "text/plain": [
              "tensor([9, 0, 0,  ..., 3, 0, 5])"
            ]
          },
          "metadata": {},
          "execution_count": 9
        }
      ]
    },
    {
      "cell_type": "code",
      "source": [
        "# Check the shape\n",
        "print(f'Image shape: {image.shape} - [color channels, height, width]')\n",
        "print(f'Image label: {class_names[label]}')"
      ],
      "metadata": {
        "colab": {
          "base_uri": "https://localhost:8080/"
        },
        "id": "R1B7WoJjXlnF",
        "outputId": "5ef48ffe-b5e4-4c64-87d1-dc419989e2a2"
      },
      "execution_count": null,
      "outputs": [
        {
          "output_type": "stream",
          "name": "stdout",
          "text": [
            "Image shape: torch.Size([1, 28, 28]) - [color channels, height, width]\n",
            "Image label: Ankle boot\n"
          ]
        }
      ]
    },
    {
      "cell_type": "markdown",
      "source": [
        "### 1.2 Visualizaing our data"
      ],
      "metadata": {
        "id": "YKIVMl0NYJ1u"
      }
    },
    {
      "cell_type": "code",
      "source": [
        "train_data[0]"
      ],
      "metadata": {
        "colab": {
          "base_uri": "https://localhost:8080/"
        },
        "id": "k5sMmEBHYmcO",
        "outputId": "bb25337d-427b-418e-8ab7-be0c9489c402",
        "collapsed": true
      },
      "execution_count": null,
      "outputs": [
        {
          "output_type": "execute_result",
          "data": {
            "text/plain": [
              "(tensor([[[0.0000, 0.0000, 0.0000, 0.0000, 0.0000, 0.0000, 0.0000, 0.0000,\n",
              "           0.0000, 0.0000, 0.0000, 0.0000, 0.0000, 0.0000, 0.0000, 0.0000,\n",
              "           0.0000, 0.0000, 0.0000, 0.0000, 0.0000, 0.0000, 0.0000, 0.0000,\n",
              "           0.0000, 0.0000, 0.0000, 0.0000],\n",
              "          [0.0000, 0.0000, 0.0000, 0.0000, 0.0000, 0.0000, 0.0000, 0.0000,\n",
              "           0.0000, 0.0000, 0.0000, 0.0000, 0.0000, 0.0000, 0.0000, 0.0000,\n",
              "           0.0000, 0.0000, 0.0000, 0.0000, 0.0000, 0.0000, 0.0000, 0.0000,\n",
              "           0.0000, 0.0000, 0.0000, 0.0000],\n",
              "          [0.0000, 0.0000, 0.0000, 0.0000, 0.0000, 0.0000, 0.0000, 0.0000,\n",
              "           0.0000, 0.0000, 0.0000, 0.0000, 0.0000, 0.0000, 0.0000, 0.0000,\n",
              "           0.0000, 0.0000, 0.0000, 0.0000, 0.0000, 0.0000, 0.0000, 0.0000,\n",
              "           0.0000, 0.0000, 0.0000, 0.0000],\n",
              "          [0.0000, 0.0000, 0.0000, 0.0000, 0.0000, 0.0000, 0.0000, 0.0000,\n",
              "           0.0000, 0.0000, 0.0000, 0.0000, 0.0039, 0.0000, 0.0000, 0.0510,\n",
              "           0.2863, 0.0000, 0.0000, 0.0039, 0.0157, 0.0000, 0.0000, 0.0000,\n",
              "           0.0000, 0.0039, 0.0039, 0.0000],\n",
              "          [0.0000, 0.0000, 0.0000, 0.0000, 0.0000, 0.0000, 0.0000, 0.0000,\n",
              "           0.0000, 0.0000, 0.0000, 0.0000, 0.0118, 0.0000, 0.1412, 0.5333,\n",
              "           0.4980, 0.2431, 0.2118, 0.0000, 0.0000, 0.0000, 0.0039, 0.0118,\n",
              "           0.0157, 0.0000, 0.0000, 0.0118],\n",
              "          [0.0000, 0.0000, 0.0000, 0.0000, 0.0000, 0.0000, 0.0000, 0.0000,\n",
              "           0.0000, 0.0000, 0.0000, 0.0000, 0.0235, 0.0000, 0.4000, 0.8000,\n",
              "           0.6902, 0.5255, 0.5647, 0.4824, 0.0902, 0.0000, 0.0000, 0.0000,\n",
              "           0.0000, 0.0471, 0.0392, 0.0000],\n",
              "          [0.0000, 0.0000, 0.0000, 0.0000, 0.0000, 0.0000, 0.0000, 0.0000,\n",
              "           0.0000, 0.0000, 0.0000, 0.0000, 0.0000, 0.0000, 0.6078, 0.9255,\n",
              "           0.8118, 0.6980, 0.4196, 0.6118, 0.6314, 0.4275, 0.2510, 0.0902,\n",
              "           0.3020, 0.5098, 0.2824, 0.0588],\n",
              "          [0.0000, 0.0000, 0.0000, 0.0000, 0.0000, 0.0000, 0.0000, 0.0000,\n",
              "           0.0000, 0.0000, 0.0000, 0.0039, 0.0000, 0.2706, 0.8118, 0.8745,\n",
              "           0.8549, 0.8471, 0.8471, 0.6392, 0.4980, 0.4745, 0.4784, 0.5725,\n",
              "           0.5529, 0.3451, 0.6745, 0.2588],\n",
              "          [0.0000, 0.0000, 0.0000, 0.0000, 0.0000, 0.0000, 0.0000, 0.0000,\n",
              "           0.0000, 0.0039, 0.0039, 0.0039, 0.0000, 0.7843, 0.9098, 0.9098,\n",
              "           0.9137, 0.8980, 0.8745, 0.8745, 0.8431, 0.8353, 0.6431, 0.4980,\n",
              "           0.4824, 0.7686, 0.8980, 0.0000],\n",
              "          [0.0000, 0.0000, 0.0000, 0.0000, 0.0000, 0.0000, 0.0000, 0.0000,\n",
              "           0.0000, 0.0000, 0.0000, 0.0000, 0.0000, 0.7176, 0.8824, 0.8471,\n",
              "           0.8745, 0.8941, 0.9216, 0.8902, 0.8784, 0.8706, 0.8784, 0.8667,\n",
              "           0.8745, 0.9608, 0.6784, 0.0000],\n",
              "          [0.0000, 0.0000, 0.0000, 0.0000, 0.0000, 0.0000, 0.0000, 0.0000,\n",
              "           0.0000, 0.0000, 0.0000, 0.0000, 0.0000, 0.7569, 0.8941, 0.8549,\n",
              "           0.8353, 0.7765, 0.7059, 0.8314, 0.8235, 0.8275, 0.8353, 0.8745,\n",
              "           0.8627, 0.9529, 0.7922, 0.0000],\n",
              "          [0.0000, 0.0000, 0.0000, 0.0000, 0.0000, 0.0000, 0.0000, 0.0000,\n",
              "           0.0000, 0.0039, 0.0118, 0.0000, 0.0471, 0.8588, 0.8627, 0.8314,\n",
              "           0.8549, 0.7529, 0.6627, 0.8902, 0.8157, 0.8549, 0.8784, 0.8314,\n",
              "           0.8863, 0.7725, 0.8196, 0.2039],\n",
              "          [0.0000, 0.0000, 0.0000, 0.0000, 0.0000, 0.0000, 0.0000, 0.0000,\n",
              "           0.0000, 0.0000, 0.0235, 0.0000, 0.3882, 0.9569, 0.8706, 0.8627,\n",
              "           0.8549, 0.7961, 0.7765, 0.8667, 0.8431, 0.8353, 0.8706, 0.8627,\n",
              "           0.9608, 0.4667, 0.6549, 0.2196],\n",
              "          [0.0000, 0.0000, 0.0000, 0.0000, 0.0000, 0.0000, 0.0000, 0.0000,\n",
              "           0.0000, 0.0157, 0.0000, 0.0000, 0.2157, 0.9255, 0.8941, 0.9020,\n",
              "           0.8941, 0.9412, 0.9098, 0.8353, 0.8549, 0.8745, 0.9176, 0.8510,\n",
              "           0.8510, 0.8196, 0.3608, 0.0000],\n",
              "          [0.0000, 0.0000, 0.0039, 0.0157, 0.0235, 0.0275, 0.0078, 0.0000,\n",
              "           0.0000, 0.0000, 0.0000, 0.0000, 0.9294, 0.8863, 0.8510, 0.8745,\n",
              "           0.8706, 0.8588, 0.8706, 0.8667, 0.8471, 0.8745, 0.8980, 0.8431,\n",
              "           0.8549, 1.0000, 0.3020, 0.0000],\n",
              "          [0.0000, 0.0118, 0.0000, 0.0000, 0.0000, 0.0000, 0.0000, 0.0000,\n",
              "           0.0000, 0.2431, 0.5686, 0.8000, 0.8941, 0.8118, 0.8353, 0.8667,\n",
              "           0.8549, 0.8157, 0.8275, 0.8549, 0.8784, 0.8745, 0.8588, 0.8431,\n",
              "           0.8784, 0.9569, 0.6235, 0.0000],\n",
              "          [0.0000, 0.0000, 0.0000, 0.0000, 0.0706, 0.1725, 0.3216, 0.4196,\n",
              "           0.7412, 0.8941, 0.8627, 0.8706, 0.8510, 0.8863, 0.7843, 0.8039,\n",
              "           0.8275, 0.9020, 0.8784, 0.9176, 0.6902, 0.7373, 0.9804, 0.9725,\n",
              "           0.9137, 0.9333, 0.8431, 0.0000],\n",
              "          [0.0000, 0.2235, 0.7333, 0.8157, 0.8784, 0.8667, 0.8784, 0.8157,\n",
              "           0.8000, 0.8392, 0.8157, 0.8196, 0.7843, 0.6235, 0.9608, 0.7569,\n",
              "           0.8078, 0.8745, 1.0000, 1.0000, 0.8667, 0.9176, 0.8667, 0.8275,\n",
              "           0.8627, 0.9098, 0.9647, 0.0000],\n",
              "          [0.0118, 0.7922, 0.8941, 0.8784, 0.8667, 0.8275, 0.8275, 0.8392,\n",
              "           0.8039, 0.8039, 0.8039, 0.8627, 0.9412, 0.3137, 0.5882, 1.0000,\n",
              "           0.8980, 0.8667, 0.7373, 0.6039, 0.7490, 0.8235, 0.8000, 0.8196,\n",
              "           0.8706, 0.8941, 0.8824, 0.0000],\n",
              "          [0.3843, 0.9137, 0.7765, 0.8235, 0.8706, 0.8980, 0.8980, 0.9176,\n",
              "           0.9765, 0.8627, 0.7608, 0.8431, 0.8510, 0.9451, 0.2549, 0.2863,\n",
              "           0.4157, 0.4588, 0.6588, 0.8588, 0.8667, 0.8431, 0.8510, 0.8745,\n",
              "           0.8745, 0.8784, 0.8980, 0.1137],\n",
              "          [0.2941, 0.8000, 0.8314, 0.8000, 0.7569, 0.8039, 0.8275, 0.8824,\n",
              "           0.8471, 0.7255, 0.7725, 0.8078, 0.7765, 0.8353, 0.9412, 0.7647,\n",
              "           0.8902, 0.9608, 0.9373, 0.8745, 0.8549, 0.8314, 0.8196, 0.8706,\n",
              "           0.8627, 0.8667, 0.9020, 0.2627],\n",
              "          [0.1882, 0.7961, 0.7176, 0.7608, 0.8353, 0.7725, 0.7255, 0.7451,\n",
              "           0.7608, 0.7529, 0.7922, 0.8392, 0.8588, 0.8667, 0.8627, 0.9255,\n",
              "           0.8824, 0.8471, 0.7804, 0.8078, 0.7294, 0.7098, 0.6941, 0.6745,\n",
              "           0.7098, 0.8039, 0.8078, 0.4510],\n",
              "          [0.0000, 0.4784, 0.8588, 0.7569, 0.7020, 0.6706, 0.7176, 0.7686,\n",
              "           0.8000, 0.8235, 0.8353, 0.8118, 0.8275, 0.8235, 0.7843, 0.7686,\n",
              "           0.7608, 0.7490, 0.7647, 0.7490, 0.7765, 0.7529, 0.6902, 0.6118,\n",
              "           0.6549, 0.6941, 0.8235, 0.3608],\n",
              "          [0.0000, 0.0000, 0.2902, 0.7412, 0.8314, 0.7490, 0.6863, 0.6745,\n",
              "           0.6863, 0.7098, 0.7255, 0.7373, 0.7412, 0.7373, 0.7569, 0.7765,\n",
              "           0.8000, 0.8196, 0.8235, 0.8235, 0.8275, 0.7373, 0.7373, 0.7608,\n",
              "           0.7529, 0.8471, 0.6667, 0.0000],\n",
              "          [0.0078, 0.0000, 0.0000, 0.0000, 0.2588, 0.7843, 0.8706, 0.9294,\n",
              "           0.9373, 0.9490, 0.9647, 0.9529, 0.9569, 0.8667, 0.8627, 0.7569,\n",
              "           0.7490, 0.7020, 0.7137, 0.7137, 0.7098, 0.6902, 0.6510, 0.6588,\n",
              "           0.3882, 0.2275, 0.0000, 0.0000],\n",
              "          [0.0000, 0.0000, 0.0000, 0.0000, 0.0000, 0.0000, 0.0000, 0.1569,\n",
              "           0.2392, 0.1725, 0.2824, 0.1608, 0.1373, 0.0000, 0.0000, 0.0000,\n",
              "           0.0000, 0.0000, 0.0000, 0.0000, 0.0000, 0.0000, 0.0000, 0.0000,\n",
              "           0.0000, 0.0000, 0.0000, 0.0000],\n",
              "          [0.0000, 0.0000, 0.0000, 0.0000, 0.0000, 0.0000, 0.0000, 0.0000,\n",
              "           0.0000, 0.0000, 0.0000, 0.0000, 0.0000, 0.0000, 0.0000, 0.0000,\n",
              "           0.0000, 0.0000, 0.0000, 0.0000, 0.0000, 0.0000, 0.0000, 0.0000,\n",
              "           0.0000, 0.0000, 0.0000, 0.0000],\n",
              "          [0.0000, 0.0000, 0.0000, 0.0000, 0.0000, 0.0000, 0.0000, 0.0000,\n",
              "           0.0000, 0.0000, 0.0000, 0.0000, 0.0000, 0.0000, 0.0000, 0.0000,\n",
              "           0.0000, 0.0000, 0.0000, 0.0000, 0.0000, 0.0000, 0.0000, 0.0000,\n",
              "           0.0000, 0.0000, 0.0000, 0.0000]]]),\n",
              " 9)"
            ]
          },
          "metadata": {},
          "execution_count": 11
        }
      ]
    },
    {
      "cell_type": "code",
      "source": [
        "image, label = train_data[0]\n",
        "print(label)\n",
        "image.squeeze().shape"
      ],
      "metadata": {
        "colab": {
          "base_uri": "https://localhost:8080/"
        },
        "id": "OfCjXj86YnpF",
        "outputId": "f244c9c5-132d-44bb-d3b2-535572de27e2"
      },
      "execution_count": null,
      "outputs": [
        {
          "output_type": "stream",
          "name": "stdout",
          "text": [
            "9\n"
          ]
        },
        {
          "output_type": "execute_result",
          "data": {
            "text/plain": [
              "torch.Size([28, 28])"
            ]
          },
          "metadata": {},
          "execution_count": 12
        }
      ]
    },
    {
      "cell_type": "code",
      "source": [
        "image, label = train_data[0]\n",
        "print(label)\n",
        "image.squeeze().ndim"
      ],
      "metadata": {
        "id": "e3hZSrb4Y1oG",
        "colab": {
          "base_uri": "https://localhost:8080/"
        },
        "outputId": "bc37c521-6890-4790-9ca0-e7e4681bde63"
      },
      "execution_count": null,
      "outputs": [
        {
          "output_type": "stream",
          "name": "stdout",
          "text": [
            "9\n"
          ]
        },
        {
          "output_type": "execute_result",
          "data": {
            "text/plain": [
              "2"
            ]
          },
          "metadata": {},
          "execution_count": 13
        }
      ]
    },
    {
      "cell_type": "code",
      "source": [
        "import matplotlib.pyplot as plt\n",
        "image, label = train_data[0]\n",
        "print(f'Image shape: {image.shape}')\n",
        "plt.imshow(image.squeeze()) # matplotlib expects color channel at last\n",
        "plt.title(label)"
      ],
      "metadata": {
        "colab": {
          "base_uri": "https://localhost:8080/",
          "height": 488
        },
        "collapsed": true,
        "id": "XCldsJt09VEp",
        "outputId": "92bc84b3-3659-4350-dfc3-e0e8a9d15804"
      },
      "execution_count": null,
      "outputs": [
        {
          "output_type": "stream",
          "name": "stdout",
          "text": [
            "Image shape: torch.Size([1, 28, 28])\n"
          ]
        },
        {
          "output_type": "execute_result",
          "data": {
            "text/plain": [
              "Text(0.5, 1.0, '9')"
            ]
          },
          "metadata": {},
          "execution_count": 14
        },
        {
          "output_type": "display_data",
          "data": {
            "text/plain": [
              "<Figure size 640x480 with 1 Axes>"
            ],
            "image/png": "[encoded data removed]"
          },
          "metadata": {}
        }
      ]
    },
    {
      "cell_type": "code",
      "source": [
        "plt.imshow(image.squeeze(), cmap = 'gray')\n",
        "plt.title(class_names[label])\n",
        "plt.axis(False)"
      ],
      "metadata": {
        "colab": {
          "base_uri": "https://localhost:8080/",
          "height": 446
        },
        "id": "2J6-3Uby9xMD",
        "outputId": "22bf1817-9abc-4b16-9c4b-a0ebe168dc4f"
      },
      "execution_count": null,
      "outputs": [
        {
          "output_type": "execute_result",
          "data": {
            "text/plain": [
              "(np.float64(-0.5), np.float64(27.5), np.float64(27.5), np.float64(-0.5))"
            ]
          },
          "metadata": {},
          "execution_count": 15
        },
        {
          "output_type": "display_data",
          "data": {
            "text/plain": [
              "<Figure size 640x480 with 1 Axes>"
            ],
            "image/png": "[encoded data removed]"
          },
          "metadata": {}
        }
      ]
    },
    {
      "cell_type": "code",
      "source": [
        "# Plot more iamges\n",
        "torch.manual_seed(91)\n",
        "fig = plt.figure(figsize = (9, 9))\n",
        "rows, cols = 4, 4\n",
        "for i in range(1, rows * cols + 1):\n",
        "  random_idx = torch.randint(0, len(train_data), size = [1]).item()\n",
        "  img, label = train_data[random_idx]\n",
        "  fig.add_subplot(rows, cols, i)\n",
        "  # print(img.shape)\n",
        "  plt.imshow(img.squeeze(), cmap = 'gray')\n",
        "  plt.title(class_names[label])\n",
        "  plt.axis(False)"
      ],
      "metadata": {
        "colab": {
          "base_uri": "https://localhost:8080/",
          "height": 731
        },
        "id": "svK_B8YbCCwh",
        "outputId": "e291fee0-5f30-4b54-dd76-83585a3c5bd0"
      },
      "execution_count": null,
      "outputs": [
        {
          "output_type": "display_data",
          "data": {
            "text/plain": [
              "<Figure size 900x900 with 16 Axes>"
            ],
            "image/png": "[encoded data removed]"
          },
          "metadata": {}
        }
      ]
    },
    {
      "cell_type": "markdown",
      "source": [
        "#### Behind scenes"
      ],
      "metadata": {
        "id": "mJ6ipDSlExvx"
      }
    },
    {
      "cell_type": "code",
      "source": [
        "for i in range(1, 4 * 4 + 1):\n",
        "  print(i)"
      ],
      "metadata": {
        "colab": {
          "base_uri": "https://localhost:8080/"
        },
        "collapsed": true,
        "id": "uRy_eIJ3CQrK",
        "outputId": "e1f9b61f-5dff-4ff4-8af8-673f45183cde"
      },
      "execution_count": null,
      "outputs": [
        {
          "output_type": "stream",
          "name": "stdout",
          "text": [
            "1\n",
            "2\n",
            "3\n",
            "4\n",
            "5\n",
            "6\n",
            "7\n",
            "8\n",
            "9\n",
            "10\n",
            "11\n",
            "12\n",
            "13\n",
            "14\n",
            "15\n",
            "16\n"
          ]
        }
      ]
    },
    {
      "cell_type": "code",
      "source": [
        "torch.randint(0, 10, size = [1]).item()"
      ],
      "metadata": {
        "colab": {
          "base_uri": "https://localhost:8080/"
        },
        "id": "F9QuuC5nDF7x",
        "outputId": "de6a3c10-0985-418d-ad95-1f28959b1bc6"
      },
      "execution_count": null,
      "outputs": [
        {
          "output_type": "execute_result",
          "data": {
            "text/plain": [
              "1"
            ]
          },
          "metadata": {},
          "execution_count": 18
        }
      ]
    },
    {
      "cell_type": "code",
      "source": [
        "torch.randint(0, len(train_data), size = [1]).item()"
      ],
      "metadata": {
        "colab": {
          "base_uri": "https://localhost:8080/"
        },
        "id": "3IHaeujSCnGx",
        "outputId": "ee0d83ba-ab79-4447-9203-e9de3f012ca9"
      },
      "execution_count": null,
      "outputs": [
        {
          "output_type": "execute_result",
          "data": {
            "text/plain": [
              "58097"
            ]
          },
          "metadata": {},
          "execution_count": 19
        }
      ]
    },
    {
      "cell_type": "markdown",
      "source": [
        "## 2. Prepare DataLoader\n",
        "Right now, our data is in the form of PyTorch Datasets.\n",
        "\n",
        "DataLoader turns our dataset into a Python iterable.\n",
        "\n",
        "More specifically, we want to run our data into batches (or mini batches)\n",
        "\n",
        "Why would we do this?\n",
        "\n",
        "1. It is more computantionally efficient, as in, your computing hardware may not be able to look (store in memory) at 60000 images in one hit. So we break itdown to 32 images at a time (batch size of 32)\n",
        "2. It gives our neural network more chances to update it's gradients per epoch\n",
        "\n",
        "For more on mini-batches search for Large Scale Machine Learning | Mini Batch Gradient Descent."
      ],
      "metadata": {
        "id": "OhTljIAuE3DY"
      }
    },
    {
      "cell_type": "code",
      "source": [
        "from torch.utils.data import DataLoader\n",
        "\n",
        "# Setup the batch size hyperparameter\n",
        "BATCH_SIZE = 32\n",
        "\n",
        "# Turn datasets into iterables (batches)\n",
        "train_dataloader = DataLoader(dataset = train_data, # 60.000 images\n",
        "                        batch_size = BATCH_SIZE,\n",
        "                        shuffle = True)\n",
        "test_dataloader = DataLoader(dataset = test_data,\n",
        "                             batch_size = BATCH_SIZE,\n",
        "                             shuffle = False # our model will never see the testdata so it does not matter\n",
        "                             )\n",
        "train_dataloader, test_dataloader"
      ],
      "metadata": {
        "id": "4spJz-WmE6B4",
        "colab": {
          "base_uri": "https://localhost:8080/"
        },
        "outputId": "727c65c5-47f8-4ac3-8874-1050249ee5e7"
      },
      "execution_count": null,
      "outputs": [
        {
          "output_type": "execute_result",
          "data": {
            "text/plain": [
              "(<torch.utils.data.dataloader.DataLoader at 0x79e7ccfac1a0>,\n",
              " <torch.utils.data.dataloader.DataLoader at 0x79e7cd2460c0>)"
            ]
          },
          "metadata": {},
          "execution_count": 20
        }
      ]
    },
    {
      "cell_type": "code",
      "source": [
        "# Let's check out what we've created\n",
        "print(f'DataLoaders: {train_dataloader, test_dataloader}')\n",
        "print(f'Length of train_dataloader: {len(train_dataloader)} batches of {train_dataloader.batch_size}')\n",
        "print(f'Length of test_datalaoder: {len(test_dataloader)} batches of {test_dataloader.batch_size}')"
      ],
      "metadata": {
        "colab": {
          "base_uri": "https://localhost:8080/"
        },
        "id": "oPqPNuq0XfXp",
        "outputId": "e3b10e0a-7b51-48cd-e677-dcdd81f542c3"
      },
      "execution_count": null,
      "outputs": [
        {
          "output_type": "stream",
          "name": "stdout",
          "text": [
            "DataLoaders: (<torch.utils.data.dataloader.DataLoader object at 0x79e7ccfac1a0>, <torch.utils.data.dataloader.DataLoader object at 0x79e7cd2460c0>)\n",
            "Length of train_dataloader: 1875 batches of 32\n",
            "Length of test_datalaoder: 313 batches of 32\n"
          ]
        }
      ]
    },
    {
      "cell_type": "code",
      "source": [
        "# Check out what's inside the training datalaoder\n",
        "train_features_batch, train_labels_batch = next(iter(train_dataloader))\n",
        "train_features_batch.shape, train_labels_batch.shape"
      ],
      "metadata": {
        "colab": {
          "base_uri": "https://localhost:8080/"
        },
        "id": "l2TAK9RHYCSz",
        "outputId": "b9f6bfb8-94bd-458e-bd1c-4ac8a666ac59"
      },
      "execution_count": null,
      "outputs": [
        {
          "output_type": "execute_result",
          "data": {
            "text/plain": [
              "(torch.Size([32, 1, 28, 28]), torch.Size([32]))"
            ]
          },
          "metadata": {},
          "execution_count": 22
        }
      ]
    },
    {
      "cell_type": "code",
      "source": [
        "train_labels_batch"
      ],
      "metadata": {
        "colab": {
          "base_uri": "https://localhost:8080/"
        },
        "id": "bvkkHB_uZz36",
        "outputId": "7ab57be4-a430-4e8d-9d79-855078978cc4"
      },
      "execution_count": null,
      "outputs": [
        {
          "output_type": "execute_result",
          "data": {
            "text/plain": [
              "tensor([1, 4, 6, 1, 0, 7, 3, 1, 4, 2, 2, 4, 1, 8, 8, 7, 6, 4, 9, 1, 1, 5, 5, 9,\n",
              "        0, 2, 6, 4, 1, 1, 9, 7])"
            ]
          },
          "metadata": {},
          "execution_count": 23
        }
      ]
    },
    {
      "cell_type": "code",
      "source": [
        "torch.randint(0, len(train_features_batch), size = [1]).item()"
      ],
      "metadata": {
        "colab": {
          "base_uri": "https://localhost:8080/"
        },
        "id": "x2l6wzUbZ-Kj",
        "outputId": "764f1388-111a-45f3-8c24-bc27f189158d"
      },
      "execution_count": null,
      "outputs": [
        {
          "output_type": "execute_result",
          "data": {
            "text/plain": [
              "20"
            ]
          },
          "metadata": {},
          "execution_count": 24
        }
      ]
    },
    {
      "cell_type": "code",
      "source": [
        "random_idx = torch.randint(0, len(train_features_batch), size = [1]).item()\n",
        "random_idx"
      ],
      "metadata": {
        "colab": {
          "base_uri": "https://localhost:8080/"
        },
        "id": "WAA2nomSadl2",
        "outputId": "f4e00926-2737-4a20-c75a-0e3595be5ecf"
      },
      "execution_count": null,
      "outputs": [
        {
          "output_type": "execute_result",
          "data": {
            "text/plain": [
              "8"
            ]
          },
          "metadata": {},
          "execution_count": 25
        }
      ]
    },
    {
      "cell_type": "code",
      "source": [
        "# Show a sample\n",
        "torch.manual_seed(91)\n",
        "random_idx = torch.randint(0, len(train_features_batch), size = [1]).item()\n",
        "img, label = train_features_batch[random_idx], train_labels_batch[random_idx]\n",
        "plt.imshow(img.squeeze(), cmap = 'gray')\n",
        "plt.title(class_names[label])\n",
        "plt.axis(False)\n",
        "print(f'Image size: {img.shape}')\n",
        "print(f'Label: {label}, labelsize: {label.shape}')"
      ],
      "metadata": {
        "colab": {
          "base_uri": "https://localhost:8080/",
          "height": 464
        },
        "id": "iKr9M_BPbABZ",
        "outputId": "59066725-657d-4a2a-92f0-c8dff4777b59"
      },
      "execution_count": null,
      "outputs": [
        {
          "output_type": "stream",
          "name": "stdout",
          "text": [
            "Image size: torch.Size([1, 28, 28])\n",
            "Label: 9, labelsize: torch.Size([])\n"
          ]
        },
        {
          "output_type": "display_data",
          "data": {
            "text/plain": [
              "<Figure size 640x480 with 1 Axes>"
            ],
            "image/png": "[encoded data removed]"
          },
          "metadata": {}
        }
      ]
    },
    {
      "cell_type": "markdown",
      "source": [
        "## 3. Model 0: Build a baseline model\n",
        "\n",
        "When starting to build a series of ML modelling experiments, it's bets practice to start with a baseline model.\n",
        "\n",
        "A baseline model is a simple model you will try and improve upon with subsequient model/experiments.\n",
        "\n",
        "In other words: start simply and add complexity when necesary"
      ],
      "metadata": {
        "id": "KwzzXDescY_G"
      }
    },
    {
      "cell_type": "code",
      "source": [
        "# Create a flatten layer\n",
        "flatten_model = nn.Flatten()\n",
        "\n",
        "# Get a single sample\n",
        "x = train_features_batch[0]\n",
        "\n",
        "# Flatten the sample\n",
        "output = flatten_model(x)\n",
        "\n",
        "# Print out what happend\n",
        "print(f'Shape before flattening: {x.shape} ->[color_channels, height, width]')\n",
        "print(f'Shape after flattening: {output.shape} ->[color_channels, height * width]')"
      ],
      "metadata": {
        "colab": {
          "base_uri": "https://localhost:8080/"
        },
        "id": "rhzVTprfcux7",
        "outputId": "a1ab8a1e-eb2f-4e3e-ed36-5d41e8d79aec"
      },
      "execution_count": null,
      "outputs": [
        {
          "output_type": "stream",
          "name": "stdout",
          "text": [
            "Shape before flattening: torch.Size([1, 28, 28]) ->[color_channels, height, width]\n",
            "Shape after flattening: torch.Size([1, 784]) ->[color_channels, height * width]\n"
          ]
        }
      ]
    },
    {
      "cell_type": "code",
      "source": [
        "# On the baseline model we are going to use a linear layer, that's why we need to use a single vector\n",
        "print(output.shape)\n",
        "print(output[:, :10])"
      ],
      "metadata": {
        "colab": {
          "base_uri": "https://localhost:8080/"
        },
        "id": "nhljtoD34XN9",
        "outputId": "a161be73-5abb-41e3-afc6-75d394c6a8e6"
      },
      "execution_count": null,
      "outputs": [
        {
          "output_type": "stream",
          "name": "stdout",
          "text": [
            "torch.Size([1, 784])\n",
            "tensor([[0.0000, 0.0000, 0.0000, 0.0000, 0.0000, 0.0000, 0.0000, 0.0000, 0.0000,\n",
            "         0.0667]])\n"
          ]
        }
      ]
    },
    {
      "cell_type": "code",
      "source": [
        "from torch import nn\n",
        "class FashionMNISTModelV0(nn.Module):\n",
        "  def __init__(self,\n",
        "               input_shape: int,\n",
        "               hidden_units: int,\n",
        "               output_shape: int):\n",
        "    super().__init__()\n",
        "    self.layer_stack = nn.Sequential(\n",
        "        nn.Flatten(), # torch.Size([1, 28, 28]) --> torch.Size([1, 784])\n",
        "        nn.Linear(in_features = input_shape,\n",
        "                  out_features = hidden_units),\n",
        "        nn.Linear(in_features = hidden_units,\n",
        "                  out_features = hidden_units),\n",
        "        nn.Linear(in_features = hidden_units,\n",
        "                  out_features = output_shape)\n",
        "    )\n",
        "\n",
        "  def forward(self, x):\n",
        "    return self.layer_stack(x)"
      ],
      "metadata": {
        "id": "5gyuFS-o4x1x"
      },
      "execution_count": null,
      "outputs": []
    },
    {
      "cell_type": "code",
      "source": [
        "len(class_names)"
      ],
      "metadata": {
        "colab": {
          "base_uri": "https://localhost:8080/"
        },
        "id": "Tk5jwSFr6PAK",
        "outputId": "379c9e42-76f5-4871-c61a-15f1692b50cb"
      },
      "execution_count": null,
      "outputs": [
        {
          "output_type": "execute_result",
          "data": {
            "text/plain": [
              "10"
            ]
          },
          "metadata": {},
          "execution_count": 30
        }
      ]
    },
    {
      "cell_type": "code",
      "source": [
        "torch.manual_seed(91)\n",
        "\n",
        "# Setup model with input parameters\n",
        "model_0 = FashionMNISTModelV0(\n",
        "    input_shape = 784,# this is 28 * 28\n",
        "    hidden_units = 10, # How many units are in the hidden layer\n",
        "    output_shape = len(class_names)\n",
        ").to(device)"
      ],
      "metadata": {
        "id": "HgyCqCV-6SDs"
      },
      "execution_count": null,
      "outputs": []
    },
    {
      "cell_type": "code",
      "source": [
        "# Baseline model\n",
        "model_0"
      ],
      "metadata": {
        "colab": {
          "base_uri": "https://localhost:8080/"
        },
        "id": "qUYAqrjm6uOM",
        "outputId": "6fc1168c-6829-46ba-becf-335d1542cc66"
      },
      "execution_count": null,
      "outputs": [
        {
          "output_type": "execute_result",
          "data": {
            "text/plain": [
              "FashionMNISTModelV0(\n",
              "  (layer_stack): Sequential(\n",
              "    (0): Flatten(start_dim=1, end_dim=-1)\n",
              "    (1): Linear(in_features=784, out_features=10, bias=True)\n",
              "    (2): Linear(in_features=10, out_features=10, bias=True)\n",
              "    (3): Linear(in_features=10, out_features=10, bias=True)\n",
              "  )\n",
              ")"
            ]
          },
          "metadata": {},
          "execution_count": 32
        }
      ]
    },
    {
      "cell_type": "code",
      "source": [
        "dummy_x = torch.rand([1, 1, 28, 28])\n",
        "model_0(dummy_x)"
      ],
      "metadata": {
        "colab": {
          "base_uri": "https://localhost:8080/"
        },
        "id": "-lVWC5W28lv0",
        "outputId": "eae59b8b-8752-4116-af3e-89e93284162f"
      },
      "execution_count": null,
      "outputs": [
        {
          "output_type": "execute_result",
          "data": {
            "text/plain": [
              "tensor([[ 0.0954,  0.1089, -0.2456, -0.1215, -0.5316,  0.2412,  0.4144, -0.0476,\n",
              "          0.1372, -0.3556]], grad_fn=<AddmmBackward0>)"
            ]
          },
          "metadata": {},
          "execution_count": 33
        }
      ]
    },
    {
      "cell_type": "markdown",
      "source": [
        "### 3.1 Setup Loss, ptimizer and evaluation metrics\n",
        "\n",
        "* Loss function - Since we are working with multi-class data, our loss function will be nn.CrossEntropyLoss()\n",
        "* Optimizer - our optimizer torch.optim.SGD()\n",
        "* Evaluation metric - since we're working on a classification problem"
      ],
      "metadata": {
        "id": "AMiMQihj7Vio"
      }
    },
    {
      "cell_type": "code",
      "source": [
        "import requests\n",
        "from pathlib import Path\n",
        "\n",
        "# Dowload helper function from Learn PyTorch repo\n",
        "if Path('helper_functions.py').is_file():\n",
        "  print('helper_functions.py already exists, skipping download...')\n",
        "else:\n",
        "  print('Downloading helper_functios.py')\n",
        "  request = requests.get('https://raw.githubusercontent.com/mrdbourke/pytorch-deep-learning/af6548e52663c8395fe2777bd0fbfd6ac85fd6f8/helper_functions.py')\n",
        "  with open('helper_functions.py', 'wb') as f:\n",
        "    f.write(request.content)"
      ],
      "metadata": {
        "colab": {
          "base_uri": "https://localhost:8080/"
        },
        "id": "1bnpV8RvA6ty",
        "outputId": "bead3baa-622b-4334-c268-d8e5b992d16a"
      },
      "execution_count": null,
      "outputs": [
        {
          "output_type": "stream",
          "name": "stdout",
          "text": [
            "Downloading helper_functios.py\n"
          ]
        }
      ]
    },
    {
      "cell_type": "code",
      "source": [
        "# import accuracy metric\n",
        "from helper_functions import accuracy_fn\n",
        "\n",
        "# Setup loss function and optimizer\n",
        "loss_fn= nn.CrossEntropyLoss()\n",
        "optimizer = torch.optim.SGD(params = model_0.parameters(),\n",
        "                            lr = 0.1)"
      ],
      "metadata": {
        "id": "A_578KpnB7sq"
      },
      "execution_count": null,
      "outputs": []
    },
    {
      "cell_type": "markdown",
      "source": [
        "### 3.2 Creating a function to time out experiments\n",
        "ML is very experimental. Two of the main things you'll of want to track here are:\n",
        "\n",
        "1. Model's performance (loss and accuracy values)\n",
        "\n",
        "2. How fast it runs"
      ],
      "metadata": {
        "id": "e0cujwliCXFh"
      }
    },
    {
      "cell_type": "code",
      "source": [
        "from timeit import default_timer as timer\n",
        "def print_train_time(start: float,\n",
        "                     end = float,\n",
        "                     device: torch.device = None):\n",
        "  \"\"\"\n",
        "  Prints difference between start and end time.\n",
        "  \"\"\"\n",
        "  total_time = end - start\n",
        "  print(f'Train time on {device}: {total_time:.3f} seconds')\n",
        "  return total_time"
      ],
      "metadata": {
        "id": "2huWfF7bCuKP"
      },
      "execution_count": null,
      "outputs": []
    },
    {
      "cell_type": "code",
      "source": [
        "start_time = timer()\n",
        "# some code here\n",
        "end_time = timer()\n",
        "print_train_time(start = start_time, end = end_time, device = 'cpu')"
      ],
      "metadata": {
        "colab": {
          "base_uri": "https://localhost:8080/"
        },
        "id": "Y6iNEgTuFUzV",
        "outputId": "9751dd0b-64d6-4005-a467-2d912472be8c"
      },
      "execution_count": null,
      "outputs": [
        {
          "output_type": "stream",
          "name": "stdout",
          "text": [
            "Train time on cpu: 0.000 seconds\n"
          ]
        },
        {
          "output_type": "execute_result",
          "data": {
            "text/plain": [
              "5.042799995180758e-05"
            ]
          },
          "metadata": {},
          "execution_count": 37
        }
      ]
    },
    {
      "cell_type": "markdown",
      "source": [
        "### 3.3 Creating a training loop and training model on batches of data\n",
        "\n",
        "1. Loop through epochs\n",
        "2. Loop through training batches, perform trainin steps, calculate the train loss per batch\n",
        "3. Loop through testing batches, perform testing steps, claculate the test loss per batch\n",
        "4. Print out what's happening\n",
        "5. Time it all"
      ],
      "metadata": {
        "id": "JOg7XwAUFqrb"
      }
    },
    {
      "cell_type": "code",
      "source": [
        "# import tqdm for progress bar\n",
        "from tqdm.auto import tqdm\n",
        "\n",
        "# set the seed and start the time\n",
        "torch.manual_seed(91)\n",
        "train_time_start_on_cpu = timer()\n",
        "\n",
        "# Set the number of epochs (we'll keep this small for faster training time)\n",
        "epochs = 10\n",
        "\n",
        "# Create training and test loop\n",
        "for epoch in tqdm(range(epochs)):\n",
        "  print(f'Epoch: {epoch}\\n----')\n",
        "  ### Training\n",
        "  train_loss = 0 # first is going to be 0\n",
        "  # Add a loop to loop through the training batches\n",
        "  for batch, (X, y) in enumerate(train_dataloader):\n",
        "    model_0.train()\n",
        "    # 1. Forward pass\n",
        "    y_pred = model_0(X) # these are logits\n",
        "\n",
        "    # 2. Calculate loss (per batch)\n",
        "    loss = loss_fn(y_pred, y)\n",
        "    train_loss += loss # accumulate train loss\n",
        "\n",
        "    # 3. Optimizer zero grad\n",
        "    optimizer.zero_grad()\n",
        "\n",
        "    # 4. Loss backward\n",
        "    loss.backward()\n",
        "\n",
        "    # 5. Optimizer step\n",
        "    optimizer.step()\n",
        "\n",
        "    # Print out what's happening\n",
        "    if batch % 400 == 0:\n",
        "      print(f'Tamaño del batch: {len(X)}')\n",
        "      print(f'Número del lote: {batch}')\n",
        "      print(f'Looked at {batch * len(X)}/{len(train_dataloader.dataset)} samples')\n",
        "\n",
        "  # Divide total train loss by length of train data loader\n",
        "  train_loss /= len(train_dataloader)\n",
        "\n",
        "  ### Testing\n",
        "  test_loss, test_acc = 0, 0\n",
        "  with torch.inference_mode(): # This deactivate the gradients\n",
        "    for X_test, y_test in test_dataloader: # we dont need to keep track of the batches\n",
        "      # 1. Forward pass\n",
        "      test_pred = model_0(X_test)\n",
        "\n",
        "      # 2. Calculate loss (accumulatively)\n",
        "      test_loss += loss_fn(test_pred, y_test)\n",
        "\n",
        "      # 3. Calculate accuracy\n",
        "      test_acc += accuracy_fn(y_true = y_test,\n",
        "                              y_pred = test_pred.argmax(dim = 1)) # comparing the true label with the max value of test_pred\n",
        "\n",
        "    # Calculate the test loss average per batch\n",
        "    test_loss /= len(test_dataloader)\n",
        "\n",
        "    # Calculate the test acc average per batch\n",
        "    test_acc /= len(test_dataloader)\n",
        "\n",
        "  # print out what´s happening\n",
        "  print(f'\\nTrain loss: {train_loss:.4f} | Test loss: {test_loss:.4f}, Test acc: {test_acc:.4f}')\n",
        "\n",
        "# Calculate training time\n",
        "train_time_end_on_cpu = timer()\n",
        "total_train_time_model_0 = print_train_time(start = train_time_start_on_cpu,\n",
        "                                            end = train_time_end_on_cpu,\n",
        "                                            device = str(next(model_0.parameters()).device))"
      ],
      "metadata": {
        "colab": {
          "base_uri": "https://localhost:8080/",
          "height": 1000,
          "referenced_widgets": [
            "9b144162186a4c009df1354287ec58ba",
            "a8081089b031416188717edaada5c4f4",
            "320a0887317f4f4ab0123b75b6ba0ee8",
            "806d7f09416d4318af341dc655aa7609",
            "20738d60f26746d49fceb2b6324a3392",
            "dc99ad01ebc049c882050329c8f6c2f9",
            "eeae5749f2e54c35aedfc84453872f14",
            "75f1d6f344244a17a5185bed78519bf8",
            "be5942e3769741e68c19d7df34342c26",
            "b272678617b24797aa436d95c04091ce",
            "67e8880824614225aad64fd7e817a147"
          ]
        },
        "id": "VAwIElf_GXaK",
        "outputId": "a20d058b-bf58-4adc-e86e-194e2ac04bef"
      },
      "execution_count": null,
      "outputs": [
        {
          "output_type": "display_data",
          "data": {
            "text/plain": [
              "  0%|          | 0/10 [00:00<?, ?it/s]"
            ],
            "application/vnd.jupyter.widget-view+json": {
              "version_major": 2,
              "version_minor": 0,
              "model_id": "9b144162186a4c009df1354287ec58ba"
            }
          },
          "metadata": {}
        },
        {
          "output_type": "stream",
          "name": "stdout",
          "text": [
            "Epoch: 0\n",
            "----\n",
            "Tamaño del batch: 32\n",
            "Número del lote: 0\n",
            "Looked at 0/60000 samples\n",
            "Tamaño del batch: 32\n",
            "Número del lote: 400\n",
            "Looked at 12800/60000 samples\n",
            "Tamaño del batch: 32\n",
            "Número del lote: 800\n",
            "Looked at 25600/60000 samples\n",
            "Tamaño del batch: 32\n",
            "Número del lote: 1200\n",
            "Looked at 38400/60000 samples\n",
            "Tamaño del batch: 32\n",
            "Número del lote: 1600\n",
            "Looked at 51200/60000 samples\n",
            "\n",
            "Train loss: 0.6301 | Test loss: 0.5298, Test acc: 81.2400\n",
            "Epoch: 1\n",
            "----\n",
            "Tamaño del batch: 32\n",
            "Número del lote: 0\n",
            "Looked at 0/60000 samples\n",
            "Tamaño del batch: 32\n",
            "Número del lote: 400\n",
            "Looked at 12800/60000 samples\n",
            "Tamaño del batch: 32\n",
            "Número del lote: 800\n",
            "Looked at 25600/60000 samples\n",
            "Tamaño del batch: 32\n",
            "Número del lote: 1200\n",
            "Looked at 38400/60000 samples\n",
            "Tamaño del batch: 32\n",
            "Número del lote: 1600\n",
            "Looked at 51200/60000 samples\n",
            "\n",
            "Train loss: 0.4955 | Test loss: 0.5037, Test acc: 82.2384\n",
            "Epoch: 2\n",
            "----\n",
            "Tamaño del batch: 32\n",
            "Número del lote: 0\n",
            "Looked at 0/60000 samples\n",
            "Tamaño del batch: 32\n",
            "Número del lote: 400\n",
            "Looked at 12800/60000 samples\n",
            "Tamaño del batch: 32\n",
            "Número del lote: 800\n",
            "Looked at 25600/60000 samples\n",
            "Tamaño del batch: 32\n",
            "Número del lote: 1200\n",
            "Looked at 38400/60000 samples\n",
            "Tamaño del batch: 32\n",
            "Número del lote: 1600\n",
            "Looked at 51200/60000 samples\n",
            "\n",
            "Train loss: 0.4694 | Test loss: 0.5499, Test acc: 80.0120\n",
            "Epoch: 3\n",
            "----\n",
            "Tamaño del batch: 32\n",
            "Número del lote: 0\n",
            "Looked at 0/60000 samples\n",
            "Tamaño del batch: 32\n",
            "Número del lote: 400\n",
            "Looked at 12800/60000 samples\n",
            "Tamaño del batch: 32\n",
            "Número del lote: 800\n",
            "Looked at 25600/60000 samples\n",
            "Tamaño del batch: 32\n",
            "Número del lote: 1200\n",
            "Looked at 38400/60000 samples\n",
            "Tamaño del batch: 32\n",
            "Número del lote: 1600\n",
            "Looked at 51200/60000 samples\n",
            "\n",
            "Train loss: 0.4604 | Test loss: 0.4907, Test acc: 83.3367\n",
            "Epoch: 4\n",
            "----\n",
            "Tamaño del batch: 32\n",
            "Número del lote: 0\n",
            "Looked at 0/60000 samples\n",
            "Tamaño del batch: 32\n",
            "Número del lote: 400\n",
            "Looked at 12800/60000 samples\n",
            "Tamaño del batch: 32\n",
            "Número del lote: 800\n",
            "Looked at 25600/60000 samples\n",
            "Tamaño del batch: 32\n",
            "Número del lote: 1200\n",
            "Looked at 38400/60000 samples\n",
            "Tamaño del batch: 32\n",
            "Número del lote: 1600\n",
            "Looked at 51200/60000 samples\n",
            "\n",
            "Train loss: 0.4536 | Test loss: 0.4805, Test acc: 83.4764\n",
            "Epoch: 5\n",
            "----\n",
            "Tamaño del batch: 32\n",
            "Número del lote: 0\n",
            "Looked at 0/60000 samples\n",
            "Tamaño del batch: 32\n",
            "Número del lote: 400\n",
            "Looked at 12800/60000 samples\n",
            "Tamaño del batch: 32\n",
            "Número del lote: 800\n",
            "Looked at 25600/60000 samples\n",
            "Tamaño del batch: 32\n",
            "Número del lote: 1200\n",
            "Looked at 38400/60000 samples\n",
            "Tamaño del batch: 32\n",
            "Número del lote: 1600\n",
            "Looked at 51200/60000 samples\n",
            "\n",
            "Train loss: 0.4456 | Test loss: 0.4939, Test acc: 82.2085\n",
            "Epoch: 6\n",
            "----\n",
            "Tamaño del batch: 32\n",
            "Número del lote: 0\n",
            "Looked at 0/60000 samples\n",
            "Tamaño del batch: 32\n",
            "Número del lote: 400\n",
            "Looked at 12800/60000 samples\n",
            "Tamaño del batch: 32\n",
            "Número del lote: 800\n",
            "Looked at 25600/60000 samples\n",
            "Tamaño del batch: 32\n",
            "Número del lote: 1200\n",
            "Looked at 38400/60000 samples\n",
            "Tamaño del batch: 32\n",
            "Número del lote: 1600\n",
            "Looked at 51200/60000 samples\n",
            "\n",
            "Train loss: 0.4416 | Test loss: 0.5214, Test acc: 80.6809\n",
            "Epoch: 7\n",
            "----\n",
            "Tamaño del batch: 32\n",
            "Número del lote: 0\n",
            "Looked at 0/60000 samples\n",
            "Tamaño del batch: 32\n",
            "Número del lote: 400\n",
            "Looked at 12800/60000 samples\n",
            "Tamaño del batch: 32\n",
            "Número del lote: 800\n",
            "Looked at 25600/60000 samples\n",
            "Tamaño del batch: 32\n",
            "Número del lote: 1200\n",
            "Looked at 38400/60000 samples\n",
            "Tamaño del batch: 32\n",
            "Número del lote: 1600\n",
            "Looked at 51200/60000 samples\n",
            "\n",
            "Train loss: 0.4384 | Test loss: 0.4653, Test acc: 83.9257\n",
            "Epoch: 8\n",
            "----\n",
            "Tamaño del batch: 32\n",
            "Número del lote: 0\n",
            "Looked at 0/60000 samples\n",
            "Tamaño del batch: 32\n",
            "Número del lote: 400\n",
            "Looked at 12800/60000 samples\n",
            "Tamaño del batch: 32\n",
            "Número del lote: 800\n",
            "Looked at 25600/60000 samples\n",
            "Tamaño del batch: 32\n",
            "Número del lote: 1200\n",
            "Looked at 38400/60000 samples\n",
            "Tamaño del batch: 32\n",
            "Número del lote: 1600\n",
            "Looked at 51200/60000 samples\n",
            "\n",
            "Train loss: 0.4340 | Test loss: 0.5121, Test acc: 82.2085\n",
            "Epoch: 9\n",
            "----\n",
            "Tamaño del batch: 32\n",
            "Número del lote: 0\n",
            "Looked at 0/60000 samples\n",
            "Tamaño del batch: 32\n",
            "Número del lote: 400\n",
            "Looked at 12800/60000 samples\n",
            "Tamaño del batch: 32\n",
            "Número del lote: 800\n",
            "Looked at 25600/60000 samples\n",
            "Tamaño del batch: 32\n",
            "Número del lote: 1200\n",
            "Looked at 38400/60000 samples\n",
            "Tamaño del batch: 32\n",
            "Número del lote: 1600\n",
            "Looked at 51200/60000 samples\n",
            "\n",
            "Train loss: 0.4323 | Test loss: 0.4638, Test acc: 83.8958\n",
            "Train time on cpu: 158.627 seconds\n"
          ]
        }
      ]
    },
    {
      "cell_type": "markdown",
      "source": [
        "## 4. Make predictions and get Model 0 results"
      ],
      "metadata": {
        "id": "2xvf65m3mw1K"
      }
    },
    {
      "cell_type": "code",
      "source": [
        "torch.manual_seed(91)\n",
        "def eval_model(model: torch.nn.Module,\n",
        "               data_loader: torch.utils.data.DataLoader,\n",
        "               loss_fn: torch.nn.Module,\n",
        "               accuracy_fn,\n",
        "               device = device):\n",
        "  \"\"\"\n",
        "  Returns a dictionary containing the results of model predicting on data_loader.\n",
        "  \"\"\"\n",
        "  loss, acc = 0, 0\n",
        "  model.eval()\n",
        "  with torch.inference_mode():\n",
        "    for X, y in data_loader:\n",
        "      # Make our data device agnostic\n",
        "      X, y = X.to(device), y.to(device)\n",
        "\n",
        "      # Make predictions\n",
        "      y_pred = model(X)\n",
        "\n",
        "      # Accumulate the loss and acc values per batch\n",
        "      loss += loss_fn(y_pred, y)\n",
        "      acc += accuracy_fn(y_true = y,\n",
        "                         y_pred = y_pred.argmax(dim = 1))\n",
        "      # print(loss)\n",
        "\n",
        "    # Scale loss and acc to find the average loss/acc\n",
        "    loss /= len(data_loader)\n",
        "    acc /= len(data_loader)\n",
        "\n",
        "\n",
        "    return {'model_name': model.__class__.__name__, # only works when model was created with a class\n",
        "            'model_loss': loss.item(),\n",
        "            'model_acc': acc}\n",
        "\n",
        "model_0_results = eval_model(model = model_0,\n",
        "                             data_loader = test_dataloader,\n",
        "                             loss_fn = loss_fn,\n",
        "                             accuracy_fn = accuracy_fn)"
      ],
      "metadata": {
        "id": "8JBB3MJQD-JS"
      },
      "execution_count": null,
      "outputs": []
    },
    {
      "cell_type": "code",
      "source": [
        "model_0_results"
      ],
      "metadata": {
        "id": "rhAQIF62FdHi",
        "colab": {
          "base_uri": "https://localhost:8080/"
        },
        "outputId": "d03c5116-f5fd-46f8-fae9-f9e8722d0aa5"
      },
      "execution_count": null,
      "outputs": [
        {
          "output_type": "execute_result",
          "data": {
            "text/plain": [
              "{'model_name': 'FashionMNISTModelV0',\n",
              " 'model_loss': 0.46377164125442505,\n",
              " 'model_acc': 83.89576677316293}"
            ]
          },
          "metadata": {},
          "execution_count": 40
        }
      ]
    },
    {
      "cell_type": "markdown",
      "source": [
        "## 5. Set up deivice agnostic code"
      ],
      "metadata": {
        "id": "lmMwMEMT-Bsr"
      }
    },
    {
      "cell_type": "code",
      "source": [
        "# See if cuda is available\n",
        "torch.cuda.is_available()"
      ],
      "metadata": {
        "colab": {
          "base_uri": "https://localhost:8080/"
        },
        "id": "ajd8RtJO-Eur",
        "outputId": "f1ca6e31-a491-4846-cf01-e99dc94c0f11"
      },
      "execution_count": null,
      "outputs": [
        {
          "output_type": "execute_result",
          "data": {
            "text/plain": [
              "False"
            ]
          },
          "metadata": {},
          "execution_count": 41
        }
      ]
    },
    {
      "cell_type": "code",
      "source": [
        "# # setup device agnostic code\n",
        "import torch\n",
        "device = 'cuda' if torch.cuda.is_available() else 'cpu'\n",
        "device"
      ],
      "metadata": {
        "colab": {
          "base_uri": "https://localhost:8080/",
          "height": 36
        },
        "id": "mWTgjbm--KLE",
        "outputId": "9f4b6544-6b57-4ca0-8a1b-cadfeb97077f"
      },
      "execution_count": null,
      "outputs": [
        {
          "output_type": "execute_result",
          "data": {
            "text/plain": [
              "'cpu'"
            ],
            "application/vnd.google.colaboratory.intrinsic+json": {
              "type": "string"
            }
          },
          "metadata": {},
          "execution_count": 42
        }
      ]
    },
    {
      "cell_type": "markdown",
      "source": [
        "Does we need non linearity from the above model? The model did pretty good without non-linearity functions."
      ],
      "metadata": {
        "id": "dv_A0L5g-VZD"
      }
    },
    {
      "cell_type": "markdown",
      "source": [
        "## 6. Model 1: Building a better model with non-linearity"
      ],
      "metadata": {
        "id": "xu3KIjtQ-hJi"
      }
    },
    {
      "cell_type": "code",
      "source": [
        "# Create a model with non-linear layer\n",
        "class FashionMNISTModelV1(nn.Module):\n",
        "  def __init__(self,\n",
        "               input_shape: int,\n",
        "               hidden_units: int,\n",
        "               output_shape):\n",
        "    super().__init__()\n",
        "    self.layer_stack = nn.Sequential(\n",
        "        nn.Flatten(), # Flatten inputs into a single vector\n",
        "        nn.Linear(in_features = input_shape,\n",
        "                  out_features = hidden_units),\n",
        "        nn.ReLU(),\n",
        "        nn.Linear(in_features = hidden_units,\n",
        "                  out_features = hidden_units),\n",
        "        nn.ReLU(),\n",
        "        nn.Linear(in_features = hidden_units,\n",
        "                  out_features = output_shape),\n",
        "        nn.ReLU()\n",
        "    )\n",
        "\n",
        "  def forward(self, x: torch.Tensor):\n",
        "    return self.layer_stack(x)"
      ],
      "metadata": {
        "id": "_cZmbv5K-mYi"
      },
      "execution_count": null,
      "outputs": []
    },
    {
      "cell_type": "code",
      "source": [
        "# Create an instance of model_1\n",
        "torch.manual_seed(91)\n",
        "model_1 = FashionMNISTModelV1(input_shape = 784,\n",
        "                              hidden_units = 10,\n",
        "                              output_shape = len(class_names)).to(device)\n",
        "next(model_1.parameters()).device"
      ],
      "metadata": {
        "colab": {
          "base_uri": "https://localhost:8080/"
        },
        "id": "N7poptNBAWOE",
        "outputId": "cf4521cc-c66d-4bcb-e0f8-4cbc0b11afee"
      },
      "execution_count": null,
      "outputs": [
        {
          "output_type": "execute_result",
          "data": {
            "text/plain": [
              "device(type='cpu')"
            ]
          },
          "metadata": {},
          "execution_count": 44
        }
      ]
    },
    {
      "cell_type": "markdown",
      "source": [
        "### 6.1 Setup loss, optimizer and evaluation metrics"
      ],
      "metadata": {
        "id": "h2-MhMBV_sDM"
      }
    },
    {
      "cell_type": "code",
      "source": [
        "from helper_functions import accuracy_fn\n",
        "loss_fn = nn.CrossEntropyLoss() # measure how wrong our model is\n",
        "optimizer = torch.optim.SGD(params = model_1.parameters(), # Tries to update our model´s parameters to reduce the loss\n",
        "                            lr = 0.1)"
      ],
      "metadata": {
        "id": "M8-AIP_iADWr"
      },
      "execution_count": null,
      "outputs": []
    },
    {
      "cell_type": "markdown",
      "source": [
        "### 6.2 Functionazing training and evaluation/testing loop\n",
        "\n",
        "Let's create a function for:\n",
        "\n",
        "* training loop - train_step()\n",
        "* testing loop - test_step()"
      ],
      "metadata": {
        "id": "7R43dwC0ETpj"
      }
    },
    {
      "cell_type": "code",
      "source": [
        "def train_step(model: torch.nn.Module,\n",
        "               data_loader: torch.utils.data.DataLoader,\n",
        "               loss_fn: torch.nn.Module,\n",
        "               optimizer: torch.optim.Optimizer,\n",
        "               accuracy_fn,\n",
        "               device: torch.device = device):\n",
        "  \"\"\"\n",
        "  Performs a training with model trying to learn on data_loader\n",
        "  \"\"\"\n",
        "  train_loss, train_acc = 0, 0\n",
        "\n",
        "  # Put model into training mode\n",
        "  model.train()\n",
        "\n",
        "  # Add a loop to llop through the training batches\n",
        "  for batch, (X, y) in enumerate(data_loader):\n",
        "    # Put data on target device\n",
        "    X, y = X.to(device), y.to(device)\n",
        "\n",
        "    # 1. Forward pass (outputs the raw logits from the model)\n",
        "    y_pred = model(X) # remember that this are logits\n",
        "\n",
        "    # 2. Calculate loss and accuracy (per batch)\n",
        "    loss = loss_fn(y_pred, y)\n",
        "    train_loss += loss # accumulate train loss\n",
        "    train_acc += accuracy_fn(y_true = y, # accumulate accuracy\n",
        "                             y_pred = y_pred.argmax(dim = 1)) # go from logits -> prediction labels\n",
        "\n",
        "    # 3. Optimizer zero grad\n",
        "    optimizer.zero_grad()\n",
        "\n",
        "    # 4. Loss backward\n",
        "    loss.backward()\n",
        "\n",
        "    # 5. Optimizer step\n",
        "    optimizer.step()\n",
        "\n",
        "    # Print out what's happening\n",
        "    if batch % 400 == 0:\n",
        "      print(f'Batch Size: {len(X)}')\n",
        "      print(f'Batch Number: {batch}')\n",
        "      print(f'Looked at {batch * len(X)}/{len(train_dataloader.dataset)} samples')\n",
        "\n",
        "  # Divide total train loss and acc by length of train data loader\n",
        "  train_loss /= len(data_loader)\n",
        "  train_acc /= len(data_loader)\n",
        "  print(f'Train Loss: {train_loss:.5f} | Train acc:{train_acc:.2f}%')"
      ],
      "metadata": {
        "id": "OPdsmmy_Ey6z"
      },
      "execution_count": null,
      "outputs": []
    },
    {
      "cell_type": "code",
      "source": [
        "def test_step(model: torch.nn.Module,\n",
        "              data_loader: torch.utils.data.DataLoader,\n",
        "              loss_fn: torch.nn.Module,\n",
        "              accuracy_fn,\n",
        "              device: torch.device = device):\n",
        "  \"\"\"\n",
        "  Performs a testing loop step on model going over data_loader.\n",
        "  \"\"\"\n",
        "  test_loss, test_acc = 0, 0\n",
        "\n",
        "  # Put the model in eval mode\n",
        "  model.eval()\n",
        "\n",
        "  # Turn on inference mode context manager\n",
        "  with torch.inference_mode(): # This deactivate the gradients\n",
        "    for X, y in data_loader:\n",
        "      # Send the data to the target device\n",
        "      X, y = X.to(device), y.to(device)\n",
        "\n",
        "      # 1. Forward pass\n",
        "      test_pred = model(X)\n",
        "\n",
        "      # 2. Calculate the loss/acc\n",
        "      test_loss += loss_fn(test_pred, y)\n",
        "      test_acc += accuracy_fn(y_true = y,\n",
        "                             y_pred = test_pred.argmax(dim = 1)) # go fromlogits -> predictions labels\n",
        "\n",
        "    # Adjust the metrics and print out\n",
        "    test_loss /= len(data_loader)\n",
        "    test_acc /= len(data_loader)\n",
        "    print(f'Test Loss: {test_loss:.5f} | Test acc: {test_acc:.2f}%')"
      ],
      "metadata": {
        "id": "rfo6iyupMEuj"
      },
      "execution_count": null,
      "outputs": []
    },
    {
      "cell_type": "code",
      "source": [
        "torch.manual_seed(42)\n",
        "\n",
        "# Measure time\n",
        "from timeit import default_timer as timer\n",
        "train_time_start_on_cpu = timer()\n",
        "\n",
        "# Set Epochs\n",
        "epochs = 3\n",
        "\n",
        "# Create a optimization and evaluation loop using train_step() and test_step()\n",
        "for epoch in tqdm(range(epochs)):\n",
        "  print(f'Epoch: {epoch}\\n--------')\n",
        "  train_step(model = model_1,\n",
        "             data_loader = train_dataloader,\n",
        "             loss_fn = loss_fn,\n",
        "             optimizer = optimizer,\n",
        "             accuracy_fn = accuracy_fn,\n",
        "             device = device)\n",
        "  test_step(model = model_1,\n",
        "            data_loader = test_dataloader,\n",
        "            loss_fn = loss_fn,\n",
        "            accuracy_fn = accuracy_fn,\n",
        "            device = device)\n",
        "\n",
        "train_time_end_on_cpu = timer()\n",
        "total_train_time_model_1 = print_train_time(start = train_time_start_on_cpu,\n",
        "                                            end = train_time_end_on_cpu,\n",
        "                                            device = device)"
      ],
      "metadata": {
        "id": "hiR4w3YTPQUn",
        "colab": {
          "base_uri": "https://localhost:8080/",
          "height": 1000,
          "referenced_widgets": [
            "7af121556ba544c09378ea024c9361ae",
            "696adb4442e542368ac2e4cb55e2cfc5",
            "968e063c5db840e595456b502dbb34bf",
            "3c5c62bf6c6a4040801af0645d6edbfa",
            "ee66479a2f52498ea80c392e2b459bf2",
            "6e9bdbfaf4bf4e528756fc3c7749b367",
            "a74c9533ce764d7d921e029d054d5acf",
            "e337e14680f34e50addb092d485a897f",
            "4c0ed5fae03643e2a6f503e5eebac6f4",
            "50fc9da778ef40c1960edf4c81d05723",
            "c865a0afd1ad4122bbdee81d6930da4c"
          ]
        },
        "outputId": "af1e9162-fad1-4b8a-891c-ac46f3d0953b"
      },
      "execution_count": null,
      "outputs": [
        {
          "output_type": "display_data",
          "data": {
            "text/plain": [
              "  0%|          | 0/3 [00:00<?, ?it/s]"
            ],
            "application/vnd.jupyter.widget-view+json": {
              "version_major": 2,
              "version_minor": 0,
              "model_id": "7af121556ba544c09378ea024c9361ae"
            }
          },
          "metadata": {}
        },
        {
          "output_type": "stream",
          "name": "stdout",
          "text": [
            "Epoch: 0\n",
            "--------\n",
            "Batch Size: 32\n",
            "Batch Number: 0\n",
            "Looked at 0/60000 samples\n",
            "Batch Size: 32\n",
            "Batch Number: 400\n",
            "Looked at 12800/60000 samples\n",
            "Batch Size: 32\n",
            "Batch Number: 800\n",
            "Looked at 25600/60000 samples\n",
            "Batch Size: 32\n",
            "Batch Number: 1200\n",
            "Looked at 38400/60000 samples\n",
            "Batch Size: 32\n",
            "Batch Number: 1600\n",
            "Looked at 51200/60000 samples\n",
            "Train Loss: 1.21712 | Train acc:58.93%\n",
            "Test Loss: 1.01889 | Test acc: 65.20%\n",
            "Epoch: 1\n",
            "--------\n",
            "Batch Size: 32\n",
            "Batch Number: 0\n",
            "Looked at 0/60000 samples\n",
            "Batch Size: 32\n",
            "Batch Number: 400\n",
            "Looked at 12800/60000 samples\n",
            "Batch Size: 32\n",
            "Batch Number: 800\n",
            "Looked at 25600/60000 samples\n",
            "Batch Size: 32\n",
            "Batch Number: 1200\n",
            "Looked at 38400/60000 samples\n",
            "Batch Size: 32\n",
            "Batch Number: 1600\n",
            "Looked at 51200/60000 samples\n",
            "Train Loss: 0.98421 | Train acc:66.96%\n",
            "Test Loss: 0.88471 | Test acc: 71.21%\n",
            "Epoch: 2\n",
            "--------\n",
            "Batch Size: 32\n",
            "Batch Number: 0\n",
            "Looked at 0/60000 samples\n",
            "Batch Size: 32\n",
            "Batch Number: 400\n",
            "Looked at 12800/60000 samples\n",
            "Batch Size: 32\n",
            "Batch Number: 800\n",
            "Looked at 25600/60000 samples\n",
            "Batch Size: 32\n",
            "Batch Number: 1200\n",
            "Looked at 38400/60000 samples\n",
            "Batch Size: 32\n",
            "Batch Number: 1600\n",
            "Looked at 51200/60000 samples\n",
            "Train Loss: 0.84791 | Train acc:72.24%\n",
            "Test Loss: 0.85575 | Test acc: 71.78%\n",
            "Train time on cpu: 55.072 seconds\n"
          ]
        }
      ]
    },
    {
      "cell_type": "code",
      "source": [
        "# Get model_1 results dictionary\n",
        "model_1_results = eval_model(model = model_1,\n",
        "                             data_loader = test_dataloader,\n",
        "                             loss_fn = loss_fn,\n",
        "                             accuracy_fn = accuracy_fn,\n",
        "                             device = device)\n",
        "model_1_results"
      ],
      "metadata": {
        "colab": {
          "base_uri": "https://localhost:8080/"
        },
        "id": "deX1hrAtDqh9",
        "outputId": "06a6a8f2-5d02-4e61-ec16-8ee366bf5181"
      },
      "execution_count": null,
      "outputs": [
        {
          "output_type": "execute_result",
          "data": {
            "text/plain": [
              "{'model_name': 'FashionMNISTModelV1',\n",
              " 'model_loss': 0.8557549118995667,\n",
              " 'model_acc': 71.77515974440895}"
            ]
          },
          "metadata": {},
          "execution_count": 49
        }
      ]
    },
    {
      "cell_type": "code",
      "source": [
        "model_0_results"
      ],
      "metadata": {
        "colab": {
          "base_uri": "https://localhost:8080/"
        },
        "id": "jc7XBbMLEp6Q",
        "outputId": "93e8a290-9df0-4f5f-d5c9-be436474683d"
      },
      "execution_count": null,
      "outputs": [
        {
          "output_type": "execute_result",
          "data": {
            "text/plain": [
              "{'model_name': 'FashionMNISTModelV0',\n",
              " 'model_loss': 0.46377164125442505,\n",
              " 'model_acc': 83.89576677316293}"
            ]
          },
          "metadata": {},
          "execution_count": 50
        }
      ]
    },
    {
      "cell_type": "markdown",
      "source": [
        "> **Note:** Sometimes, depending on your data/hardware you might find that your mdoel trains faster on CPU than GPU.\n",
        ">\n",
        "> Why is this?\n",
        ">\n",
        "> 1. It could be that the overhead for copying data/model to and from the GPU outweighs the compute benefits offered by the GPU.\n",
        "> 2.The hardware you are using has a better CPU in terms of compute capability than de GPU."
      ],
      "metadata": {
        "id": "dpn-eBPtTj1N"
      }
    },
    {
      "cell_type": "markdown",
      "source": [
        "## Model 2: Building a Convolutional Neural Network (CNN)\n",
        "\n",
        "CNN's are also Knows ConvNets.\n",
        "\n",
        "CNN's are known for their capabilities to find patterns in visual data\n",
        "\n",
        "https://poloclub.github.io/cnn-explainer/"
      ],
      "metadata": {
        "id": "qB5C0VFPE99V"
      }
    },
    {
      "cell_type": "code",
      "source": [
        "# Create a convolutional neural network\n",
        "class FashionMNISTModelV2(nn.Module):\n",
        "  \"\"\"\n",
        "  Model architecture replicates the TinyVGG\n",
        "  model from CNN explainer website.\n",
        "  \"\"\"\n",
        "  def __init__(self, input_shape: int, hidden_units: int, output_shape: int):\n",
        "    super().__init__()\n",
        "    self.conv_block_1 = nn.Sequential(\n",
        "        nn.Conv2d(in_channels = input_shape,\n",
        "                  out_channels = hidden_units,\n",
        "                  kernel_size = 3,\n",
        "                  stride = 1,\n",
        "                  padding = 1),\n",
        "        nn.ReLU(),\n",
        "        nn.Conv2d(in_channels = hidden_units,\n",
        "                  out_channels = hidden_units,\n",
        "                  kernel_size = 3,\n",
        "                  stride = 1,\n",
        "                  padding = 1),\n",
        "        nn.ReLU(),\n",
        "        nn.MaxPool2d(kernel_size = 2)\n",
        "    )\n",
        "    self.conv_block_2 = nn.Sequential(\n",
        "        nn.Conv2d(in_channels = hidden_units,\n",
        "                  out_channels = hidden_units,\n",
        "                  kernel_size = 3,\n",
        "                  stride = 1,\n",
        "                  padding = 1),\n",
        "        nn.ReLU(),\n",
        "        nn.Conv2d(in_channels = hidden_units,\n",
        "                  out_channels = hidden_units,\n",
        "                  kernel_size = 3,\n",
        "                  stride = 1,\n",
        "                  padding = 1),\n",
        "        nn.ReLU(),\n",
        "        nn.MaxPool2d(kernel_size = 2)\n",
        "    )\n",
        "    self.classifier = nn.Sequential(\n",
        "        nn.Flatten(),\n",
        "        nn.Linear(in_features = hidden_units * 7 * 7,\n",
        "                  out_features = output_shape)\n",
        "    )\n",
        "\n",
        "  def forward(self, x):\n",
        "    x = self.conv_block_1(x)\n",
        "    #print(f'Outputshape of conv_block_1: {x.shape}')\n",
        "    x = self.conv_block_2(x)\n",
        "    #print(f'Outputshape of conv_block_2: {x.shape}')\n",
        "    x = self.classifier(x)\n",
        "    #print(f'Outputshaoe o classifier: {x.shape}')\n",
        "    return x"
      ],
      "metadata": {
        "id": "VlAZt18eFnlH"
      },
      "execution_count": null,
      "outputs": []
    },
    {
      "cell_type": "code",
      "source": [
        "torch.manual_seed(91)\n",
        "model_2 = FashionMNISTModelV2(input_shape = 1, # number of channel in our images\n",
        "                              hidden_units = 10,\n",
        "                              output_shape = len(class_names)).to(device)"
      ],
      "metadata": {
        "id": "JoWliMTNlOxV"
      },
      "execution_count": null,
      "outputs": []
    },
    {
      "cell_type": "markdown",
      "source": [
        "#### Trick to find te input and outpput shapes of each of our Layers"
      ],
      "metadata": {
        "id": "mXuJLRV1NlTK"
      }
    },
    {
      "cell_type": "code",
      "source": [
        "rand_image_tensor = torch.randn(size = (1, 28, 28))\n",
        "rand_image_tensor"
      ],
      "metadata": {
        "colab": {
          "base_uri": "https://localhost:8080/"
        },
        "id": "45a0XuIpNx3e",
        "outputId": "ffa1e524-7052-49bd-e616-4f22e8347ebe"
      },
      "execution_count": null,
      "outputs": [
        {
          "output_type": "execute_result",
          "data": {
            "text/plain": [
              "tensor([[[ 1.5666e-01,  3.7039e-01, -8.4617e-01, -8.9908e-01,  1.6844e-01,\n",
              "          -2.6514e+00,  5.8712e-01, -1.4847e+00,  1.0758e+00,  2.5242e-01,\n",
              "           4.3157e-01,  1.1161e+00, -1.0374e+00,  1.5059e+00,  1.0693e+00,\n",
              "           1.7342e-01, -1.2579e+00, -3.1794e-01, -8.4117e-01, -7.9321e-01,\n",
              "           3.7054e-01, -3.6431e-01,  8.2681e-01,  3.2425e-01,  6.1178e-01,\n",
              "           5.9304e-01, -9.0093e-01, -4.7265e-01],\n",
              "         [-2.2897e-01,  1.6517e+00, -4.6253e-01,  1.0149e+00, -1.5928e+00,\n",
              "          -1.4463e+00, -2.0002e+00, -1.4645e+00, -2.5151e+00, -9.8076e-01,\n",
              "          -8.1135e-01, -3.2055e-01,  1.2670e-02, -1.6700e+00,  1.0777e+00,\n",
              "          -2.5153e+00,  7.5006e-01, -9.6101e-01,  9.6606e-01, -1.5944e+00,\n",
              "          -4.0229e-01, -2.4084e-03, -1.5758e+00,  6.6490e-01,  1.6136e-01,\n",
              "           8.8886e-01, -5.0375e-01, -6.4821e-01],\n",
              "         [-1.9511e-01,  1.6955e-01, -7.8956e-01,  5.8495e-01, -4.5687e-01,\n",
              "           1.7732e+00, -1.4736e+00,  1.4315e+00,  3.8973e-01,  3.9400e-01,\n",
              "          -4.3308e-01, -5.7600e-01,  1.1779e+00,  1.0908e+00,  4.7841e-01,\n",
              "          -5.0719e-01, -5.1244e-01, -4.9009e-01, -1.0007e+00, -1.2840e+00,\n",
              "          -1.7452e-01, -1.1291e+00, -1.3234e+00,  3.4614e-01,  6.3158e-02,\n",
              "          -1.0417e+00,  7.2956e-01, -8.4804e-01],\n",
              "         [-1.5767e+00, -2.0629e-01,  1.0039e+00, -6.6663e-01,  5.6754e-01,\n",
              "          -2.3607e-01,  3.3887e-02, -1.1091e+00, -1.7391e-02,  2.2175e-01,\n",
              "           4.8495e-03, -2.4984e+00, -1.3640e+00,  1.4894e-01,  1.6737e+00,\n",
              "          -1.1046e+00,  1.0325e+00, -1.4534e+00, -1.9434e-01, -1.0186e+00,\n",
              "           2.8567e+00, -1.2806e+00,  3.1027e-01, -1.2609e-01, -4.7959e-01,\n",
              "           1.1256e+00,  5.9401e-01,  5.4530e-02],\n",
              "         [-2.2120e-01,  3.9337e-01,  7.6136e-01, -2.2247e+00, -3.0775e-01,\n",
              "           1.3267e+00,  6.4978e-01, -1.7324e-01,  4.0468e-01,  6.5220e-01,\n",
              "          -4.7280e-01, -5.1662e-01, -7.6355e-01, -1.5502e+00, -1.6519e-01,\n",
              "          -1.1039e+00, -2.9246e+00, -3.0572e-03, -1.2572e+00,  2.1891e-01,\n",
              "          -1.1552e+00,  1.5327e+00, -2.8225e-01, -5.7171e-02,  1.1146e+00,\n",
              "           1.2532e+00, -5.3500e-01,  2.9245e+00],\n",
              "         [ 1.2096e+00,  1.1923e+00, -6.3185e-01,  2.8393e-01, -1.4969e+00,\n",
              "           8.9541e-01, -1.5786e+00,  5.9313e-01, -1.4623e+00, -9.2885e-01,\n",
              "          -9.8573e-02, -2.9555e-01, -3.7310e-01, -1.8158e-01, -1.0392e-01,\n",
              "          -1.8132e+00, -1.0834e-01,  1.7799e-02, -6.7845e-01, -2.1231e-01,\n",
              "           1.1498e+00, -1.4722e+00,  7.3905e-01, -7.9168e-01,  5.0368e-01,\n",
              "          -1.3042e+00, -8.0973e-01,  4.8172e-01],\n",
              "         [ 2.0590e-01, -1.3715e+00, -1.1455e+00, -8.1774e-01, -1.3303e+00,\n",
              "           1.4657e-02, -1.7748e+00,  2.6523e-01, -4.8228e-01,  1.7996e+00,\n",
              "          -1.2433e-01, -1.1175e+00,  1.4187e+00, -4.3430e-01,  9.9503e-01,\n",
              "          -1.9880e+00,  1.5989e+00,  3.6566e-01,  5.7016e-01,  2.1715e+00,\n",
              "           4.1156e-01, -5.3360e-01,  2.7059e+00,  2.7810e+00, -1.2045e+00,\n",
              "          -5.2071e-01, -3.1348e-01, -2.5946e+00],\n",
              "         [ 1.0960e+00,  3.7183e-01,  1.0368e+00,  5.4995e-01,  4.7985e-01,\n",
              "          -1.1796e-01, -1.2368e+00,  3.2431e-01, -3.9484e-01,  7.7833e-01,\n",
              "          -4.8660e-01, -3.5282e-01,  5.0810e-01, -9.5274e-01, -6.4232e-01,\n",
              "           2.1966e-01, -3.7622e-01, -1.7816e-01,  4.0473e-01, -9.0089e-01,\n",
              "           9.5887e-01,  5.9773e-01, -3.4861e-01,  3.2814e-02, -6.7754e-01,\n",
              "          -1.5064e+00, -3.9334e-01, -8.1378e-02],\n",
              "         [-2.0146e-01,  1.3432e-01, -2.3348e-01, -8.9259e-01, -1.2355e+00,\n",
              "           1.6904e-01,  6.2635e-01, -1.2632e-01, -2.2583e-01,  5.9451e-01,\n",
              "          -3.9506e-01, -9.2167e-01, -1.4398e-01, -2.0595e+00, -5.8523e-01,\n",
              "          -6.5578e-02, -2.0974e-01,  9.3826e-01,  8.7284e-02,  5.8757e-01,\n",
              "          -1.1596e+00,  3.1076e-01,  5.3539e-01, -1.2331e+00, -7.6872e-01,\n",
              "          -7.7745e-01, -3.1359e-01,  4.5641e-01],\n",
              "         [-1.3663e+00, -1.1573e+00, -2.7099e-01, -8.6554e-01,  2.3140e-01,\n",
              "           1.0283e-01, -8.5269e-01, -2.0315e+00,  2.8568e-01,  2.8520e+00,\n",
              "          -8.6317e-01,  3.9179e-01,  2.9730e-01,  9.9260e-02, -9.9468e-01,\n",
              "          -1.5232e+00, -1.4323e-01, -3.9283e-01, -1.9629e+00, -1.4078e+00,\n",
              "          -1.5222e-01,  2.2482e+00,  4.2589e-01,  5.0252e-01, -6.1735e-02,\n",
              "           8.7217e-01,  6.2124e-01,  1.9551e+00],\n",
              "         [-3.0949e-03,  1.6841e-01,  3.6236e-01, -3.2744e-01,  6.0061e-02,\n",
              "           5.7760e-01,  8.1516e-01,  7.4592e-01, -8.1456e-01, -5.8380e-01,\n",
              "          -1.1697e+00, -1.1426e-01, -8.5059e-01, -1.0723e+00, -2.2552e+00,\n",
              "          -1.0097e+00, -8.7870e-01, -9.5954e-01, -3.6911e-01, -5.1949e-01,\n",
              "          -9.6543e-02, -5.9299e-01,  1.4482e+00,  4.7011e-01, -1.0635e-01,\n",
              "          -1.7826e+00,  1.7206e+00, -2.1226e-01],\n",
              "         [ 1.5955e+00, -7.7405e-01,  3.5713e-01, -8.8212e-01, -5.5878e-01,\n",
              "           9.3535e-01, -1.4059e+00, -1.5478e-01, -1.4933e+00, -5.1835e-02,\n",
              "           1.5928e-01, -4.1041e-01, -1.8057e+00, -8.2726e-01, -3.5565e-01,\n",
              "          -2.6367e-01,  4.1808e-01,  1.1540e+00,  9.3383e-01, -9.5030e-01,\n",
              "          -2.6072e-01,  1.2888e+00,  3.4109e-01,  6.5699e-01, -2.4276e-01,\n",
              "           5.4890e-01,  7.2781e-01,  2.1805e-01],\n",
              "         [ 2.6087e-01,  1.3624e+00,  4.1232e-01, -3.9844e-01,  9.7788e-01,\n",
              "           2.5862e-01,  1.1837e+00, -1.5265e+00,  5.7984e-01, -9.1990e-01,\n",
              "          -2.4177e+00, -1.9809e-01,  2.1389e-01,  1.0753e+00,  1.0148e+00,\n",
              "           4.7468e-02,  4.3764e-01, -7.2666e-01,  6.0254e-02,  1.6592e+00,\n",
              "           5.0119e-01, -8.7175e-01,  1.9761e+00,  9.9781e-01, -3.3254e-01,\n",
              "           3.4013e-01, -1.7354e+00,  2.8986e-01],\n",
              "         [ 2.1368e+00,  3.7093e-01, -2.1305e+00, -3.2175e+00, -2.9073e+00,\n",
              "          -5.7708e-01,  6.6970e-01,  4.6370e-02,  1.0204e+00, -3.6804e-01,\n",
              "          -1.0945e-01,  1.2178e+00, -1.3837e+00, -6.0672e-01, -1.6576e+00,\n",
              "          -5.4941e-01, -2.7166e-01, -3.0204e-01, -1.4078e+00,  3.6871e-01,\n",
              "           1.0429e+00, -6.0640e-01,  8.6593e-01, -1.4527e-01,  7.0006e-01,\n",
              "          -4.6528e-01, -1.0410e-01,  1.0369e+00],\n",
              "         [ 1.4991e+00,  3.5843e-01, -5.0162e-01,  1.6948e-01, -5.3599e-01,\n",
              "           2.0593e-01,  1.7697e+00, -1.8195e+00,  2.2698e-01, -3.5635e-01,\n",
              "           7.5230e-01,  5.9186e-01,  1.0067e+00,  9.1975e-01, -8.3555e-01,\n",
              "          -3.7586e-01, -8.5789e-01,  4.6529e-01,  4.0910e-02, -4.2961e-01,\n",
              "          -2.4088e+00,  5.6274e-01,  1.0971e+00,  6.4607e-01, -9.5418e-02,\n",
              "           2.0576e+00, -4.7371e-01, -1.2063e+00],\n",
              "         [-5.8898e-01,  1.4358e+00,  2.7993e-01, -2.4998e-02, -3.6259e-01,\n",
              "          -8.6181e-01,  1.3199e+00,  3.2088e-01,  1.0307e+00,  8.8489e-02,\n",
              "          -1.0087e+00, -1.2123e+00, -3.3729e-01,  4.8064e-01,  1.7692e+00,\n",
              "           1.8183e+00,  1.0891e+00,  2.5835e-01,  1.4323e+00,  2.1023e+00,\n",
              "          -5.0010e-02,  7.0012e-01, -3.9895e-01, -1.1675e+00,  7.5091e-01,\n",
              "          -5.6068e-01,  1.0029e+00,  5.7132e-01],\n",
              "         [-2.0918e-01, -3.7406e-01,  1.6127e+00, -7.7832e-01, -1.8339e-01,\n",
              "           5.0992e-01,  7.8014e-01,  1.9195e-01, -2.0891e+00,  7.8649e-01,\n",
              "           3.5754e-01,  1.4477e+00, -8.7499e-02,  6.5798e-01, -1.4738e+00,\n",
              "           9.5790e-02, -6.9478e-02,  1.0397e+00,  1.3384e+00, -3.9297e-01,\n",
              "           8.2919e-02,  3.3170e-01,  1.8350e+00, -4.3497e-01, -2.8765e-01,\n",
              "           1.0812e+00,  2.3802e-01, -2.0659e+00],\n",
              "         [-2.8415e-01, -1.2167e-01, -7.4302e-01,  1.2913e+00,  8.3215e-01,\n",
              "           1.2134e+00,  1.7559e+00, -1.4648e-01, -1.7681e-01, -3.8022e-01,\n",
              "          -2.1788e+00, -2.7699e-01,  1.4489e-01,  1.3427e-01,  8.2924e-01,\n",
              "          -1.6909e+00,  7.4412e-01, -1.5277e+00,  5.0455e-01,  1.9720e+00,\n",
              "          -4.7336e-01,  3.0888e-01,  1.2380e-01,  6.4591e-05,  1.3235e+00,\n",
              "          -5.9452e-01, -1.5584e+00, -9.0315e-01],\n",
              "         [-2.4050e-01, -7.8933e-02,  8.5951e-01,  1.4034e-02,  1.6691e-01,\n",
              "          -7.1019e-01,  1.1857e+00,  1.1719e+00, -3.7862e-01, -1.1618e+00,\n",
              "           3.0561e+00, -1.0354e+00, -1.8474e-01, -6.1882e-01,  1.0234e+00,\n",
              "           3.0862e-01,  6.1879e-01, -1.7129e+00, -1.3083e+00,  4.0873e-01,\n",
              "          -4.5729e-02,  5.7014e-01,  5.4242e-01,  1.3181e+00,  1.2132e+00,\n",
              "          -5.9860e-01,  2.7719e-01,  3.6656e-01],\n",
              "         [-8.0734e-01, -2.1825e-01,  1.1888e+00, -9.8938e-01,  1.6941e+00,\n",
              "          -7.7553e-01,  1.3845e+00,  8.8550e-01,  5.5049e-01,  4.2904e-02,\n",
              "           9.6680e-01, -1.5560e+00,  5.1384e-01,  1.3346e+00, -8.3653e-01,\n",
              "           1.1800e+00,  6.3340e-01, -7.4807e-01, -5.5161e-01,  1.3150e+00,\n",
              "           7.9416e-02,  7.4132e-01,  5.9969e-02, -7.8835e-01,  3.7173e-01,\n",
              "           8.7862e-01, -2.5432e-01,  1.5052e+00],\n",
              "         [-1.9233e+00,  2.0336e-01,  1.6309e+00,  7.2953e-01,  4.2534e-01,\n",
              "          -7.0080e-01,  1.8291e-01, -1.1668e+00, -8.3394e-01,  1.0856e+00,\n",
              "          -7.5460e-01,  8.1154e-01, -1.8270e+00, -1.2481e+00, -1.2790e+00,\n",
              "          -1.8010e+00,  6.7437e-01,  9.3531e-01, -1.4456e+00, -3.4029e-02,\n",
              "           6.6776e-01, -1.3667e-01,  1.7356e+00, -9.0473e-01, -6.0065e-01,\n",
              "           2.3311e-01, -6.4815e-01, -2.6029e+00],\n",
              "         [-1.8582e+00, -3.4868e-01,  1.8413e+00, -1.8565e-01,  1.6068e+00,\n",
              "           1.9201e-02,  4.4247e-01,  6.1867e-02,  1.0188e+00, -1.8936e+00,\n",
              "          -5.2451e-02,  1.1636e-01,  5.6208e-01,  3.3850e-01, -4.4378e-01,\n",
              "           5.3001e-01,  1.4265e+00, -9.9741e-01, -2.1792e+00, -2.8852e-01,\n",
              "          -3.7559e-01, -7.0349e-01,  4.3491e-01, -6.8814e-01,  3.8075e-01,\n",
              "          -2.1106e-01,  4.6300e-01,  1.1352e+00],\n",
              "         [-1.6803e-01,  1.1908e+00, -3.8796e-01,  2.6583e+00, -1.4286e-01,\n",
              "           3.0400e+00,  1.6754e+00, -1.5045e+00, -1.4028e+00, -5.8083e-01,\n",
              "          -9.5909e-02,  1.0575e+00,  2.7185e-01, -8.4760e-01, -1.0216e+00,\n",
              "           1.8942e+00,  6.1078e-01,  8.6161e-01,  7.2002e-01, -1.6328e+00,\n",
              "           1.0508e+00,  1.6232e-01,  4.2213e-01, -1.2877e+00, -1.2598e+00,\n",
              "          -1.0089e-01, -1.7298e-01, -1.6104e+00],\n",
              "         [-1.3842e+00, -2.0060e+00, -5.6708e-01,  1.9650e+00,  4.0848e-01,\n",
              "          -4.3377e-01,  5.0092e-01,  5.7571e-01,  7.5037e-01,  7.0399e-01,\n",
              "           4.7027e-01,  4.4215e-01,  9.7325e-01,  4.1125e-01, -8.4266e-02,\n",
              "          -8.1125e-02,  3.0121e-01,  1.1335e+00, -1.4166e-01, -8.5318e-01,\n",
              "           1.2860e-01, -1.1057e+00,  1.5391e-01,  6.4419e-01, -8.7518e-01,\n",
              "           4.5453e-01, -1.4841e+00,  2.1402e+00],\n",
              "         [ 1.5561e+00,  1.2576e+00, -1.4245e+00,  8.5730e-01, -1.5453e-02,\n",
              "          -2.5969e+00, -1.6207e+00, -1.4077e+00,  5.5616e-01,  6.7355e-01,\n",
              "          -3.2791e-01, -7.9067e-01, -4.6017e-02,  1.9835e-01,  4.0986e-01,\n",
              "           2.1702e-02,  4.1337e-02, -3.2331e-01, -2.0185e-01,  5.2417e-02,\n",
              "          -2.0009e+00, -1.5144e+00,  1.6433e+00,  8.8414e-01, -1.6411e-01,\n",
              "           5.9005e-01,  1.8336e+00, -4.2124e-01],\n",
              "         [-2.2377e+00,  9.7356e-01, -7.2255e-01, -2.1750e+00,  2.2927e-01,\n",
              "          -4.4484e-01,  5.7748e-01, -9.2439e-01,  1.0690e+00,  2.9116e-01,\n",
              "          -1.8761e+00,  8.2372e-02,  9.7975e-01,  2.7947e+00,  3.9939e-01,\n",
              "          -1.6313e+00,  4.7170e-01, -9.5340e-01,  6.3825e-02,  2.8202e-01,\n",
              "           5.9389e-01,  6.9416e-01,  7.0936e-01,  1.0418e+00, -9.1772e-01,\n",
              "           9.6402e-01, -1.0301e+00, -1.6032e-01],\n",
              "         [ 1.0660e+00, -7.0315e-01, -1.8769e+00, -1.1543e+00, -4.4259e-01,\n",
              "           1.7558e-01, -9.3618e-01,  3.6202e-01,  9.4996e-01,  2.0165e+00,\n",
              "           1.6252e+00, -1.1176e+00,  1.0677e+00,  3.0398e-01, -7.8777e-01,\n",
              "          -3.1395e-01,  1.2566e+00,  1.6912e+00,  1.3954e+00, -1.0240e+00,\n",
              "           1.1910e-01,  8.9073e-01, -1.4984e+00, -3.8639e-01, -6.0116e-01,\n",
              "           1.1181e+00, -2.0330e-01, -1.9481e+00],\n",
              "         [ 6.0743e-01,  1.7478e-01, -3.1965e-02, -7.3542e-01,  9.9281e-01,\n",
              "           6.1346e-01, -3.0544e-01, -1.0001e-01, -3.9253e-01,  1.4350e+00,\n",
              "          -4.0969e-01, -3.8171e-01, -1.3633e+00, -4.0901e-01,  8.8561e-02,\n",
              "           1.3987e+00, -1.9762e+00, -7.7780e-01,  7.1134e-01, -2.6120e-01,\n",
              "           3.8215e-01,  2.2219e+00,  7.6956e-01,  4.7865e-02, -5.3438e-01,\n",
              "          -7.6005e-02, -8.2974e-01, -2.0269e+00]]])"
            ]
          },
          "metadata": {},
          "execution_count": 53
        }
      ]
    },
    {
      "cell_type": "code",
      "source": [
        "model_2(rand_image_tensor.unsqueeze(0).to(device)) # this will show a shape error"
      ],
      "metadata": {
        "colab": {
          "base_uri": "https://localhost:8080/"
        },
        "id": "CsgFS_SQN_3f",
        "outputId": "8a9755af-f455-4cb4-f530-edc5f62f78fd"
      },
      "execution_count": null,
      "outputs": [
        {
          "output_type": "execute_result",
          "data": {
            "text/plain": [
              "tensor([[ 0.0709,  0.0007,  0.0617,  0.0583, -0.0130, -0.0919,  0.0486, -0.0761,\n",
              "          0.0620,  0.0549]], grad_fn=<AddmmBackward0>)"
            ]
          },
          "metadata": {},
          "execution_count": 54
        }
      ]
    },
    {
      "cell_type": "code",
      "source": [
        "image.shape"
      ],
      "metadata": {
        "colab": {
          "base_uri": "https://localhost:8080/"
        },
        "id": "_rYSpDVOOG-d",
        "outputId": "d6b20272-a11c-4ead-80ff-00aed0ffa25e"
      },
      "execution_count": null,
      "outputs": [
        {
          "output_type": "execute_result",
          "data": {
            "text/plain": [
              "torch.Size([1, 28, 28])"
            ]
          },
          "metadata": {},
          "execution_count": 55
        }
      ]
    },
    {
      "cell_type": "code",
      "source": [
        "image.squeeze().shape"
      ],
      "metadata": {
        "colab": {
          "base_uri": "https://localhost:8080/"
        },
        "id": "oMsPhHN8OIyB",
        "outputId": "9650ca66-7c9c-435f-fbf6-848cef858129"
      },
      "execution_count": null,
      "outputs": [
        {
          "output_type": "execute_result",
          "data": {
            "text/plain": [
              "torch.Size([28, 28])"
            ]
          },
          "metadata": {},
          "execution_count": 56
        }
      ]
    },
    {
      "cell_type": "code",
      "source": [
        "plt.imshow(image.squeeze(), cmap = 'gray')"
      ],
      "metadata": {
        "colab": {
          "base_uri": "https://localhost:8080/",
          "height": 448
        },
        "id": "4B0bejwDOK5p",
        "outputId": "47adf011-8e62-4dbb-807c-437df2be1d95"
      },
      "execution_count": null,
      "outputs": [
        {
          "output_type": "execute_result",
          "data": {
            "text/plain": [
              "<matplotlib.image.AxesImage at 0x79e7cce8acf0>"
            ]
          },
          "metadata": {},
          "execution_count": 57
        },
        {
          "output_type": "display_data",
          "data": {
            "text/plain": [
              "<Figure size 640x480 with 1 Axes>"
            ],
            "image/png": "[encoded data removed]"
          },
          "metadata": {}
        }
      ]
    },
    {
      "cell_type": "markdown",
      "source": [
        "### 7.1 Steping through nn.Conv2d\n",
        "\n",
        "See the documentation for nn.Conv2d on pytorch"
      ],
      "metadata": {
        "id": "QpKWeOCjOUhq"
      }
    },
    {
      "cell_type": "code",
      "source": [
        "import torch\n",
        "from torch import nn\n",
        "torch.manual_seed(91)\n",
        "\n",
        "# Create a batch of images\n",
        "images = torch.randn(size = (32, 3, 64, 64))\n",
        "test_image = images[0]\n",
        "\n",
        "print(f'Image bath shape: {images.shape}')\n",
        "print(f'Single image shape: {test_image.shape}') # has no batch\n",
        "print(f'Test image:\\n {test_image}')"
      ],
      "metadata": {
        "colab": {
          "base_uri": "https://localhost:8080/"
        },
        "id": "dhWlQ9OXOhUn",
        "outputId": "22788228-93d9-43b2-ffbb-910ff627a72c"
      },
      "execution_count": null,
      "outputs": [
        {
          "output_type": "stream",
          "name": "stdout",
          "text": [
            "Image bath shape: torch.Size([32, 3, 64, 64])\n",
            "Single image shape: torch.Size([3, 64, 64])\n",
            "Test image:\n",
            " tensor([[[-0.1259, -0.8008, -0.3980,  ...,  0.0935,  1.7927,  1.4019],\n",
            "         [ 0.2070,  1.8585, -0.3567,  ..., -1.8232, -0.5006,  0.1460],\n",
            "         [-0.6374,  1.3236, -0.0562,  ...,  0.1420, -0.1232,  0.5380],\n",
            "         ...,\n",
            "         [ 0.1622, -0.8167, -0.3765,  ..., -1.0874,  1.8441, -1.9330],\n",
            "         [ 0.9317,  1.6585,  1.3888,  ...,  0.2244,  0.0348, -1.6057],\n",
            "         [ 0.1680,  1.0058, -1.5036,  ...,  2.2627, -1.3505,  0.1269]],\n",
            "\n",
            "        [[ 0.0828,  1.8636, -1.6991,  ..., -0.6572,  0.6771,  0.5578],\n",
            "         [-0.6666,  1.4349, -2.3736,  ..., -0.2099,  0.4445,  0.0260],\n",
            "         [-0.8265, -0.1369, -0.1807,  ..., -0.4049,  1.7475, -0.3380],\n",
            "         ...,\n",
            "         [ 0.2857,  2.8520, -0.8632,  ..., -0.9764,  1.3856,  1.3328],\n",
            "         [ 0.4181,  1.1540,  0.9338,  ...,  1.3828,  1.1288,  0.2615],\n",
            "         [ 0.7001, -0.4653, -0.1041,  ...,  0.5303, -2.5845, -2.1867]],\n",
            "\n",
            "        [[-0.1834,  0.5099,  0.7801,  ..., -1.7081, -0.0180,  0.1799],\n",
            "         [-0.1847, -0.6188,  1.0234,  ...,  0.5097, -2.2566, -0.1127],\n",
            "         [ 0.6678, -0.1367,  1.7356,  ...,  0.5137,  0.5831, -1.9066],\n",
            "         ...,\n",
            "         [-0.1251, -0.2662, -0.4872,  ..., -0.6446, -1.9073, -0.1642],\n",
            "         [ 0.6877,  0.2315, -0.6789,  ...,  1.0895, -0.7946, -0.7955],\n",
            "         [-1.2604,  1.1392, -1.0099,  ..., -0.3652,  0.8277, -1.7320]]])\n"
          ]
        }
      ]
    },
    {
      "cell_type": "code",
      "source": [
        "# Create a single conv2d layer\n",
        "conv_layer = nn.Conv2d(in_channels = 3, # colour channels\n",
        "                       out_channels = 10, # hidden units\n",
        "                       kernel_size = (3, 3), # Kernel does the mathematical operation by pixel from https://docs.pytorch.org/docs/stable/generated/torch.nn.Conv2d.html\n",
        "                       stride = 1, # jumping over 1 pixel on the original input\n",
        "                       padding = 0)\n",
        "\n",
        "# Pss the data through the convolutional layer\n",
        "conv_output = conv_layer(test_image.unsqueeze(0)) # this will create the batch\n",
        "conv_output"
      ],
      "metadata": {
        "colab": {
          "base_uri": "https://localhost:8080/"
        },
        "id": "XRd5_WOtQxka",
        "outputId": "7ecb585f-2ef9-4fba-949b-c2987295b723"
      },
      "execution_count": null,
      "outputs": [
        {
          "output_type": "execute_result",
          "data": {
            "text/plain": [
              "tensor([[[[ 1.9576e-01, -5.1600e-01, -8.8006e-01,  ...,  1.7466e+00,\n",
              "            5.2580e-01, -7.6325e-01],\n",
              "          [ 4.0010e-01,  9.4145e-01, -8.4466e-01,  ...,  3.8090e-01,\n",
              "            8.4939e-01, -4.9514e-01],\n",
              "          [-1.4964e+00,  5.7619e-01,  3.7963e-01,  ...,  2.8984e-01,\n",
              "            5.1970e-01,  1.4043e-01],\n",
              "          ...,\n",
              "          [-3.0838e-01,  5.7850e-01, -5.1724e-01,  ...,  4.7316e-01,\n",
              "           -4.1181e-01, -6.7844e-01],\n",
              "          [ 5.9807e-01,  9.7422e-01,  1.2861e+00,  ..., -1.3092e-01,\n",
              "           -1.6461e-01, -1.8946e-01],\n",
              "          [ 5.5042e-01, -5.2331e-01, -4.5544e-01,  ...,  5.0699e-01,\n",
              "           -1.4549e-01,  7.3617e-01]],\n",
              "\n",
              "         [[ 1.7094e-01,  5.8298e-01,  2.2912e-01,  ...,  3.0441e-01,\n",
              "            4.9787e-01, -2.9757e-01],\n",
              "          [-9.1970e-02,  3.8228e-01, -3.2228e-01,  ..., -7.6725e-01,\n",
              "            6.6729e-01, -4.6532e-01],\n",
              "          [-1.7265e-01,  6.1416e-01, -5.1684e-01,  ..., -8.4729e-01,\n",
              "            5.9882e-01, -8.2955e-02],\n",
              "          ...,\n",
              "          [-1.0800e+00,  5.2438e-01, -1.8609e-01,  ...,  7.8425e-01,\n",
              "            3.2158e-01,  1.5048e-01],\n",
              "          [ 8.6607e-01, -7.8241e-03,  3.3829e-01,  ...,  4.0642e-01,\n",
              "           -2.8815e-01,  6.6093e-01],\n",
              "          [-4.5759e-01,  6.5925e-01, -3.6356e-01,  ...,  4.0226e-01,\n",
              "            9.6641e-05, -3.3842e-01]],\n",
              "\n",
              "         [[-5.9744e-01,  5.6388e-01,  2.4011e-01,  ..., -4.0555e-01,\n",
              "            7.1629e-01, -2.8632e-01],\n",
              "          [-1.2647e-01,  6.3733e-01,  7.7291e-01,  ..., -4.3933e-01,\n",
              "            1.8854e-01, -1.7848e-01],\n",
              "          [ 5.4068e-02, -7.9117e-01,  6.7337e-02,  ..., -1.0560e-01,\n",
              "           -2.6795e-01,  3.5397e-02],\n",
              "          ...,\n",
              "          [-5.6806e-01, -2.0634e-02,  2.9834e-01,  ...,  6.8990e-02,\n",
              "            5.8287e-01, -9.0601e-01],\n",
              "          [-4.8536e-01, -5.0642e-01, -5.9967e-01,  ...,  2.8225e-01,\n",
              "           -5.4699e-01, -7.6827e-01],\n",
              "          [-5.4145e-01, -2.7806e-01,  2.1119e-01,  ...,  5.7793e-01,\n",
              "            1.6792e-02,  9.5316e-01]],\n",
              "\n",
              "         ...,\n",
              "\n",
              "         [[ 7.2518e-01,  6.4093e-01,  1.5110e-01,  ...,  2.8535e-01,\n",
              "           -1.3059e+00, -2.0917e-01],\n",
              "          [-7.0517e-01, -4.3575e-01,  3.5141e-01,  ...,  9.1723e-01,\n",
              "            5.2403e-01,  2.3324e-01],\n",
              "          [ 6.1773e-01,  6.7854e-01, -2.4487e-01,  ...,  1.8936e-01,\n",
              "            1.1955e-01,  1.5143e-01],\n",
              "          ...,\n",
              "          [ 2.0579e-01, -5.7375e-01,  1.0082e-01,  ...,  2.9681e-01,\n",
              "           -4.6440e-01, -5.7266e-01],\n",
              "          [ 6.0130e-01,  7.2216e-03, -4.2813e-01,  ..., -3.7031e-01,\n",
              "           -4.9444e-01, -6.2855e-02],\n",
              "          [-3.3348e-01,  6.0041e-02,  3.8323e-01,  ..., -2.7643e-01,\n",
              "            8.8556e-01,  9.9955e-02]],\n",
              "\n",
              "         [[ 3.5194e-01, -8.5551e-01, -1.7654e-01,  ...,  1.4987e-01,\n",
              "           -2.6855e-01, -8.0029e-01],\n",
              "          [ 3.6012e-01, -4.1300e-02,  5.7796e-03,  ...,  5.4527e-01,\n",
              "            2.6422e-01,  2.1541e-01],\n",
              "          [-7.3301e-01,  4.6461e-01,  2.4275e-01,  ..., -4.6568e-01,\n",
              "            3.5314e-01, -2.4595e-01],\n",
              "          ...,\n",
              "          [ 3.5149e-01,  4.8242e-01, -5.6015e-01,  ..., -2.5495e-01,\n",
              "           -7.0042e-01, -6.9211e-01],\n",
              "          [ 1.6695e-01, -4.9221e-01,  6.6891e-01,  ..., -4.1836e-01,\n",
              "           -5.1515e-01,  1.2385e+00],\n",
              "          [ 3.7020e-01,  5.1776e-01, -1.2903e-01,  ...,  7.4340e-03,\n",
              "            5.7491e-01,  6.8023e-01]],\n",
              "\n",
              "         [[-2.9756e-01,  5.9866e-01, -1.1359e+00,  ..., -9.5279e-01,\n",
              "           -2.3526e-01, -4.2343e-01],\n",
              "          [ 2.3384e-01,  1.1611e+00, -3.4630e-02,  ...,  4.6501e-01,\n",
              "           -4.6030e-01,  5.1203e-02],\n",
              "          [-6.9103e-02, -9.0750e-01, -4.8509e-02,  ...,  1.5315e-01,\n",
              "           -6.8697e-02,  1.7122e-01],\n",
              "          ...,\n",
              "          [-7.7915e-01,  3.8602e-01, -3.0725e-01,  ..., -1.5027e-01,\n",
              "            3.0024e-01,  3.1884e-01],\n",
              "          [-9.9726e-01, -8.3904e-01, -3.8518e-01,  ..., -6.3618e-02,\n",
              "            3.5588e-01, -8.4696e-01],\n",
              "          [ 5.9131e-01,  1.4035e-01,  5.1593e-01,  ...,  4.6353e-01,\n",
              "           -9.2117e-01, -4.9865e-01]]]], grad_fn=<ConvolutionBackward0>)"
            ]
          },
          "metadata": {},
          "execution_count": 59
        }
      ]
    },
    {
      "cell_type": "code",
      "source": [
        "test_image.shape, test_image.unsqueeze(dim = 0).shape"
      ],
      "metadata": {
        "colab": {
          "base_uri": "https://localhost:8080/"
        },
        "id": "4ASKec7CUjBj",
        "outputId": "2dbcf880-f271-4710-cb86-bf14c0fb3ecc"
      },
      "execution_count": null,
      "outputs": [
        {
          "output_type": "execute_result",
          "data": {
            "text/plain": [
              "(torch.Size([3, 64, 64]), torch.Size([1, 3, 64, 64]))"
            ]
          },
          "metadata": {},
          "execution_count": 60
        }
      ]
    },
    {
      "cell_type": "markdown",
      "source": [
        "### 7.2 Stepping through nn.MaxPool2d\n",
        "\n",
        "https://docs.pytorch.org/docs/stable/generated/torch.nn.MaxPool2d.html"
      ],
      "metadata": {
        "id": "-f_InBU2WCOU"
      }
    },
    {
      "cell_type": "code",
      "source": [
        "test_image.shape"
      ],
      "metadata": {
        "colab": {
          "base_uri": "https://localhost:8080/"
        },
        "id": "ZQCiQfJnWU9a",
        "outputId": "fa5682cd-f08d-4850-e82f-a385a4c020bf"
      },
      "execution_count": null,
      "outputs": [
        {
          "output_type": "execute_result",
          "data": {
            "text/plain": [
              "torch.Size([3, 64, 64])"
            ]
          },
          "metadata": {},
          "execution_count": 61
        }
      ]
    },
    {
      "cell_type": "code",
      "source": [
        "# Print out the original shape without unsqueezed dimension\n",
        "print(f' Test image original shape: {test_image.shape}')\n",
        "print(f'Test image with unsqueezed dimension: {test_image.unsqueeze(0).shape}')\n",
        "\n",
        "# Create a sample nn.MaxPool2d layer\n",
        "max_pool_layer = nn.MaxPool2d(kernel_size = 2)\n",
        "\n",
        "# Pass data through just conv_layer\n",
        "test_image_through_conv = conv_layer(test_image.unsqueeze(dim = 0))\n",
        "print(f'Shape after going through conv_layer(): {test_image_through_conv.shape}')\n",
        "\n",
        "# Pass data through max pool layer\n",
        "test_image_through_conv_and_max_pool = max_pool_layer(test_image_through_conv)\n",
        "print(f'Shape after going conv_layer() and max_pool_layer: {test_image_through_conv_and_max_pool.shape}')"
      ],
      "metadata": {
        "colab": {
          "base_uri": "https://localhost:8080/"
        },
        "id": "4gqk-jOhWd5N",
        "outputId": "5fb973ca-167e-495c-9b66-14086af56938"
      },
      "execution_count": null,
      "outputs": [
        {
          "output_type": "stream",
          "name": "stdout",
          "text": [
            " Test image original shape: torch.Size([3, 64, 64])\n",
            "Test image with unsqueezed dimension: torch.Size([1, 3, 64, 64])\n",
            "Shape after going through conv_layer(): torch.Size([1, 10, 62, 62])\n",
            "Shape after going conv_layer() and max_pool_layer: torch.Size([1, 10, 31, 31])\n"
          ]
        }
      ]
    },
    {
      "cell_type": "code",
      "source": [
        "torch.manual_seed(91)\n",
        "\n",
        "# Create a random tensor with a similar number of dimensions to our images\n",
        "random_tensor = torch.randn(size = (1, 1, 2, 2))\n",
        "print(f'\\nRandom tensor:\\n{random_tensor}')\n",
        "print(f'Random tensor shape: {random_tensor.shape}')\n",
        "\n",
        "# Create a max pool layer\n",
        "max_pool_layer = nn.MaxPool2d(kernel_size = 2)\n",
        "\n",
        "# Pass the random tensor through the max pool layer\n",
        "max_pool_tensor = max_pool_layer(random_tensor)\n",
        "print(f'\\nMax pool tensor:\\n {max_pool_tensor}')\n",
        "print(f'Max pool tensor shape: {max_pool_tensor.shape}')"
      ],
      "metadata": {
        "colab": {
          "base_uri": "https://localhost:8080/"
        },
        "id": "GmcwDliLd3wV",
        "outputId": "6da1af82-6f62-4df3-e168-689a4a4ca163"
      },
      "execution_count": null,
      "outputs": [
        {
          "output_type": "stream",
          "name": "stdout",
          "text": [
            "\n",
            "Random tensor:\n",
            "tensor([[[[-1.0615, -1.5696],\n",
            "          [ 0.0660,  0.5608]]]])\n",
            "Random tensor shape: torch.Size([1, 1, 2, 2])\n",
            "\n",
            "Max pool tensor:\n",
            " tensor([[[[0.5608]]]])\n",
            "Max pool tensor shape: torch.Size([1, 1, 1, 1])\n"
          ]
        }
      ]
    },
    {
      "cell_type": "markdown",
      "source": [
        "### 7.3 Set up loss function and optimizer for model_2"
      ],
      "metadata": {
        "id": "gscIqWcHe4Z8"
      }
    },
    {
      "cell_type": "code",
      "source": [
        "# Setup loss function/eval metrics/optimizer\n",
        "from helper_functions import accuracy_fn\n",
        "\n",
        "loss_fn = nn.CrossEntropyLoss()\n",
        "optimizer = torch.optim.SGD(params = model_2.parameters(),\n",
        "                            lr= 0.1)"
      ],
      "metadata": {
        "id": "RnjQq2VpfxuK"
      },
      "execution_count": null,
      "outputs": []
    },
    {
      "cell_type": "code",
      "source": [
        "model_2.state_dict()"
      ],
      "metadata": {
        "colab": {
          "base_uri": "https://localhost:8080/"
        },
        "collapsed": true,
        "id": "UfTqIbDQjdkc",
        "outputId": "0f3c6eaf-a813-4f63-99dd-5fb4d87a3bcf"
      },
      "execution_count": null,
      "outputs": [
        {
          "output_type": "execute_result",
          "data": {
            "text/plain": [
              "OrderedDict([('conv_block_1.0.weight',\n",
              "              tensor([[[[-0.0287,  0.0938, -0.1805],\n",
              "                        [-0.0742,  0.2693,  0.3082],\n",
              "                        [ 0.2623,  0.2832, -0.1545]]],\n",
              "              \n",
              "              \n",
              "                      [[[-0.1036,  0.1047,  0.3005],\n",
              "                        [-0.3301, -0.2479, -0.1723],\n",
              "                        [ 0.3085,  0.0111, -0.0957]]],\n",
              "              \n",
              "              \n",
              "                      [[[ 0.0765, -0.3225, -0.3165],\n",
              "                        [-0.1123, -0.0086,  0.1912],\n",
              "                        [ 0.1385,  0.2071,  0.0503]]],\n",
              "              \n",
              "              \n",
              "                      [[[-0.0632,  0.2083, -0.1801],\n",
              "                        [ 0.2222,  0.2172,  0.1414],\n",
              "                        [ 0.1816, -0.2765, -0.3144]]],\n",
              "              \n",
              "              \n",
              "                      [[[-0.3099,  0.2787, -0.1235],\n",
              "                        [ 0.3257, -0.0724, -0.1471],\n",
              "                        [-0.3245, -0.2701, -0.1865]]],\n",
              "              \n",
              "              \n",
              "                      [[[-0.1344,  0.1602, -0.0332],\n",
              "                        [-0.2024, -0.3269, -0.0160],\n",
              "                        [ 0.0412,  0.2067, -0.3105]]],\n",
              "              \n",
              "              \n",
              "                      [[[ 0.2317,  0.0839, -0.2740],\n",
              "                        [ 0.1531, -0.0656,  0.0158],\n",
              "                        [-0.1906, -0.2949, -0.1251]]],\n",
              "              \n",
              "              \n",
              "                      [[[-0.1682,  0.2731,  0.2215],\n",
              "                        [-0.2488, -0.3094, -0.3292],\n",
              "                        [ 0.2326,  0.3110,  0.0193]]],\n",
              "              \n",
              "              \n",
              "                      [[[-0.1767,  0.3140,  0.0866],\n",
              "                        [ 0.0903, -0.0972, -0.1448],\n",
              "                        [ 0.0431, -0.1425, -0.1132]]],\n",
              "              \n",
              "              \n",
              "                      [[[-0.0437,  0.1131,  0.1767],\n",
              "                        [ 0.0386, -0.1115, -0.0021],\n",
              "                        [-0.1903, -0.0224,  0.2707]]]])),\n",
              "             ('conv_block_1.0.bias',\n",
              "              tensor([ 0.1377,  0.1909, -0.0677, -0.2425,  0.2979,  0.0176, -0.3191, -0.1088,\n",
              "                       0.2733, -0.0351])),\n",
              "             ('conv_block_1.2.weight',\n",
              "              tensor([[[[ 0.0110, -0.0944,  0.0980],\n",
              "                        [ 0.0436, -0.0965, -0.0234],\n",
              "                        [-0.0719,  0.0409,  0.0315]],\n",
              "              \n",
              "                       [[-0.0307, -0.0167,  0.0056],\n",
              "                        [-0.0148, -0.0276,  0.0267],\n",
              "                        [ 0.0993, -0.0788,  0.0771]],\n",
              "              \n",
              "                       [[-0.0192,  0.0275,  0.0971],\n",
              "                        [ 0.0739, -0.0583,  0.0805],\n",
              "                        [ 0.0278,  0.0383,  0.0171]],\n",
              "              \n",
              "                       [[-0.1019, -0.0532,  0.0240],\n",
              "                        [-0.0793,  0.0226, -0.0013],\n",
              "                        [-0.1046,  0.0457, -0.0661]],\n",
              "              \n",
              "                       [[-0.0189,  0.0958, -0.0490],\n",
              "                        [ 0.0352, -0.0581,  0.0907],\n",
              "                        [ 0.0567, -0.0378, -0.0672]],\n",
              "              \n",
              "                       [[ 0.0835,  0.0325,  0.0334],\n",
              "                        [ 0.1000,  0.0487,  0.0636],\n",
              "                        [-0.0204, -0.0072,  0.0678]],\n",
              "              \n",
              "                       [[-0.0920, -0.0372,  0.1048],\n",
              "                        [-0.0383,  0.0967,  0.0382],\n",
              "                        [-0.0715, -0.0455,  0.1038]],\n",
              "              \n",
              "                       [[-0.0581,  0.0104,  0.0803],\n",
              "                        [ 0.0874, -0.0018, -0.0804],\n",
              "                        [ 0.0212,  0.0953,  0.0816]],\n",
              "              \n",
              "                       [[ 0.0986, -0.0308, -0.0399],\n",
              "                        [-0.0540, -0.0002,  0.0315],\n",
              "                        [ 0.0069,  0.0464, -0.0180]],\n",
              "              \n",
              "                       [[-0.0210, -0.0983, -0.0335],\n",
              "                        [-0.0275,  0.0720, -0.0123],\n",
              "                        [-0.0800, -0.0147, -0.1007]]],\n",
              "              \n",
              "              \n",
              "                      [[[ 0.0164, -0.0211, -0.0824],\n",
              "                        [-0.0616,  0.0063, -0.0054],\n",
              "                        [-0.0208,  0.0275, -0.0674]],\n",
              "              \n",
              "                       [[ 0.0344,  0.0045, -0.0281],\n",
              "                        [ 0.0351, -0.0039,  0.0399],\n",
              "                        [ 0.0288,  0.0828,  0.0342]],\n",
              "              \n",
              "                       [[ 0.0317,  0.0902, -0.0730],\n",
              "                        [-0.0322, -0.0995,  0.0119],\n",
              "                        [ 0.0636, -0.0933,  0.0438]],\n",
              "              \n",
              "                       [[-0.0155,  0.0872,  0.0726],\n",
              "                        [-0.0494, -0.0239,  0.0766],\n",
              "                        [-0.0221, -0.0228, -0.1005]],\n",
              "              \n",
              "                       [[ 0.0585, -0.0224, -0.0286],\n",
              "                        [-0.0984,  0.1031,  0.0716],\n",
              "                        [-0.0553, -0.0900, -0.1047]],\n",
              "              \n",
              "                       [[-0.0608, -0.0354, -0.0833],\n",
              "                        [ 0.0083, -0.0565, -0.0239],\n",
              "                        [-0.0858, -0.0812, -0.0430]],\n",
              "              \n",
              "                       [[ 0.0779,  0.0406,  0.0999],\n",
              "                        [-0.0497, -0.0673,  0.0321],\n",
              "                        [-0.1022, -0.0540,  0.0124]],\n",
              "              \n",
              "                       [[-0.1018, -0.0911, -0.0103],\n",
              "                        [-0.0764,  0.0109, -0.0369],\n",
              "                        [ 0.0395,  0.0727,  0.0762]],\n",
              "              \n",
              "                       [[-0.0526, -0.0876,  0.0457],\n",
              "                        [ 0.0736, -0.0441, -0.0194],\n",
              "                        [-0.0329,  0.1044, -0.0260]],\n",
              "              \n",
              "                       [[ 0.0946, -0.0073,  0.0762],\n",
              "                        [-0.0217, -0.0879,  0.0945],\n",
              "                        [ 0.0377,  0.0781,  0.0401]]],\n",
              "              \n",
              "              \n",
              "                      [[[-0.0061,  0.0804, -0.0657],\n",
              "                        [-0.0813,  0.0405, -0.0919],\n",
              "                        [ 0.0732, -0.0339,  0.0817]],\n",
              "              \n",
              "                       [[ 0.0201, -0.0919,  0.0786],\n",
              "                        [-0.0858,  0.0350,  0.0236],\n",
              "                        [-0.0604, -0.0150,  0.0157]],\n",
              "              \n",
              "                       [[-0.0744,  0.0592, -0.0122],\n",
              "                        [ 0.0482, -0.0380,  0.0885],\n",
              "                        [-0.0021,  0.0451, -0.0236]],\n",
              "              \n",
              "                       [[ 0.0921,  0.0876, -0.0566],\n",
              "                        [ 0.0828,  0.0856, -0.0498],\n",
              "                        [ 0.0080, -0.0754, -0.0718]],\n",
              "              \n",
              "                       [[ 0.0983,  0.0236, -0.0851],\n",
              "                        [ 0.0226,  0.0507,  0.1019],\n",
              "                        [ 0.0404, -0.0537,  0.0358]],\n",
              "              \n",
              "                       [[-0.0165, -0.0425, -0.0237],\n",
              "                        [ 0.0650,  0.0931,  0.0466],\n",
              "                        [ 0.0625,  0.0578,  0.0486]],\n",
              "              \n",
              "                       [[-0.0470, -0.0639, -0.0742],\n",
              "                        [ 0.0646, -0.0464,  0.0375],\n",
              "                        [-0.0823, -0.0900,  0.0668]],\n",
              "              \n",
              "                       [[-0.0027, -0.1003, -0.0146],\n",
              "                        [-0.0647,  0.0794, -0.0100],\n",
              "                        [ 0.0458, -0.0328, -0.0505]],\n",
              "              \n",
              "                       [[ 0.0593, -0.0755,  0.0764],\n",
              "                        [-0.0636,  0.0172, -0.0131],\n",
              "                        [ 0.0044,  0.0938, -0.0450]],\n",
              "              \n",
              "                       [[-0.0172,  0.1039,  0.0703],\n",
              "                        [ 0.0121, -0.0573, -0.0892],\n",
              "                        [-0.0544, -0.0053,  0.0812]]],\n",
              "              \n",
              "              \n",
              "                      [[[ 0.0713, -0.0894,  0.0476],\n",
              "                        [ 0.0044,  0.0457, -0.0729],\n",
              "                        [-0.0372, -0.0201,  0.0884]],\n",
              "              \n",
              "                       [[ 0.0431,  0.0768,  0.0340],\n",
              "                        [ 0.0645, -0.0253,  0.0184],\n",
              "                        [-0.0976,  0.0659, -0.0637]],\n",
              "              \n",
              "                       [[-0.0805, -0.0990,  0.0676],\n",
              "                        [-0.0484, -0.0641, -0.1022],\n",
              "                        [-0.0231,  0.0364,  0.0008]],\n",
              "              \n",
              "                       [[-0.0670,  0.0467,  0.0328],\n",
              "                        [ 0.0415,  0.0279,  0.0233],\n",
              "                        [ 0.0799, -0.0037, -0.0327]],\n",
              "              \n",
              "                       [[-0.0830,  0.0574,  0.0255],\n",
              "                        [ 0.0313,  0.0410,  0.0360],\n",
              "                        [-0.0488,  0.0820,  0.0697]],\n",
              "              \n",
              "                       [[ 0.0396, -0.0657,  0.0053],\n",
              "                        [ 0.0367,  0.0111, -0.0550],\n",
              "                        [ 0.0731, -0.0787,  0.0794]],\n",
              "              \n",
              "                       [[ 0.1029, -0.0235, -0.0541],\n",
              "                        [ 0.0181, -0.0818,  0.0967],\n",
              "                        [ 0.0629, -0.0156, -0.0580]],\n",
              "              \n",
              "                       [[ 0.0599,  0.0222,  0.0700],\n",
              "                        [ 0.0892,  0.0693,  0.0504],\n",
              "                        [-0.0885, -0.0927,  0.0737]],\n",
              "              \n",
              "                       [[ 0.0348,  0.0199, -0.0131],\n",
              "                        [-0.0156,  0.0781, -0.0612],\n",
              "                        [-0.0185, -0.0886, -0.0686]],\n",
              "              \n",
              "                       [[-0.0946, -0.0245, -0.0160],\n",
              "                        [-0.0294, -0.0141, -0.0187],\n",
              "                        [-0.0620, -0.0949,  0.0959]]],\n",
              "              \n",
              "              \n",
              "                      [[[-0.0930,  0.0275,  0.0822],\n",
              "                        [-0.0749,  0.0464,  0.0967],\n",
              "                        [-0.0070,  0.0639, -0.0532]],\n",
              "              \n",
              "                       [[-0.0584, -0.0970,  0.0948],\n",
              "                        [-0.0333,  0.0629,  0.0775],\n",
              "                        [ 0.0549, -0.0990, -0.0605]],\n",
              "              \n",
              "                       [[ 0.0670,  0.0794,  0.0957],\n",
              "                        [ 0.0251,  0.0895,  0.0864],\n",
              "                        [ 0.1003,  0.1043,  0.0336]],\n",
              "              \n",
              "                       [[ 0.0483, -0.0102, -0.0521],\n",
              "                        [ 0.0174, -0.1040,  0.0266],\n",
              "                        [-0.1023, -0.0282, -0.0918]],\n",
              "              \n",
              "                       [[ 0.0066,  0.0878, -0.0500],\n",
              "                        [ 0.1053,  0.0959, -0.0172],\n",
              "                        [ 0.0431,  0.0414, -0.0608]],\n",
              "              \n",
              "                       [[ 0.0771, -0.0599, -0.0940],\n",
              "                        [-0.0525, -0.0242,  0.0957],\n",
              "                        [-0.0161,  0.0120,  0.0867]],\n",
              "              \n",
              "                       [[-0.0746,  0.0569,  0.0390],\n",
              "                        [ 0.0403, -0.0820, -0.0349],\n",
              "                        [ 0.0915, -0.0913, -0.0367]],\n",
              "              \n",
              "                       [[ 0.0786, -0.1031,  0.0953],\n",
              "                        [ 0.0100,  0.0588, -0.0732],\n",
              "                        [ 0.0619, -0.0644, -0.0900]],\n",
              "              \n",
              "                       [[ 0.0539, -0.0392, -0.0100],\n",
              "                        [-0.0174, -0.0277,  0.0814],\n",
              "                        [-0.0851,  0.0020, -0.0922]],\n",
              "              \n",
              "                       [[-0.0831,  0.0802, -0.0206],\n",
              "                        [ 0.1007,  0.0376, -0.0963],\n",
              "                        [-0.0936, -0.0744, -0.0245]]],\n",
              "              \n",
              "              \n",
              "                      [[[ 0.0223,  0.0414,  0.0634],\n",
              "                        [ 0.0032,  0.0021, -0.0110],\n",
              "                        [-0.0215,  0.0548,  0.0645]],\n",
              "              \n",
              "                       [[ 0.0642, -0.0549,  0.0800],\n",
              "                        [ 0.0214,  0.0980, -0.0410],\n",
              "                        [ 0.0935, -0.0526, -0.0160]],\n",
              "              \n",
              "                       [[-0.0918, -0.0071, -0.0624],\n",
              "                        [ 0.0221,  0.0915, -0.0913],\n",
              "                        [ 0.0275,  0.0482,  0.0855]],\n",
              "              \n",
              "                       [[ 0.0325,  0.0999,  0.0893],\n",
              "                        [ 0.0431, -0.0590, -0.0698],\n",
              "                        [-0.0951, -0.0671,  0.0636]],\n",
              "              \n",
              "                       [[ 0.0793, -0.0881, -0.0578],\n",
              "                        [ 0.0329,  0.0962,  0.0500],\n",
              "                        [-0.0664,  0.0464,  0.0503]],\n",
              "              \n",
              "                       [[ 0.0577, -0.0956,  0.0845],\n",
              "                        [ 0.0406,  0.0033, -0.0486],\n",
              "                        [ 0.0500,  0.0166, -0.0228]],\n",
              "              \n",
              "                       [[-0.0335,  0.0189,  0.1018],\n",
              "                        [-0.0287, -0.0079,  0.0196],\n",
              "                        [ 0.0561,  0.0707, -0.0882]],\n",
              "              \n",
              "                       [[-0.0313, -0.0603, -0.0905],\n",
              "                        [ 0.0628,  0.0139,  0.0854],\n",
              "                        [ 0.0526, -0.0591, -0.0892]],\n",
              "              \n",
              "                       [[-0.1052, -0.0366, -0.0987],\n",
              "                        [ 0.0206, -0.0098,  0.0796],\n",
              "                        [-0.0403, -0.0072, -0.1051]],\n",
              "              \n",
              "                       [[ 0.0891, -0.0612,  0.1031],\n",
              "                        [ 0.0165, -0.0330, -0.0948],\n",
              "                        [-0.0945, -0.0070,  0.0126]]],\n",
              "              \n",
              "              \n",
              "                      [[[-0.0784, -0.0110,  0.0559],\n",
              "                        [-0.0949, -0.0173,  0.1047],\n",
              "                        [-0.0533,  0.0030,  0.0840]],\n",
              "              \n",
              "                       [[ 0.0765,  0.0068, -0.0284],\n",
              "                        [-0.0253, -0.0462,  0.0877],\n",
              "                        [-0.0960, -0.0353, -0.0887]],\n",
              "              \n",
              "                       [[-0.0969, -0.0321,  0.0624],\n",
              "                        [ 0.1007, -0.0368,  0.0324],\n",
              "                        [ 0.0374, -0.0266, -0.0551]],\n",
              "              \n",
              "                       [[-0.0449, -0.0821, -0.0013],\n",
              "                        [-0.0453, -0.0648,  0.0979],\n",
              "                        [-0.0975, -0.0122,  0.0371]],\n",
              "              \n",
              "                       [[ 0.0333, -0.0215, -0.1015],\n",
              "                        [-0.0943, -0.0067,  0.0162],\n",
              "                        [ 0.0904,  0.0228, -0.0901]],\n",
              "              \n",
              "                       [[-0.0076, -0.0179,  0.0729],\n",
              "                        [-0.0626, -0.0316, -0.0490],\n",
              "                        [-0.0391, -0.0987, -0.0908]],\n",
              "              \n",
              "                       [[ 0.0275, -0.0347, -0.0414],\n",
              "                        [-0.0611, -0.0899, -0.0232],\n",
              "                        [-0.0125,  0.0889,  0.0399]],\n",
              "              \n",
              "                       [[-0.0278, -0.0682, -0.0806],\n",
              "                        [-0.0499,  0.0301,  0.0963],\n",
              "                        [-0.0937,  0.0686,  0.0807]],\n",
              "              \n",
              "                       [[-0.0118, -0.0769,  0.0319],\n",
              "                        [-0.0755, -0.0948, -0.1043],\n",
              "                        [ 0.0586, -0.0099,  0.0928]],\n",
              "              \n",
              "                       [[ 0.0871, -0.0414, -0.0138],\n",
              "                        [-0.0442,  0.0252, -0.0473],\n",
              "                        [ 0.0928,  0.0912,  0.0373]]],\n",
              "              \n",
              "              \n",
              "                      [[[-0.1009,  0.0805,  0.0576],\n",
              "                        [ 0.0639,  0.0194,  0.0689],\n",
              "                        [ 0.0404,  0.0871,  0.0889]],\n",
              "              \n",
              "                       [[-0.0391, -0.0010,  0.1029],\n",
              "                        [-0.0012,  0.0528,  0.0663],\n",
              "                        [ 0.0831,  0.0451,  0.0388]],\n",
              "              \n",
              "                       [[ 0.0232,  0.0854,  0.0702],\n",
              "                        [ 0.0109,  0.0989,  0.0499],\n",
              "                        [ 0.1023, -0.0592,  0.0213]],\n",
              "              \n",
              "                       [[ 0.0559, -0.0836,  0.0312],\n",
              "                        [ 0.0612,  0.0097,  0.0226],\n",
              "                        [ 0.0177,  0.0681,  0.0964]],\n",
              "              \n",
              "                       [[-0.0187,  0.0012, -0.0603],\n",
              "                        [ 0.0923,  0.1023, -0.0567],\n",
              "                        [-0.0258, -0.1054, -0.0930]],\n",
              "              \n",
              "                       [[-0.0987, -0.0696,  0.0290],\n",
              "                        [-0.0660,  0.0754, -0.0359],\n",
              "                        [-0.0720,  0.0929, -0.0066]],\n",
              "              \n",
              "                       [[ 0.0216, -0.0155, -0.0161],\n",
              "                        [-0.0736,  0.0404,  0.0630],\n",
              "                        [-0.0362, -0.0354, -0.0466]],\n",
              "              \n",
              "                       [[ 0.0212,  0.0339, -0.0577],\n",
              "                        [-0.0744, -0.1053, -0.0260],\n",
              "                        [-0.0323,  0.0390,  0.0322]],\n",
              "              \n",
              "                       [[ 0.0445,  0.0772, -0.0192],\n",
              "                        [ 0.0895,  0.0297,  0.0579],\n",
              "                        [ 0.0227,  0.0216,  0.0899]],\n",
              "              \n",
              "                       [[ 0.0381,  0.0890, -0.0379],\n",
              "                        [ 0.0397,  0.0400, -0.0751],\n",
              "                        [-0.0895,  0.0891, -0.0493]]],\n",
              "              \n",
              "              \n",
              "                      [[[ 0.0710,  0.0358, -0.0630],\n",
              "                        [-0.0415,  0.0562, -0.0797],\n",
              "                        [ 0.0571, -0.0549,  0.0339]],\n",
              "              \n",
              "                       [[ 0.0250, -0.0829, -0.0558],\n",
              "                        [ 0.0463,  0.0795,  0.0931],\n",
              "                        [-0.0875,  0.0166,  0.0834]],\n",
              "              \n",
              "                       [[-0.0476,  0.0240, -0.0313],\n",
              "                        [-0.0994,  0.0652, -0.0838],\n",
              "                        [-0.1038,  0.0345,  0.0315]],\n",
              "              \n",
              "                       [[ 0.0755, -0.0979, -0.0973],\n",
              "                        [-0.0122,  0.1053, -0.0147],\n",
              "                        [-0.0387,  0.0338,  0.0288]],\n",
              "              \n",
              "                       [[ 0.0233, -0.0330, -0.0735],\n",
              "                        [-0.0582,  0.0145, -0.0792],\n",
              "                        [ 0.0063, -0.0896,  0.0542]],\n",
              "              \n",
              "                       [[-0.0584,  0.0414, -0.0318],\n",
              "                        [ 0.0364, -0.0926,  0.0795],\n",
              "                        [ 0.0792,  0.0458,  0.0562]],\n",
              "              \n",
              "                       [[ 0.0007,  0.0200,  0.0523],\n",
              "                        [ 0.0468,  0.0465, -0.0267],\n",
              "                        [ 0.0871, -0.0204, -0.0719]],\n",
              "              \n",
              "                       [[-0.0794, -0.0371,  0.0467],\n",
              "                        [-0.0088,  0.0439, -0.0792],\n",
              "                        [-0.0653,  0.0319,  0.0681]],\n",
              "              \n",
              "                       [[-0.0479, -0.0463, -0.0688],\n",
              "                        [-0.0305,  0.0320,  0.0400],\n",
              "                        [-0.0212,  0.0203, -0.0408]],\n",
              "              \n",
              "                       [[-0.0039, -0.0383,  0.0445],\n",
              "                        [-0.0427,  0.0348, -0.0480],\n",
              "                        [ 0.0094,  0.0858,  0.0916]]],\n",
              "              \n",
              "              \n",
              "                      [[[-0.0020,  0.0154,  0.0488],\n",
              "                        [ 0.0972,  0.0587, -0.0916],\n",
              "                        [ 0.0206, -0.0264,  0.0411]],\n",
              "              \n",
              "                       [[ 0.0407, -0.0211, -0.0041],\n",
              "                        [ 0.0203, -0.0355,  0.0691],\n",
              "                        [ 0.0403,  0.0557, -0.0475]],\n",
              "              \n",
              "                       [[-0.0639,  0.0611,  0.0798],\n",
              "                        [-0.0235, -0.0521,  0.0596],\n",
              "                        [ 0.0845,  0.0740, -0.0634]],\n",
              "              \n",
              "                       [[ 0.0504, -0.0296, -0.0193],\n",
              "                        [-0.0581, -0.0613,  0.0129],\n",
              "                        [ 0.0101, -0.0541,  0.0662]],\n",
              "              \n",
              "                       [[-0.0576, -0.0751,  0.0805],\n",
              "                        [ 0.0469,  0.0942, -0.0864],\n",
              "                        [ 0.0394,  0.0378, -0.0010]],\n",
              "              \n",
              "                       [[-0.0118,  0.0879, -0.0815],\n",
              "                        [-0.0708, -0.0800,  0.0854],\n",
              "                        [-0.0165,  0.0107, -0.0553]],\n",
              "              \n",
              "                       [[-0.0602, -0.0760,  0.0196],\n",
              "                        [ 0.0470,  0.0352,  0.0408],\n",
              "                        [ 0.0662,  0.0403, -0.0017]],\n",
              "              \n",
              "                       [[-0.0527, -0.0611,  0.0838],\n",
              "                        [ 0.0484, -0.0565, -0.0230],\n",
              "                        [ 0.0242,  0.0088,  0.0123]],\n",
              "              \n",
              "                       [[ 0.0347,  0.1011, -0.0730],\n",
              "                        [ 0.0658,  0.0577, -0.0681],\n",
              "                        [-0.0991,  0.0967,  0.0192]],\n",
              "              \n",
              "                       [[ 0.0238,  0.0115,  0.0402],\n",
              "                        [ 0.0507,  0.0593, -0.0573],\n",
              "                        [ 0.0047, -0.0808,  0.0659]]]])),\n",
              "             ('conv_block_1.2.bias',\n",
              "              tensor([ 0.0146,  0.1021,  0.0324, -0.1043,  0.0635, -0.0743, -0.0551, -0.0556,\n",
              "                       0.0582,  0.0295])),\n",
              "             ('conv_block_2.0.weight',\n",
              "              tensor([[[[ 4.7743e-02, -4.1775e-02,  6.2569e-02],\n",
              "                        [ 1.6299e-02, -5.2442e-02,  5.2929e-02],\n",
              "                        [-9.8879e-02, -5.3683e-02, -7.3217e-02]],\n",
              "              \n",
              "                       [[ 3.5147e-02,  7.4171e-02, -3.8655e-02],\n",
              "                        [ 3.9198e-02,  6.8206e-02, -1.7019e-02],\n",
              "                        [-9.0564e-02, -2.6601e-02, -3.3294e-02]],\n",
              "              \n",
              "                       [[-2.0841e-03, -7.7485e-03,  3.1358e-02],\n",
              "                        [ 7.4725e-02, -4.8896e-02, -7.0561e-02],\n",
              "                        [-1.8957e-03, -6.0669e-02, -1.0397e-01]],\n",
              "              \n",
              "                       [[-7.3590e-02, -2.2886e-02, -6.3773e-02],\n",
              "                        [-4.5743e-02,  1.2394e-02, -2.0917e-02],\n",
              "                        [ 6.1401e-02,  4.5051e-02, -8.8257e-02]],\n",
              "              \n",
              "                       [[-2.4582e-02, -5.5392e-02, -9.7821e-02],\n",
              "                        [ 6.9364e-02,  7.1850e-02, -9.4891e-02],\n",
              "                        [ 1.9808e-03, -2.4302e-02, -6.6693e-02]],\n",
              "              \n",
              "                       [[-9.1763e-02,  5.8383e-02, -7.3863e-02],\n",
              "                        [-1.0225e-01, -7.9335e-02, -4.4486e-02],\n",
              "                        [-5.5381e-02,  5.4507e-02, -7.6825e-02]],\n",
              "              \n",
              "                       [[ 1.0165e-01, -5.6217e-02, -6.7146e-02],\n",
              "                        [ 6.7441e-02, -7.8604e-02,  4.1052e-02],\n",
              "                        [-9.5078e-02,  5.0557e-02, -1.0176e-02]],\n",
              "              \n",
              "                       [[ 2.0910e-02,  1.2705e-02, -5.4196e-02],\n",
              "                        [-3.4754e-02, -8.4236e-02, -9.3003e-02],\n",
              "                        [-6.2724e-02,  1.8566e-02, -5.7073e-02]],\n",
              "              \n",
              "                       [[-4.6108e-02,  6.5391e-02,  9.5969e-02],\n",
              "                        [-2.7796e-02,  8.1447e-02, -9.7944e-02],\n",
              "                        [ 5.4937e-02, -3.0060e-02,  2.2771e-02]],\n",
              "              \n",
              "                       [[ 2.6040e-02, -8.6712e-02, -1.0536e-01],\n",
              "                        [ 3.5880e-02,  3.9084e-02, -3.2703e-02],\n",
              "                        [-9.6310e-02, -1.0810e-02,  5.7922e-02]]],\n",
              "              \n",
              "              \n",
              "                      [[[ 4.9294e-02, -5.5517e-02, -7.2691e-02],\n",
              "                        [-8.8214e-02, -8.2382e-02, -7.5995e-02],\n",
              "                        [-5.8156e-04,  1.1921e-02, -1.3321e-02]],\n",
              "              \n",
              "                       [[ 4.9600e-03, -4.3968e-02,  7.3740e-02],\n",
              "                        [ 1.3527e-02,  2.2899e-02,  8.3248e-02],\n",
              "                        [-2.5043e-02,  9.8217e-03,  1.2045e-02]],\n",
              "              \n",
              "                       [[-6.3079e-02, -6.2194e-02,  6.2273e-02],\n",
              "                        [ 8.6263e-03, -8.3865e-02, -8.3150e-02],\n",
              "                        [ 7.8487e-03,  1.0490e-01,  5.5797e-02]],\n",
              "              \n",
              "                       [[-7.8346e-02,  4.3071e-02, -1.1143e-02],\n",
              "                        [-9.7265e-02,  7.6607e-02, -5.9372e-02],\n",
              "                        [-5.8636e-02, -2.0309e-02,  6.1695e-03]],\n",
              "              \n",
              "                       [[-9.3746e-02,  8.2400e-02,  2.3836e-02],\n",
              "                        [ 1.8092e-02,  1.8179e-02, -3.5965e-02],\n",
              "                        [-7.8523e-02,  3.8165e-02,  9.6146e-02]],\n",
              "              \n",
              "                       [[ 1.0431e-01, -4.6926e-02,  4.2023e-02],\n",
              "                        [-4.9319e-02,  5.9961e-02, -2.7671e-02],\n",
              "                        [-4.9387e-03, -8.2706e-03,  4.9628e-02]],\n",
              "              \n",
              "                       [[-8.6701e-02, -8.3524e-02,  7.9602e-02],\n",
              "                        [-5.2934e-02,  1.2062e-02, -3.1617e-02],\n",
              "                        [ 5.1550e-02,  6.7186e-03, -7.0911e-02]],\n",
              "              \n",
              "                       [[-5.9670e-02, -5.2508e-02,  7.8868e-02],\n",
              "                        [ 9.7598e-02,  6.5611e-02,  8.0099e-03],\n",
              "                        [-5.2731e-02,  5.5850e-02, -1.0073e-01]],\n",
              "              \n",
              "                       [[-1.2398e-02,  2.0733e-02, -2.5884e-02],\n",
              "                        [ 5.1374e-02, -9.2859e-03, -1.0118e-01],\n",
              "                        [ 3.8659e-02,  9.4341e-02, -2.5172e-02]],\n",
              "              \n",
              "                       [[-6.6958e-02,  9.2743e-02, -2.2687e-02],\n",
              "                        [-7.6900e-02, -7.0569e-02, -4.0869e-02],\n",
              "                        [ 4.2650e-02, -1.4664e-02, -9.5923e-02]]],\n",
              "              \n",
              "              \n",
              "                      [[[-2.3808e-02,  2.2668e-02, -2.9042e-03],\n",
              "                        [ 4.7856e-02, -3.2383e-02,  1.1102e-02],\n",
              "                        [ 8.7219e-02,  6.7212e-02,  6.8698e-02]],\n",
              "              \n",
              "                       [[-1.9213e-02, -4.5577e-02, -8.4339e-02],\n",
              "                        [ 8.0391e-02,  3.0662e-02, -9.8591e-02],\n",
              "                        [ 3.6620e-02, -4.6707e-02,  5.1032e-02]],\n",
              "              \n",
              "                       [[-9.4714e-02,  7.5307e-02,  7.9870e-02],\n",
              "                        [-1.2358e-02,  1.0384e-01, -7.6360e-03],\n",
              "                        [-2.9035e-02,  3.8578e-02,  9.9772e-02]],\n",
              "              \n",
              "                       [[ 4.8334e-02,  8.2086e-02,  2.5414e-02],\n",
              "                        [ 5.3456e-02, -9.6944e-02, -9.7121e-05],\n",
              "                        [ 7.3688e-02, -1.0081e-01, -6.5733e-02]],\n",
              "              \n",
              "                       [[-2.9758e-02, -1.8874e-02, -7.7751e-02],\n",
              "                        [ 1.2084e-02, -3.7224e-02,  2.7570e-02],\n",
              "                        [ 7.8536e-02, -4.7742e-02,  2.8038e-02]],\n",
              "              \n",
              "                       [[-3.9637e-02,  4.3056e-02,  8.8147e-03],\n",
              "                        [ 7.2016e-02, -6.7668e-02, -2.6045e-02],\n",
              "                        [ 2.0524e-02,  1.8055e-02,  2.2425e-02]],\n",
              "              \n",
              "                       [[-8.2333e-03, -5.7907e-02,  6.2985e-02],\n",
              "                        [ 9.8002e-02,  7.4387e-02, -4.3342e-02],\n",
              "                        [ 5.9779e-02,  6.2430e-02, -3.4535e-02]],\n",
              "              \n",
              "                       [[-1.1186e-02,  4.6889e-02,  1.0387e-04],\n",
              "                        [ 7.2405e-02,  6.8406e-02, -7.1044e-02],\n",
              "                        [ 9.3149e-02,  7.9073e-02, -5.6105e-02]],\n",
              "              \n",
              "                       [[-2.1718e-02,  5.1010e-03, -2.0878e-02],\n",
              "                        [ 1.5449e-02,  9.4009e-02,  8.7293e-02],\n",
              "                        [-1.0472e-01,  1.0328e-01,  8.8442e-02]],\n",
              "              \n",
              "                       [[ 9.4820e-02,  9.0513e-02, -1.4714e-02],\n",
              "                        [-3.0853e-02, -6.9257e-02,  8.7213e-02],\n",
              "                        [ 1.0111e-01,  1.3388e-02, -9.9718e-02]]],\n",
              "              \n",
              "              \n",
              "                      [[[-2.8660e-02, -1.9855e-02,  6.9973e-02],\n",
              "                        [ 7.8664e-02,  5.3430e-02,  3.4748e-02],\n",
              "                        [-2.0371e-02,  1.5494e-02, -4.3263e-02]],\n",
              "              \n",
              "                       [[ 1.6452e-04, -1.9786e-02,  4.7317e-02],\n",
              "                        [-2.2386e-02, -7.0502e-02, -2.2376e-03],\n",
              "                        [ 3.0369e-02, -5.3627e-02, -9.4179e-03]],\n",
              "              \n",
              "                       [[-2.3109e-02, -3.9329e-02,  5.3687e-02],\n",
              "                        [-3.5185e-02, -7.9641e-03, -6.8423e-02],\n",
              "                        [-1.8483e-02, -8.7163e-02,  2.9922e-02]],\n",
              "              \n",
              "                       [[-5.4768e-02, -9.3546e-02,  8.1958e-02],\n",
              "                        [ 7.7692e-02, -6.7016e-02,  6.6382e-02],\n",
              "                        [-8.2354e-02,  9.8585e-02, -2.7861e-03]],\n",
              "              \n",
              "                       [[ 3.0728e-02, -1.9704e-02,  1.1567e-02],\n",
              "                        [-1.4341e-02, -3.6674e-02,  9.4544e-02],\n",
              "                        [ 8.1016e-02,  2.4396e-02, -4.3279e-02]],\n",
              "              \n",
              "                       [[-1.5687e-02, -7.8893e-02,  6.2798e-03],\n",
              "                        [-6.0314e-02,  4.5192e-02,  4.1480e-03],\n",
              "                        [-2.4877e-02,  3.4084e-02, -1.0230e-01]],\n",
              "              \n",
              "                       [[ 6.0569e-02,  6.8199e-02,  5.9414e-02],\n",
              "                        [ 6.3725e-02, -6.2954e-02, -1.2822e-02],\n",
              "                        [-5.4621e-03,  8.1540e-02, -1.0508e-01]],\n",
              "              \n",
              "                       [[-2.8211e-02, -4.6606e-03,  2.6041e-02],\n",
              "                        [ 3.6065e-02, -9.5221e-02,  5.9261e-02],\n",
              "                        [ 8.5549e-02, -7.8962e-02,  8.3457e-02]],\n",
              "              \n",
              "                       [[-9.5366e-02, -2.5584e-02,  6.4084e-02],\n",
              "                        [ 4.5801e-02, -1.8090e-02,  1.6321e-02],\n",
              "                        [ 5.3443e-02,  3.0313e-02, -3.8196e-02]],\n",
              "              \n",
              "                       [[ 7.4610e-02, -7.1357e-02, -5.7795e-03],\n",
              "                        [ 4.2777e-03,  1.7009e-03, -7.6202e-02],\n",
              "                        [-6.9840e-02,  3.0075e-02,  7.7489e-02]]],\n",
              "              \n",
              "              \n",
              "                      [[[ 1.0023e-01, -9.3051e-02, -1.0286e-01],\n",
              "                        [-9.5576e-02, -9.8148e-02,  3.8338e-02],\n",
              "                        [ 6.5151e-02, -6.2852e-02,  5.6692e-02]],\n",
              "              \n",
              "                       [[ 9.8067e-02, -8.8351e-02,  6.6163e-02],\n",
              "                        [-8.5690e-02,  3.2360e-02, -5.9645e-02],\n",
              "                        [-4.8093e-04, -1.1157e-02,  3.1976e-03]],\n",
              "              \n",
              "                       [[-6.4394e-02, -1.0022e-01,  7.3670e-02],\n",
              "                        [-2.0968e-02,  4.9248e-04,  6.2728e-02],\n",
              "                        [ 6.3576e-02, -6.5539e-02, -1.0279e-01]],\n",
              "              \n",
              "                       [[ 6.1491e-02,  1.1394e-02, -9.9263e-03],\n",
              "                        [-6.9589e-02, -9.1029e-02,  1.3686e-02],\n",
              "                        [ 7.9715e-04,  1.0530e-01,  4.6971e-03]],\n",
              "              \n",
              "                       [[ 8.4004e-02, -1.4687e-02, -6.6097e-02],\n",
              "                        [-3.5753e-02, -4.2894e-02,  9.9469e-02],\n",
              "                        [-1.4160e-02, -5.1961e-02, -4.5013e-02]],\n",
              "              \n",
              "                       [[-6.8386e-02, -9.5857e-03,  9.5896e-02],\n",
              "                        [ 1.0152e-01,  5.0850e-02,  3.7301e-02],\n",
              "                        [-1.0332e-03,  6.2795e-02,  4.6157e-02]],\n",
              "              \n",
              "                       [[-4.7884e-02, -7.2249e-02, -8.6923e-02],\n",
              "                        [ 4.9285e-02,  3.2411e-02, -1.5924e-02],\n",
              "                        [-5.0166e-02,  7.3347e-02,  2.3692e-02]],\n",
              "              \n",
              "                       [[ 5.8556e-02, -2.5771e-02,  4.2548e-03],\n",
              "                        [-5.2213e-02,  2.7481e-02,  1.6924e-03],\n",
              "                        [-6.9919e-02, -6.7846e-02,  5.8732e-03]],\n",
              "              \n",
              "                       [[-8.5164e-02,  2.6170e-02,  8.5372e-02],\n",
              "                        [-3.5952e-02,  9.3749e-02,  2.1379e-02],\n",
              "                        [-1.0281e-01, -1.0377e-01,  7.9436e-03]],\n",
              "              \n",
              "                       [[ 2.8326e-03,  3.9890e-02, -1.7140e-02],\n",
              "                        [ 1.8052e-02,  9.7202e-02,  7.5079e-02],\n",
              "                        [-1.9745e-02,  1.0194e-01,  8.4912e-02]]],\n",
              "              \n",
              "              \n",
              "                      [[[ 4.3735e-02,  2.7987e-02,  9.2739e-02],\n",
              "                        [-3.0267e-02,  7.8277e-02, -1.5866e-02],\n",
              "                        [ 4.7209e-02, -6.6783e-02, -6.7328e-02]],\n",
              "              \n",
              "                       [[-1.0252e-01, -1.3749e-03, -7.7491e-02],\n",
              "                        [ 7.9886e-02,  6.4204e-02, -3.9134e-02],\n",
              "                        [-1.0227e-02, -6.2501e-02, -8.2604e-02]],\n",
              "              \n",
              "                       [[-5.7455e-02, -3.5052e-03,  8.6471e-02],\n",
              "                        [-8.8430e-02,  9.2568e-02, -5.2650e-02],\n",
              "                        [-7.1952e-02, -9.3869e-02, -8.6428e-02]],\n",
              "              \n",
              "                       [[ 3.9790e-02,  3.5678e-02, -3.3115e-03],\n",
              "                        [ 7.3115e-02, -1.0673e-02,  7.8811e-02],\n",
              "                        [ 9.0118e-02, -7.0765e-02,  5.9371e-02]],\n",
              "              \n",
              "                       [[-2.0367e-02,  1.0035e-01,  5.7883e-02],\n",
              "                        [ 2.6967e-03, -5.6371e-03, -3.8388e-02],\n",
              "                        [-3.5301e-02, -3.7100e-02, -4.4330e-02]],\n",
              "              \n",
              "                       [[ 6.8497e-03, -2.6224e-02,  3.4537e-02],\n",
              "                        [-1.0383e-01,  8.8200e-02, -7.4236e-02],\n",
              "                        [-1.0425e-01,  8.4754e-02,  2.2239e-02]],\n",
              "              \n",
              "                       [[-7.2947e-03,  6.0010e-02, -9.7218e-02],\n",
              "                        [-3.3789e-02,  4.9698e-02,  3.5336e-02],\n",
              "                        [-5.6761e-02, -8.9079e-03,  6.6212e-02]],\n",
              "              \n",
              "                       [[-1.9497e-02,  8.5845e-02, -6.3979e-02],\n",
              "                        [ 8.3677e-02, -3.8000e-02,  1.2447e-03],\n",
              "                        [-4.8115e-02,  1.3473e-02, -9.7070e-02]],\n",
              "              \n",
              "                       [[-1.9929e-02, -9.4641e-02,  7.5388e-02],\n",
              "                        [-4.6433e-02,  3.9539e-02, -3.9074e-02],\n",
              "                        [ 3.0524e-02,  1.8860e-02, -5.3746e-03]],\n",
              "              \n",
              "                       [[-3.9536e-02,  4.9249e-02, -3.4210e-02],\n",
              "                        [-1.0346e-01,  2.5374e-02,  1.7628e-02],\n",
              "                        [-8.6595e-02,  5.0538e-02, -4.5471e-02]]],\n",
              "              \n",
              "              \n",
              "                      [[[ 9.1737e-02,  1.6273e-02,  9.7391e-02],\n",
              "                        [-6.7181e-03, -2.5490e-02,  6.9612e-02],\n",
              "                        [ 5.0344e-02, -5.8342e-02, -4.7223e-02]],\n",
              "              \n",
              "                       [[-9.2561e-02,  5.3115e-02, -3.6203e-02],\n",
              "                        [-5.6245e-02,  5.1627e-02, -1.3097e-02],\n",
              "                        [ 5.2326e-02, -3.1671e-02, -1.0527e-02]],\n",
              "              \n",
              "                       [[ 6.9181e-02,  1.9533e-02, -9.7398e-03],\n",
              "                        [-9.4547e-02,  8.1886e-03, -7.9077e-02],\n",
              "                        [-7.3602e-03, -7.4532e-02,  4.6536e-02]],\n",
              "              \n",
              "                       [[ 1.0428e-01,  8.5076e-02,  9.7995e-02],\n",
              "                        [ 1.6443e-02,  3.5124e-02,  9.9102e-02],\n",
              "                        [ 2.6245e-02,  1.0003e-01, -4.4864e-03]],\n",
              "              \n",
              "                       [[ 7.5115e-02, -4.6629e-02,  5.8618e-02],\n",
              "                        [-8.5797e-02, -8.3622e-02, -1.0351e-01],\n",
              "                        [-1.2837e-02,  1.5419e-02, -7.1861e-02]],\n",
              "              \n",
              "                       [[-2.3334e-02,  9.0935e-03, -8.0495e-03],\n",
              "                        [ 6.4183e-02, -1.0148e-01, -7.3136e-02],\n",
              "                        [ 1.0357e-01,  4.3720e-02,  7.1262e-02]],\n",
              "              \n",
              "                       [[ 8.7490e-02, -3.5512e-02,  9.0127e-02],\n",
              "                        [ 2.3567e-02, -4.4744e-02, -4.1615e-03],\n",
              "                        [ 4.1959e-02,  1.6088e-02,  1.0468e-02]],\n",
              "              \n",
              "                       [[ 8.9715e-02, -5.0543e-02, -8.5536e-02],\n",
              "                        [-5.8149e-02,  1.0155e-01,  4.9333e-02],\n",
              "                        [ 9.0597e-02, -1.1649e-02, -9.9566e-02]],\n",
              "              \n",
              "                       [[-1.7438e-02, -1.5268e-02, -4.2168e-02],\n",
              "                        [ 1.7470e-02,  2.7612e-02,  7.4096e-02],\n",
              "                        [-8.1954e-02,  5.8863e-02,  3.0987e-03]],\n",
              "              \n",
              "                       [[ 5.2415e-03,  6.8762e-02, -2.5347e-02],\n",
              "                        [ 5.0330e-02, -8.1233e-02,  5.3934e-02],\n",
              "                        [ 9.1063e-02, -7.9644e-02,  9.1726e-02]]],\n",
              "              \n",
              "              \n",
              "                      [[[ 4.0080e-02, -8.1302e-02,  8.8598e-03],\n",
              "                        [-4.5428e-04, -7.6543e-02,  7.0142e-02],\n",
              "                        [ 5.1271e-02, -7.8946e-02,  6.9419e-02]],\n",
              "              \n",
              "                       [[ 2.6847e-02,  8.9903e-02, -6.2032e-02],\n",
              "                        [ 9.6501e-02, -9.8749e-02, -8.1632e-02],\n",
              "                        [-6.7805e-02, -1.7756e-02, -9.7437e-03]],\n",
              "              \n",
              "                       [[ 6.5742e-02, -2.7505e-02, -8.5746e-02],\n",
              "                        [ 1.0264e-01, -9.1078e-02,  4.2582e-02],\n",
              "                        [ 3.0057e-02, -4.7327e-02, -5.8819e-03]],\n",
              "              \n",
              "                       [[ 2.4223e-02,  9.9760e-02, -9.8563e-02],\n",
              "                        [-2.4775e-02,  7.5611e-02, -1.0380e-01],\n",
              "                        [ 9.1740e-02,  8.9982e-02, -1.3359e-02]],\n",
              "              \n",
              "                       [[-5.1621e-02,  1.4824e-02, -1.0286e-01],\n",
              "                        [-1.2537e-02,  6.7560e-02, -4.0408e-02],\n",
              "                        [ 5.4859e-02,  4.1945e-04, -4.2864e-02]],\n",
              "              \n",
              "                       [[-2.5329e-02,  8.0061e-02,  1.3549e-02],\n",
              "                        [-3.4053e-02, -3.6053e-02, -1.8494e-02],\n",
              "                        [ 9.2452e-02, -1.1242e-02,  5.0043e-02]],\n",
              "              \n",
              "                       [[ 2.4946e-02, -1.5475e-02,  6.5556e-02],\n",
              "                        [ 7.3650e-03,  9.9000e-02,  1.5796e-02],\n",
              "                        [-8.3728e-02, -7.8480e-02, -9.8681e-02]],\n",
              "              \n",
              "                       [[-7.8777e-02,  2.9465e-02,  7.5421e-02],\n",
              "                        [-8.2636e-02,  4.8523e-03, -4.2455e-02],\n",
              "                        [-5.0662e-03, -2.0533e-02,  3.0032e-02]],\n",
              "              \n",
              "                       [[-9.7878e-02,  1.5420e-02,  1.0421e-01],\n",
              "                        [-3.1399e-02,  5.7989e-02,  3.5985e-02],\n",
              "                        [ 5.4617e-03,  1.9996e-02, -2.9476e-02]],\n",
              "              \n",
              "                       [[-8.9519e-02,  3.8160e-02,  1.9038e-02],\n",
              "                        [-3.7701e-02,  4.5320e-02,  2.3914e-02],\n",
              "                        [-6.5548e-02, -6.2783e-02, -2.7086e-02]]],\n",
              "              \n",
              "              \n",
              "                      [[[-9.6809e-02,  5.4861e-02,  4.7222e-03],\n",
              "                        [-1.0485e-01, -2.1750e-02, -5.6811e-02],\n",
              "                        [-9.8289e-02, -6.7768e-02,  6.9009e-02]],\n",
              "              \n",
              "                       [[-9.6541e-02,  9.3213e-03, -3.4235e-03],\n",
              "                        [ 9.5957e-02, -8.8933e-02, -8.8353e-02],\n",
              "                        [-3.6539e-03, -5.5861e-02,  6.5229e-02]],\n",
              "              \n",
              "                       [[ 7.3981e-02, -5.8546e-02,  4.4732e-02],\n",
              "                        [ 2.1839e-02, -2.2503e-02,  9.8689e-02],\n",
              "                        [ 5.6743e-02,  9.8970e-02,  2.6951e-02]],\n",
              "              \n",
              "                       [[-1.1851e-02, -2.9166e-02,  7.3581e-02],\n",
              "                        [-8.8591e-02, -4.1343e-02, -3.2788e-02],\n",
              "                        [ 6.0209e-02,  5.4500e-02,  9.0314e-02]],\n",
              "              \n",
              "                       [[-7.8114e-02,  9.4338e-02,  5.0426e-02],\n",
              "                        [-9.9920e-02,  9.0091e-02, -7.6309e-02],\n",
              "                        [ 2.5450e-02, -5.6675e-02, -9.7445e-02]],\n",
              "              \n",
              "                       [[ 9.4213e-02,  1.5713e-02, -9.6609e-02],\n",
              "                        [-1.2064e-02,  3.7317e-02,  3.3695e-03],\n",
              "                        [-8.9851e-02,  3.9506e-02,  2.2956e-02]],\n",
              "              \n",
              "                       [[ 8.8336e-02,  6.5267e-02,  6.3301e-02],\n",
              "                        [ 1.4216e-02,  9.1712e-02, -1.7449e-02],\n",
              "                        [ 2.0714e-03,  1.0253e-01,  8.6407e-02]],\n",
              "              \n",
              "                       [[ 8.3420e-03,  2.4575e-02,  3.5323e-02],\n",
              "                        [ 2.0364e-02, -8.3290e-02, -1.5130e-02],\n",
              "                        [-3.3728e-02, -3.7123e-02,  5.0881e-04]],\n",
              "              \n",
              "                       [[ 9.5068e-02,  3.7405e-02, -2.7512e-02],\n",
              "                        [-1.0281e-01, -1.7032e-02,  4.8987e-02],\n",
              "                        [-5.8484e-02,  9.6901e-02, -9.7700e-02]],\n",
              "              \n",
              "                       [[ 7.2904e-02, -2.5146e-02, -5.5688e-02],\n",
              "                        [ 7.5129e-02, -5.2034e-02, -8.8397e-02],\n",
              "                        [ 8.3045e-02, -6.5165e-02,  7.1543e-02]]],\n",
              "              \n",
              "              \n",
              "                      [[[ 6.6738e-02, -4.8443e-02, -1.9855e-02],\n",
              "                        [ 5.0663e-02, -1.0389e-01,  3.6351e-02],\n",
              "                        [-9.6546e-02, -3.1083e-02,  6.6211e-02]],\n",
              "              \n",
              "                       [[ 8.0527e-02,  7.0309e-02,  3.2203e-02],\n",
              "                        [ 7.2107e-04, -7.8621e-02, -4.6916e-02],\n",
              "                        [-4.2732e-02, -9.4295e-02, -1.0060e-01]],\n",
              "              \n",
              "                       [[-6.5084e-02,  1.0391e-01,  1.2806e-02],\n",
              "                        [-1.0141e-01,  6.6245e-02,  7.8132e-02],\n",
              "                        [ 8.3785e-02,  3.2540e-02,  3.6245e-02]],\n",
              "              \n",
              "                       [[ 1.8242e-02,  6.0482e-02,  7.1253e-02],\n",
              "                        [ 4.6453e-02, -3.1953e-02,  2.0254e-02],\n",
              "                        [ 4.6341e-03,  5.3440e-02, -6.1440e-02]],\n",
              "              \n",
              "                       [[ 8.4325e-02, -8.9278e-02,  8.1849e-02],\n",
              "                        [ 6.9544e-02,  1.0073e-01, -1.9412e-04],\n",
              "                        [-4.0314e-02, -8.8622e-02,  1.0448e-01]],\n",
              "              \n",
              "                       [[-4.6728e-02,  5.8410e-02,  4.8539e-02],\n",
              "                        [ 8.5298e-03,  6.9216e-02,  2.8430e-02],\n",
              "                        [ 6.1745e-03, -3.2382e-02,  1.0299e-02]],\n",
              "              \n",
              "                       [[ 2.3185e-02,  5.8514e-02,  7.9106e-02],\n",
              "                        [ 3.9326e-02, -5.5411e-02, -3.0797e-02],\n",
              "                        [-4.5300e-03, -5.6708e-02,  6.2464e-02]],\n",
              "              \n",
              "                       [[-2.2588e-02, -4.9400e-02,  9.3614e-02],\n",
              "                        [-1.2480e-02,  2.9286e-02, -1.2961e-02],\n",
              "                        [-7.8279e-02,  6.6793e-02, -4.5364e-02]],\n",
              "              \n",
              "                       [[ 6.3894e-02,  3.8398e-02, -3.7914e-02],\n",
              "                        [-7.9676e-02,  3.8904e-02,  7.4072e-02],\n",
              "                        [ 9.3585e-02,  9.7778e-02, -5.5570e-02]],\n",
              "              \n",
              "                       [[-6.3563e-02, -1.1711e-02, -1.2080e-02],\n",
              "                        [-5.8461e-02,  6.6519e-03, -5.4565e-03],\n",
              "                        [-8.2959e-02,  7.8083e-02, -9.5956e-02]]]])),\n",
              "             ('conv_block_2.0.bias',\n",
              "              tensor([-0.0874,  0.0540, -0.0876,  0.0748,  0.0521,  0.0085, -0.0899,  0.0338,\n",
              "                       0.0971, -0.0684])),\n",
              "             ('conv_block_2.2.weight',\n",
              "              tensor([[[[ 7.4901e-02,  9.1891e-02, -9.0149e-02],\n",
              "                        [-1.2697e-02,  2.7501e-03,  5.5475e-02],\n",
              "                        [ 3.9764e-02,  8.3064e-02, -1.0448e-02]],\n",
              "              \n",
              "                       [[-9.6156e-02, -7.4756e-02,  2.1216e-02],\n",
              "                        [ 3.5317e-02,  3.0867e-02,  3.2434e-02],\n",
              "                        [-5.2236e-02,  9.3889e-02, -2.4588e-02]],\n",
              "              \n",
              "                       [[ 8.4293e-02,  2.3619e-02, -1.0072e-01],\n",
              "                        [ 8.2212e-02, -1.3763e-02,  7.7297e-02],\n",
              "                        [ 7.1307e-02, -5.5721e-02, -9.3488e-02]],\n",
              "              \n",
              "                       [[ 1.0086e-01, -8.4041e-02,  1.0491e-01],\n",
              "                        [ 4.8072e-02,  5.0647e-03, -4.8813e-02],\n",
              "                        [-2.1308e-02,  1.0225e-01, -6.3921e-02]],\n",
              "              \n",
              "                       [[-9.8533e-02,  1.2553e-02,  1.4936e-02],\n",
              "                        [ 8.8779e-02,  7.4745e-02, -1.3619e-02],\n",
              "                        [ 8.3671e-02,  1.1151e-02, -6.4104e-02]],\n",
              "              \n",
              "                       [[-7.8048e-02,  2.6307e-03, -3.3567e-02],\n",
              "                        [-1.0062e-01, -6.2695e-02,  3.5461e-02],\n",
              "                        [-9.4453e-02, -7.9057e-02, -1.5627e-02]],\n",
              "              \n",
              "                       [[-9.0274e-02,  1.6499e-02, -5.5053e-02],\n",
              "                        [ 1.2844e-02,  4.3471e-02, -1.0027e-02],\n",
              "                        [-9.2873e-02,  6.2169e-02, -4.5070e-02]],\n",
              "              \n",
              "                       [[ 7.2149e-02, -3.6298e-02, -1.7286e-02],\n",
              "                        [ 1.0497e-01,  6.3945e-02, -4.8945e-02],\n",
              "                        [-5.7744e-03,  3.7178e-02, -1.4694e-02]],\n",
              "              \n",
              "                       [[-2.3537e-02, -6.1647e-02,  3.7738e-02],\n",
              "                        [ 3.7135e-02, -8.1596e-02,  8.3059e-02],\n",
              "                        [ 3.7473e-02, -5.8717e-02, -9.0484e-02]],\n",
              "              \n",
              "                       [[-6.4170e-02,  8.2650e-02,  6.0724e-02],\n",
              "                        [-6.9288e-02,  1.1434e-03, -6.8027e-02],\n",
              "                        [-3.2602e-02,  2.0246e-02, -1.0390e-01]]],\n",
              "              \n",
              "              \n",
              "                      [[[-8.0103e-02,  3.0531e-03,  4.9767e-02],\n",
              "                        [-2.7569e-03, -1.9615e-02, -1.0290e-01],\n",
              "                        [ 6.8710e-02,  6.5162e-02, -5.8676e-02]],\n",
              "              \n",
              "                       [[ 7.1064e-02,  5.5307e-03, -9.4968e-02],\n",
              "                        [-5.7978e-02, -2.1531e-02,  5.5236e-02],\n",
              "                        [-2.6697e-02, -1.4464e-02, -1.0178e-01]],\n",
              "              \n",
              "                       [[-1.0358e-01,  8.8360e-02,  3.0448e-02],\n",
              "                        [ 5.9204e-02, -6.1423e-02,  1.3159e-02],\n",
              "                        [-6.0225e-02, -4.6468e-02,  4.1568e-02]],\n",
              "              \n",
              "                       [[ 9.6668e-02,  4.6353e-02,  5.2142e-02],\n",
              "                        [ 2.8982e-02, -2.5495e-02, -2.5970e-03],\n",
              "                        [ 8.4424e-02,  1.3796e-02, -2.0361e-02]],\n",
              "              \n",
              "                       [[-4.5284e-02, -1.7862e-02,  7.8641e-02],\n",
              "                        [ 8.5388e-02,  1.6840e-02,  7.3423e-02],\n",
              "                        [ 8.7674e-02, -7.8040e-02,  2.6451e-02]],\n",
              "              \n",
              "                       [[-5.1943e-02, -1.0225e-01, -8.8023e-02],\n",
              "                        [-6.4774e-02, -1.8775e-03, -4.6362e-02],\n",
              "                        [ 5.1550e-02, -4.6499e-03,  2.4101e-02]],\n",
              "              \n",
              "                       [[-5.1224e-02, -1.4350e-02,  1.1770e-02],\n",
              "                        [ 5.0205e-02, -1.0237e-01,  2.5137e-02],\n",
              "                        [ 6.8865e-02, -7.1404e-02,  9.8408e-02]],\n",
              "              \n",
              "                       [[-4.3048e-03,  6.7545e-03, -8.7344e-02],\n",
              "                        [-7.2135e-02,  5.5622e-02,  4.7650e-02],\n",
              "                        [ 6.4151e-03,  1.5525e-02,  6.0026e-02]],\n",
              "              \n",
              "                       [[-8.2682e-02, -8.1657e-02,  8.6844e-02],\n",
              "                        [-3.3488e-03, -6.7469e-02, -2.8441e-02],\n",
              "                        [ 7.7533e-02, -3.9936e-02,  7.5203e-02]],\n",
              "              \n",
              "                       [[-7.8301e-02, -1.0004e-01, -1.6069e-03],\n",
              "                        [ 1.0142e-01,  6.3703e-02, -2.4407e-02],\n",
              "                        [-2.2119e-02, -1.0432e-01, -4.0387e-02]]],\n",
              "              \n",
              "              \n",
              "                      [[[ 1.0354e-01,  1.5066e-02,  8.7787e-02],\n",
              "                        [ 1.0484e-02,  8.8170e-02, -6.2521e-03],\n",
              "                        [-1.4097e-02,  7.6149e-02, -5.4859e-02]],\n",
              "              \n",
              "                       [[ 7.3970e-02, -6.2446e-02, -1.0407e-01],\n",
              "                        [ 2.9316e-03, -3.2171e-02,  5.0278e-02],\n",
              "                        [ 3.5910e-03, -1.1172e-02,  7.7094e-02]],\n",
              "              \n",
              "                       [[ 3.9279e-02, -7.5951e-02,  3.6215e-02],\n",
              "                        [-3.8653e-02, -6.5185e-02, -5.2402e-02],\n",
              "                        [-1.7850e-02,  3.2224e-02,  9.0913e-02]],\n",
              "              \n",
              "                       [[ 9.0378e-02,  7.1868e-02,  1.2079e-02],\n",
              "                        [-1.0192e-01,  1.6528e-02, -4.0289e-02],\n",
              "                        [ 6.3308e-02, -9.2243e-02,  5.1296e-03]],\n",
              "              \n",
              "                       [[-2.0794e-02, -7.4724e-02,  6.6708e-02],\n",
              "                        [-1.0096e-01, -5.7886e-02,  2.7136e-02],\n",
              "                        [-4.2009e-02,  5.0569e-02,  1.9346e-02]],\n",
              "              \n",
              "                       [[ 2.9516e-02,  1.0482e-01, -9.7149e-02],\n",
              "                        [-3.9657e-02, -4.9835e-02,  8.3047e-02],\n",
              "                        [-3.9687e-02,  1.7553e-04, -1.0185e-01]],\n",
              "              \n",
              "                       [[-6.1466e-02, -1.0484e-01, -2.5919e-02],\n",
              "                        [ 5.9662e-02, -9.9369e-02,  2.8067e-02],\n",
              "                        [ 3.8895e-02, -2.3139e-02, -6.0162e-02]],\n",
              "              \n",
              "                       [[-6.1788e-02,  8.7447e-02,  5.4853e-02],\n",
              "                        [-4.4303e-02, -2.9003e-02,  2.5790e-02],\n",
              "                        [-9.9153e-02,  8.6560e-02, -6.1639e-02]],\n",
              "              \n",
              "                       [[ 5.0640e-02, -7.2212e-02,  2.2444e-02],\n",
              "                        [ 9.1017e-02, -7.9208e-02, -7.2897e-02],\n",
              "                        [ 1.4191e-03, -7.8029e-02, -9.8115e-02]],\n",
              "              \n",
              "                       [[-7.6215e-02,  8.3372e-02, -3.2512e-02],\n",
              "                        [-2.8632e-02, -3.9034e-02,  4.6862e-02],\n",
              "                        [-3.6722e-03, -8.5144e-02, -7.5261e-02]]],\n",
              "              \n",
              "              \n",
              "                      [[[-4.9095e-03,  7.4291e-02,  9.1046e-02],\n",
              "                        [ 5.0141e-02, -9.5865e-02,  7.2664e-02],\n",
              "                        [-2.7086e-02,  5.3472e-02, -7.4634e-02]],\n",
              "              \n",
              "                       [[ 8.4249e-02,  6.5273e-02,  2.3147e-02],\n",
              "                        [ 4.9339e-02,  5.7951e-02,  1.5542e-02],\n",
              "                        [-4.7454e-02,  4.0188e-02,  5.2402e-02]],\n",
              "              \n",
              "                       [[-7.7638e-02,  8.3346e-02, -7.7402e-02],\n",
              "                        [ 8.2744e-02, -5.7946e-02, -3.7173e-02],\n",
              "                        [ 9.1908e-02, -3.4485e-02,  2.2683e-03]],\n",
              "              \n",
              "                       [[ 6.1815e-02, -1.0444e-01, -6.4333e-02],\n",
              "                        [-6.8239e-02,  3.6682e-02, -3.7635e-02],\n",
              "                        [ 6.8898e-02, -2.5152e-02, -2.4242e-02]],\n",
              "              \n",
              "                       [[ 7.2925e-02,  4.1416e-02,  4.9510e-02],\n",
              "                        [-7.9254e-02, -1.6810e-02, -4.6437e-02],\n",
              "                        [-5.1156e-02, -3.6991e-02, -3.8053e-02]],\n",
              "              \n",
              "                       [[-7.6209e-02, -6.8444e-02,  5.0649e-02],\n",
              "                        [-7.2431e-02, -8.3814e-02,  4.2121e-02],\n",
              "                        [-8.0085e-02, -2.3904e-02,  7.9296e-02]],\n",
              "              \n",
              "                       [[ 5.0498e-03, -1.0343e-01,  3.9880e-02],\n",
              "                        [ 6.4597e-02, -1.1113e-02,  3.8625e-02],\n",
              "                        [-3.6814e-02, -9.9608e-02, -5.7026e-02]],\n",
              "              \n",
              "                       [[ 2.5230e-02, -8.6349e-02, -5.2400e-02],\n",
              "                        [ 2.2488e-02, -4.7210e-02, -9.9485e-02],\n",
              "                        [-5.1525e-02,  7.9007e-02, -2.7024e-02]],\n",
              "              \n",
              "                       [[ 9.7615e-02,  1.0129e-01, -7.5738e-02],\n",
              "                        [ 6.0303e-02,  6.6133e-02,  8.8127e-02],\n",
              "                        [-4.5619e-02, -5.8072e-02,  1.7338e-02]],\n",
              "              \n",
              "                       [[ 2.5516e-02, -4.5790e-02,  4.2513e-03],\n",
              "                        [ 6.9324e-02, -1.0127e-01, -5.4225e-02],\n",
              "                        [ 8.7048e-02, -1.0435e-01, -8.1852e-02]]],\n",
              "              \n",
              "              \n",
              "                      [[[ 1.2545e-02, -4.6588e-03, -1.0190e-04],\n",
              "                        [ 2.8926e-02, -8.7014e-02, -6.7736e-02],\n",
              "                        [ 6.4295e-03, -2.4690e-02,  3.9880e-02]],\n",
              "              \n",
              "                       [[-6.0418e-02,  1.0270e-01,  3.6084e-02],\n",
              "                        [ 2.6169e-02,  2.3349e-02, -4.3361e-02],\n",
              "                        [ 4.9970e-02, -8.3766e-02, -5.7704e-02]],\n",
              "              \n",
              "                       [[-1.0059e-04,  3.0934e-02,  2.3404e-02],\n",
              "                        [ 7.2102e-02, -8.1337e-02,  1.8595e-02],\n",
              "                        [ 3.7764e-02, -1.0393e-01,  7.6372e-02]],\n",
              "              \n",
              "                       [[-8.0757e-02,  2.2285e-02, -5.2545e-02],\n",
              "                        [ 9.1222e-03,  3.1715e-02, -7.7554e-02],\n",
              "                        [ 1.0057e-01,  4.0186e-02,  8.3989e-02]],\n",
              "              \n",
              "                       [[ 1.0173e-01,  6.9833e-02,  4.2803e-02],\n",
              "                        [-4.1010e-02,  6.1055e-02, -8.6289e-02],\n",
              "                        [ 5.5526e-02,  6.4863e-02,  8.0728e-02]],\n",
              "              \n",
              "                       [[ 2.1570e-02,  3.9476e-02, -9.1998e-02],\n",
              "                        [ 7.7618e-02, -3.2742e-02,  3.3040e-03],\n",
              "                        [ 6.4212e-03, -5.3534e-02, -2.2825e-02]],\n",
              "              \n",
              "                       [[-8.8457e-02,  7.0619e-02, -7.6905e-02],\n",
              "                        [-6.4571e-02, -6.1813e-02,  4.8541e-02],\n",
              "                        [-7.2542e-02,  9.4976e-02, -5.0896e-02]],\n",
              "              \n",
              "                       [[ 4.7800e-02, -5.2672e-02, -9.7104e-02],\n",
              "                        [-9.9672e-02,  1.0180e-01,  2.8413e-02],\n",
              "                        [-1.0090e-01, -2.8899e-02, -9.5178e-02]],\n",
              "              \n",
              "                       [[-3.1574e-02, -4.5145e-02, -7.0408e-02],\n",
              "                        [ 8.2215e-02,  7.3753e-02, -1.6289e-02],\n",
              "                        [ 9.4485e-02,  9.6574e-02,  6.1903e-03]],\n",
              "              \n",
              "                       [[-4.4276e-02, -6.9017e-02, -1.1182e-02],\n",
              "                        [ 6.0432e-02, -1.6398e-02, -8.9234e-02],\n",
              "                        [-9.6292e-02, -9.8566e-02,  1.5450e-02]]],\n",
              "              \n",
              "              \n",
              "                      [[[-7.8993e-02,  8.1262e-03,  5.6130e-02],\n",
              "                        [-3.7158e-02,  4.0532e-02,  7.2505e-02],\n",
              "                        [-1.4132e-02, -7.0285e-02, -9.0337e-02]],\n",
              "              \n",
              "                       [[ 1.0321e-01, -2.9846e-03,  2.7011e-02],\n",
              "                        [ 2.9996e-02,  6.3997e-02,  5.9025e-02],\n",
              "                        [ 1.0009e-01,  7.9070e-03, -6.1886e-02]],\n",
              "              \n",
              "                       [[ 5.8289e-02,  5.6705e-02,  1.4869e-02],\n",
              "                        [ 8.2414e-04, -1.7909e-02,  7.7134e-03],\n",
              "                        [-2.8730e-02, -2.2023e-02, -3.0989e-02]],\n",
              "              \n",
              "                       [[ 9.5867e-02, -4.2774e-02,  8.9024e-02],\n",
              "                        [ 6.2248e-03,  1.8413e-02, -2.9041e-02],\n",
              "                        [-1.0204e-01, -2.8974e-02, -5.5814e-02]],\n",
              "              \n",
              "                       [[ 9.8284e-02, -5.3926e-02, -3.5988e-02],\n",
              "                        [-9.8275e-02,  5.4861e-02, -7.9740e-02],\n",
              "                        [ 4.0698e-02,  6.2580e-02,  4.5582e-02]],\n",
              "              \n",
              "                       [[ 1.5263e-02, -9.5081e-02,  8.6390e-02],\n",
              "                        [ 1.0155e-01,  3.8409e-02,  5.4426e-02],\n",
              "                        [-1.1815e-02, -1.0125e-01,  2.4710e-02]],\n",
              "              \n",
              "                       [[ 4.9417e-02,  9.6284e-03,  1.0234e-01],\n",
              "                        [-3.6517e-02,  1.0131e-01,  7.5517e-02],\n",
              "                        [-9.6741e-02, -6.8361e-02,  5.3417e-02]],\n",
              "              \n",
              "                       [[ 6.7626e-02, -2.2982e-02, -1.0233e-02],\n",
              "                        [ 5.7967e-02,  1.0665e-02, -6.0930e-02],\n",
              "                        [ 9.8838e-02, -4.4738e-02,  5.6868e-02]],\n",
              "              \n",
              "                       [[-6.8509e-02, -8.1711e-02,  4.6767e-02],\n",
              "                        [ 8.3609e-02, -1.0274e-01, -4.1876e-02],\n",
              "                        [ 9.8738e-02,  8.4238e-02,  9.5398e-02]],\n",
              "              \n",
              "                       [[ 6.2490e-02,  9.4853e-02, -2.5976e-02],\n",
              "                        [-1.2789e-02,  8.2238e-02, -8.7320e-02],\n",
              "                        [ 4.7005e-02, -4.1689e-02,  8.4705e-02]]],\n",
              "              \n",
              "              \n",
              "                      [[[ 3.9465e-03,  4.0057e-02,  1.5217e-02],\n",
              "                        [-7.0783e-02, -1.0228e-01,  4.6821e-02],\n",
              "                        [ 1.0108e-01, -3.4819e-02, -2.7827e-02]],\n",
              "              \n",
              "                       [[ 6.3695e-02,  9.0736e-02,  2.7424e-02],\n",
              "                        [-3.0828e-02, -6.0236e-02, -2.4919e-02],\n",
              "                        [-3.2901e-02,  7.0772e-02, -2.8328e-03]],\n",
              "              \n",
              "                       [[-8.0222e-02,  7.2124e-02, -9.2438e-03],\n",
              "                        [-3.4514e-02,  8.3805e-02,  9.1274e-03],\n",
              "                        [ 1.6520e-02, -5.8055e-02, -7.7929e-02]],\n",
              "              \n",
              "                       [[-5.6101e-02,  5.5148e-02, -3.0905e-02],\n",
              "                        [ 6.0704e-02,  4.7084e-02,  8.4668e-02],\n",
              "                        [ 7.6469e-02,  4.2227e-02, -8.6960e-02]],\n",
              "              \n",
              "                       [[ 9.9888e-03,  1.2116e-02, -5.6690e-02],\n",
              "                        [-6.0401e-03, -6.7061e-02,  5.5572e-02],\n",
              "                        [-5.3778e-02,  5.8849e-02,  9.8490e-02]],\n",
              "              \n",
              "                       [[-6.9442e-03, -5.2825e-02, -6.2978e-02],\n",
              "                        [-5.0140e-02,  6.7755e-03,  1.0578e-02],\n",
              "                        [ 8.1888e-02,  5.4167e-02,  6.1714e-02]],\n",
              "              \n",
              "                       [[-1.8502e-02, -1.4044e-02, -9.4253e-02],\n",
              "                        [-9.7534e-02, -1.7372e-02, -8.0613e-02],\n",
              "                        [ 4.9928e-02,  4.4203e-03,  5.7818e-02]],\n",
              "              \n",
              "                       [[-5.7719e-02, -5.3355e-02,  5.6445e-02],\n",
              "                        [-1.0372e-01,  9.0390e-02, -1.0345e-01],\n",
              "                        [ 4.5990e-02,  1.1888e-02,  1.0397e-01]],\n",
              "              \n",
              "                       [[ 9.2521e-02,  8.3809e-02,  7.0707e-02],\n",
              "                        [ 4.0273e-02, -6.6185e-02, -8.9215e-02],\n",
              "                        [ 1.0232e-01,  6.2780e-02,  5.9459e-02]],\n",
              "              \n",
              "                       [[-3.9175e-02,  1.0043e-01,  8.9759e-02],\n",
              "                        [ 9.3011e-02,  3.0169e-02,  6.3909e-02],\n",
              "                        [ 1.6436e-02, -3.5178e-02,  1.4096e-02]]],\n",
              "              \n",
              "              \n",
              "                      [[[-6.9078e-02, -8.7972e-02,  9.2552e-02],\n",
              "                        [-3.3941e-02, -6.1684e-02, -3.2172e-02],\n",
              "                        [-7.3982e-02,  4.8154e-02,  1.4267e-02]],\n",
              "              \n",
              "                       [[-1.0131e-01,  3.2393e-03,  8.5981e-02],\n",
              "                        [-5.9678e-02, -4.6204e-02, -7.4879e-02],\n",
              "                        [-7.0876e-02, -7.0429e-02,  6.8388e-02]],\n",
              "              \n",
              "                       [[ 8.5063e-02,  4.6509e-02, -6.7343e-02],\n",
              "                        [ 3.9441e-02,  1.0260e-01,  9.3780e-02],\n",
              "                        [ 2.1262e-02,  6.0434e-02, -3.6990e-03]],\n",
              "              \n",
              "                       [[ 9.3176e-02, -7.0367e-02,  5.5262e-02],\n",
              "                        [-6.4362e-02, -1.2739e-02, -3.2458e-02],\n",
              "                        [ 3.5039e-02,  9.2234e-02,  7.2808e-03]],\n",
              "              \n",
              "                       [[ 3.6933e-02, -3.0658e-02, -6.6534e-02],\n",
              "                        [ 5.1755e-02, -4.1437e-02,  1.5542e-02],\n",
              "                        [ 5.6449e-02, -8.2365e-02,  3.6320e-02]],\n",
              "              \n",
              "                       [[ 2.0885e-02, -8.9244e-02,  6.8112e-02],\n",
              "                        [ 3.2977e-02, -7.8261e-02, -6.2693e-02],\n",
              "                        [-9.0726e-02, -1.4414e-02, -4.9279e-02]],\n",
              "              \n",
              "                       [[ 8.2775e-02, -1.7126e-02, -8.6913e-02],\n",
              "                        [ 8.5871e-02, -4.4003e-02, -5.5768e-02],\n",
              "                        [ 6.9665e-02, -4.3930e-02,  7.5784e-02]],\n",
              "              \n",
              "                       [[ 1.1984e-02, -1.4681e-02,  4.1454e-02],\n",
              "                        [-3.6991e-02, -1.3371e-02, -3.3807e-02],\n",
              "                        [ 9.0601e-02,  9.3865e-02, -7.0292e-02]],\n",
              "              \n",
              "                       [[ 8.5084e-02,  5.7051e-02,  9.8163e-02],\n",
              "                        [ 2.9345e-02,  6.7190e-02,  8.4082e-02],\n",
              "                        [-4.4045e-02, -5.7440e-02, -1.4435e-03]],\n",
              "              \n",
              "                       [[-2.2741e-02,  2.7501e-03,  2.8026e-02],\n",
              "                        [ 4.8868e-02,  4.4249e-02, -3.6862e-02],\n",
              "                        [-9.3157e-02, -7.0859e-02,  3.0735e-02]]],\n",
              "              \n",
              "              \n",
              "                      [[[ 8.2778e-02, -5.9337e-02, -1.4153e-02],\n",
              "                        [ 4.3346e-02,  4.4608e-02,  8.8069e-02],\n",
              "                        [-1.5128e-02, -6.1574e-02,  8.1222e-03]],\n",
              "              \n",
              "                       [[-6.9115e-02, -7.8834e-02, -7.3037e-02],\n",
              "                        [ 7.3140e-02, -6.9455e-02,  8.7676e-02],\n",
              "                        [ 2.8948e-03,  4.7750e-02, -7.9933e-02]],\n",
              "              \n",
              "                       [[-8.9550e-02, -5.0972e-02,  1.1397e-02],\n",
              "                        [-1.7816e-03,  9.5602e-02, -1.8133e-02],\n",
              "                        [ 8.7937e-02,  3.4926e-03, -5.6428e-02]],\n",
              "              \n",
              "                       [[ 4.0904e-02, -2.7558e-02, -8.5719e-02],\n",
              "                        [-1.7991e-02,  4.9918e-02, -6.3730e-02],\n",
              "                        [-6.8434e-02, -1.0449e-01,  2.6499e-02]],\n",
              "              \n",
              "                       [[ 5.3219e-02, -2.3387e-02, -4.6183e-03],\n",
              "                        [-5.7963e-02, -8.0330e-02, -9.9654e-02],\n",
              "                        [-7.4871e-02,  1.8832e-02,  6.6112e-02]],\n",
              "              \n",
              "                       [[-3.3274e-02, -3.3241e-02,  7.7484e-02],\n",
              "                        [ 7.6881e-02, -7.8688e-02,  1.0260e-01],\n",
              "                        [-3.8335e-02, -7.4231e-02, -9.3950e-02]],\n",
              "              \n",
              "                       [[-5.9004e-02,  4.6177e-02,  4.2599e-02],\n",
              "                        [-2.4380e-02, -7.7308e-02, -9.2037e-02],\n",
              "                        [ 8.1057e-02,  1.8264e-02,  2.1588e-02]],\n",
              "              \n",
              "                       [[ 7.4763e-02, -2.7687e-03, -2.4011e-02],\n",
              "                        [ 7.9706e-02,  5.3811e-02,  2.1291e-02],\n",
              "                        [-9.8218e-02, -1.0407e-01, -1.0287e-01]],\n",
              "              \n",
              "                       [[-8.9295e-02,  3.8755e-02, -4.9938e-02],\n",
              "                        [-5.5007e-03,  2.3390e-02,  2.0186e-02],\n",
              "                        [-6.8441e-02, -4.7547e-02, -8.1917e-02]],\n",
              "              \n",
              "                       [[ 3.5026e-02, -1.6049e-02, -2.8274e-03],\n",
              "                        [-2.5048e-02, -9.0245e-02, -5.1155e-02],\n",
              "                        [-4.8906e-02,  3.0741e-03,  3.7870e-02]]],\n",
              "              \n",
              "              \n",
              "                      [[[-3.4567e-02,  2.0161e-02,  3.0776e-02],\n",
              "                        [ 8.7617e-02,  1.2774e-02,  8.5326e-02],\n",
              "                        [-8.3198e-03, -3.2286e-02, -2.1690e-02]],\n",
              "              \n",
              "                       [[ 3.6193e-02,  1.1394e-02,  8.5862e-02],\n",
              "                        [-1.6966e-02,  3.9970e-02,  9.5122e-02],\n",
              "                        [-9.0348e-02, -4.8544e-02,  3.9537e-02]],\n",
              "              \n",
              "                       [[ 1.0456e-01, -7.0889e-02,  5.2712e-02],\n",
              "                        [-4.1731e-02, -2.8883e-02, -6.8220e-02],\n",
              "                        [-5.2690e-02, -3.6874e-02,  1.0954e-02]],\n",
              "              \n",
              "                       [[ 4.0061e-02, -1.0256e-01,  4.8719e-02],\n",
              "                        [-6.4963e-02, -3.9627e-02, -7.3037e-02],\n",
              "                        [ 1.6010e-02, -6.2564e-02, -1.1748e-02]],\n",
              "              \n",
              "                       [[ 6.8446e-02,  3.2261e-02,  6.8250e-03],\n",
              "                        [-6.9875e-02,  1.0173e-01, -1.1313e-02],\n",
              "                        [-1.9410e-02,  1.0252e-01, -7.7420e-02]],\n",
              "              \n",
              "                       [[ 4.0646e-02,  3.7000e-02, -3.1654e-02],\n",
              "                        [-5.2034e-02, -6.2338e-03,  4.8494e-02],\n",
              "                        [-9.5219e-02, -8.8566e-02,  5.6232e-02]],\n",
              "              \n",
              "                       [[ 7.7216e-02, -2.0825e-02,  9.3690e-02],\n",
              "                        [-6.3994e-02, -5.0061e-02, -1.0427e-01],\n",
              "                        [ 9.3134e-03, -7.3220e-02,  1.1516e-02]],\n",
              "              \n",
              "                       [[ 3.3248e-02,  3.1145e-02, -3.5012e-02],\n",
              "                        [-4.1425e-02, -3.6303e-02,  1.8301e-03],\n",
              "                        [ 2.8068e-03,  1.0353e-01,  8.0849e-02]],\n",
              "              \n",
              "                       [[ 9.4753e-02, -9.5632e-02, -9.5460e-02],\n",
              "                        [-7.1402e-02,  8.7598e-04, -8.6501e-02],\n",
              "                        [-7.7184e-02,  1.0483e-01,  8.4924e-02]],\n",
              "              \n",
              "                       [[-8.8221e-03,  3.2514e-02,  1.7305e-02],\n",
              "                        [-2.5502e-02, -7.2427e-02,  1.7790e-02],\n",
              "                        [ 7.7715e-02, -3.2280e-02, -9.4454e-02]]]])),\n",
              "             ('conv_block_2.2.bias',\n",
              "              tensor([-0.0962, -0.0206, -0.0192, -0.0561, -0.0313,  0.1043, -0.0271,  0.0936,\n",
              "                      -0.0801,  0.0829])),\n",
              "             ('classifier.1.weight',\n",
              "              tensor([[-0.0298, -0.0053,  0.0437,  ..., -0.0398,  0.0251,  0.0254],\n",
              "                      [ 0.0434,  0.0285, -0.0111,  ...,  0.0195,  0.0367, -0.0354],\n",
              "                      [ 0.0288, -0.0385,  0.0026,  ...,  0.0014,  0.0165,  0.0255],\n",
              "                      ...,\n",
              "                      [ 0.0155, -0.0373,  0.0093,  ...,  0.0080,  0.0361,  0.0056],\n",
              "                      [-0.0056,  0.0103, -0.0426,  ..., -0.0233,  0.0435, -0.0021],\n",
              "                      [ 0.0223, -0.0114, -0.0334,  ...,  0.0447,  0.0402, -0.0012]])),\n",
              "             ('classifier.1.bias',\n",
              "              tensor([ 0.0287, -0.0181,  0.0364, -0.0029,  0.0066, -0.0333, -0.0253,  0.0304,\n",
              "                       0.0304, -0.0217]))])"
            ]
          },
          "metadata": {},
          "execution_count": 65
        }
      ]
    },
    {
      "cell_type": "markdown",
      "source": [
        "### 7.4 Training and testing model_2 using our training and test functions"
      ],
      "metadata": {
        "id": "pCK5qStAjiR2"
      }
    },
    {
      "cell_type": "code",
      "source": [
        "torch.manual_seed(91)\n",
        "torch.cuda.manual_seed(91)\n",
        "\n",
        "# Measure time\n",
        "from timeit import default_timer\n",
        "train_time_start_model_2 = timer()\n",
        "\n",
        "# Train and test model\n",
        "epochs = 10\n",
        "for epoch in tqdm(range(epochs)):\n",
        "  print(f'Epoch: {epoch}\\n-------')\n",
        "  train_step(model = model_2,\n",
        "             data_loader = train_dataloader,\n",
        "             loss_fn = loss_fn,\n",
        "             optimizer = optimizer,\n",
        "             accuracy_fn = accuracy_fn,\n",
        "             device = device)\n",
        "  test_step(model = model_2,\n",
        "            data_loader = test_dataloader,\n",
        "            loss_fn = loss_fn,\n",
        "            accuracy_fn = accuracy_fn,\n",
        "            device = device)\n",
        "\n",
        "train_time_end_model_2 = timer()\n",
        "total_train_time_model_2 = print_train_time(start = train_time_start_model_2,\n",
        "                                            end = train_time_end_model_2,\n",
        "                                            device = device)"
      ],
      "metadata": {
        "colab": {
          "base_uri": "https://localhost:8080/",
          "height": 1000,
          "referenced_widgets": [
            "825e81e011ac4660a13e5ae7dc56955d",
            "a6c3fde528b34b6da4d31db3488c84ca",
            "0ed35a4a9912400598895d7097badbd5",
            "ef182ea3901e40df927c2a20cc4cd6a5",
            "09baad869e21446594406f99e065a9f2",
            "5ed2a040c4354561b63b6f070af069e6",
            "2ceda44657cb4653bc214f1df23207c7",
            "db944d7d7ced4b3685e715e779034223",
            "ef63263931a54770a107f56b889fb560",
            "c879555efcef4d9d8377a4b5db32b168",
            "b837f838ff5e447598a4168011a87f35"
          ]
        },
        "id": "ZFgowqpUjpnN",
        "outputId": "5e660243-c91c-40c8-c3e1-b9a7dc5a7892"
      },
      "execution_count": null,
      "outputs": [
        {
          "output_type": "display_data",
          "data": {
            "text/plain": [
              "  0%|          | 0/10 [00:00<?, ?it/s]"
            ],
            "application/vnd.jupyter.widget-view+json": {
              "version_major": 2,
              "version_minor": 0,
              "model_id": "825e81e011ac4660a13e5ae7dc56955d"
            }
          },
          "metadata": {}
        },
        {
          "output_type": "stream",
          "name": "stdout",
          "text": [
            "Epoch: 0\n",
            "-------\n",
            "Batch Size: 32\n",
            "Batch Number: 0\n",
            "Looked at 0/60000 samples\n",
            "Batch Size: 32\n",
            "Batch Number: 400\n",
            "Looked at 12800/60000 samples\n",
            "Batch Size: 32\n",
            "Batch Number: 800\n",
            "Looked at 25600/60000 samples\n",
            "Batch Size: 32\n",
            "Batch Number: 1200\n",
            "Looked at 38400/60000 samples\n",
            "Batch Size: 32\n",
            "Batch Number: 1600\n",
            "Looked at 51200/60000 samples\n",
            "Train Loss: 0.56709 | Train acc:79.59%\n",
            "Test Loss: 0.40116 | Test acc: 85.06%\n",
            "Epoch: 1\n",
            "-------\n",
            "Batch Size: 32\n",
            "Batch Number: 0\n",
            "Looked at 0/60000 samples\n",
            "Batch Size: 32\n",
            "Batch Number: 400\n",
            "Looked at 12800/60000 samples\n",
            "Batch Size: 32\n",
            "Batch Number: 800\n",
            "Looked at 25600/60000 samples\n",
            "Batch Size: 32\n",
            "Batch Number: 1200\n",
            "Looked at 38400/60000 samples\n",
            "Batch Size: 32\n",
            "Batch Number: 1600\n",
            "Looked at 51200/60000 samples\n",
            "Train Loss: 0.34898 | Train acc:87.50%\n",
            "Test Loss: 0.38367 | Test acc: 86.54%\n",
            "Epoch: 2\n",
            "-------\n",
            "Batch Size: 32\n",
            "Batch Number: 0\n",
            "Looked at 0/60000 samples\n",
            "Batch Size: 32\n",
            "Batch Number: 400\n",
            "Looked at 12800/60000 samples\n",
            "Batch Size: 32\n",
            "Batch Number: 800\n",
            "Looked at 25600/60000 samples\n",
            "Batch Size: 32\n",
            "Batch Number: 1200\n",
            "Looked at 38400/60000 samples\n",
            "Batch Size: 32\n",
            "Batch Number: 1600\n",
            "Looked at 51200/60000 samples\n",
            "Train Loss: 0.31673 | Train acc:88.49%\n",
            "Test Loss: 0.34131 | Test acc: 87.22%\n",
            "Epoch: 3\n",
            "-------\n",
            "Batch Size: 32\n",
            "Batch Number: 0\n",
            "Looked at 0/60000 samples\n",
            "Batch Size: 32\n",
            "Batch Number: 400\n",
            "Looked at 12800/60000 samples\n",
            "Batch Size: 32\n",
            "Batch Number: 800\n",
            "Looked at 25600/60000 samples\n",
            "Batch Size: 32\n",
            "Batch Number: 1200\n",
            "Looked at 38400/60000 samples\n",
            "Batch Size: 32\n",
            "Batch Number: 1600\n",
            "Looked at 51200/60000 samples\n",
            "Train Loss: 0.29780 | Train acc:89.17%\n",
            "Test Loss: 0.31632 | Test acc: 88.69%\n",
            "Epoch: 4\n",
            "-------\n",
            "Batch Size: 32\n",
            "Batch Number: 0\n",
            "Looked at 0/60000 samples\n",
            "Batch Size: 32\n",
            "Batch Number: 400\n",
            "Looked at 12800/60000 samples\n",
            "Batch Size: 32\n",
            "Batch Number: 800\n",
            "Looked at 25600/60000 samples\n",
            "Batch Size: 32\n",
            "Batch Number: 1200\n",
            "Looked at 38400/60000 samples\n",
            "Batch Size: 32\n",
            "Batch Number: 1600\n",
            "Looked at 51200/60000 samples\n",
            "Train Loss: 0.28430 | Train acc:89.73%\n",
            "Test Loss: 0.30921 | Test acc: 88.78%\n",
            "Epoch: 5\n",
            "-------\n",
            "Batch Size: 32\n",
            "Batch Number: 0\n",
            "Looked at 0/60000 samples\n",
            "Batch Size: 32\n",
            "Batch Number: 400\n",
            "Looked at 12800/60000 samples\n",
            "Batch Size: 32\n",
            "Batch Number: 800\n",
            "Looked at 25600/60000 samples\n",
            "Batch Size: 32\n",
            "Batch Number: 1200\n",
            "Looked at 38400/60000 samples\n",
            "Batch Size: 32\n",
            "Batch Number: 1600\n",
            "Looked at 51200/60000 samples\n",
            "Train Loss: 0.27297 | Train acc:90.08%\n",
            "Test Loss: 0.30481 | Test acc: 88.60%\n",
            "Epoch: 6\n",
            "-------\n",
            "Batch Size: 32\n",
            "Batch Number: 0\n",
            "Looked at 0/60000 samples\n",
            "Batch Size: 32\n",
            "Batch Number: 400\n",
            "Looked at 12800/60000 samples\n",
            "Batch Size: 32\n",
            "Batch Number: 800\n",
            "Looked at 25600/60000 samples\n",
            "Batch Size: 32\n",
            "Batch Number: 1200\n",
            "Looked at 38400/60000 samples\n",
            "Batch Size: 32\n",
            "Batch Number: 1600\n",
            "Looked at 51200/60000 samples\n",
            "Train Loss: 0.26433 | Train acc:90.37%\n",
            "Test Loss: 0.32381 | Test acc: 88.16%\n",
            "Epoch: 7\n",
            "-------\n",
            "Batch Size: 32\n",
            "Batch Number: 0\n",
            "Looked at 0/60000 samples\n",
            "Batch Size: 32\n",
            "Batch Number: 400\n",
            "Looked at 12800/60000 samples\n",
            "Batch Size: 32\n",
            "Batch Number: 800\n",
            "Looked at 25600/60000 samples\n",
            "Batch Size: 32\n",
            "Batch Number: 1200\n",
            "Looked at 38400/60000 samples\n",
            "Batch Size: 32\n",
            "Batch Number: 1600\n",
            "Looked at 51200/60000 samples\n",
            "Train Loss: 0.25679 | Train acc:90.58%\n",
            "Test Loss: 0.28240 | Test acc: 90.05%\n",
            "Epoch: 8\n",
            "-------\n",
            "Batch Size: 32\n",
            "Batch Number: 0\n",
            "Looked at 0/60000 samples\n",
            "Batch Size: 32\n",
            "Batch Number: 400\n",
            "Looked at 12800/60000 samples\n",
            "Batch Size: 32\n",
            "Batch Number: 800\n",
            "Looked at 25600/60000 samples\n",
            "Batch Size: 32\n",
            "Batch Number: 1200\n",
            "Looked at 38400/60000 samples\n",
            "Batch Size: 32\n",
            "Batch Number: 1600\n",
            "Looked at 51200/60000 samples\n",
            "Train Loss: 0.25066 | Train acc:90.85%\n",
            "Test Loss: 0.30262 | Test acc: 88.95%\n",
            "Epoch: 9\n",
            "-------\n",
            "Batch Size: 32\n",
            "Batch Number: 0\n",
            "Looked at 0/60000 samples\n",
            "Batch Size: 32\n",
            "Batch Number: 400\n",
            "Looked at 12800/60000 samples\n",
            "Batch Size: 32\n",
            "Batch Number: 800\n",
            "Looked at 25600/60000 samples\n",
            "Batch Size: 32\n",
            "Batch Number: 1200\n",
            "Looked at 38400/60000 samples\n",
            "Batch Size: 32\n",
            "Batch Number: 1600\n",
            "Looked at 51200/60000 samples\n",
            "Train Loss: 0.24765 | Train acc:90.98%\n",
            "Test Loss: 0.27588 | Test acc: 90.38%\n",
            "Train time on cpu: 569.905 seconds\n"
          ]
        }
      ]
    },
    {
      "cell_type": "code",
      "source": [
        "# Get model_2 results\n",
        "model_2_results = eval_model(\n",
        "    model = model_2,\n",
        "    data_loader = test_dataloader,\n",
        "    loss_fn = loss_fn,\n",
        "    accuracy_fn = accuracy_fn,\n",
        "    device = device\n",
        ")\n",
        "model_2_results"
      ],
      "metadata": {
        "colab": {
          "base_uri": "https://localhost:8080/"
        },
        "id": "S5SI4trdnuML",
        "outputId": "7e140845-1373-4ad0-9cea-4b1809325ffb"
      },
      "execution_count": null,
      "outputs": [
        {
          "output_type": "execute_result",
          "data": {
            "text/plain": [
              "{'model_name': 'FashionMNISTModelV2',\n",
              " 'model_loss': 0.27587777376174927,\n",
              " 'model_acc': 90.37539936102236}"
            ]
          },
          "metadata": {},
          "execution_count": 67
        }
      ]
    },
    {
      "cell_type": "code",
      "source": [
        "model_1_results"
      ],
      "metadata": {
        "colab": {
          "base_uri": "https://localhost:8080/"
        },
        "id": "jNS8B3non-4S",
        "outputId": "48949160-40fd-4461-e055-7dc85b2a0dee"
      },
      "execution_count": null,
      "outputs": [
        {
          "output_type": "execute_result",
          "data": {
            "text/plain": [
              "{'model_name': 'FashionMNISTModelV1',\n",
              " 'model_loss': 0.8557549118995667,\n",
              " 'model_acc': 71.77515974440895}"
            ]
          },
          "metadata": {},
          "execution_count": 68
        }
      ]
    },
    {
      "cell_type": "code",
      "source": [
        "model_0_results"
      ],
      "metadata": {
        "colab": {
          "base_uri": "https://localhost:8080/"
        },
        "id": "iM36anHkoD_W",
        "outputId": "64d69419-e698-4a8d-edd5-27605a68c5f3"
      },
      "execution_count": null,
      "outputs": [
        {
          "output_type": "execute_result",
          "data": {
            "text/plain": [
              "{'model_name': 'FashionMNISTModelV0',\n",
              " 'model_loss': 0.46377164125442505,\n",
              " 'model_acc': 83.89576677316293}"
            ]
          },
          "metadata": {},
          "execution_count": 69
        }
      ]
    },
    {
      "cell_type": "markdown",
      "source": [
        "## 8. Compare Model Results and Training Time"
      ],
      "metadata": {
        "id": "i6-vz6Q_oGN8"
      }
    },
    {
      "cell_type": "code",
      "source": [
        "import pandas as pd\n",
        "compare_results = pd.DataFrame([model_0_results,\n",
        "                                model_1_results,\n",
        "                                model_2_results])\n",
        "compare_results"
      ],
      "metadata": {
        "id": "6b57xaRGd2_A",
        "colab": {
          "base_uri": "https://localhost:8080/",
          "height": 143
        },
        "outputId": "70e3d10d-8ec9-49a1-a196-2cec5c8dcad0"
      },
      "execution_count": null,
      "outputs": [
        {
          "output_type": "execute_result",
          "data": {
            "text/plain": [
              "            model_name  model_loss  model_acc\n",
              "0  FashionMNISTModelV0    0.463772  83.895767\n",
              "1  FashionMNISTModelV1    0.855755  71.775160\n",
              "2  FashionMNISTModelV2    0.275878  90.375399"
            ],
            "text/html": [
              "\n",
              "  <div id=\"df-e6dba506-8699-47f0-b54c-29e794626da7\" class=\"colab-df-container\">\n",
              "    <div>\n",
              "<style scoped>\n",
              "    .dataframe tbody tr th:only-of-type {\n",
              "        vertical-align: middle;\n",
              "    }\n",
              "\n",
              "    .dataframe tbody tr th {\n",
              "        vertical-align: top;\n",
              "    }\n",
              "\n",
              "    .dataframe thead th {\n",
              "        text-align: right;\n",
              "    }\n",
              "</style>\n",
              "<table border=\"1\" class=\"dataframe\">\n",
              "  <thead>\n",
              "    <tr style=\"text-align: right;\">\n",
              "      <th></th>\n",
              "      <th>model_name</th>\n",
              "      <th>model_loss</th>\n",
              "      <th>model_acc</th>\n",
              "    </tr>\n",
              "  </thead>\n",
              "  <tbody>\n",
              "    <tr>\n",
              "      <th>0</th>\n",
              "      <td>FashionMNISTModelV0</td>\n",
              "      <td>0.463772</td>\n",
              "      <td>83.895767</td>\n",
              "    </tr>\n",
              "    <tr>\n",
              "      <th>1</th>\n",
              "      <td>FashionMNISTModelV1</td>\n",
              "      <td>0.855755</td>\n",
              "      <td>71.775160</td>\n",
              "    </tr>\n",
              "    <tr>\n",
              "      <th>2</th>\n",
              "      <td>FashionMNISTModelV2</td>\n",
              "      <td>0.275878</td>\n",
              "      <td>90.375399</td>\n",
              "    </tr>\n",
              "  </tbody>\n",
              "</table>\n",
              "</div>\n",
              "    <div class=\"colab-df-buttons\">\n",
              "\n",
              "  <div class=\"colab-df-container\">\n",
              "    <button class=\"colab-df-convert\" onclick=\"convertToInteractive('df-e6dba506-8699-47f0-b54c-29e794626da7')\"\n",
              "            title=\"Convert this dataframe to an interactive table.\"\n",
              "            style=\"display:none;\">\n",
              "\n",
              "  <svg xmlns=\"http://www.w3.org/2000/svg\" height=\"24px\" viewBox=\"0 -960 960 960\">\n",
              "    <path d=\"M120-120v-720h720v720H120Zm60-500h600v-160H180v160Zm220 220h160v-160H400v160Zm0 220h160v-160H400v160ZM180-400h160v-160H180v160Zm440 0h160v-160H620v160ZM180-180h160v-160H180v160Zm440 0h160v-160H620v160Z\"/>\n",
              "  </svg>\n",
              "    </button>\n",
              "\n",
              "  <style>\n",
              "    .colab-df-container {\n",
              "      display:flex;\n",
              "      gap: 12px;\n",
              "    }\n",
              "\n",
              "    .colab-df-convert {\n",
              "      background-color: #E8F0FE;\n",
              "      border: none;\n",
              "      border-radius: 50%;\n",
              "      cursor: pointer;\n",
              "      display: none;\n",
              "      fill: #1967D2;\n",
              "      height: 32px;\n",
              "      padding: 0 0 0 0;\n",
              "      width: 32px;\n",
              "    }\n",
              "\n",
              "    .colab-df-convert:hover {\n",
              "      background-color: #E2EBFA;\n",
              "      box-shadow: 0px 1px 2px rgba(60, 64, 67, 0.3), 0px 1px 3px 1px rgba(60, 64, 67, 0.15);\n",
              "      fill: #174EA6;\n",
              "    }\n",
              "\n",
              "    .colab-df-buttons div {\n",
              "      margin-bottom: 4px;\n",
              "    }\n",
              "\n",
              "    [theme=dark] .colab-df-convert {\n",
              "      background-color: #3B4455;\n",
              "      fill: #D2E3FC;\n",
              "    }\n",
              "\n",
              "    [theme=dark] .colab-df-convert:hover {\n",
              "      background-color: #434B5C;\n",
              "      box-shadow: 0px 1px 3px 1px rgba(0, 0, 0, 0.15);\n",
              "      filter: drop-shadow(0px 1px 2px rgba(0, 0, 0, 0.3));\n",
              "      fill: #FFFFFF;\n",
              "    }\n",
              "  </style>\n",
              "\n",
              "    <script>\n",
              "      const buttonEl =\n",
              "        document.querySelector('#df-e6dba506-8699-47f0-b54c-29e794626da7 button.colab-df-convert');\n",
              "      buttonEl.style.display =\n",
              "        google.colab.kernel.accessAllowed ? 'block' : 'none';\n",
              "\n",
              "      async function convertToInteractive(key) {\n",
              "        const element = document.querySelector('#df-e6dba506-8699-47f0-b54c-29e794626da7');\n",
              "        const dataTable =\n",
              "          await google.colab.kernel.invokeFunction('convertToInteractive',\n",
              "                                                    [key], {});\n",
              "        if (!dataTable) return;\n",
              "\n",
              "        const docLinkHtml = 'Like what you see? Visit the ' +\n",
              "          '<a target=\"_blank\" href=https://colab.research.google.com/notebooks/data_table.ipynb>data table notebook</a>'\n",
              "          + ' to learn more about interactive tables.';\n",
              "        element.innerHTML = '';\n",
              "        dataTable['output_type'] = 'display_data';\n",
              "        await google.colab.output.renderOutput(dataTable, element);\n",
              "        const docLink = document.createElement('div');\n",
              "        docLink.innerHTML = docLinkHtml;\n",
              "        element.appendChild(docLink);\n",
              "      }\n",
              "    </script>\n",
              "  </div>\n",
              "\n",
              "\n",
              "    <div id=\"df-bd6f2bfd-9050-4651-aacf-95393bc9cf98\">\n",
              "      <button class=\"colab-df-quickchart\" onclick=\"quickchart('df-bd6f2bfd-9050-4651-aacf-95393bc9cf98')\"\n",
              "                title=\"Suggest charts\"\n",
              "                style=\"display:none;\">\n",
              "\n",
              "<svg xmlns=\"http://www.w3.org/2000/svg\" height=\"24px\"viewBox=\"0 0 24 24\"\n",
              "     width=\"24px\">\n",
              "    <g>\n",
              "        <path d=\"M19 3H5c-1.1 0-2 .9-2 2v14c0 1.1.9 2 2 2h14c1.1 0 2-.9 2-2V5c0-1.1-.9-2-2-2zM9 17H7v-7h2v7zm4 0h-2V7h2v10zm4 0h-2v-4h2v4z\"/>\n",
              "    </g>\n",
              "</svg>\n",
              "      </button>\n",
              "\n",
              "<style>\n",
              "  .colab-df-quickchart {\n",
              "      --bg-color: #E8F0FE;\n",
              "      --fill-color: #1967D2;\n",
              "      --hover-bg-color: #E2EBFA;\n",
              "      --hover-fill-color: #174EA6;\n",
              "      --disabled-fill-color: #AAA;\n",
              "      --disabled-bg-color: #DDD;\n",
              "  }\n",
              "\n",
              "  [theme=dark] .colab-df-quickchart {\n",
              "      --bg-color: #3B4455;\n",
              "      --fill-color: #D2E3FC;\n",
              "      --hover-bg-color: #434B5C;\n",
              "      --hover-fill-color: #FFFFFF;\n",
              "      --disabled-bg-color: #3B4455;\n",
              "      --disabled-fill-color: #666;\n",
              "  }\n",
              "\n",
              "  .colab-df-quickchart {\n",
              "    background-color: var(--bg-color);\n",
              "    border: none;\n",
              "    border-radius: 50%;\n",
              "    cursor: pointer;\n",
              "    display: none;\n",
              "    fill: var(--fill-color);\n",
              "    height: 32px;\n",
              "    padding: 0;\n",
              "    width: 32px;\n",
              "  }\n",
              "\n",
              "  .colab-df-quickchart:hover {\n",
              "    background-color: var(--hover-bg-color);\n",
              "    box-shadow: 0 1px 2px rgba(60, 64, 67, 0.3), 0 1px 3px 1px rgba(60, 64, 67, 0.15);\n",
              "    fill: var(--button-hover-fill-color);\n",
              "  }\n",
              "\n",
              "  .colab-df-quickchart-complete:disabled,\n",
              "  .colab-df-quickchart-complete:disabled:hover {\n",
              "    background-color: var(--disabled-bg-color);\n",
              "    fill: var(--disabled-fill-color);\n",
              "    box-shadow: none;\n",
              "  }\n",
              "\n",
              "  .colab-df-spinner {\n",
              "    border: 2px solid var(--fill-color);\n",
              "    border-color: transparent;\n",
              "    border-bottom-color: var(--fill-color);\n",
              "    animation:\n",
              "      spin 1s steps(1) infinite;\n",
              "  }\n",
              "\n",
              "  @keyframes spin {\n",
              "    0% {\n",
              "      border-color: transparent;\n",
              "      border-bottom-color: var(--fill-color);\n",
              "      border-left-color: var(--fill-color);\n",
              "    }\n",
              "    20% {\n",
              "      border-color: transparent;\n",
              "      border-left-color: var(--fill-color);\n",
              "      border-top-color: var(--fill-color);\n",
              "    }\n",
              "    30% {\n",
              "      border-color: transparent;\n",
              "      border-left-color: var(--fill-color);\n",
              "      border-top-color: var(--fill-color);\n",
              "      border-right-color: var(--fill-color);\n",
              "    }\n",
              "    40% {\n",
              "      border-color: transparent;\n",
              "      border-right-color: var(--fill-color);\n",
              "      border-top-color: var(--fill-color);\n",
              "    }\n",
              "    60% {\n",
              "      border-color: transparent;\n",
              "      border-right-color: var(--fill-color);\n",
              "    }\n",
              "    80% {\n",
              "      border-color: transparent;\n",
              "      border-right-color: var(--fill-color);\n",
              "      border-bottom-color: var(--fill-color);\n",
              "    }\n",
              "    90% {\n",
              "      border-color: transparent;\n",
              "      border-bottom-color: var(--fill-color);\n",
              "    }\n",
              "  }\n",
              "</style>\n",
              "\n",
              "      <script>\n",
              "        async function quickchart(key) {\n",
              "          const quickchartButtonEl =\n",
              "            document.querySelector('#' + key + ' button');\n",
              "          quickchartButtonEl.disabled = true;  // To prevent multiple clicks.\n",
              "          quickchartButtonEl.classList.add('colab-df-spinner');\n",
              "          try {\n",
              "            const charts = await google.colab.kernel.invokeFunction(\n",
              "                'suggestCharts', [key], {});\n",
              "          } catch (error) {\n",
              "            console.error('Error during call to suggestCharts:', error);\n",
              "          }\n",
              "          quickchartButtonEl.classList.remove('colab-df-spinner');\n",
              "          quickchartButtonEl.classList.add('colab-df-quickchart-complete');\n",
              "        }\n",
              "        (() => {\n",
              "          let quickchartButtonEl =\n",
              "            document.querySelector('#df-bd6f2bfd-9050-4651-aacf-95393bc9cf98 button');\n",
              "          quickchartButtonEl.style.display =\n",
              "            google.colab.kernel.accessAllowed ? 'block' : 'none';\n",
              "        })();\n",
              "      </script>\n",
              "    </div>\n",
              "\n",
              "  <div id=\"id_35b74aea-c4e5-47b3-a91e-37074131049e\">\n",
              "    <style>\n",
              "      .colab-df-generate {\n",
              "        background-color: #E8F0FE;\n",
              "        border: none;\n",
              "        border-radius: 50%;\n",
              "        cursor: pointer;\n",
              "        display: none;\n",
              "        fill: #1967D2;\n",
              "        height: 32px;\n",
              "        padding: 0 0 0 0;\n",
              "        width: 32px;\n",
              "      }\n",
              "\n",
              "      .colab-df-generate:hover {\n",
              "        background-color: #E2EBFA;\n",
              "        box-shadow: 0px 1px 2px rgba(60, 64, 67, 0.3), 0px 1px 3px 1px rgba(60, 64, 67, 0.15);\n",
              "        fill: #174EA6;\n",
              "      }\n",
              "\n",
              "      [theme=dark] .colab-df-generate {\n",
              "        background-color: #3B4455;\n",
              "        fill: #D2E3FC;\n",
              "      }\n",
              "\n",
              "      [theme=dark] .colab-df-generate:hover {\n",
              "        background-color: #434B5C;\n",
              "        box-shadow: 0px 1px 3px 1px rgba(0, 0, 0, 0.15);\n",
              "        filter: drop-shadow(0px 1px 2px rgba(0, 0, 0, 0.3));\n",
              "        fill: #FFFFFF;\n",
              "      }\n",
              "    </style>\n",
              "    <button class=\"colab-df-generate\" onclick=\"generateWithVariable('compare_results')\"\n",
              "            title=\"Generate code using this dataframe.\"\n",
              "            style=\"display:none;\">\n",
              "\n",
              "  <svg xmlns=\"http://www.w3.org/2000/svg\" height=\"24px\"viewBox=\"0 0 24 24\"\n",
              "       width=\"24px\">\n",
              "    <path d=\"M7,19H8.4L18.45,9,17,7.55,7,17.6ZM5,21V16.75L18.45,3.32a2,2,0,0,1,2.83,0l1.4,1.43a1.91,1.91,0,0,1,.58,1.4,1.91,1.91,0,0,1-.58,1.4L9.25,21ZM18.45,9,17,7.55Zm-12,3A5.31,5.31,0,0,0,4.9,8.1,5.31,5.31,0,0,0,1,6.5,5.31,5.31,0,0,0,4.9,4.9,5.31,5.31,0,0,0,6.5,1,5.31,5.31,0,0,0,8.1,4.9,5.31,5.31,0,0,0,12,6.5,5.46,5.46,0,0,0,6.5,12Z\"/>\n",
              "  </svg>\n",
              "    </button>\n",
              "    <script>\n",
              "      (() => {\n",
              "      const buttonEl =\n",
              "        document.querySelector('#id_35b74aea-c4e5-47b3-a91e-37074131049e button.colab-df-generate');\n",
              "      buttonEl.style.display =\n",
              "        google.colab.kernel.accessAllowed ? 'block' : 'none';\n",
              "\n",
              "      buttonEl.onclick = () => {\n",
              "        google.colab.notebook.generateWithVariable('compare_results');\n",
              "      }\n",
              "      })();\n",
              "    </script>\n",
              "  </div>\n",
              "\n",
              "    </div>\n",
              "  </div>\n"
            ],
            "application/vnd.google.colaboratory.intrinsic+json": {
              "type": "dataframe",
              "variable_name": "compare_results",
              "summary": "{\n  \"name\": \"compare_results\",\n  \"rows\": 3,\n  \"fields\": [\n    {\n      \"column\": \"model_name\",\n      \"properties\": {\n        \"dtype\": \"string\",\n        \"num_unique_values\": 3,\n        \"samples\": [\n          \"FashionMNISTModelV0\",\n          \"FashionMNISTModelV1\",\n          \"FashionMNISTModelV2\"\n        ],\n        \"semantic_type\": \"\",\n        \"description\": \"\"\n      }\n    },\n    {\n      \"column\": \"model_loss\",\n      \"properties\": {\n        \"dtype\": \"number\",\n        \"std\": 0.2958638440346964,\n        \"min\": 0.27587777376174927,\n        \"max\": 0.8557549118995667,\n        \"num_unique_values\": 3,\n        \"samples\": [\n          0.46377164125442505,\n          0.8557549118995667,\n          0.27587777376174927\n        ],\n        \"semantic_type\": \"\",\n        \"description\": \"\"\n      }\n    },\n    {\n      \"column\": \"model_acc\",\n      \"properties\": {\n        \"dtype\": \"number\",\n        \"std\": 9.441607093203334,\n        \"min\": 71.77515974440895,\n        \"max\": 90.37539936102236,\n        \"num_unique_values\": 3,\n        \"samples\": [\n          83.89576677316293,\n          71.77515974440895,\n          90.37539936102236\n        ],\n        \"semantic_type\": \"\",\n        \"description\": \"\"\n      }\n    }\n  ]\n}"
            }
          },
          "metadata": {},
          "execution_count": 70
        }
      ]
    },
    {
      "cell_type": "code",
      "source": [
        "# Add training time to results comparison\n",
        "compare_results['training time'] = [total_train_time_model_0,\n",
        "                                    total_train_time_model_1,\n",
        "                                    total_train_time_model_2]\n",
        "compare_results"
      ],
      "metadata": {
        "id": "o7jThYbLeNRv",
        "colab": {
          "base_uri": "https://localhost:8080/",
          "height": 143
        },
        "outputId": "ea383239-fbb9-41c8-efe0-a719ed323d88"
      },
      "execution_count": null,
      "outputs": [
        {
          "output_type": "execute_result",
          "data": {
            "text/plain": [
              "            model_name  model_loss  model_acc  training time\n",
              "0  FashionMNISTModelV0    0.463772  83.895767     158.626858\n",
              "1  FashionMNISTModelV1    0.855755  71.775160      55.072442\n",
              "2  FashionMNISTModelV2    0.275878  90.375399     569.905233"
            ],
            "text/html": [
              "\n",
              "  <div id=\"df-b4ef7eb7-a2c7-45ef-9978-96d6c0c8cf8b\" class=\"colab-df-container\">\n",
              "    <div>\n",
              "<style scoped>\n",
              "    .dataframe tbody tr th:only-of-type {\n",
              "        vertical-align: middle;\n",
              "    }\n",
              "\n",
              "    .dataframe tbody tr th {\n",
              "        vertical-align: top;\n",
              "    }\n",
              "\n",
              "    .dataframe thead th {\n",
              "        text-align: right;\n",
              "    }\n",
              "</style>\n",
              "<table border=\"1\" class=\"dataframe\">\n",
              "  <thead>\n",
              "    <tr style=\"text-align: right;\">\n",
              "      <th></th>\n",
              "      <th>model_name</th>\n",
              "      <th>model_loss</th>\n",
              "      <th>model_acc</th>\n",
              "      <th>training time</th>\n",
              "    </tr>\n",
              "  </thead>\n",
              "  <tbody>\n",
              "    <tr>\n",
              "      <th>0</th>\n",
              "      <td>FashionMNISTModelV0</td>\n",
              "      <td>0.463772</td>\n",
              "      <td>83.895767</td>\n",
              "      <td>158.626858</td>\n",
              "    </tr>\n",
              "    <tr>\n",
              "      <th>1</th>\n",
              "      <td>FashionMNISTModelV1</td>\n",
              "      <td>0.855755</td>\n",
              "      <td>71.775160</td>\n",
              "      <td>55.072442</td>\n",
              "    </tr>\n",
              "    <tr>\n",
              "      <th>2</th>\n",
              "      <td>FashionMNISTModelV2</td>\n",
              "      <td>0.275878</td>\n",
              "      <td>90.375399</td>\n",
              "      <td>569.905233</td>\n",
              "    </tr>\n",
              "  </tbody>\n",
              "</table>\n",
              "</div>\n",
              "    <div class=\"colab-df-buttons\">\n",
              "\n",
              "  <div class=\"colab-df-container\">\n",
              "    <button class=\"colab-df-convert\" onclick=\"convertToInteractive('df-b4ef7eb7-a2c7-45ef-9978-96d6c0c8cf8b')\"\n",
              "            title=\"Convert this dataframe to an interactive table.\"\n",
              "            style=\"display:none;\">\n",
              "\n",
              "  <svg xmlns=\"http://www.w3.org/2000/svg\" height=\"24px\" viewBox=\"0 -960 960 960\">\n",
              "    <path d=\"M120-120v-720h720v720H120Zm60-500h600v-160H180v160Zm220 220h160v-160H400v160Zm0 220h160v-160H400v160ZM180-400h160v-160H180v160Zm440 0h160v-160H620v160ZM180-180h160v-160H180v160Zm440 0h160v-160H620v160Z\"/>\n",
              "  </svg>\n",
              "    </button>\n",
              "\n",
              "  <style>\n",
              "    .colab-df-container {\n",
              "      display:flex;\n",
              "      gap: 12px;\n",
              "    }\n",
              "\n",
              "    .colab-df-convert {\n",
              "      background-color: #E8F0FE;\n",
              "      border: none;\n",
              "      border-radius: 50%;\n",
              "      cursor: pointer;\n",
              "      display: none;\n",
              "      fill: #1967D2;\n",
              "      height: 32px;\n",
              "      padding: 0 0 0 0;\n",
              "      width: 32px;\n",
              "    }\n",
              "\n",
              "    .colab-df-convert:hover {\n",
              "      background-color: #E2EBFA;\n",
              "      box-shadow: 0px 1px 2px rgba(60, 64, 67, 0.3), 0px 1px 3px 1px rgba(60, 64, 67, 0.15);\n",
              "      fill: #174EA6;\n",
              "    }\n",
              "\n",
              "    .colab-df-buttons div {\n",
              "      margin-bottom: 4px;\n",
              "    }\n",
              "\n",
              "    [theme=dark] .colab-df-convert {\n",
              "      background-color: #3B4455;\n",
              "      fill: #D2E3FC;\n",
              "    }\n",
              "\n",
              "    [theme=dark] .colab-df-convert:hover {\n",
              "      background-color: #434B5C;\n",
              "      box-shadow: 0px 1px 3px 1px rgba(0, 0, 0, 0.15);\n",
              "      filter: drop-shadow(0px 1px 2px rgba(0, 0, 0, 0.3));\n",
              "      fill: #FFFFFF;\n",
              "    }\n",
              "  </style>\n",
              "\n",
              "    <script>\n",
              "      const buttonEl =\n",
              "        document.querySelector('#df-b4ef7eb7-a2c7-45ef-9978-96d6c0c8cf8b button.colab-df-convert');\n",
              "      buttonEl.style.display =\n",
              "        google.colab.kernel.accessAllowed ? 'block' : 'none';\n",
              "\n",
              "      async function convertToInteractive(key) {\n",
              "        const element = document.querySelector('#df-b4ef7eb7-a2c7-45ef-9978-96d6c0c8cf8b');\n",
              "        const dataTable =\n",
              "          await google.colab.kernel.invokeFunction('convertToInteractive',\n",
              "                                                    [key], {});\n",
              "        if (!dataTable) return;\n",
              "\n",
              "        const docLinkHtml = 'Like what you see? Visit the ' +\n",
              "          '<a target=\"_blank\" href=https://colab.research.google.com/notebooks/data_table.ipynb>data table notebook</a>'\n",
              "          + ' to learn more about interactive tables.';\n",
              "        element.innerHTML = '';\n",
              "        dataTable['output_type'] = 'display_data';\n",
              "        await google.colab.output.renderOutput(dataTable, element);\n",
              "        const docLink = document.createElement('div');\n",
              "        docLink.innerHTML = docLinkHtml;\n",
              "        element.appendChild(docLink);\n",
              "      }\n",
              "    </script>\n",
              "  </div>\n",
              "\n",
              "\n",
              "    <div id=\"df-4f3305aa-0f8b-42a0-aab1-cbf31d02de8a\">\n",
              "      <button class=\"colab-df-quickchart\" onclick=\"quickchart('df-4f3305aa-0f8b-42a0-aab1-cbf31d02de8a')\"\n",
              "                title=\"Suggest charts\"\n",
              "                style=\"display:none;\">\n",
              "\n",
              "<svg xmlns=\"http://www.w3.org/2000/svg\" height=\"24px\"viewBox=\"0 0 24 24\"\n",
              "     width=\"24px\">\n",
              "    <g>\n",
              "        <path d=\"M19 3H5c-1.1 0-2 .9-2 2v14c0 1.1.9 2 2 2h14c1.1 0 2-.9 2-2V5c0-1.1-.9-2-2-2zM9 17H7v-7h2v7zm4 0h-2V7h2v10zm4 0h-2v-4h2v4z\"/>\n",
              "    </g>\n",
              "</svg>\n",
              "      </button>\n",
              "\n",
              "<style>\n",
              "  .colab-df-quickchart {\n",
              "      --bg-color: #E8F0FE;\n",
              "      --fill-color: #1967D2;\n",
              "      --hover-bg-color: #E2EBFA;\n",
              "      --hover-fill-color: #174EA6;\n",
              "      --disabled-fill-color: #AAA;\n",
              "      --disabled-bg-color: #DDD;\n",
              "  }\n",
              "\n",
              "  [theme=dark] .colab-df-quickchart {\n",
              "      --bg-color: #3B4455;\n",
              "      --fill-color: #D2E3FC;\n",
              "      --hover-bg-color: #434B5C;\n",
              "      --hover-fill-color: #FFFFFF;\n",
              "      --disabled-bg-color: #3B4455;\n",
              "      --disabled-fill-color: #666;\n",
              "  }\n",
              "\n",
              "  .colab-df-quickchart {\n",
              "    background-color: var(--bg-color);\n",
              "    border: none;\n",
              "    border-radius: 50%;\n",
              "    cursor: pointer;\n",
              "    display: none;\n",
              "    fill: var(--fill-color);\n",
              "    height: 32px;\n",
              "    padding: 0;\n",
              "    width: 32px;\n",
              "  }\n",
              "\n",
              "  .colab-df-quickchart:hover {\n",
              "    background-color: var(--hover-bg-color);\n",
              "    box-shadow: 0 1px 2px rgba(60, 64, 67, 0.3), 0 1px 3px 1px rgba(60, 64, 67, 0.15);\n",
              "    fill: var(--button-hover-fill-color);\n",
              "  }\n",
              "\n",
              "  .colab-df-quickchart-complete:disabled,\n",
              "  .colab-df-quickchart-complete:disabled:hover {\n",
              "    background-color: var(--disabled-bg-color);\n",
              "    fill: var(--disabled-fill-color);\n",
              "    box-shadow: none;\n",
              "  }\n",
              "\n",
              "  .colab-df-spinner {\n",
              "    border: 2px solid var(--fill-color);\n",
              "    border-color: transparent;\n",
              "    border-bottom-color: var(--fill-color);\n",
              "    animation:\n",
              "      spin 1s steps(1) infinite;\n",
              "  }\n",
              "\n",
              "  @keyframes spin {\n",
              "    0% {\n",
              "      border-color: transparent;\n",
              "      border-bottom-color: var(--fill-color);\n",
              "      border-left-color: var(--fill-color);\n",
              "    }\n",
              "    20% {\n",
              "      border-color: transparent;\n",
              "      border-left-color: var(--fill-color);\n",
              "      border-top-color: var(--fill-color);\n",
              "    }\n",
              "    30% {\n",
              "      border-color: transparent;\n",
              "      border-left-color: var(--fill-color);\n",
              "      border-top-color: var(--fill-color);\n",
              "      border-right-color: var(--fill-color);\n",
              "    }\n",
              "    40% {\n",
              "      border-color: transparent;\n",
              "      border-right-color: var(--fill-color);\n",
              "      border-top-color: var(--fill-color);\n",
              "    }\n",
              "    60% {\n",
              "      border-color: transparent;\n",
              "      border-right-color: var(--fill-color);\n",
              "    }\n",
              "    80% {\n",
              "      border-color: transparent;\n",
              "      border-right-color: var(--fill-color);\n",
              "      border-bottom-color: var(--fill-color);\n",
              "    }\n",
              "    90% {\n",
              "      border-color: transparent;\n",
              "      border-bottom-color: var(--fill-color);\n",
              "    }\n",
              "  }\n",
              "</style>\n",
              "\n",
              "      <script>\n",
              "        async function quickchart(key) {\n",
              "          const quickchartButtonEl =\n",
              "            document.querySelector('#' + key + ' button');\n",
              "          quickchartButtonEl.disabled = true;  // To prevent multiple clicks.\n",
              "          quickchartButtonEl.classList.add('colab-df-spinner');\n",
              "          try {\n",
              "            const charts = await google.colab.kernel.invokeFunction(\n",
              "                'suggestCharts', [key], {});\n",
              "          } catch (error) {\n",
              "            console.error('Error during call to suggestCharts:', error);\n",
              "          }\n",
              "          quickchartButtonEl.classList.remove('colab-df-spinner');\n",
              "          quickchartButtonEl.classList.add('colab-df-quickchart-complete');\n",
              "        }\n",
              "        (() => {\n",
              "          let quickchartButtonEl =\n",
              "            document.querySelector('#df-4f3305aa-0f8b-42a0-aab1-cbf31d02de8a button');\n",
              "          quickchartButtonEl.style.display =\n",
              "            google.colab.kernel.accessAllowed ? 'block' : 'none';\n",
              "        })();\n",
              "      </script>\n",
              "    </div>\n",
              "\n",
              "  <div id=\"id_31e0348d-b284-4618-bf55-a7d86276b8f7\">\n",
              "    <style>\n",
              "      .colab-df-generate {\n",
              "        background-color: #E8F0FE;\n",
              "        border: none;\n",
              "        border-radius: 50%;\n",
              "        cursor: pointer;\n",
              "        display: none;\n",
              "        fill: #1967D2;\n",
              "        height: 32px;\n",
              "        padding: 0 0 0 0;\n",
              "        width: 32px;\n",
              "      }\n",
              "\n",
              "      .colab-df-generate:hover {\n",
              "        background-color: #E2EBFA;\n",
              "        box-shadow: 0px 1px 2px rgba(60, 64, 67, 0.3), 0px 1px 3px 1px rgba(60, 64, 67, 0.15);\n",
              "        fill: #174EA6;\n",
              "      }\n",
              "\n",
              "      [theme=dark] .colab-df-generate {\n",
              "        background-color: #3B4455;\n",
              "        fill: #D2E3FC;\n",
              "      }\n",
              "\n",
              "      [theme=dark] .colab-df-generate:hover {\n",
              "        background-color: #434B5C;\n",
              "        box-shadow: 0px 1px 3px 1px rgba(0, 0, 0, 0.15);\n",
              "        filter: drop-shadow(0px 1px 2px rgba(0, 0, 0, 0.3));\n",
              "        fill: #FFFFFF;\n",
              "      }\n",
              "    </style>\n",
              "    <button class=\"colab-df-generate\" onclick=\"generateWithVariable('compare_results')\"\n",
              "            title=\"Generate code using this dataframe.\"\n",
              "            style=\"display:none;\">\n",
              "\n",
              "  <svg xmlns=\"http://www.w3.org/2000/svg\" height=\"24px\"viewBox=\"0 0 24 24\"\n",
              "       width=\"24px\">\n",
              "    <path d=\"M7,19H8.4L18.45,9,17,7.55,7,17.6ZM5,21V16.75L18.45,3.32a2,2,0,0,1,2.83,0l1.4,1.43a1.91,1.91,0,0,1,.58,1.4,1.91,1.91,0,0,1-.58,1.4L9.25,21ZM18.45,9,17,7.55Zm-12,3A5.31,5.31,0,0,0,4.9,8.1,5.31,5.31,0,0,0,1,6.5,5.31,5.31,0,0,0,4.9,4.9,5.31,5.31,0,0,0,6.5,1,5.31,5.31,0,0,0,8.1,4.9,5.31,5.31,0,0,0,12,6.5,5.46,5.46,0,0,0,6.5,12Z\"/>\n",
              "  </svg>\n",
              "    </button>\n",
              "    <script>\n",
              "      (() => {\n",
              "      const buttonEl =\n",
              "        document.querySelector('#id_31e0348d-b284-4618-bf55-a7d86276b8f7 button.colab-df-generate');\n",
              "      buttonEl.style.display =\n",
              "        google.colab.kernel.accessAllowed ? 'block' : 'none';\n",
              "\n",
              "      buttonEl.onclick = () => {\n",
              "        google.colab.notebook.generateWithVariable('compare_results');\n",
              "      }\n",
              "      })();\n",
              "    </script>\n",
              "  </div>\n",
              "\n",
              "    </div>\n",
              "  </div>\n"
            ],
            "application/vnd.google.colaboratory.intrinsic+json": {
              "type": "dataframe",
              "variable_name": "compare_results",
              "summary": "{\n  \"name\": \"compare_results\",\n  \"rows\": 3,\n  \"fields\": [\n    {\n      \"column\": \"model_name\",\n      \"properties\": {\n        \"dtype\": \"string\",\n        \"num_unique_values\": 3,\n        \"samples\": [\n          \"FashionMNISTModelV0\",\n          \"FashionMNISTModelV1\",\n          \"FashionMNISTModelV2\"\n        ],\n        \"semantic_type\": \"\",\n        \"description\": \"\"\n      }\n    },\n    {\n      \"column\": \"model_loss\",\n      \"properties\": {\n        \"dtype\": \"number\",\n        \"std\": 0.2958638440346964,\n        \"min\": 0.27587777376174927,\n        \"max\": 0.8557549118995667,\n        \"num_unique_values\": 3,\n        \"samples\": [\n          0.46377164125442505,\n          0.8557549118995667,\n          0.27587777376174927\n        ],\n        \"semantic_type\": \"\",\n        \"description\": \"\"\n      }\n    },\n    {\n      \"column\": \"model_acc\",\n      \"properties\": {\n        \"dtype\": \"number\",\n        \"std\": 9.441607093203334,\n        \"min\": 71.77515974440895,\n        \"max\": 90.37539936102236,\n        \"num_unique_values\": 3,\n        \"samples\": [\n          83.89576677316293,\n          71.77515974440895,\n          90.37539936102236\n        ],\n        \"semantic_type\": \"\",\n        \"description\": \"\"\n      }\n    },\n    {\n      \"column\": \"training time\",\n      \"properties\": {\n        \"dtype\": \"number\",\n        \"std\": 272.31300076616634,\n        \"min\": 55.072441878999996,\n        \"max\": 569.9052332010001,\n        \"num_unique_values\": 3,\n        \"samples\": [\n          158.62685752700003,\n          55.072441878999996,\n          569.9052332010001\n        ],\n        \"semantic_type\": \"\",\n        \"description\": \"\"\n      }\n    }\n  ]\n}"
            }
          },
          "metadata": {},
          "execution_count": 71
        }
      ]
    },
    {
      "cell_type": "code",
      "source": [
        "# Visualize our model results\n",
        "compare_results.set_index('model_name')['model_acc'].plot(kind = 'barh')\n",
        "plt.xlabel('accuracy (%)')\n",
        "plt.ylabel('model')"
      ],
      "metadata": {
        "id": "h6IA32TOejDQ",
        "colab": {
          "base_uri": "https://localhost:8080/",
          "height": 464
        },
        "outputId": "6323491f-12c5-4d17-b370-36e3effba8cb"
      },
      "execution_count": null,
      "outputs": [
        {
          "output_type": "execute_result",
          "data": {
            "text/plain": [
              "Text(0, 0.5, 'model')"
            ]
          },
          "metadata": {},
          "execution_count": 72
        },
        {
          "output_type": "display_data",
          "data": {
            "text/plain": [
              "<Figure size 640x480 with 1 Axes>"
            ],
            "image/png": "[encoded data removed]"
          },
          "metadata": {}
        }
      ]
    },
    {
      "cell_type": "markdown",
      "source": [
        "## 9. Make and evaluate random prediction with best model"
      ],
      "metadata": {
        "id": "nMqbkCw_hhiD"
      }
    },
    {
      "cell_type": "code",
      "source": [
        "def make_predictions(model: torch.nn.Module,\n",
        "                     data: list,\n",
        "                     device: torch.device = device):\n",
        "  pred_probs = []\n",
        "  model.to(device)\n",
        "  model.eval()\n",
        "  with torch.inference_mode():\n",
        "    for sample in data:\n",
        "      # Prepare the sample\n",
        "      sample = torch.unsqueeze(sample, dim = 0).to(device)\n",
        "\n",
        "      # Forward pass (model will output raw logits)\n",
        "      pred_logit = model(sample)\n",
        "\n",
        "      # Get prediction probability (logit -> prediction probability)\n",
        "      pred_prob= torch.softmax(pred_logit.squeeze(), dim = 0)\n",
        "\n",
        "      # Get pred_prob off the gpu for further calculations\n",
        "      pred_probs.append(pred_prob.cpu())\n",
        "\n",
        "  # Stack the pred_probs to turn list into a tensor\n",
        "  return torch.stack(pred_probs)"
      ],
      "metadata": {
        "id": "kFUlxFjJhlp3"
      },
      "execution_count": null,
      "outputs": []
    },
    {
      "cell_type": "code",
      "source": [
        "import random\n",
        "random.seed(91)\n",
        "test_samples = []\n",
        "test_labels = []\n",
        "for sample, label in random.sample(list(test_data), k = 9):\n",
        "  test_samples.append(sample)\n",
        "  test_labels.append(label)\n",
        "\n",
        "# View the first sample shape\n",
        "test_samples[0].shape"
      ],
      "metadata": {
        "colab": {
          "base_uri": "https://localhost:8080/"
        },
        "id": "cM_wma0cgaPC",
        "outputId": "0e1c2b80-bc2f-4d2d-a8f3-4cb8714782b0"
      },
      "execution_count": null,
      "outputs": [
        {
          "output_type": "execute_result",
          "data": {
            "text/plain": [
              "torch.Size([1, 28, 28])"
            ]
          },
          "metadata": {},
          "execution_count": 74
        }
      ]
    },
    {
      "cell_type": "code",
      "source": [
        "test_samples[0]"
      ],
      "metadata": {
        "colab": {
          "base_uri": "https://localhost:8080/"
        },
        "id": "VCVRAqsngvt2",
        "outputId": "156386cd-21d6-464c-c7ad-34cf9dcc6ef3"
      },
      "execution_count": null,
      "outputs": [
        {
          "output_type": "execute_result",
          "data": {
            "text/plain": [
              "tensor([[[0.0000, 0.0000, 0.0000, 0.0000, 0.0000, 0.0000, 0.0000, 0.0000,\n",
              "          0.0000, 0.0000, 0.0000, 0.0000, 0.0000, 0.0000, 0.0000, 0.0000,\n",
              "          0.0000, 0.0000, 0.0000, 0.0000, 0.0000, 0.0000, 0.0000, 0.0000,\n",
              "          0.0000, 0.0000, 0.0000, 0.0000],\n",
              "         [0.0000, 0.0000, 0.0000, 0.0000, 0.0000, 0.0000, 0.0000, 0.0000,\n",
              "          0.0000, 0.0000, 0.0000, 0.0000, 0.0000, 0.0000, 0.0000, 0.0000,\n",
              "          0.0000, 0.0000, 0.0000, 0.0000, 0.0000, 0.0000, 0.0000, 0.0000,\n",
              "          0.0000, 0.0000, 0.0000, 0.0000],\n",
              "         [0.0000, 0.0000, 0.0000, 0.0000, 0.0000, 0.0000, 0.0000, 0.0000,\n",
              "          0.0000, 0.0000, 0.0000, 0.0000, 0.0000, 0.0000, 0.0000, 0.0000,\n",
              "          0.0000, 0.0000, 0.0000, 0.0000, 0.0000, 0.0000, 0.0000, 0.0000,\n",
              "          0.0000, 0.0000, 0.0000, 0.0000],\n",
              "         [0.0000, 0.0000, 0.0000, 0.0000, 0.0000, 0.0000, 0.0000, 0.0000,\n",
              "          0.0000, 0.0000, 0.0000, 0.0000, 0.0000, 0.0000, 0.0000, 0.0000,\n",
              "          0.0000, 0.0000, 0.0000, 0.0000, 0.0000, 0.0000, 0.0000, 0.0000,\n",
              "          0.0000, 0.0000, 0.0000, 0.0000],\n",
              "         [0.0000, 0.0000, 0.0000, 0.0000, 0.0000, 0.0000, 0.0000, 0.0000,\n",
              "          0.0000, 0.0000, 0.0000, 0.0000, 0.0000, 0.0000, 0.0000, 0.0000,\n",
              "          0.0000, 0.0000, 0.0000, 0.0000, 0.0000, 0.0000, 0.0000, 0.0000,\n",
              "          0.0000, 0.0000, 0.0000, 0.0000],\n",
              "         [0.0000, 0.0000, 0.0000, 0.0000, 0.0000, 0.0000, 0.0000, 0.0000,\n",
              "          0.0000, 0.0000, 0.0000, 0.0000, 0.0000, 0.0000, 0.0000, 0.0000,\n",
              "          0.0000, 0.0000, 0.0000, 0.0000, 0.0000, 0.0000, 0.0000, 0.0000,\n",
              "          0.0000, 0.0000, 0.0000, 0.0000],\n",
              "         [0.0000, 0.0000, 0.0000, 0.0000, 0.0000, 0.0000, 0.0000, 0.0000,\n",
              "          0.0000, 0.0000, 0.0000, 0.0000, 0.0000, 0.0000, 0.0000, 0.0000,\n",
              "          0.0000, 0.0000, 0.0000, 0.0000, 0.0000, 0.0000, 0.0000, 0.0000,\n",
              "          0.0000, 0.0000, 0.0000, 0.0000],\n",
              "         [0.0000, 0.0000, 0.0000, 0.0000, 0.0000, 0.0000, 0.0000, 0.0000,\n",
              "          0.0000, 0.0000, 0.0000, 0.0000, 0.0000, 0.0000, 0.0000, 0.0000,\n",
              "          0.0000, 0.4314, 0.0000, 0.0000, 0.0000, 0.0000, 0.0000, 0.0039,\n",
              "          0.0039, 0.0078, 0.0000, 0.0000],\n",
              "         [0.0000, 0.0000, 0.0000, 0.0000, 0.0000, 0.0000, 0.0000, 0.0000,\n",
              "          0.0000, 0.0039, 0.0000, 0.0118, 0.0000, 0.0039, 0.0000, 0.0000,\n",
              "          0.7804, 0.8941, 0.5843, 0.0000, 0.0000, 0.0078, 0.0039, 0.0000,\n",
              "          0.0000, 0.0000, 0.0000, 0.0000],\n",
              "         [0.0000, 0.0000, 0.0000, 0.0000, 0.0000, 0.0000, 0.0000, 0.0000,\n",
              "          0.0000, 0.0000, 0.0039, 0.0000, 0.0000, 0.0353, 0.0000, 0.2549,\n",
              "          0.8863, 0.7922, 0.7647, 0.7020, 0.0039, 0.0000, 0.0000, 0.0000,\n",
              "          0.5373, 0.3882, 0.0000, 0.0000],\n",
              "         [0.0000, 0.0000, 0.0000, 0.0000, 0.0000, 0.0000, 0.0000, 0.0000,\n",
              "          0.0000, 0.0000, 0.0000, 0.0039, 0.0000, 0.0000, 0.0000, 0.8392,\n",
              "          0.8471, 0.7137, 0.7569, 0.9412, 0.9294, 0.5922, 0.6078, 0.8000,\n",
              "          0.8353, 0.6510, 0.0000, 0.0000],\n",
              "         [0.0000, 0.0000, 0.0000, 0.0000, 0.0000, 0.0000, 0.0000, 0.0000,\n",
              "          0.0000, 0.0000, 0.0000, 0.0000, 0.0000, 0.0549, 0.7176, 0.9373,\n",
              "          0.8745, 0.8784, 0.7451, 0.6941, 0.7843, 0.9137, 0.9294, 0.7765,\n",
              "          0.7804, 0.7176, 0.0000, 0.0000],\n",
              "         [0.0039, 0.0000, 0.0000, 0.0000, 0.0039, 0.0000, 0.0000, 0.0000,\n",
              "          0.0000, 0.0000, 0.0000, 0.1451, 0.7255, 0.6824, 0.5647, 0.6510,\n",
              "          0.8078, 0.8941, 0.9569, 0.9137, 0.7843, 0.7490, 0.7333, 0.7176,\n",
              "          0.7686, 0.7490, 0.0000, 0.0000],\n",
              "         [0.0078, 0.0000, 0.0000, 0.0000, 0.0157, 0.0157, 0.0157, 0.0000,\n",
              "          0.0000, 0.1843, 0.5961, 0.9686, 0.7294, 0.3804, 0.6627, 0.6824,\n",
              "          0.6549, 0.7451, 0.7961, 0.8667, 0.9412, 0.9255, 0.8980, 0.8275,\n",
              "          0.8627, 0.8706, 0.0000, 0.0000],\n",
              "         [0.0000, 0.0078, 0.0000, 0.0000, 0.0000, 0.0000, 0.0000, 0.0000,\n",
              "          0.3333, 1.0000, 0.8902, 0.9098, 0.6275, 0.6275, 0.6745, 0.7176,\n",
              "          0.7373, 0.7373, 0.7608, 0.7765, 0.8000, 0.8588, 0.8824, 0.8706,\n",
              "          0.8510, 0.8941, 0.1490, 0.0000],\n",
              "         [0.0000, 0.0000, 0.0000, 0.0000, 0.0000, 0.1294, 0.4745, 0.8314,\n",
              "          0.9882, 0.8784, 0.7451, 0.7569, 0.8196, 0.7882, 0.6667, 0.6667,\n",
              "          0.6863, 0.7059, 0.7098, 0.7490, 0.7882, 0.8392, 0.8824, 0.8784,\n",
              "          0.9098, 0.9098, 0.3882, 0.0000],\n",
              "         [0.0000, 0.2039, 0.5922, 0.6784, 0.8196, 0.8824, 0.8549, 0.8118,\n",
              "          0.7725, 0.8353, 0.8039, 0.8000, 0.7843, 0.8157, 0.8314, 0.7490,\n",
              "          0.7490, 0.8000, 0.8510, 0.8902, 0.9137, 0.9333, 0.9137, 0.9333,\n",
              "          0.9059, 0.9686, 0.8196, 0.0000],\n",
              "         [0.1961, 0.8549, 0.8549, 0.8471, 0.7961, 0.7922, 0.7804, 0.8235,\n",
              "          0.8745, 0.8588, 0.8275, 0.8196, 0.8745, 0.8627, 0.8902, 0.8863,\n",
              "          0.9098, 0.9569, 0.9255, 0.9216, 0.9608, 0.9804, 0.9725, 0.9647,\n",
              "          0.9333, 0.9137, 0.8353, 0.0000],\n",
              "         [0.3255, 0.8941, 0.8314, 0.8078, 0.8078, 0.7961, 0.7804, 0.8392,\n",
              "          0.8588, 0.8588, 0.8431, 0.8392, 0.8667, 0.9020, 0.9098, 0.9216,\n",
              "          0.9216, 0.9059, 0.9216, 0.9333, 0.8314, 0.6706, 0.5961, 0.6471,\n",
              "          0.6902, 0.7843, 0.4706, 0.0000],\n",
              "         [0.0000, 0.4980, 0.9216, 0.9569, 0.9255, 0.9059, 0.8902, 0.8824,\n",
              "          0.8784, 0.8784, 0.8706, 0.8549, 0.8588, 0.9176, 0.9216, 0.9333,\n",
              "          0.9216, 0.9059, 0.9451, 0.8980, 0.7686, 0.7451, 0.7804, 0.8039,\n",
              "          0.7647, 0.8314, 0.7333, 0.0000],\n",
              "         [0.0000, 0.0000, 0.0941, 0.5020, 0.8000, 0.9608, 1.0000, 1.0000,\n",
              "          0.9961, 0.9765, 0.9725, 0.9451, 0.9333, 0.9216, 0.9176, 0.9059,\n",
              "          0.9020, 0.9020, 0.9059, 0.9176, 0.9333, 0.9725, 0.9412, 0.9412,\n",
              "          0.9765, 0.8863, 1.0000, 0.3569],\n",
              "         [0.0000, 0.0000, 0.0000, 0.0000, 0.0000, 0.0000, 0.2000, 0.3922,\n",
              "          0.5373, 0.6078, 0.6824, 0.7490, 0.7882, 0.8000, 0.8000, 0.8000,\n",
              "          0.8039, 0.7961, 0.7882, 0.8157, 0.8235, 0.8196, 0.8353, 0.8157,\n",
              "          0.7686, 0.6863, 0.4980, 0.0314],\n",
              "         [0.0000, 0.0000, 0.0000, 0.0000, 0.0000, 0.0000, 0.0000, 0.0000,\n",
              "          0.0000, 0.0000, 0.0000, 0.0000, 0.0000, 0.0000, 0.0000, 0.0000,\n",
              "          0.0000, 0.0000, 0.0000, 0.0000, 0.0000, 0.0000, 0.0000, 0.0000,\n",
              "          0.0000, 0.0000, 0.0000, 0.0000],\n",
              "         [0.0000, 0.0000, 0.0000, 0.0000, 0.0000, 0.0000, 0.0000, 0.0000,\n",
              "          0.0000, 0.0000, 0.0000, 0.0000, 0.0000, 0.0000, 0.0000, 0.0000,\n",
              "          0.0000, 0.0000, 0.0000, 0.0000, 0.0000, 0.0000, 0.0000, 0.0000,\n",
              "          0.0000, 0.0000, 0.0000, 0.0000],\n",
              "         [0.0000, 0.0000, 0.0000, 0.0000, 0.0000, 0.0000, 0.0000, 0.0000,\n",
              "          0.0000, 0.0000, 0.0000, 0.0000, 0.0000, 0.0000, 0.0000, 0.0000,\n",
              "          0.0000, 0.0000, 0.0000, 0.0000, 0.0000, 0.0000, 0.0000, 0.0000,\n",
              "          0.0000, 0.0000, 0.0000, 0.0000],\n",
              "         [0.0000, 0.0000, 0.0000, 0.0000, 0.0000, 0.0000, 0.0000, 0.0000,\n",
              "          0.0000, 0.0000, 0.0000, 0.0000, 0.0000, 0.0000, 0.0000, 0.0000,\n",
              "          0.0000, 0.0000, 0.0000, 0.0000, 0.0000, 0.0000, 0.0000, 0.0000,\n",
              "          0.0000, 0.0000, 0.0000, 0.0000],\n",
              "         [0.0000, 0.0000, 0.0000, 0.0000, 0.0000, 0.0000, 0.0000, 0.0000,\n",
              "          0.0000, 0.0000, 0.0000, 0.0000, 0.0000, 0.0000, 0.0000, 0.0000,\n",
              "          0.0000, 0.0000, 0.0000, 0.0000, 0.0000, 0.0000, 0.0000, 0.0000,\n",
              "          0.0000, 0.0000, 0.0000, 0.0000],\n",
              "         [0.0000, 0.0000, 0.0000, 0.0000, 0.0000, 0.0000, 0.0000, 0.0000,\n",
              "          0.0000, 0.0000, 0.0000, 0.0000, 0.0000, 0.0000, 0.0000, 0.0000,\n",
              "          0.0000, 0.0000, 0.0000, 0.0000, 0.0000, 0.0000, 0.0000, 0.0000,\n",
              "          0.0000, 0.0000, 0.0000, 0.0000]]])"
            ]
          },
          "metadata": {},
          "execution_count": 75
        }
      ]
    },
    {
      "cell_type": "code",
      "source": [
        "plt.imshow(test_samples[0].squeeze(), cmap= 'gray')\n",
        "plt.title(class_names[test_labels[0]])"
      ],
      "metadata": {
        "colab": {
          "base_uri": "https://localhost:8080/",
          "height": 470
        },
        "id": "dKypOoJgg1zS",
        "outputId": "c9984e70-a7ed-4e61-e923-6c8114dd39cd"
      },
      "execution_count": null,
      "outputs": [
        {
          "output_type": "execute_result",
          "data": {
            "text/plain": [
              "Text(0.5, 1.0, 'Sneaker')"
            ]
          },
          "metadata": {},
          "execution_count": 76
        },
        {
          "output_type": "display_data",
          "data": {
            "text/plain": [
              "<Figure size 640x480 with 1 Axes>"
            ],
            "image/png": "[encoded data removed]"
          },
          "metadata": {}
        }
      ]
    },
    {
      "cell_type": "code",
      "source": [
        "# Make predictions\n",
        "pred_probs = make_predictions(model = model_2,\n",
        "                              data = test_samples)\n",
        "\n",
        "# View the firsttwo prediction probabilitites\n",
        "pred_probs[:2]"
      ],
      "metadata": {
        "colab": {
          "base_uri": "https://localhost:8080/"
        },
        "id": "kUfPOUaIhAx8",
        "outputId": "26bc9de0-e0cd-496c-c3d1-e9bf89f80888"
      },
      "execution_count": null,
      "outputs": [
        {
          "output_type": "execute_result",
          "data": {
            "text/plain": [
              "tensor([[7.2608e-07, 1.6175e-11, 1.7086e-09, 1.4691e-10, 1.3297e-10, 1.3316e-05,\n",
              "         3.8221e-09, 9.9955e-01, 1.7191e-06, 4.2950e-04],\n",
              "        [1.3756e-08, 4.1447e-10, 5.0942e-10, 1.6083e-08, 5.7431e-09, 3.3438e-05,\n",
              "         1.1841e-08, 9.9997e-01, 1.7581e-07, 6.3076e-08]])"
            ]
          },
          "metadata": {},
          "execution_count": 77
        }
      ]
    },
    {
      "cell_type": "code",
      "source": [
        "# Convert prediction probabilitites to labels\n",
        "pred_classes = pred_probs.argmax(dim = 1)\n",
        "pred_classes"
      ],
      "metadata": {
        "colab": {
          "base_uri": "https://localhost:8080/"
        },
        "id": "uiEkF8D_hQ9f",
        "outputId": "ca922059-1cec-481b-8ede-b868a497f4d9"
      },
      "execution_count": null,
      "outputs": [
        {
          "output_type": "execute_result",
          "data": {
            "text/plain": [
              "tensor([7, 7, 4, 1, 7, 1, 6, 0, 4])"
            ]
          },
          "metadata": {},
          "execution_count": 78
        }
      ]
    },
    {
      "cell_type": "code",
      "source": [
        "test_labels"
      ],
      "metadata": {
        "colab": {
          "base_uri": "https://localhost:8080/"
        },
        "id": "V1gZXWoHhhrn",
        "outputId": "34f2b8a2-f4d0-48ba-f19a-603845528536"
      },
      "execution_count": null,
      "outputs": [
        {
          "output_type": "execute_result",
          "data": {
            "text/plain": [
              "[7, 7, 3, 1, 7, 1, 4, 3, 4]"
            ]
          },
          "metadata": {},
          "execution_count": 79
        }
      ]
    },
    {
      "cell_type": "code",
      "source": [
        "# Plot Predictions\n",
        "plt.figure(figsize = (9, 9))\n",
        "nrows = 3\n",
        "ncols = 3\n",
        "for i, sample in enumerate(test_samples):\n",
        "  # create subplot\n",
        "  plt.subplot(nrows, ncols, i + 1)\n",
        "\n",
        "  # Plot target image\n",
        "  plt.imshow(sample.squeeze(), cmap= 'gray')\n",
        "\n",
        "  # Find the prediction (in text, e.g 'Sandal')\n",
        "  pred_label = class_names[pred_classes[i]]\n",
        "\n",
        "  # Get the truth label (in text form)\n",
        "  truth_label = class_names[test_labels[i]]\n",
        "\n",
        "  # Create a tittle for the plot\n",
        "  title_text = f'Pred : {pred_label} | Truth: {truth_label}'\n",
        "\n",
        "  # Check for equality between pred and truth and change color of title text\n",
        "  if pred_label == truth_label:\n",
        "    plt.title(title_text, fontsize = 10, c = 'g')\n",
        "  else:\n",
        "    plt.title(title_text, fontsize = 10, c= 'r')\n",
        "\n",
        "  plt.axis(False)"
      ],
      "metadata": {
        "colab": {
          "base_uri": "https://localhost:8080/",
          "height": 723
        },
        "id": "Iacx2iekhiiL",
        "outputId": "53eaa327-998f-40ce-d585-dc4803ff7b18"
      },
      "execution_count": null,
      "outputs": [
        {
          "output_type": "display_data",
          "data": {
            "text/plain": [
              "<Figure size 900x900 with 9 Axes>"
            ],
            "image/png": "[encoded data removed]"
          },
          "metadata": {}
        }
      ]
    },
    {
      "cell_type": "markdown",
      "source": [
        "## 10 . Making confusion matrix for further prediction evaluation\n",
        "\n",
        "A confusion matrix is a fantastic way of evaluating your classification models visually.\n",
        "\n",
        "1. Make predictions withour trained model on the test dataset.\n",
        "2. Make a confusion matric torchmetrichs. ConfusionMatrix - https://lightning.ai/docs/torchmetrics/stable/classification/confusion_matrix.html\n",
        "3. Plot the confusion matrix suing mlxtend.plotting.plot_confusion_matrix - https://rasbt.github.io/mlxtend/"
      ],
      "metadata": {
        "id": "BBH5-WWbm8s6"
      }
    },
    {
      "cell_type": "code",
      "source": [
        "# import tqdm.auto\n",
        "from tqdm.auto import tqdm\n",
        "\n",
        "# 1. Make predictions with trained model\n",
        "y_preds = []\n",
        "model_2.eval()\n",
        "\n",
        "with torch.inference_mode():\n",
        "  for X, y in tqdm(test_dataloader, desc = 'Making predictions...'):\n",
        "    # Send the data and targets to target device\n",
        "    X, y = X.to(device), y.to(device)\n",
        "    # Do the forward pass\n",
        "    y_logit = model_2(X)\n",
        "    # Turn predictions from logits -> prediction probabilities -> prediction label\n",
        "    y_pred = torch.softmax(y_logit.squeeze(), dim = 0).argmax(dim = 1)\n",
        "    # Put predictions on CPU for evaluation\n",
        "    y_preds.append(y_pred.cpu())\n",
        "\n",
        "# Concatenate list of predictions into a tensor\n",
        "print(y_preds)\n",
        "y_pred_tensor = torch.cat(y_preds)\n",
        "y_pred_tensor[:10]"
      ],
      "metadata": {
        "colab": {
          "base_uri": "https://localhost:8080/",
          "height": 1000,
          "referenced_widgets": [
            "03f369b5ef9f42d18bc027b2c7a67ff7",
            "68ec973c97e84544919e773d5e9ed015",
            "43f753114d814fe7b892baa67a185891",
            "661553c50d5b489b9754de5401eb4c5f",
            "65bb9463befb4e1ca7cec23d8ec3b255",
            "791c51e045ad4e60b60e04fd8b1c9ef2",
            "b11beb4b0c5148aba0581c4344e11811",
            "97c8c11e2c564e1dba0c7c23ab721a63",
            "2943727f0c08458d938ce91dd9bcf858",
            "128874e1679b486e80e5a15fe6795047",
            "bf27ae8e944d453490233013cd3df5c9"
          ]
        },
        "id": "XFO4klQlnmio",
        "outputId": "50e3f021-fe0f-4fa4-fa0a-fca8faa875da"
      },
      "execution_count": null,
      "outputs": [
        {
          "output_type": "display_data",
          "data": {
            "text/plain": [
              "Making predictions...:   0%|          | 0/313 [00:00<?, ?it/s]"
            ],
            "application/vnd.jupyter.widget-view+json": {
              "version_major": 2,
              "version_minor": 0,
              "model_id": "03f369b5ef9f42d18bc027b2c7a67ff7"
            }
          },
          "metadata": {}
        },
        {
          "output_type": "stream",
          "name": "stdout",
          "text": [
            "[tensor([9, 2, 1, 1, 6, 1, 4, 6, 5, 7, 4, 5, 5, 3, 4, 1, 6, 4, 8, 0, 2, 5, 7, 5,\n",
            "        1, 6, 6, 0, 9, 3, 8, 8]), tensor([3, 3, 8, 0, 7, 5, 7, 9, 6, 1, 3, 9, 6, 7, 2, 1, 4, 6, 4, 6, 5, 8, 2, 2,\n",
            "        8, 4, 8, 0, 7, 7, 8, 5]), tensor([1, 1, 3, 3, 7, 8, 7, 0, 2, 6, 4, 3, 1, 2, 8, 4, 1, 8, 5, 9, 7, 0, 3, 2,\n",
            "        0, 6, 8, 3, 6, 7, 1, 0]), tensor([0, 1, 2, 2, 3, 6, 7, 6, 7, 8, 8, 7, 9, 4, 2, 8, 7, 6, 5, 2, 6, 4, 7, 8,\n",
            "        0, 0, 9, 9, 3, 0, 8, 4]), tensor([1, 5, 4, 1, 9, 1, 8, 6, 2, 1, 2, 8, 1, 6, 0, 0, 1, 6, 1, 3, 2, 2, 3, 4,\n",
            "        1, 3, 8, 6, 4, 7, 9, 3]), tensor([7, 2, 3, 8, 0, 9, 4, 7, 4, 8, 6, 5, 6, 1, 2, 8, 3, 0, 9, 1, 0, 9, 3, 6,\n",
            "        7, 9, 9, 4, 4, 7, 1, 2]), tensor([3, 6, 3, 2, 8, 3, 6, 1, 1, 0, 2, 9, 2, 4, 0, 7, 9, 8, 4, 1, 8, 4, 1, 3,\n",
            "        1, 6, 7, 2, 8, 5, 2, 0]), tensor([7, 7, 6, 2, 7, 0, 7, 8, 9, 2, 9, 0, 8, 1, 3, 4, 5, 6, 9, 2, 2, 8, 6, 4,\n",
            "        3, 4, 7, 7, 3, 5, 5, 4]), tensor([8, 5, 2, 3, 0, 4, 8, 0, 0, 6, 3, 8, 9, 6, 1, 6, 0, 2, 3, 0, 8, 3, 7, 4,\n",
            "        6, 1, 2, 3, 6, 6, 6, 7]), tensor([8, 3, 8, 9, 5, 6, 5, 5, 1, 9, 8, 8, 3, 3, 6, 8, 0, 0, 2, 9, 7, 7, 1, 3,\n",
            "        8, 4, 2, 4, 7, 1, 6, 4]), tensor([8, 2, 6, 5, 6, 2, 7, 7, 7, 3, 3, 8, 0, 7, 1, 3, 7, 2, 2, 3, 4, 0, 0, 1,\n",
            "        6, 1, 9, 4, 9, 9, 1, 7]), tensor([8, 3, 6, 0, 2, 4, 8, 2, 1, 6, 2, 4, 4, 7, 3, 2, 2, 8, 6, 7, 9, 4, 0, 9,\n",
            "        3, 9, 8, 2, 5, 6, 2, 3]), tensor([5, 8, 1, 6, 2, 3, 6, 4, 9, 5, 2, 0, 4, 6, 3, 2, 0, 9, 7, 3, 3, 4, 3, 6,\n",
            "        2, 3, 3, 6, 7, 3, 9, 4]), tensor([2, 1, 5, 4, 5, 3, 0, 5, 8, 4, 4, 8, 9, 8, 6, 2, 4, 4, 2, 4, 1, 6, 1, 3,\n",
            "        0, 7, 8, 0, 6, 5, 3, 1]), tensor([9, 5, 3, 3, 6, 1, 6, 2, 9, 4, 6, 6, 3, 4, 2, 0, 0, 3, 3, 8, 2, 8, 9, 4,\n",
            "        0, 7, 6, 4, 6, 5, 2, 9]), tensor([7, 9, 3, 7, 5, 7, 8, 1, 6, 0, 6, 4, 8, 9, 7, 9, 1, 2, 7, 0, 2, 0, 0, 7,\n",
            "        1, 8, 6, 2, 2, 2, 4, 4]), tensor([6, 1, 9, 8, 7, 1, 9, 1, 2, 8, 3, 0, 9, 2, 6, 6, 8, 0, 2, 0, 5, 0, 8, 5,\n",
            "        0, 7, 4, 3, 0, 2, 5, 1]), tensor([0, 1, 2, 0, 2, 9, 6, 1, 7, 1, 3, 1, 9, 3, 2, 5, 3, 3, 2, 2, 4, 6, 0, 8,\n",
            "        8, 2, 3, 2, 2, 7, 7, 8]), tensor([9, 6, 3, 8, 7, 6, 7, 9, 3, 2, 6, 3, 8, 4, 1, 1, 5, 9, 4, 2, 5, 7, 8, 1,\n",
            "        2, 9, 7, 7, 1, 0, 9, 3]), tensor([2, 9, 0, 5, 6, 8, 2, 7, 1, 2, 3, 1, 2, 2, 6, 5, 3, 0, 7, 8, 0, 2, 9, 4,\n",
            "        1, 6, 4, 8, 0, 1, 4, 2]), tensor([7, 5, 8, 4, 9, 1, 6, 5, 4, 4, 4, 0, 0, 4, 5, 6, 0, 2, 5, 2, 1, 3, 1, 1,\n",
            "        6, 2, 3, 8, 2, 0, 6, 7]), tensor([0, 4, 1, 8, 5, 0, 8, 2, 9, 1, 8, 7, 6, 4, 4, 9, 3, 4, 5, 0, 7, 5, 3, 6,\n",
            "        4, 8, 1, 3, 8, 1, 4, 6]), tensor([9, 7, 7, 4, 8, 9, 1, 3, 7, 3, 0, 4, 6, 7, 1, 0, 0, 8, 7, 2, 6, 6, 6, 4,\n",
            "        1, 5, 9, 0, 0, 3, 6, 5]), tensor([6, 6, 4, 3, 3, 8, 1, 1, 8, 5, 7, 9, 8, 7, 2, 0, 7, 6, 8, 0, 9, 7, 6, 1,\n",
            "        6, 6, 4, 8, 6, 6, 3, 6]), tensor([8, 4, 0, 8, 9, 2, 4, 5, 9, 3, 4, 4, 9, 2, 1, 7, 9, 7, 8, 3, 7, 7, 3, 1,\n",
            "        1, 6, 7, 5, 3, 8, 6, 2]), tensor([9, 0, 8, 0, 2, 4, 4, 7, 1, 4, 9, 0, 5, 8, 5, 4, 7, 2, 0, 5, 9, 3, 3, 6,\n",
            "        7, 1, 7, 0, 0, 4, 6, 5]), tensor([8, 3, 7, 1, 2, 6, 1, 9, 8, 2, 7, 1, 3, 7, 5, 9, 9, 4, 8, 4, 5, 7, 1, 9,\n",
            "        8, 1, 0, 0, 6, 1, 7, 1]), tensor([1, 8, 7, 1, 5, 2, 2, 3, 3, 1, 1, 4, 9, 4, 3, 7, 7, 0, 8, 9, 0, 6, 1, 3,\n",
            "        4, 0, 3, 5, 9, 4, 3, 5]), tensor([5, 1, 5, 7, 8, 7, 9, 3, 6, 6, 0, 4, 0, 6, 0, 2, 5, 5, 1, 2, 0, 9, 3, 7,\n",
            "        4, 6, 8, 3, 4, 7, 0, 7]), tensor([4, 8, 6, 3, 4, 4, 3, 4, 9, 6, 2, 4, 9, 1, 8, 1, 7, 5, 5, 6, 0, 2, 1, 0,\n",
            "        5, 4, 0, 0, 2, 7, 5, 0]), tensor([2, 5, 9, 4, 8, 6, 3, 4, 0, 2, 9, 0, 7, 7, 1, 4, 4, 0, 5, 0, 9, 9, 8, 8,\n",
            "        4, 0, 2, 4, 6, 6, 3, 2]), tensor([3, 7, 6, 9, 3, 4, 7, 7, 0, 3, 5, 5, 6, 6, 0, 9, 6, 3, 7, 5, 1, 9, 8, 8,\n",
            "        0, 9, 2, 7, 2, 2, 3, 8]), tensor([7, 4, 4, 5, 4, 3, 6, 1, 4, 9, 3, 1, 6, 8, 0, 8, 7, 5, 2, 3, 3, 9, 4, 3,\n",
            "        6, 0, 4, 8, 0, 2, 8, 4]), tensor([6, 3, 6, 7, 0, 2, 1, 1, 4, 4, 6, 5, 9, 0, 1, 6, 5, 1, 4, 4, 8, 4, 7, 7,\n",
            "        3, 8, 3, 1, 9, 8, 1, 3]), tensor([3, 7, 5, 0, 5, 7, 0, 9, 2, 3, 5, 0, 4, 6, 3, 0, 4, 0, 0, 2, 7, 1, 5, 3,\n",
            "        5, 4, 8, 0, 2, 1, 1, 7]), tensor([9, 6, 1, 7, 1, 4, 8, 0, 2, 0, 1, 4, 4, 9, 6, 8, 4, 5, 9, 0, 3, 9, 6, 9,\n",
            "        8, 7, 4, 2, 2, 5, 1, 7]), tensor([0, 7, 2, 9, 3, 7, 6, 9, 3, 8, 4, 4, 7, 2, 3, 6, 2, 0, 7, 8, 4, 2, 6, 8,\n",
            "        5, 6, 4, 5, 5, 8, 1, 1]), tensor([7, 4, 6, 9, 6, 8, 7, 2, 2, 1, 6, 7, 7, 4, 9, 8, 5, 1, 3, 0, 2, 0, 3, 3,\n",
            "        1, 9, 3, 8, 5, 2, 0, 7]), tensor([0, 2, 3, 1, 3, 1, 3, 4, 7, 2, 4, 9, 5, 2, 7, 6, 3, 4, 4, 0, 6, 8, 2, 2,\n",
            "        5, 6, 1, 4, 2, 8, 4, 4]), tensor([8, 6, 2, 4, 0, 6, 3, 6, 6, 3, 8, 6, 0, 4, 3, 8, 6, 4, 5, 2, 2, 3, 6, 1,\n",
            "        9, 0, 9, 1, 7, 6, 5, 2]), tensor([2, 7, 3, 8, 5, 0, 8, 0, 7, 5, 8, 9, 7, 0, 0, 0, 3, 2, 4, 4, 0, 7, 1, 3,\n",
            "        4, 6, 6, 8, 1, 6, 7, 3]), tensor([4, 8, 8, 2, 8, 9, 3, 1, 6, 5, 2, 7, 0, 5, 6, 8, 5, 4, 2, 8, 9, 8, 3, 3,\n",
            "        3, 0, 8, 3, 0, 7, 4, 4]), tensor([8, 1, 3, 6, 1, 9, 2, 1, 4, 4, 7, 9, 2, 6, 0, 4, 4, 2, 4, 5, 0, 2, 8, 3,\n",
            "        7, 4, 4, 0, 0, 5, 4, 8]), tensor([2, 6, 2, 0, 2, 1, 7, 9, 5, 4, 7, 2, 4, 7, 3, 3, 1, 3, 6, 6, 6, 1, 9, 2,\n",
            "        4, 7, 1, 0, 6, 5, 8, 4]), tensor([8, 7, 9, 8, 0, 7, 9, 8, 1, 2, 9, 5, 8, 3, 9, 7, 1, 6, 7, 8, 0, 1, 7, 2,\n",
            "        7, 1, 1, 5, 5, 6, 4, 8]), tensor([9, 5, 5, 2, 3, 9, 3, 8, 8, 6, 6, 3, 6, 5, 7, 6, 8, 2, 6, 4, 6, 7, 6, 0,\n",
            "        5, 1, 7, 2, 3, 6, 8, 9]), tensor([8, 7, 1, 6, 0, 2, 9, 7, 5, 6, 1, 0, 7, 1, 2, 4, 9, 3, 6, 4, 4, 8, 0, 0,\n",
            "        6, 3, 6, 1, 3, 8, 4, 5]), tensor([3, 9, 1, 1, 4, 2, 9, 5, 0, 7, 4, 6, 7, 1, 1, 5, 3, 8, 7, 8, 4, 8, 9, 2,\n",
            "        6, 1, 1, 3, 5, 6, 7, 1]), tensor([9, 6, 2, 4, 7, 0, 1, 3, 9, 6, 3, 7, 2, 8, 1, 8, 0, 7, 9, 8, 5, 8, 2, 6,\n",
            "        4, 6, 6, 5, 8, 3, 8, 7]), tensor([5, 7, 3, 7, 0, 7, 0, 2, 2, 5, 3, 5, 1, 1, 7, 7, 6, 3, 0, 4, 2, 8, 6, 3,\n",
            "        3, 4, 9, 9, 4, 5, 2, 2]), tensor([7, 8, 0, 7, 9, 1, 2, 9, 4, 5, 3, 2, 3, 3, 1, 8, 8, 5, 3, 8, 0, 2, 4, 3,\n",
            "        2, 0, 2, 7, 3, 6, 8, 3]), tensor([7, 7, 3, 1, 7, 5, 8, 8, 2, 0, 0, 4, 4, 4, 0, 7, 0, 6, 0, 7, 7, 3, 9, 2,\n",
            "        5, 9, 7, 1, 7, 2, 4, 5]), tensor([1, 6, 8, 4, 5, 0, 4, 4, 1, 4, 4, 8, 6, 7, 9, 4, 1, 1, 7, 2, 3, 5, 6, 3,\n",
            "        9, 7, 8, 3, 8, 8, 8, 7]), tensor([1, 1, 6, 3, 1, 4, 3, 4, 9, 8, 0, 0, 6, 9, 4, 9, 0, 6, 1, 8, 9, 2, 5, 4,\n",
            "        8, 0, 7, 2, 3, 6, 2, 5]), tensor([6, 1, 9, 6, 4, 2, 5, 9, 0, 8, 3, 0, 0, 6, 0, 4, 2, 6, 6, 5, 0, 2, 7, 8,\n",
            "        7, 4, 3, 0, 6, 5, 2, 4]), tensor([2, 9, 5, 6, 6, 7, 0, 1, 9, 8, 5, 0, 7, 7, 5, 0, 5, 3, 3, 4, 7, 9, 8, 2,\n",
            "        4, 7, 3, 3, 7, 7, 7, 8]), tensor([4, 9, 8, 7, 6, 8, 7, 5, 1, 3, 0, 4, 9, 9, 8, 3, 7, 2, 4, 4, 9, 3, 4, 1,\n",
            "        7, 9, 1, 8, 7, 2, 7, 6]), tensor([5, 7, 6, 7, 5, 7, 4, 0, 7, 6, 3, 2, 6, 2, 9, 9, 0, 6, 6, 8, 3, 8, 6, 4,\n",
            "        6, 1, 8, 2, 6, 0, 0, 4]), tensor([4, 3, 0, 6, 1, 6, 8, 4, 9, 0, 7, 6, 7, 7, 1, 5, 8, 7, 2, 9, 9, 1, 4, 4,\n",
            "        1, 1, 1, 8, 8, 1, 3, 7]), tensor([5, 2, 0, 8, 4, 8, 9, 3, 1, 3, 1, 9, 6, 1, 3, 1, 8, 6, 9, 9, 7, 6, 3, 3,\n",
            "        2, 1, 1, 7, 9, 6, 2, 0]), tensor([3, 6, 4, 0, 3, 7, 2, 4, 2, 2, 3, 8, 7, 1, 8, 9, 8, 9, 9, 6, 6, 4, 9, 6,\n",
            "        4, 3, 5, 5, 0, 2, 1, 0]), tensor([3, 7, 7, 3, 7, 4, 5, 7, 9, 8, 9, 1, 4, 8, 3, 2, 6, 6, 6, 8, 3, 8, 6, 8,\n",
            "        6, 0, 8, 8, 4, 2, 9, 3]), tensor([2, 0, 8, 5, 9, 6, 1, 1, 1, 9, 5, 1, 3, 3, 6, 0, 8, 4, 1, 3, 8, 8, 6, 7,\n",
            "        5, 6, 6, 7, 3, 3, 2, 4]), tensor([6, 5, 8, 6, 4, 3, 7, 1, 1, 7, 3, 8, 7, 2, 2, 9, 3, 9, 9, 0, 1, 7, 1, 3,\n",
            "        8, 1, 6, 9, 3, 4, 0, 0]), tensor([7, 6, 5, 9, 5, 5, 7, 0, 9, 3, 3, 6, 9, 8, 4, 2, 6, 3, 9, 2, 3, 6, 7, 4,\n",
            "        0, 2, 8, 1, 8, 7, 3, 4]), tensor([7, 4, 2, 9, 1, 7, 4, 9, 1, 6, 2, 8, 8, 7, 7, 7, 7, 2, 6, 0, 7, 5, 8, 5,\n",
            "        3, 0, 2, 4, 9, 2, 4, 3]), tensor([3, 9, 3, 1, 2, 2, 2, 3, 7, 8, 7, 4, 4, 4, 1, 2, 8, 5, 4, 2, 9, 1, 8, 9,\n",
            "        8, 6, 6, 4, 0, 1, 8, 7]), tensor([6, 6, 7, 7, 6, 6, 4, 3, 4, 7, 8, 7, 2, 8, 0, 8, 7, 6, 4, 2, 7, 0, 9, 9,\n",
            "        3, 1, 5, 9, 3, 1, 6, 3]), tensor([3, 8, 9, 7, 9, 8, 3, 8, 9, 0, 7, 9, 3, 8, 6, 0, 5, 7, 7, 2, 4, 8, 0, 1,\n",
            "        1, 9, 4, 3, 9, 8, 8, 7]), tensor([2, 4, 9, 0, 2, 1, 9, 7, 1, 5, 0, 9, 5, 0, 3, 0, 6, 3, 3, 7, 4, 6, 6, 8,\n",
            "        8, 9, 2, 1, 3, 5, 5, 8]), tensor([5, 3, 7, 4, 4, 3, 9, 6, 0, 6, 9, 1, 4, 3, 1, 5, 3, 8, 5, 1, 1, 2, 9, 4,\n",
            "        0, 5, 6, 8, 6, 2, 9, 8]), tensor([2, 4, 8, 3, 8, 0, 4, 0, 0, 6, 8, 5, 4, 9, 0, 9, 5, 8, 0, 9, 1, 4, 7, 2,\n",
            "        1, 6, 6, 6, 6, 5, 0, 4]), tensor([8, 7, 5, 2, 6, 6, 8, 3, 6, 1, 9, 2, 7, 7, 2, 6, 4, 8, 3, 4, 8, 5, 6, 6,\n",
            "        3, 3, 1, 4, 2, 0, 4, 9]), tensor([6, 4, 1, 9, 9, 8, 1, 4, 8, 3, 3, 3, 8, 5, 9, 2, 2, 8, 7, 6, 3, 6, 6, 4,\n",
            "        5, 7, 8, 0, 7, 9, 1, 6]), tensor([4, 8, 9, 3, 5, 2, 0, 6, 6, 7, 8, 9, 1, 8, 2, 5, 5, 3, 1, 1, 8, 8, 3, 0,\n",
            "        7, 0, 1, 8, 2, 6, 6, 9]), tensor([8, 7, 8, 8, 6, 9, 1, 8, 2, 2, 7, 7, 0, 5, 1, 1, 0, 6, 4, 3, 0, 4, 3, 7,\n",
            "        1, 6, 3, 3, 4, 2, 5, 6]), tensor([9, 8, 3, 4, 1, 0, 2, 1, 4, 4, 4, 2, 2, 7, 0, 7, 9, 5, 6, 6, 0, 7, 6, 3,\n",
            "        9, 7, 3, 6, 1, 7, 4, 1]), tensor([0, 4, 5, 4, 1, 4, 8, 5, 9, 4, 7, 3, 3, 8, 3, 6, 6, 8, 9, 0, 7, 3, 2, 8,\n",
            "        7, 3, 0, 2, 8, 7, 9, 2]), tensor([3, 1, 6, 3, 6, 2, 7, 4, 1, 2, 6, 4, 0, 4, 8, 5, 6, 8, 8, 6, 7, 8, 1, 5,\n",
            "        9, 8, 6, 9, 0, 4, 3, 7]), tensor([8, 7, 9, 6, 0, 7, 1, 8, 8, 9, 5, 4, 4, 2, 6, 5, 9, 7, 4, 2, 6, 9, 7, 3,\n",
            "        2, 1, 3, 7, 1, 8, 7, 7]), tensor([1, 8, 9, 3, 7, 7, 7, 1, 7, 4, 4, 6, 2, 3, 5, 2, 8, 9, 6, 8, 0, 0, 7, 7,\n",
            "        5, 0, 1, 9, 3, 6, 4, 9]), tensor([2, 0, 6, 9, 1, 0, 5, 0, 9, 2, 8, 2, 3, 6, 0, 7, 4, 8, 7, 4, 1, 7, 8, 2,\n",
            "        4, 0, 4, 4, 1, 0, 6, 9]), tensor([2, 9, 4, 5, 2, 3, 3, 8, 8, 2, 0, 7, 2, 4, 0, 3, 1, 3, 8, 1, 7, 7, 2, 6,\n",
            "        3, 1, 2, 7, 2, 6, 0, 3]), tensor([4, 7, 2, 8, 3, 2, 3, 0, 9, 7, 3, 8, 4, 9, 2, 4, 5, 0, 6, 8, 4, 0, 4, 4,\n",
            "        0, 4, 1, 6, 4, 3, 7, 1]), tensor([0, 6, 4, 1, 1, 5, 6, 3, 8, 3, 3, 1, 7, 2, 9, 8, 8, 4, 0, 0, 6, 7, 3, 9,\n",
            "        1, 0, 5, 3, 7, 2, 1, 1]), tensor([8, 6, 6, 0, 5, 9, 6, 3, 8, 1, 0, 4, 6, 2, 4, 8, 3, 4, 2, 1, 9, 3, 7, 9,\n",
            "        5, 7, 6, 1, 8, 8, 8, 2]), tensor([6, 4, 6, 3, 1, 6, 3, 0, 3, 9, 8, 4, 6, 8, 4, 3, 9, 7, 1, 1, 7, 5, 1, 9,\n",
            "        2, 4, 2, 3, 8, 6, 7, 1]), tensor([3, 0, 7, 3, 5, 8, 1, 4, 2, 3, 4, 8, 8, 8, 4, 8, 1, 8, 9, 3, 0, 6, 6, 6,\n",
            "        9, 7, 3, 7, 0, 1, 4, 5]), tensor([9, 4, 0, 8, 0, 5, 8, 7, 4, 6, 2, 8, 0, 0, 9, 3, 0, 5, 8, 1, 1, 2, 6, 0,\n",
            "        6, 8, 4, 2, 3, 3, 9, 7]), tensor([4, 3, 3, 1, 8, 1, 5, 2, 0, 0, 7, 9, 3, 2, 7, 1, 7, 4, 1, 6, 2, 6, 6, 7,\n",
            "        0, 4, 9, 3, 2, 5, 6, 8]), tensor([6, 2, 4, 7, 4, 4, 1, 1, 0, 3, 5, 7, 2, 6, 4, 1, 8, 0, 3, 4, 3, 4, 2, 7,\n",
            "        6, 3, 9, 6, 0, 0, 6, 4]), tensor([5, 4, 7, 8, 1, 6, 3, 6, 4, 9, 4, 3, 5, 1, 2, 6, 0, 1, 1, 0, 2, 6, 5, 5,\n",
            "        0, 1, 2, 4, 3, 7, 2, 1]), tensor([1, 7, 7, 8, 7, 6, 7, 3, 7, 6, 0, 9, 6, 1, 6, 2, 4, 5, 8, 5, 2, 7, 8, 4,\n",
            "        6, 9, 0, 8, 1, 3, 8, 2]), tensor([8, 2, 0, 6, 3, 8, 7, 8, 2, 2, 6, 6, 0, 4, 5, 4, 4, 1, 1, 9, 7, 0, 6, 2,\n",
            "        1, 4, 2, 7, 7, 1, 8, 3]), tensor([3, 7, 9, 8, 7, 2, 7, 9, 7, 2, 2, 6, 6, 3, 3, 9, 1, 1, 4, 8, 0, 9, 7, 5,\n",
            "        4, 8, 8, 3, 6, 3, 6, 8]), tensor([4, 6, 5, 9, 2, 4, 8, 4, 2, 8, 3, 6, 1, 1, 3, 0, 1, 8, 4, 1, 5, 8, 1, 5,\n",
            "        8, 6, 7, 6, 7, 5, 6, 5]), tensor([5, 3, 6, 9, 8, 4, 5, 1, 6, 6, 2, 4, 3, 7, 7, 9, 7, 2, 5, 8, 7, 8, 5, 3,\n",
            "        0, 9, 7, 2, 0, 6, 8, 4]), tensor([0, 7, 3, 5, 6, 5, 4, 7, 0, 6, 4, 0, 6, 7, 8, 1, 3, 8, 1, 9, 3, 6, 1, 1,\n",
            "        6, 6, 9, 8, 4, 8, 2, 7]), tensor([7, 1, 3, 0, 3, 0, 7, 8, 7, 6, 5, 2, 6, 7, 5, 5, 8, 9, 7, 3, 2, 4, 8, 3,\n",
            "        9, 5, 7, 6, 2, 6, 7, 3]), tensor([8, 5, 1, 8, 9, 2, 2, 1, 3, 2, 7, 4, 0, 4, 4, 8, 9, 7, 9, 2, 2, 8, 4, 6,\n",
            "        0, 6, 3, 3, 1, 5, 4, 7]), tensor([5, 3, 7, 6, 2, 3, 5, 1, 1, 3, 7, 3, 8, 8, 7, 7, 6, 9, 5, 5, 3, 0, 7, 1,\n",
            "        4, 6, 0, 9, 7, 3, 6, 4]), tensor([6, 5, 7, 8, 0, 2, 7, 6, 6, 2, 8, 1, 6, 4, 8, 0, 7, 8, 8, 9, 9, 8, 5, 3,\n",
            "        7, 6, 2, 2, 6, 3, 6, 2]), tensor([0, 3, 9, 4, 5, 4, 4, 1, 2, 8, 7, 0, 5, 6, 2, 8, 6, 3, 6, 6, 6, 7, 2, 7,\n",
            "        2, 3, 2, 7, 1, 2, 3, 8]), tensor([2, 4, 3, 9, 9, 2, 8, 0, 6, 0, 6, 1, 9, 3, 7, 2, 8, 2, 9, 4, 7, 9, 1, 5,\n",
            "        8, 1, 0, 6, 2, 6, 6, 6]), tensor([3, 3, 0, 0, 4, 3, 3, 1, 4, 8, 4, 9, 3, 0, 6, 5, 2, 8, 8, 6, 1, 4, 8, 9,\n",
            "        8, 5, 8, 9, 0, 7, 2, 7]), tensor([3, 5, 5, 8, 3, 2, 8, 0, 9, 9, 4, 0, 4, 7, 1, 8, 8, 8, 7, 2, 0, 9, 7, 9,\n",
            "        6, 9, 4, 1, 4, 7, 2, 5]), tensor([2, 6, 2, 9, 0, 7, 1, 9, 7, 2, 5, 3, 8, 4, 9, 3, 7, 5, 7, 0, 1, 3, 3, 6,\n",
            "        6, 7, 7, 3, 5, 5, 8, 7]), tensor([7, 4, 6, 5, 5, 3, 4, 8, 3, 0, 9, 2, 3, 2, 2, 9, 4, 0, 9, 1, 4, 8, 1, 4,\n",
            "        7, 8, 2, 6, 7, 6, 0, 2]), tensor([2, 3, 6, 3, 0, 5, 2, 3, 2, 8, 0, 0, 7, 4, 6, 4, 8, 3, 5, 1, 3, 7, 1, 4,\n",
            "        9, 3, 7, 4, 0, 0, 2, 9]), tensor([6, 3, 6, 6, 5, 1, 7, 9, 4, 6, 7, 4, 0, 2, 8, 1, 0, 9, 9, 7, 8, 4, 6, 9,\n",
            "        7, 7, 5, 8, 8, 7, 5, 3]), tensor([5, 5, 0, 8, 9, 7, 2, 1, 4, 7, 1, 3, 6, 3, 2, 2, 9, 4, 7, 7, 6, 5, 0, 8,\n",
            "        0, 6, 8, 5, 6, 0, 7, 3]), tensor([6, 6, 4, 5, 2, 0, 7, 7, 7, 1, 8, 2, 1, 8, 5, 2, 4, 8, 7, 7, 6, 7, 1, 6,\n",
            "        9, 8, 3, 9, 3, 5, 0, 7]), tensor([6, 6, 0, 1, 6, 5, 9, 3, 2, 8, 5, 7, 3, 1, 2, 0, 8, 1, 6, 5, 6, 9, 3, 3,\n",
            "        6, 6, 4, 6, 0, 6, 6, 2]), tensor([3, 2, 5, 7, 1, 1, 9, 4, 7, 0, 2, 1, 0, 2, 7, 7, 0, 7, 8, 0, 5, 6, 4, 3,\n",
            "        2, 9, 7, 2, 9, 5, 3, 7]), tensor([2, 6, 1, 9, 7, 8, 1, 3, 9, 3, 6, 7, 8, 6, 5, 6, 7, 7, 9, 7, 0, 4, 2, 3,\n",
            "        4, 0, 7, 5, 3, 7, 2, 8]), tensor([8, 6, 0, 4, 1, 9, 3, 3, 5, 1, 5, 5, 9, 6, 8, 5, 5, 9, 5, 6, 0, 7, 3, 8,\n",
            "        4, 2, 6, 7, 4, 8, 1, 9]), tensor([2, 6, 6, 4, 8, 8, 7, 7, 3, 9, 3, 9, 6, 8, 2, 6, 9, 0, 3, 2, 5, 5, 0, 4,\n",
            "        6, 4, 1, 3, 1, 8, 7, 8]), tensor([8, 9, 7, 0, 5, 7, 3, 4, 0, 4, 0, 3, 6, 8, 8, 8, 6, 2, 3, 4, 8, 2, 1, 4,\n",
            "        1, 1, 6, 3, 2, 2, 4, 0]), tensor([0, 4, 1, 3, 2, 5, 0, 6, 7, 5, 9, 2, 7, 0, 5, 9, 8, 4, 0, 3, 2, 0, 5, 6,\n",
            "        2, 4, 3, 8, 3, 3, 6, 5]), tensor([6, 4, 7, 4, 7, 0, 8, 2, 4, 8, 8, 6, 1, 5, 0, 9, 8, 7, 1, 0, 3, 4, 3, 6,\n",
            "        7, 3, 9, 9, 1, 5, 9, 4]), tensor([1, 7, 6, 1, 0, 5, 3, 8, 2, 4, 1, 7, 0, 5, 6, 4, 1, 7, 1, 7, 9, 6, 3, 9,\n",
            "        2, 2, 5, 3, 5, 6, 8, 2]), tensor([4, 7, 7, 3, 2, 0, 5, 5, 3, 6, 2, 5, 6, 8, 5, 6, 9, 1, 3, 1, 4, 5, 9, 3,\n",
            "        9, 0, 3, 5, 6, 1, 5, 8]), tensor([5, 6, 6, 9, 1, 7, 1, 7, 1, 8, 6, 3, 4, 0, 2, 0, 3, 3, 8, 8, 0, 3, 4, 8,\n",
            "        1, 1, 3, 3, 2, 2, 1, 8]), tensor([3, 2, 0, 2, 4, 2, 3, 9, 2, 3, 0, 4, 7, 7, 1, 6, 1, 0, 0, 0, 8, 5, 1, 0,\n",
            "        5, 2, 8, 1, 7, 1, 6, 4]), tensor([7, 4, 6, 1, 5, 3, 3, 5, 8, 7, 7, 7, 2, 7, 5, 6, 4, 2, 6, 6, 6, 9, 9, 7,\n",
            "        8, 0, 4, 4, 1, 3, 7, 6]), tensor([6, 0, 9, 8, 5, 3, 0, 7, 1, 9, 7, 8, 4, 6, 9, 9, 1, 2, 0, 6, 2, 4, 5, 1,\n",
            "        0, 4, 8, 3, 6, 8, 3, 4]), tensor([0, 0, 3, 6, 7, 4, 4, 1, 7, 3, 6, 7, 9, 9, 1, 8, 5, 9, 1, 4, 6, 1, 2, 8,\n",
            "        8, 5, 7, 8, 0, 6, 2, 7]), tensor([2, 7, 5, 6, 8, 7, 8, 1, 4, 9, 1, 1, 5, 9, 9, 4, 4, 2, 0, 0, 3, 8, 7, 6,\n",
            "        2, 7, 5, 2, 7, 0, 3, 4]), tensor([4, 8, 4, 6, 6, 7, 3, 7, 3, 6, 3, 8, 3, 3, 2, 3, 2, 5, 5, 3, 0, 7, 0, 8,\n",
            "        9, 0, 2, 1, 2, 5, 1, 3]), tensor([4, 7, 6, 4, 4, 9, 1, 4, 3, 1, 6, 8, 6, 3, 3, 6, 4, 3, 4, 3, 6, 7, 2, 3,\n",
            "        4, 0, 8, 5, 4, 0, 1, 0]), tensor([2, 2, 6, 7, 7, 6, 2, 3, 3, 0, 8, 5, 4, 4, 0, 3, 3, 5, 2, 5, 1, 5, 5, 1,\n",
            "        7, 8, 2, 1, 8, 8, 0, 9]), tensor([6, 6, 6, 3, 6, 1, 8, 3, 4, 2, 1, 2, 3, 3, 6, 8, 5, 1, 7, 0, 2, 6, 3, 9,\n",
            "        8, 4, 8, 1, 0, 2, 6, 6]), tensor([3, 3, 7, 5, 0, 6, 2, 0, 8, 4, 0, 1, 4, 4, 8, 2, 9, 2, 6, 8, 5, 2, 7, 3,\n",
            "        2, 4, 0, 0, 4, 8, 5, 4]), tensor([1, 5, 2, 8, 2, 9, 3, 6, 3, 4, 4, 2, 7, 7, 9, 6, 4, 9, 8, 3, 5, 8, 7, 7,\n",
            "        0, 7, 7, 0, 7, 7, 4, 9]), tensor([7, 4, 2, 2, 4, 8, 0, 1, 9, 5, 0, 6, 4, 4, 6, 5, 0, 5, 6, 4, 3, 8, 1, 3,\n",
            "        8, 5, 3, 0, 3, 4, 8, 8]), tensor([9, 1, 3, 2, 1, 4, 8, 6, 4, 2, 7, 3, 9, 2, 9, 0, 4, 6, 5, 7, 0, 8, 1, 7,\n",
            "        5, 4, 9, 5, 7, 3, 2, 0]), tensor([9, 8, 7, 3, 7, 7, 4, 7, 0, 8, 0, 4, 4, 0, 2, 3, 8, 9, 7, 1, 3, 4, 2, 9,\n",
            "        7, 1, 4, 2, 6, 0, 7, 5]), tensor([4, 5, 2, 0, 7, 4, 9, 9, 0, 4, 0, 1, 5, 5, 0, 0, 8, 1, 5, 0, 7, 7, 9, 8,\n",
            "        0, 1, 1, 4, 6, 6, 9, 3]), tensor([6, 6, 4, 8, 6, 5, 6, 9, 0, 2, 0, 4, 8, 6, 3, 6, 1, 4, 3, 3, 8, 4, 9, 9,\n",
            "        0, 7, 9, 5, 3, 1, 7, 2]), tensor([8, 4, 7, 0, 1, 6, 0, 7, 8, 1, 7, 3, 6, 8, 3, 8, 4, 2, 5, 6, 9, 0, 1, 2,\n",
            "        0, 7, 9, 0, 1, 3, 7, 7]), tensor([1, 2, 1, 1, 3, 8, 3, 9, 5, 4, 6, 3, 7, 7, 7, 2, 3, 9, 1, 9, 2, 6, 0, 7,\n",
            "        6, 6, 7, 7, 0, 3, 2, 9]), tensor([0, 4, 0, 2, 7, 9, 6, 1, 3, 2, 0, 8, 8, 7, 3, 2, 7, 5, 7, 6, 1, 8, 1, 4,\n",
            "        9, 8, 9, 3, 1, 0, 3, 3]), tensor([3, 0, 6, 4, 1, 9, 7, 1, 2, 6, 5, 3, 4, 1, 7, 6, 7, 6, 2, 8, 6, 1, 4, 9,\n",
            "        7, 6, 3, 4, 9, 3, 9, 8]), tensor([5, 3, 8, 4, 7, 1, 4, 1, 9, 6, 8, 3, 2, 4, 6, 1, 1, 5, 8, 6, 1, 6, 0, 9,\n",
            "        0, 9, 5, 3, 5, 6, 6, 5]), tensor([6, 8, 3, 8, 0, 6, 9, 9, 1, 5, 3, 2, 6, 8, 3, 6, 3, 0, 7, 4, 0, 4, 1, 9,\n",
            "        5, 1, 7, 5, 5, 5, 9, 3]), tensor([8, 4, 6, 6, 4, 6, 2, 1, 1, 4, 2, 8, 4, 9, 0, 5, 8, 1, 3, 8, 3, 2, 4, 8,\n",
            "        6, 6, 9, 3, 6, 7, 7, 2]), tensor([6, 6, 6, 8, 9, 6, 6, 4, 7, 7, 9, 7, 3, 6, 7, 6, 7, 3, 0, 2, 0, 9, 4, 3,\n",
            "        3, 1, 9, 5, 8, 2, 3, 5]), tensor([0, 6, 4, 5, 0, 3, 5, 2, 7, 7, 2, 0, 9, 7, 1, 2, 4, 5, 3, 0, 2, 1, 3, 6,\n",
            "        5, 4, 8, 7, 7, 2, 0, 8]), tensor([3, 5, 2, 6, 9, 8, 9, 9, 8, 1, 7, 5, 0, 1, 5, 4, 3, 3, 3, 4, 6, 3, 6, 7,\n",
            "        8, 0, 9, 3, 3, 0, 4, 2]), tensor([7, 3, 5, 7, 3, 7, 8, 4, 6, 6, 2, 3, 1, 0, 7, 9, 2, 6, 4, 1, 1, 4, 7, 2,\n",
            "        3, 5, 9, 6, 4, 4, 3, 0]), tensor([9, 9, 2, 6, 9, 8, 3, 7, 3, 1, 4, 5, 0, 1, 8, 5, 8, 4, 0, 7, 8, 9, 2, 4,\n",
            "        6, 3, 2, 6, 6, 7, 9, 1]), tensor([9, 7, 4, 8, 6, 3, 2, 4, 1, 6, 1, 5, 8, 6, 4, 6, 9, 4, 7, 6, 1, 0, 2, 7,\n",
            "        7, 0, 9, 7, 7, 3, 8, 7]), tensor([5, 9, 9, 8, 2, 1, 6, 8, 0, 2, 6, 7, 9, 2, 2, 5, 2, 3, 4, 1, 1, 9, 0, 5,\n",
            "        5, 4, 7, 8, 9, 3, 5, 4]), tensor([0, 0, 5, 7, 8, 4, 8, 8, 7, 2, 9, 4, 9, 6, 9, 7, 3, 5, 7, 3, 2, 0, 2, 8,\n",
            "        7, 9, 2, 0, 2, 4, 1, 0]), tensor([3, 8, 6, 8, 6, 4, 2, 3, 5, 7, 7, 6, 5, 6, 3, 2, 1, 8, 3, 2, 5, 4, 2, 3,\n",
            "        0, 8, 3, 3, 2, 9, 6, 9]), tensor([7, 0, 1, 8, 3, 6, 3, 8, 6, 8, 5, 1, 3, 4, 1, 9, 3, 8, 0, 4, 2, 3, 1, 5,\n",
            "        3, 4, 8, 5, 7, 8, 0, 1]), tensor([1, 0, 6, 2, 7, 9, 6, 7, 2, 3, 6, 4, 6, 3, 3, 9, 4, 7, 0, 8, 6, 5, 6, 2,\n",
            "        6, 1, 3, 9, 4, 2, 5, 0]), tensor([8, 3, 2, 5, 6, 0, 6, 0, 6, 9, 1, 3, 3, 3, 5, 8, 6, 6, 1, 4, 9, 7, 2, 4,\n",
            "        7, 5, 7, 1, 2, 8, 7, 9]), tensor([7, 7, 0, 2, 9, 4, 6, 6, 7, 8, 4, 5, 2, 7, 4, 1, 2, 5, 9, 1, 5, 7, 7, 3,\n",
            "        8, 3, 9, 6, 1, 3, 6, 7]), tensor([6, 9, 5, 1, 3, 6, 9, 3, 4, 4, 5, 3, 4, 7, 9, 1, 2, 6, 2, 4, 6, 8, 7, 9,\n",
            "        9, 3, 8, 8, 9, 0, 7, 6]), tensor([4, 3, 0, 0, 4, 2, 0, 1, 4, 0, 2, 1, 7, 0, 6, 6, 0, 3, 4, 5, 6, 0, 7, 6,\n",
            "        0, 3, 1, 8, 4, 8, 9, 9]), tensor([5, 5, 8, 2, 5, 4, 4, 2, 5, 6, 9, 2, 7, 1, 0, 2, 4, 6, 9, 0, 0, 4, 9, 1,\n",
            "        9, 4, 7, 3, 5, 2, 3, 4]), tensor([2, 1, 6, 2, 2, 3, 7, 8, 3, 8, 5, 9, 0, 6, 3, 4, 5, 9, 5, 7, 6, 1, 3, 3,\n",
            "        7, 0, 9, 7, 6, 8, 3, 5]), tensor([5, 8, 1, 9, 4, 3, 4, 2, 1, 6, 6, 3, 6, 5, 3, 6, 1, 1, 7, 8, 2, 5, 9, 0,\n",
            "        8, 3, 4, 4, 3, 7, 0, 7]), tensor([3, 5, 2, 3, 5, 1, 4, 2, 3, 3, 0, 0, 6, 4, 8, 7, 0, 3, 0, 4, 7, 3, 3, 6,\n",
            "        0, 2, 4, 4, 1, 8, 5, 9]), tensor([1, 2, 2, 4, 2, 3, 3, 3, 0, 3, 5, 8, 3, 9, 7, 3, 0, 6, 1, 0, 1, 6, 7, 7,\n",
            "        4, 8, 9, 6, 1, 6, 4, 9]), tensor([4, 7, 0, 9, 7, 0, 1, 0, 9, 9, 5, 1, 7, 2, 9, 3, 5, 6, 8, 1, 7, 3, 3, 0,\n",
            "        4, 7, 0, 8, 9, 6, 8, 4]), tensor([5, 6, 4, 5, 9, 0, 0, 5, 3, 7, 7, 1, 4, 7, 1, 5, 8, 3, 7, 2, 7, 1, 8, 8,\n",
            "        8, 7, 1, 6, 0, 5, 7, 9]), tensor([2, 5, 6, 0, 6, 2, 4, 2, 3, 9, 9, 1, 7, 5, 8, 4, 4, 2, 4, 6, 7, 2, 8, 3,\n",
            "        6, 7, 8, 2, 3, 9, 9, 5]), tensor([9, 2, 6, 7, 7, 8, 7, 4, 7, 9, 2, 3, 9, 5, 3, 0, 0, 1, 4, 9, 1, 4, 8, 5,\n",
            "        1, 7, 9, 0, 3, 3, 0, 9]), tensor([3, 4, 3, 0, 6, 6, 9, 7, 3, 9, 3, 8, 6, 8, 8, 7, 8, 2, 4, 6, 8, 3, 2, 5,\n",
            "        4, 2, 7, 1, 6, 3, 3, 6]), tensor([5, 3, 4, 6, 7, 8, 8, 1, 7, 2, 8, 8, 2, 4, 1, 9, 0, 8, 2, 7, 3, 2, 9, 7,\n",
            "        4, 4, 6, 3, 7, 1, 4, 8]), tensor([6, 1, 7, 3, 0, 3, 6, 6, 6, 0, 4, 1, 7, 9, 6, 2, 9, 2, 6, 7, 1, 7, 5, 2,\n",
            "        9, 8, 6, 4, 0, 3, 3, 2]), tensor([2, 8, 3, 6, 8, 1, 8, 1, 0, 1, 4, 7, 3, 7, 7, 3, 3, 9, 9, 6, 6, 2, 5, 8,\n",
            "        9, 3, 3, 5, 4, 1, 6, 9]), tensor([4, 3, 2, 6, 1, 8, 1, 3, 4, 0, 4, 1, 9, 0, 9, 4, 5, 3, 6, 4, 1, 4, 0, 7,\n",
            "        3, 6, 4, 3, 4, 4, 7, 2]), tensor([9, 6, 8, 0, 4, 4, 0, 1, 7, 5, 2, 3, 3, 2, 0, 3, 7, 2, 6, 2, 5, 1, 4, 6,\n",
            "        6, 1, 7, 3, 4, 6, 9, 8]), tensor([8, 0, 6, 3, 4, 4, 8, 1, 2, 3, 3, 1, 9, 5, 3, 2, 6, 9, 1, 9, 2, 9, 6, 9,\n",
            "        2, 4, 8, 0, 9, 9, 7, 0]), tensor([3, 1, 3, 8, 3, 4, 1, 2, 0, 3, 0, 7, 7, 8, 3, 6, 9, 5, 6, 6, 9, 5, 2, 3,\n",
            "        8, 5, 3, 8, 3, 7, 9, 0]), tensor([2, 5, 1, 0, 5, 6, 3, 9, 7, 9, 6, 6, 7, 1, 2, 0, 8, 6, 4, 2, 7, 8, 6, 6,\n",
            "        4, 6, 9, 7, 3, 4, 5, 4]), tensor([5, 1, 9, 5, 0, 5, 6, 4, 1, 7, 9, 6, 3, 3, 4, 9, 1, 6, 3, 9, 8, 6, 8, 2,\n",
            "        4, 1, 4, 0, 6, 7, 9, 6]), tensor([1, 1, 4, 3, 6, 9, 8, 1, 3, 7, 3, 7, 9, 0, 4, 2, 3, 6, 8, 0, 5, 5, 1, 0,\n",
            "        0, 0, 7, 9, 9, 3, 4, 4]), tensor([2, 7, 9, 4, 6, 7, 5, 4, 7, 6, 1, 4, 6, 2, 0, 9, 0, 0, 5, 1, 1, 7, 8, 3,\n",
            "        6, 6, 2, 0, 6, 4, 5, 5]), tensor([2, 4, 6, 4, 6, 1, 5, 2, 7, 8, 6, 7, 7, 0, 8, 4, 3, 6, 9, 1, 2, 1, 7, 4,\n",
            "        3, 6, 9, 9, 6, 2, 4, 3]), tensor([0, 3, 7, 5, 2, 7, 2, 9, 9, 2, 7, 0, 7, 7, 0, 8, 7, 6, 4, 9, 0, 1, 8, 7,\n",
            "        9, 4, 5, 3, 7, 6, 6, 5]), tensor([0, 6, 7, 9, 0, 9, 5, 9, 4, 4, 1, 7, 8, 3, 5, 0, 0, 6, 5, 0, 2, 3, 7, 1,\n",
            "        0, 1, 0, 7, 0, 6, 3, 4]), tensor([7, 0, 0, 5, 1, 4, 8, 1, 5, 1, 7, 3, 2, 3, 4, 7, 8, 6, 7, 6, 9, 5, 8, 0,\n",
            "        7, 1, 5, 6, 9, 7, 1, 1]), tensor([6, 5, 7, 8, 4, 3, 1, 9, 0, 2, 9, 1, 3, 4, 2, 3, 3, 6, 2, 3, 8, 6, 4, 9,\n",
            "        5, 6, 1, 8, 2, 4, 3, 6]), tensor([6, 9, 4, 3, 7, 9, 6, 3, 7, 4, 7, 9, 8, 7, 3, 0, 1, 2, 6, 4, 1, 9, 4, 4,\n",
            "        6, 5, 5, 4, 6, 2, 0, 1]), tensor([4, 9, 9, 7, 0, 1, 2, 6, 0, 4, 4, 2, 5, 9, 4, 8, 4, 6, 1, 5, 9, 4, 1, 8,\n",
            "        9, 3, 1, 7, 1, 1, 1, 9]), tensor([1, 3, 8, 9, 9, 1, 9, 4, 0, 7, 8, 5, 5, 9, 3, 8, 9, 4, 7, 6, 2, 9, 2, 6,\n",
            "        1, 5, 0, 7, 8, 6, 0, 7]), tensor([1, 1, 8, 2, 8, 7, 2, 6, 7, 2, 0, 0, 5, 1, 6, 8, 6, 3, 7, 6, 3, 9, 7, 6,\n",
            "        1, 3, 9, 6, 4, 0, 3, 7]), tensor([8, 1, 1, 9, 5, 3, 8, 4, 6, 6, 1, 5, 2, 3, 6, 2, 8, 8, 9, 4, 3, 4, 1, 7,\n",
            "        9, 0, 8, 7, 3, 3, 8, 4]), tensor([1, 8, 2, 7, 6, 4, 8, 9, 2, 7, 3, 2, 6, 1, 1, 0, 6, 1, 6, 7, 0, 5, 9, 1,\n",
            "        5, 0, 9, 0, 2, 1, 7, 6]), tensor([9, 8, 8, 9, 5, 5, 3, 8, 2, 0, 3, 6, 1, 1, 7, 0, 9, 7, 5, 3, 2, 9, 5, 5,\n",
            "        4, 6, 9, 7, 3, 0, 6, 4]), tensor([1, 7, 4, 7, 2, 8, 5, 8, 6, 0, 1, 3, 2, 2, 3, 6, 6, 0, 2, 8, 3, 2, 4, 6,\n",
            "        1, 6, 4, 5, 4, 2, 3, 9]), tensor([0, 6, 3, 4, 5, 4, 2, 7, 3, 7, 3, 3, 4, 9, 4, 8, 5, 6, 0, 3, 6, 7, 4, 8,\n",
            "        3, 1, 1, 9, 7, 5, 4, 2]), tensor([1, 6, 4, 8, 9, 2, 5, 8, 3, 3, 0, 9, 4, 4, 6, 3, 2, 4, 9, 4, 8, 6, 8, 2,\n",
            "        0, 4, 1, 3, 7, 2, 4, 2]), tensor([4, 3, 2, 4, 0, 4, 3, 4, 1, 4, 3, 8, 2, 1, 4, 1, 1, 9, 6, 7, 9, 6, 8, 0,\n",
            "        3, 4, 3, 4, 3, 7, 5, 4]), tensor([1, 1, 2, 0, 5, 5, 0, 1, 6, 5, 2, 8, 9, 7, 9, 1, 1, 3, 3, 5, 6, 7, 6, 9,\n",
            "        4, 9, 3, 6, 6, 2, 8, 5]), tensor([2, 7, 9, 8, 3, 6, 1, 3, 1, 3, 5, 6, 5, 4, 4, 9, 2, 7, 1, 4, 8, 3, 7, 7,\n",
            "        6, 7, 9, 4, 7, 7, 0, 1]), tensor([2, 1, 6, 8, 2, 2, 7, 6, 7, 1, 0, 7, 0, 1, 3, 1, 0, 3, 6, 5, 3, 8, 6, 3,\n",
            "        4, 9, 3, 1, 0, 0, 0, 7]), tensor([6, 3, 4, 5, 1, 6, 6, 3, 8, 3, 9, 8, 3, 7, 2, 4, 2, 5, 1, 9, 6, 3, 8, 7,\n",
            "        1, 8, 1, 2, 0, 9, 2, 4]), tensor([3, 4, 6, 1, 3, 5, 2, 9, 7, 5, 3, 7, 9, 5, 6, 4, 8, 0, 7, 6, 8, 4, 2, 1,\n",
            "        9, 7, 7, 3, 8, 0, 3, 0]), tensor([9, 8, 5, 6, 4, 8, 1, 5, 5, 7, 0, 1, 6, 1, 3, 4, 4, 4, 2, 1, 7, 6, 2, 2,\n",
            "        6, 1, 8, 2, 4, 6, 3, 0]), tensor([8, 8, 4, 4, 2, 0, 7, 0, 8, 9, 1, 6, 6, 7, 6, 8, 1, 8, 2, 6, 6, 7, 5, 7,\n",
            "        9, 9, 3, 9, 4, 4, 6, 6]), tensor([1, 4, 8, 4, 4, 5, 6, 2, 2, 9, 1, 8, 0, 6, 2, 6, 6, 3, 6, 6, 1, 3, 6, 3,\n",
            "        4, 1, 7, 8, 1, 0, 5, 6]), tensor([7, 0, 8, 2, 0, 0, 8, 7, 8, 3, 5, 9, 0, 5, 1, 2, 4, 7, 2, 9, 7, 0, 3, 7,\n",
            "        4, 6, 3, 0, 0, 4, 0, 1]), tensor([8, 1, 1, 2, 2, 7, 8, 9, 0, 2, 7, 7, 1, 5, 7, 8, 4, 3, 7, 5, 9, 1, 0, 1,\n",
            "        6, 1, 6, 3, 5, 8, 0, 1]), tensor([1, 8, 2, 9, 0, 0, 7, 6, 6, 2, 7, 4, 8, 8, 2, 6, 3, 6, 7, 1, 3, 7, 4, 6,\n",
            "        7, 1, 6, 5, 2, 6, 7, 9]), tensor([6, 3, 8, 2, 1, 1, 8, 8, 3, 5, 7, 8, 2, 7, 4, 3, 9, 3, 8, 9, 6, 2, 2, 4,\n",
            "        5, 7, 0, 2, 3, 9, 7, 7]), tensor([2, 6, 5, 8, 3, 1, 3, 7, 2, 9, 6, 3, 9, 7, 2, 0, 8, 6, 9, 1, 9, 9, 6, 7,\n",
            "        1, 4, 7, 0, 3, 8, 7, 2]), tensor([4, 8, 8, 3, 2, 0, 6, 9, 4, 8, 6, 1, 3, 8, 9, 1, 8, 9, 3, 0, 9, 7, 6, 9,\n",
            "        2, 1, 4, 7, 5, 1, 0, 8]), tensor([3, 4, 7, 2, 4, 6, 8, 5, 7, 9, 5, 7, 2, 6, 3, 7, 3, 4, 1, 5, 6, 9, 7, 4,\n",
            "        6, 2, 5, 8, 0, 7, 7, 2]), tensor([2, 6, 4, 8, 2, 0, 6, 7, 8, 7, 2, 5, 0, 4, 0, 2, 6, 3, 1, 8, 7, 4, 1, 9,\n",
            "        1, 2, 6, 5, 2, 3, 2, 0]), tensor([2, 6, 0, 7, 2, 1, 8, 4, 8, 7, 9, 4, 1, 3, 5, 7, 7, 3, 2, 5, 7, 3, 4, 7,\n",
            "        3, 2, 6, 7, 6, 7, 3, 9]), tensor([1, 2, 1, 9, 7, 2, 3, 4, 8, 1, 8, 3, 5, 0, 5, 3, 8, 5, 7, 4, 9, 0, 6, 8,\n",
            "        4, 2, 4, 4, 4, 3, 7, 8]), tensor([7, 1, 3, 7, 4, 9, 5, 0, 2, 2, 4, 5, 0, 8, 6, 0, 4, 0, 8, 8, 9, 6, 9, 1,\n",
            "        5, 1, 2, 1, 3, 2, 2, 2]), tensor([4, 8, 7, 8, 9, 2, 0, 5, 7, 6, 5, 6, 8, 3, 3, 4, 3, 7, 1, 8, 2, 9, 8, 1,\n",
            "        7, 3, 2, 6, 3, 7, 1, 8]), tensor([5, 7, 8, 8, 8, 3, 8, 0, 7, 7, 7, 6, 5, 2, 6, 1, 2, 3, 4, 1, 0, 3, 9, 1,\n",
            "        8, 2, 3, 7, 4, 9, 5, 7]), tensor([4, 3, 9, 8, 6, 0, 2, 7, 3, 9, 3, 0, 5, 9, 0, 9, 4, 0, 4, 5, 7, 1, 4, 8,\n",
            "        4, 0, 2, 3, 1, 1, 1, 8]), tensor([6, 2, 2, 5, 9, 8, 9, 9, 3, 4, 7, 9, 2, 0, 1, 1, 1, 4, 8, 6, 6, 0, 9, 5,\n",
            "        6, 7, 6, 8, 2, 4, 4, 2]), tensor([2, 4, 5, 7, 4, 9, 9, 2, 2, 2, 0, 7, 4, 5, 6, 3, 3, 1, 9, 8, 1, 8, 6, 6,\n",
            "        3, 9, 1, 9, 7, 6, 9, 6]), tensor([8, 3, 0, 4, 2, 3, 4, 6, 6, 9, 2, 1, 1, 6, 5, 6, 7, 0, 4, 1, 1, 8, 0, 0,\n",
            "        1, 9, 8, 7, 3, 8, 2, 1]), tensor([6, 6, 4, 6, 3, 0, 2, 3, 8, 9, 5, 8, 7, 3, 1, 7, 8, 9, 4, 1, 1, 7, 0, 7,\n",
            "        0, 0, 9, 6, 0, 2, 9, 3]), tensor([8, 5, 5, 9, 3, 3, 5, 7, 1, 3, 3, 3, 8, 6, 0, 4, 1, 1, 9, 1, 4, 0, 6, 2,\n",
            "        2, 6, 6, 0, 6, 5, 0, 3]), tensor([0, 5, 1, 1, 8, 2, 5, 3, 5, 1, 6, 4, 3, 1, 6, 7, 9, 6, 3, 8, 8, 4, 4, 9,\n",
            "        1, 9, 7, 7, 4, 2, 2, 7]), tensor([5, 6, 1, 5, 7, 9, 8, 2, 8, 3, 9, 4, 6, 2, 9, 9, 0, 2, 7, 3, 1, 0, 8, 2,\n",
            "        6, 4, 6, 7, 1, 8, 6, 0]), tensor([3, 4, 6, 3, 9, 8, 0, 0, 8, 3, 9, 2, 1, 5, 4, 5, 0, 8, 4, 2, 5, 9, 3, 6,\n",
            "        4, 7, 8, 6, 9, 5, 0, 0]), tensor([6, 9, 7, 2, 9, 2, 2, 6, 4, 6, 1, 6, 3, 9, 4, 0, 3, 8, 6, 6, 9, 4, 7, 6,\n",
            "        5, 6, 3, 6, 8, 7, 0, 2]), tensor([1, 1, 8, 7, 3, 2, 0, 5, 2, 3, 8, 8, 8, 9, 3, 0, 9, 6, 3, 3, 6, 4, 2, 8,\n",
            "        8, 5, 9, 2, 7, 1, 9, 0]), tensor([3, 3, 3, 2, 3, 9, 7, 0, 3, 0, 2, 2, 6, 6, 6, 5, 3, 4, 7, 8, 7, 8, 0, 4,\n",
            "        1, 4, 8, 7, 2, 6, 2, 3]), tensor([7, 6, 3, 5, 2, 0, 3, 7, 1, 2, 9, 8, 7, 3, 8, 8, 5, 5, 8, 4, 4, 0, 8, 3,\n",
            "        6, 4, 9, 6, 1, 0, 5, 1]), tensor([2, 0, 9, 2, 6, 3, 6, 7, 4, 6, 4, 3, 8, 5, 1, 8, 3, 4, 4, 5, 0, 0, 7, 8,\n",
            "        7, 4, 4, 2, 2, 9, 3, 5]), tensor([0, 9, 9, 0, 1, 3, 7, 1, 7, 6, 5, 2, 6, 9, 5, 7, 7, 4, 2, 8, 3, 1, 7, 8,\n",
            "        4, 4, 8, 0, 5, 5, 7, 1]), tensor([7, 6, 2, 1, 5, 1, 7, 6, 1, 6, 3, 2, 5, 3, 9, 3, 5, 4, 0, 0, 7, 7, 4, 2,\n",
            "        3, 8, 5, 8, 4, 6, 4, 1]), tensor([2, 9, 5, 8, 9, 7, 3, 2, 9, 5, 9, 1, 1, 3, 0, 4, 1, 4, 6, 9, 9, 8, 0, 7,\n",
            "        2, 4, 3, 9, 7, 3, 7, 3]), tensor([2, 3, 7, 1, 1, 6, 6, 8, 3, 4, 3, 3, 8, 3, 7, 1, 0, 3, 8, 4, 7, 9, 6, 0,\n",
            "        3, 0, 4, 5, 7, 6, 7, 3]), tensor([5, 0, 2, 6, 3, 3, 0, 6, 4, 4, 4, 4, 6, 8, 7, 0, 7, 4, 0, 4, 2, 1, 9, 5,\n",
            "        9, 9, 0, 5, 8, 6, 7, 3]), tensor([9, 5, 6, 8, 9, 7, 8, 0, 0, 6, 0, 6, 3, 7, 8, 0, 1, 2, 2, 6, 1, 1, 3, 2,\n",
            "        2, 5, 4, 3, 9, 3, 3, 4]), tensor([3, 7, 2, 9, 2, 1, 4, 7, 5, 5, 7, 2, 6, 9, 7, 9, 7, 4, 1, 8, 3, 3, 8, 0,\n",
            "        8, 7, 6, 7, 7, 9, 4, 4]), tensor([0, 3, 7, 2, 1, 5, 2, 0, 5, 8, 6, 7, 0, 1, 0, 5, 6, 2, 1, 4, 1, 8, 7, 9,\n",
            "        9, 7, 3, 6, 2, 4, 7, 6]), tensor([3, 9, 6, 3, 9, 5, 1, 6, 7, 6, 7, 4, 3, 5, 7, 2, 7, 6, 8, 7, 5, 4, 5, 9,\n",
            "        4, 3, 5, 0, 2, 7, 5, 3]), tensor([1, 9, 3, 7, 1, 0, 3, 4, 4, 2, 5, 9, 2, 1, 1, 9, 7, 9, 0, 1, 6, 8, 9, 2,\n",
            "        5, 3, 7, 8, 7, 7, 0, 8]), tensor([5, 6, 2, 7, 5, 6, 7, 7, 9, 7, 1, 2, 0, 8, 6, 4, 0, 2, 4, 5, 5, 0, 3, 3,\n",
            "        2, 2, 5, 6, 7, 1, 8, 7]), tensor([1, 3, 2, 0, 4, 7, 3, 7, 6, 8, 6, 3, 8, 4, 6, 3, 6, 8, 7, 3, 3, 6, 5, 6,\n",
            "        1, 5, 0, 9, 9, 1, 3, 0]), tensor([6, 1, 6, 6, 5, 7, 2, 2, 0, 9, 2, 6, 8, 2, 8, 3, 7, 7, 3, 3, 7, 5, 7, 6,\n",
            "        0, 9, 4, 5, 0, 7, 2, 9]), tensor([5, 0, 8, 7, 4, 9, 9, 6, 3, 0, 0, 0, 2, 7, 6, 4, 2, 0, 4, 1, 5, 7, 9, 7,\n",
            "        3, 9, 8, 0, 8, 1, 9, 6]), tensor([1, 0, 4, 8, 0, 5, 0, 9, 8, 8, 4, 4, 4, 1, 7, 7, 1, 4, 6, 7, 0, 3, 2, 8,\n",
            "        7, 8, 5, 5, 1, 1, 3, 8]), tensor([9, 5, 9, 1, 0, 6, 3, 4, 4, 4, 7, 1, 3, 0, 1, 5, 3, 4, 9, 2, 4, 2, 4, 6,\n",
            "        7, 9, 6, 7, 1, 4, 0, 8]), tensor([3, 3, 5, 6, 0, 8, 3, 3, 4, 0, 1, 8, 4, 3, 2, 9, 7, 4, 3, 5, 2, 1, 6, 4,\n",
            "        6, 8, 8, 0, 7, 3, 6, 6]), tensor([7, 6, 2, 3, 6, 8, 4, 6, 3, 8, 8, 1, 7, 5, 4, 8, 7, 7, 9, 9, 9, 2, 0, 9,\n",
            "        2, 0, 8, 8, 8, 0, 5, 6]), tensor([6, 6, 6, 6, 9, 9, 2, 3, 5, 2, 0, 1, 0, 8, 9, 5, 7, 3, 3, 2, 4, 3, 3, 8,\n",
            "        1, 8, 2, 3, 6, 9, 8, 5]), tensor([1, 2, 2, 0, 5, 2, 8, 5, 0, 7, 1, 6, 5, 8, 5, 5, 4, 9, 6, 3, 3, 2, 5, 0,\n",
            "        8, 0, 4, 2, 3, 6, 0, 0]), tensor([3, 3, 5, 9, 4, 7, 1, 0, 4, 1, 6, 1, 7, 9, 4, 0, 4, 5, 2, 9, 4, 9, 8, 8,\n",
            "        7, 6, 2, 0, 9, 3, 0, 7]), tensor([6, 2, 7, 6, 2, 1, 0, 5, 7, 3, 5, 9, 2, 3, 4, 8, 5, 8, 1, 9, 6, 7, 6, 7,\n",
            "        3, 6, 4, 8, 6, 8, 2, 2]), tensor([7, 4, 0, 5, 1, 5, 9, 6, 0, 9, 5, 8, 0, 7, 3, 9, 8, 3, 4, 6, 5, 7, 5, 1,\n",
            "        1, 0, 4, 1, 8, 0, 8, 2]), tensor([9, 6, 3, 3, 4, 6, 2, 4, 1, 1, 4, 7, 3, 7, 0, 2, 4, 8, 8, 6, 7, 7, 1, 2,\n",
            "        6, 6, 1, 6, 0, 2, 5, 8]), tensor([2, 2, 2, 3, 1, 5, 8, 4, 4, 0, 8, 6, 8, 6, 3, 4, 5, 8, 7, 8, 7, 0, 1, 1,\n",
            "        9, 7, 5, 0, 1, 9, 6, 3]), tensor([6, 9, 4, 0, 4, 5, 7, 2, 2, 2, 0, 0, 6, 6, 3, 7, 8, 6, 2, 6, 1, 1, 9, 9,\n",
            "        2, 5, 3, 4, 8, 9, 8, 6]), tensor([6, 1, 2, 3, 7, 6, 9, 0, 4, 8, 6, 3, 4, 9, 5, 8, 9, 4, 6, 4, 1, 1, 8, 9,\n",
            "        6, 4, 2, 3, 8, 0, 7, 1]), tensor([8, 8, 5, 3, 2, 7, 7, 1, 0, 1, 4, 1, 9, 0, 2, 1, 1, 0, 7, 3, 7, 3, 2, 6,\n",
            "        1, 8, 9, 2, 2, 6, 0, 9]), tensor([1, 6, 1, 2, 7, 6, 0, 5, 6, 0, 2, 5, 5, 3, 5, 9, 1, 8, 5, 3, 1, 6, 6, 6,\n",
            "        7, 3, 5, 4, 8, 0, 7, 3]), tensor([6, 3, 9, 8, 3, 8, 7, 7, 9, 7, 0, 9, 4, 0, 9, 6, 1, 9, 8, 6, 3, 7, 2, 9,\n",
            "        5, 4, 7, 1, 2, 1, 2, 3]), tensor([9, 6, 0, 7, 6, 0, 7, 6, 4, 6, 9, 9, 1, 6, 7, 7, 7, 4, 5, 1, 2, 0, 6, 3,\n",
            "        8, 9, 8, 4, 1, 0, 8, 3]), tensor([7, 8, 8, 7, 8, 3, 2, 0, 7, 4, 8, 6, 9, 9, 4, 7, 7, 2, 2, 1, 5, 3, 4, 3,\n",
            "        5, 5, 0, 8, 4, 7, 8, 9]), tensor([4, 2, 1, 7, 6, 4, 4, 7, 4, 3, 6, 0, 7, 7, 8, 0, 9, 1, 2, 6, 2, 7, 7, 1,\n",
            "        9, 7, 3, 3, 1, 6, 3, 5]), tensor([3, 3, 9, 4, 1, 4, 6, 2, 7, 5, 4, 6, 9, 9, 8, 1, 8, 1, 2, 2, 7, 5, 6, 1,\n",
            "        4, 6, 0, 1, 2, 0, 7, 6]), tensor([8, 8, 2, 8, 4, 5, 0, 0, 1, 7, 9, 7, 3, 9, 4, 6, 2, 8, 7, 1, 3, 8, 7, 6,\n",
            "        6, 6, 8, 2, 8, 0, 1, 5]), tensor([3, 8, 1, 7, 4, 9, 3, 7, 9, 7, 1, 8, 3, 0, 9, 3, 6, 2, 4, 2, 7, 6, 0, 9,\n",
            "        8, 8, 1, 5, 7, 7, 1, 7]), tensor([9, 4, 4, 0, 7, 8, 7, 3, 7, 0, 6, 9, 5, 1, 6, 9, 2, 6, 3, 2, 0, 4, 7, 8,\n",
            "        6, 4, 0, 1, 9, 3, 8, 3]), tensor([9, 7, 1, 7, 1, 3, 3, 8, 5, 6, 0, 6, 4, 1, 1, 2, 9, 0, 3, 2, 1, 3, 2, 7,\n",
            "        0, 1, 8, 7, 7, 0, 0, 5]), tensor([0, 4, 6, 2, 2, 5, 6, 1, 0, 2, 1, 7, 3, 8, 8, 9, 9, 0, 1, 8, 1, 4, 9, 6,\n",
            "        3, 1, 1, 4, 7, 8, 3, 6]), tensor([9, 3, 2, 8, 3, 0, 4, 9, 4, 7, 7, 0, 3, 0, 4, 5, 7, 3, 7, 4, 6, 0, 9, 3,\n",
            "        6, 3, 4, 1, 2, 1, 8, 1]), tensor([9, 4, 8, 9, 9, 3, 3, 7, 0, 6, 6, 1, 6, 4, 6, 4, 2, 2, 7, 6, 6, 3, 4, 0,\n",
            "        0, 1, 3, 6, 3, 5, 7, 9]), tensor([6, 6, 3, 7, 5, 1, 2, 7, 7, 5, 8, 0, 9, 1, 6, 1, 4, 9, 1, 6, 5, 3, 3, 0,\n",
            "        7, 1, 2, 7, 9, 3, 7, 4]), tensor([4, 4, 6, 7, 4, 7, 3, 3, 7, 8, 8, 7, 0, 1, 4, 0, 9, 7, 7, 7, 1, 2, 3, 4,\n",
            "        7, 4, 3, 3, 1, 7, 5, 7]), tensor([2, 5, 6, 0, 3, 1, 2, 7, 5, 3, 2, 7, 8, 4, 7, 4, 6, 8, 3, 0, 1, 7, 5, 6,\n",
            "        9, 1, 6, 6, 5, 1, 0, 6]), tensor([3, 7, 3, 1, 8, 6, 5, 9, 8, 8, 1, 0, 9, 6, 6, 6, 1, 1, 4, 7, 3, 0, 7, 5,\n",
            "        2, 6, 5, 4, 6, 4, 7, 2]), tensor([0, 0, 3, 8, 1, 1, 2, 4, 8, 1, 0, 8, 1, 8, 5, 3, 2, 7, 0, 2, 4, 5, 4, 2,\n",
            "        4, 5, 5, 6, 9, 5, 6, 7]), tensor([3, 2, 3, 3, 9, 3, 7, 7, 8, 1, 1, 6, 6, 5, 7, 9, 4, 7, 6, 7, 0, 2, 2, 9,\n",
            "        9, 7, 7, 5, 0, 1, 2, 3]), tensor([4, 6, 2, 0, 9, 8, 7, 2, 2, 2, 8, 5, 7, 1, 6, 7, 9, 9, 0, 1, 5, 1, 1, 3,\n",
            "        6, 7, 9, 8, 3, 3, 2, 5]), tensor([2, 4, 3, 6, 8, 0, 5, 0, 6, 5, 0, 1, 6, 8, 1, 8, 2, 1, 8, 1, 7, 1, 9, 1,\n",
            "        8, 3, 5, 4, 1, 0, 8, 4]), tensor([4, 6, 8, 2, 6, 8, 7, 0, 6, 3, 9, 8, 0, 1, 0, 0, 6, 8, 3, 4, 7, 7, 8, 9,\n",
            "        2, 5, 3, 6, 9, 9, 4, 8]), tensor([5, 6, 5, 3, 3, 0, 4, 8, 3, 1, 9, 0, 1, 6, 7, 3, 8, 5, 0, 4, 6, 4, 1, 3,\n",
            "        9, 8, 8, 5, 1, 2, 6, 0]), tensor([7, 2, 7, 6, 8, 3, 2, 3, 4, 4, 1, 0, 6, 4, 3, 1, 9, 2, 8, 7, 8, 2, 3, 6,\n",
            "        2, 5, 6, 9, 0, 7, 1, 1]), tensor([7, 9, 6, 1, 6, 7, 7, 4, 6, 3, 3, 6, 3, 0, 0, 9, 9, 8, 2, 9, 2, 4, 5, 4,\n",
            "        7, 2, 6, 0, 2, 6, 9, 3]), tensor([7, 0, 6, 3, 5, 6, 4, 3, 4, 6, 9, 8, 8, 3, 2, 0, 6, 3, 7, 2, 2, 8, 1, 7,\n",
            "        2, 6, 9, 3, 6, 2, 0, 6]), tensor([7, 0, 5, 0, 6, 3, 1, 3, 6, 5, 5, 4, 3, 7, 6, 6, 2, 9, 6, 7, 6, 5, 6, 8,\n",
            "        2, 1, 6, 6, 6, 5, 9, 3]), tensor([5, 0, 2, 0, 7, 4, 4, 8, 3, 3, 8, 0, 3, 8, 7, 4, 0, 4, 8, 4, 8, 2, 7, 7,\n",
            "        0, 3, 6, 8, 1, 5, 9, 2]), tensor([2, 8, 9, 4, 1, 0, 5, 0, 2, 2, 8, 2, 2, 6, 7, 6, 7, 3, 7, 4, 5, 8, 8, 3,\n",
            "        9, 0, 0, 6, 2, 0, 3, 6]), tensor([6, 9, 2, 7, 6, 0, 0, 3, 1, 7, 8, 0, 4, 7, 3, 3, 0, 0, 0, 9, 2, 8, 5, 4,\n",
            "        9, 6, 3, 4, 0, 0, 1, 1]), tensor([7, 3, 8, 2, 1, 7, 7, 8, 4, 8, 2, 3, 7, 3, 6, 4, 9, 2, 6, 2, 9, 8, 0, 5,\n",
            "        7, 2, 4, 5, 4, 1, 0, 7]), tensor([2, 4, 2, 7, 3, 6, 3, 3, 1, 0, 4, 0, 3, 9, 7, 5, 6, 7, 3, 7, 6, 6, 3, 5,\n",
            "        4, 8, 9, 0, 9, 7, 5, 7]), tensor([7, 9, 3, 3, 8, 4, 3, 9, 3, 1, 0, 2, 5, 2, 8, 7, 9, 7, 7, 7, 9, 2, 6, 0,\n",
            "        6, 7, 6, 1, 8, 0, 3, 8]), tensor([5, 0, 5, 6, 9, 1, 1, 2, 6, 8, 9, 7, 7, 5, 8, 6, 1, 4, 0, 1, 8, 4, 3, 4,\n",
            "        7, 9, 3, 7, 5, 5, 3, 9]), tensor([1, 4, 1, 6, 7, 4, 6, 9, 3, 4, 4, 1, 7, 8, 1, 6, 5, 9, 0, 0, 9, 7, 3, 8,\n",
            "        8, 2, 8, 5, 7, 0, 7, 0]), tensor([9, 6, 3, 2, 9, 4, 8, 5, 4, 0, 1, 6, 6, 4, 7, 3, 1, 7, 7, 8, 5, 7, 0, 6,\n",
            "        4, 2, 1, 3, 8, 0, 3, 4]), tensor([7, 5, 9, 1, 0, 4, 3, 7, 6, 6, 3, 1, 8, 4, 7, 2, 5, 7, 3, 1, 8, 1, 9, 2,\n",
            "        9, 6, 2, 6, 1, 8, 3, 9]), tensor([8, 4, 0, 6, 8, 4, 8, 1, 2, 4, 6, 4, 1, 8, 8, 7, 8, 7, 6, 5, 5, 7, 9, 9,\n",
            "        8, 2, 8, 2, 1, 3, 3, 4]), tensor([8, 9, 4, 6, 7, 3, 6, 8, 3, 0, 6, 1, 0, 5, 3, 9, 7, 2, 8, 7, 3, 7, 6, 3,\n",
            "        2, 1, 7, 4, 3, 8, 5, 0]), tensor([2, 3, 0, 1, 6, 4, 5, 0, 1, 8, 8, 4, 5, 1, 9, 8, 7, 1, 2, 7, 0, 9, 3, 1,\n",
            "        9, 0, 4, 6, 4, 5, 9, 9]), tensor([3, 2, 7, 1, 2, 1, 4, 2, 3, 7, 8, 4, 6, 4, 5, 1, 2, 9, 3, 5, 8, 0, 1, 9,\n",
            "        6, 7, 3, 7, 4, 6, 6, 0]), tensor([2, 1, 3, 3, 6, 7, 0, 5, 9, 8, 9, 3, 7, 9, 9, 4, 8, 8, 0, 1, 4, 4, 0, 6,\n",
            "        8, 1, 6, 1, 3, 3, 2, 7]), tensor([8, 7, 0, 4, 3, 4, 4, 9, 7, 9, 4, 7, 2, 4, 8, 6, 1, 7, 6, 7, 6, 0, 0, 3,\n",
            "        5, 1, 1, 2, 3, 6, 9, 8]), tensor([1, 0, 1, 6, 8, 5, 4, 0, 4, 0, 4, 9, 3, 8, 5, 4, 8, 6, 2, 8, 6, 4, 4, 6,\n",
            "        8, 7, 7, 2, 8, 7, 2, 9]), tensor([5, 9, 2, 1, 0, 4, 1, 9, 7, 1, 7, 3, 5, 8, 7, 2, 9, 1, 5, 2, 0, 6, 0, 1,\n",
            "        2, 4, 4, 8, 0, 3, 2, 6]), tensor([3, 5, 1, 6, 3, 6, 5, 1, 8, 3, 1, 8, 7, 8, 4, 2, 0, 0, 7, 8, 1, 6, 9, 0,\n",
            "        2, 8, 1, 4, 8, 8, 3, 0]), tensor([8, 5, 7, 5, 4, 7, 7, 6, 1, 8, 1, 7, 7, 0, 3, 1, 6, 5, 5, 3, 8, 9, 4, 0,\n",
            "        9, 5, 1, 7, 2, 1, 5, 2]), tensor([8, 3, 3, 0, 7, 1, 3, 4, 4, 5, 7, 0, 6, 7, 3, 3, 7, 8, 8, 2, 5, 6, 9, 7,\n",
            "        3, 2, 5, 3, 0, 5, 5, 0]), tensor([9, 1, 4, 2, 5, 6, 4, 1, 4, 0, 3, 3, 6, 3, 0, 8, 4, 7, 8, 5, 7, 0, 7, 9,\n",
            "        4, 3, 2, 9, 2, 7, 1, 8]), tensor([8, 8, 9, 8, 3, 8, 9, 3, 0, 0, 2, 1, 8, 4, 4, 2, 0, 9, 7, 3, 1, 7, 1, 3,\n",
            "        5, 6, 6, 2, 1, 7, 3, 6]), tensor([8, 2, 9, 3, 9, 6, 0, 4, 1, 2, 6, 4, 3, 1, 4, 9, 7, 3, 2, 6, 2, 7, 7, 8,\n",
            "        5, 0, 9, 3, 0, 3, 8, 1]), tensor([3, 2, 7, 5, 0, 4, 5, 6, 8, 9, 1, 9, 1, 8, 1, 0])]\n"
          ]
        },
        {
          "output_type": "execute_result",
          "data": {
            "text/plain": [
              "tensor([9, 2, 1, 1, 6, 1, 4, 6, 5, 7])"
            ]
          },
          "metadata": {},
          "execution_count": 81
        }
      ]
    },
    {
      "cell_type": "code",
      "source": [
        "len(y_pred_tensor)"
      ],
      "metadata": {
        "colab": {
          "base_uri": "https://localhost:8080/"
        },
        "id": "FOn_rHS8TxQi",
        "outputId": "58572f26-3775-4370-8687-d7600880ea8e"
      },
      "execution_count": null,
      "outputs": [
        {
          "output_type": "execute_result",
          "data": {
            "text/plain": [
              "10000"
            ]
          },
          "metadata": {},
          "execution_count": 82
        }
      ]
    },
    {
      "cell_type": "code",
      "source": [
        "# See if required packages are installed and if not, install them...\n",
        "try:\n",
        "  import torchmetrics, mlxtend\n",
        "  print(f'mlxtend version: {mlxtend.__version__}')\n",
        "  assert int(mlxtend.__version__.split(\".\")[1]) >= 19, 'mlxtend should be 0.19 or higher'\n",
        "except:\n",
        "  !pip install torchmetrics -U mlxtend\n",
        "  print(f'mlxtend version: {mlxtend.__version__}')"
      ],
      "metadata": {
        "colab": {
          "base_uri": "https://localhost:8080/",
          "height": 1000
        },
        "id": "LJqVCjc0T1lH",
        "outputId": "8dc3487a-3081-4ec5-f3e3-19365e581144"
      },
      "execution_count": null,
      "outputs": [
        {
          "output_type": "stream",
          "name": "stdout",
          "text": [
            "Collecting torchmetrics\n",
            "  Downloading torchmetrics-1.8.2-py3-none-any.whl.metadata (22 kB)\n",
            "Requirement already satisfied: mlxtend in /usr/local/lib/python3.12/dist-packages (0.23.4)\n",
            "Requirement already satisfied: numpy>1.20.0 in /usr/local/lib/python3.12/dist-packages (from torchmetrics) (2.0.2)\n",
            "Requirement already satisfied: packaging>17.1 in /usr/local/lib/python3.12/dist-packages (from torchmetrics) (25.0)\n",
            "Requirement already satisfied: torch>=2.0.0 in /usr/local/lib/python3.12/dist-packages (from torchmetrics) (2.8.0+cu126)\n",
            "Collecting lightning-utilities>=0.8.0 (from torchmetrics)\n",
            "  Downloading lightning_utilities-0.15.2-py3-none-any.whl.metadata (5.7 kB)\n",
            "Requirement already satisfied: scipy>=1.2.1 in /usr/local/lib/python3.12/dist-packages (from mlxtend) (1.16.2)\n",
            "Requirement already satisfied: pandas>=0.24.2 in /usr/local/lib/python3.12/dist-packages (from mlxtend) (2.2.2)\n",
            "Requirement already satisfied: scikit-learn>=1.3.1 in /usr/local/lib/python3.12/dist-packages (from mlxtend) (1.6.1)\n",
            "Requirement already satisfied: matplotlib>=3.0.0 in /usr/local/lib/python3.12/dist-packages (from mlxtend) (3.10.0)\n",
            "Requirement already satisfied: joblib>=0.13.2 in /usr/local/lib/python3.12/dist-packages (from mlxtend) (1.5.2)\n",
            "Requirement already satisfied: setuptools in /usr/local/lib/python3.12/dist-packages (from lightning-utilities>=0.8.0->torchmetrics) (75.2.0)\n",
            "Requirement already satisfied: typing_extensions in /usr/local/lib/python3.12/dist-packages (from lightning-utilities>=0.8.0->torchmetrics) (4.15.0)\n",
            "Requirement already satisfied: contourpy>=1.0.1 in /usr/local/lib/python3.12/dist-packages (from matplotlib>=3.0.0->mlxtend) (1.3.3)\n",
            "Requirement already satisfied: cycler>=0.10 in /usr/local/lib/python3.12/dist-packages (from matplotlib>=3.0.0->mlxtend) (0.12.1)\n",
            "Requirement already satisfied: fonttools>=4.22.0 in /usr/local/lib/python3.12/dist-packages (from matplotlib>=3.0.0->mlxtend) (4.60.0)\n",
            "Requirement already satisfied: kiwisolver>=1.3.1 in /usr/local/lib/python3.12/dist-packages (from matplotlib>=3.0.0->mlxtend) (1.4.9)\n",
            "Requirement already satisfied: pillow>=8 in /usr/local/lib/python3.12/dist-packages (from matplotlib>=3.0.0->mlxtend) (11.3.0)\n",
            "Requirement already satisfied: pyparsing>=2.3.1 in /usr/local/lib/python3.12/dist-packages (from matplotlib>=3.0.0->mlxtend) (3.2.4)\n",
            "Requirement already satisfied: python-dateutil>=2.7 in /usr/local/lib/python3.12/dist-packages (from matplotlib>=3.0.0->mlxtend) (2.9.0.post0)\n",
            "Requirement already satisfied: pytz>=2020.1 in /usr/local/lib/python3.12/dist-packages (from pandas>=0.24.2->mlxtend) (2025.2)\n",
            "Requirement already satisfied: tzdata>=2022.7 in /usr/local/lib/python3.12/dist-packages (from pandas>=0.24.2->mlxtend) (2025.2)\n",
            "Requirement already satisfied: threadpoolctl>=3.1.0 in /usr/local/lib/python3.12/dist-packages (from scikit-learn>=1.3.1->mlxtend) (3.6.0)\n",
            "Requirement already satisfied: filelock in /usr/local/lib/python3.12/dist-packages (from torch>=2.0.0->torchmetrics) (3.19.1)\n",
            "Requirement already satisfied: sympy>=1.13.3 in /usr/local/lib/python3.12/dist-packages (from torch>=2.0.0->torchmetrics) (1.13.3)\n",
            "Requirement already satisfied: networkx in /usr/local/lib/python3.12/dist-packages (from torch>=2.0.0->torchmetrics) (3.5)\n",
            "Requirement already satisfied: jinja2 in /usr/local/lib/python3.12/dist-packages (from torch>=2.0.0->torchmetrics) (3.1.6)\n",
            "Requirement already satisfied: fsspec in /usr/local/lib/python3.12/dist-packages (from torch>=2.0.0->torchmetrics) (2025.3.0)\n",
            "Requirement already satisfied: nvidia-cuda-nvrtc-cu12==12.6.77 in /usr/local/lib/python3.12/dist-packages (from torch>=2.0.0->torchmetrics) (12.6.77)\n",
            "Requirement already satisfied: nvidia-cuda-runtime-cu12==12.6.77 in /usr/local/lib/python3.12/dist-packages (from torch>=2.0.0->torchmetrics) (12.6.77)\n",
            "Requirement already satisfied: nvidia-cuda-cupti-cu12==12.6.80 in /usr/local/lib/python3.12/dist-packages (from torch>=2.0.0->torchmetrics) (12.6.80)\n",
            "Requirement already satisfied: nvidia-cudnn-cu12==9.10.2.21 in /usr/local/lib/python3.12/dist-packages (from torch>=2.0.0->torchmetrics) (9.10.2.21)\n",
            "Requirement already satisfied: nvidia-cublas-cu12==12.6.4.1 in /usr/local/lib/python3.12/dist-packages (from torch>=2.0.0->torchmetrics) (12.6.4.1)\n",
            "Requirement already satisfied: nvidia-cufft-cu12==11.3.0.4 in /usr/local/lib/python3.12/dist-packages (from torch>=2.0.0->torchmetrics) (11.3.0.4)\n",
            "Requirement already satisfied: nvidia-curand-cu12==10.3.7.77 in /usr/local/lib/python3.12/dist-packages (from torch>=2.0.0->torchmetrics) (10.3.7.77)\n",
            "Requirement already satisfied: nvidia-cusolver-cu12==11.7.1.2 in /usr/local/lib/python3.12/dist-packages (from torch>=2.0.0->torchmetrics) (11.7.1.2)\n",
            "Requirement already satisfied: nvidia-cusparse-cu12==12.5.4.2 in /usr/local/lib/python3.12/dist-packages (from torch>=2.0.0->torchmetrics) (12.5.4.2)\n",
            "Requirement already satisfied: nvidia-cusparselt-cu12==0.7.1 in /usr/local/lib/python3.12/dist-packages (from torch>=2.0.0->torchmetrics) (0.7.1)\n",
            "Requirement already satisfied: nvidia-nccl-cu12==2.27.3 in /usr/local/lib/python3.12/dist-packages (from torch>=2.0.0->torchmetrics) (2.27.3)\n",
            "Requirement already satisfied: nvidia-nvtx-cu12==12.6.77 in /usr/local/lib/python3.12/dist-packages (from torch>=2.0.0->torchmetrics) (12.6.77)\n",
            "Requirement already satisfied: nvidia-nvjitlink-cu12==12.6.85 in /usr/local/lib/python3.12/dist-packages (from torch>=2.0.0->torchmetrics) (12.6.85)\n",
            "Requirement already satisfied: nvidia-cufile-cu12==1.11.1.6 in /usr/local/lib/python3.12/dist-packages (from torch>=2.0.0->torchmetrics) (1.11.1.6)\n",
            "Requirement already satisfied: triton==3.4.0 in /usr/local/lib/python3.12/dist-packages (from torch>=2.0.0->torchmetrics) (3.4.0)\n",
            "Requirement already satisfied: six>=1.5 in /usr/local/lib/python3.12/dist-packages (from python-dateutil>=2.7->matplotlib>=3.0.0->mlxtend) (1.17.0)\n",
            "Requirement already satisfied: mpmath<1.4,>=1.1.0 in /usr/local/lib/python3.12/dist-packages (from sympy>=1.13.3->torch>=2.0.0->torchmetrics) (1.3.0)\n",
            "Requirement already satisfied: MarkupSafe>=2.0 in /usr/local/lib/python3.12/dist-packages (from jinja2->torch>=2.0.0->torchmetrics) (3.0.2)\n",
            "Downloading torchmetrics-1.8.2-py3-none-any.whl (983 kB)\n",
            "\u001b[2K   \u001b[90m━━━━━━━━━━━━━━━━━━━━━━━━━━━━━━━━━━━━━━━━\u001b[0m \u001b[32m983.2/983.2 kB\u001b[0m \u001b[31m18.3 MB/s\u001b[0m eta \u001b[36m0:00:00\u001b[0m\n",
            "\u001b[?25hDownloading lightning_utilities-0.15.2-py3-none-any.whl (29 kB)\n",
            "Installing collected packages: lightning-utilities, torchmetrics\n",
            "Successfully installed lightning-utilities-0.15.2 torchmetrics-1.8.2\n"
          ]
        },
        {
          "output_type": "error",
          "ename": "NameError",
          "evalue": "name 'mlxtend' is not defined",
          "traceback": [
            "\u001b[0;31m---------------------------------------------------------------------------\u001b[0m",
            "\u001b[0;31mModuleNotFoundError\u001b[0m                       Traceback (most recent call last)",
            "\u001b[0;32m/tmp/ipython-input-3641114290.py\u001b[0m in \u001b[0;36m<cell line: 0>\u001b[0;34m()\u001b[0m\n\u001b[1;32m      2\u001b[0m \u001b[0;32mtry\u001b[0m\u001b[0;34m:\u001b[0m\u001b[0;34m\u001b[0m\u001b[0;34m\u001b[0m\u001b[0m\n\u001b[0;32m----> 3\u001b[0;31m   \u001b[0;32mimport\u001b[0m \u001b[0mtorchmetrics\u001b[0m\u001b[0;34m,\u001b[0m \u001b[0mmlxtend\u001b[0m\u001b[0;34m\u001b[0m\u001b[0;34m\u001b[0m\u001b[0m\n\u001b[0m\u001b[1;32m      4\u001b[0m   \u001b[0mprint\u001b[0m\u001b[0;34m(\u001b[0m\u001b[0;34mf'mlxtend version: {mlxtend.__version__}'\u001b[0m\u001b[0;34m)\u001b[0m\u001b[0;34m\u001b[0m\u001b[0;34m\u001b[0m\u001b[0m\n",
            "\u001b[0;31mModuleNotFoundError\u001b[0m: No module named 'torchmetrics'",
            "\nDuring handling of the above exception, another exception occurred:\n",
            "\u001b[0;31mNameError\u001b[0m                                 Traceback (most recent call last)",
            "\u001b[0;32m/tmp/ipython-input-3641114290.py\u001b[0m in \u001b[0;36m<cell line: 0>\u001b[0;34m()\u001b[0m\n\u001b[1;32m      6\u001b[0m \u001b[0;32mexcept\u001b[0m\u001b[0;34m:\u001b[0m\u001b[0;34m\u001b[0m\u001b[0;34m\u001b[0m\u001b[0m\n\u001b[1;32m      7\u001b[0m   \u001b[0mget_ipython\u001b[0m\u001b[0;34m(\u001b[0m\u001b[0;34m)\u001b[0m\u001b[0;34m.\u001b[0m\u001b[0msystem\u001b[0m\u001b[0;34m(\u001b[0m\u001b[0;34m'pip install torchmetrics -U mlxtend'\u001b[0m\u001b[0;34m)\u001b[0m\u001b[0;34m\u001b[0m\u001b[0;34m\u001b[0m\u001b[0m\n\u001b[0;32m----> 8\u001b[0;31m   \u001b[0mprint\u001b[0m\u001b[0;34m(\u001b[0m\u001b[0;34mf'mlxtend version: {mlxtend.__version__}'\u001b[0m\u001b[0;34m)\u001b[0m\u001b[0;34m\u001b[0m\u001b[0;34m\u001b[0m\u001b[0m\n\u001b[0m",
            "\u001b[0;31mNameError\u001b[0m: name 'mlxtend' is not defined"
          ]
        }
      ]
    },
    {
      "cell_type": "code",
      "source": [
        "import mlxtend\n",
        "print(mlxtend.__version__)"
      ],
      "metadata": {
        "colab": {
          "base_uri": "https://localhost:8080/"
        },
        "id": "DVntQTMXT5W-",
        "outputId": "b6a20107-0c56-4787-e03a-119df3e2c12d"
      },
      "execution_count": null,
      "outputs": [
        {
          "output_type": "stream",
          "name": "stdout",
          "text": [
            "0.23.4\n"
          ]
        }
      ]
    },
    {
      "cell_type": "code",
      "source": [
        "test_data.targets"
      ],
      "metadata": {
        "colab": {
          "base_uri": "https://localhost:8080/"
        },
        "id": "nXRCChLoUBHk",
        "outputId": "ec05d92c-700a-4715-a5fc-ad535cbd0db6"
      },
      "execution_count": null,
      "outputs": [
        {
          "output_type": "execute_result",
          "data": {
            "text/plain": [
              "tensor([9, 2, 1,  ..., 8, 1, 5])"
            ]
          },
          "metadata": {},
          "execution_count": 85
        }
      ]
    },
    {
      "cell_type": "code",
      "source": [
        "from torchmetrics import ConfusionMatrix\n",
        "from mlxtend.plotting import plot_confusion_matrix\n",
        "\n",
        "# 2. Setup confusion instance and compare predictions to target\n",
        "confmat = ConfusionMatrix(num_classes = len(class_names), task = 'multiclass')\n",
        "confmat_tensor = confmat(preds = y_pred_tensor,\n",
        "                         target = test_data.targets)\n",
        "\n",
        "# 3. Plot the confusion matrix\n",
        "fig, ax = plot_confusion_matrix(\n",
        "    conf_mat = confmat_tensor.numpy(),\n",
        "    class_names = class_names,\n",
        "    figsize = (10, 7)\n",
        ")"
      ],
      "metadata": {
        "colab": {
          "base_uri": "https://localhost:8080/",
          "height": 667
        },
        "id": "_I5IhoIkUE0H",
        "outputId": "f07fec42-403b-45e2-ff10-2b6b32323a12"
      },
      "execution_count": null,
      "outputs": [
        {
          "output_type": "display_data",
          "data": {
            "text/plain": [
              "<Figure size 1000x700 with 1 Axes>"
            ],
            "image/png": "[encoded data removed]"
          },
          "metadata": {}
        }
      ]
    },
    {
      "cell_type": "markdown",
      "source": [
        "## 11. Save and load best performing model"
      ],
      "metadata": {
        "id": "C6_PfNiFVD_v"
      }
    },
    {
      "cell_type": "code",
      "source": [
        "from pathlib import Path\n",
        "\n",
        "# Create a model directory path\n",
        "MODEL_PATH = Path('models')\n",
        "MODEL_PATH.mkdir(parents = True,\n",
        "                 exist_ok = True)\n",
        "\n",
        "# Create model save\n",
        "MODEL_NAME = '03_pytorch_computer_vision_model_2.pth'\n",
        "MODEL_SAVE_PATH = MODEL_PATH / MODEL_NAME\n",
        "\n",
        "# Save the model state dict\n",
        "print(f'Saving model to: {MODEL_SAVE_PATH}')\n",
        "torch.save(obj = model_2.state_dict(), # this are our models learned parameters on the data set\n",
        "           f = MODEL_SAVE_PATH)"
      ],
      "metadata": {
        "colab": {
          "base_uri": "https://localhost:8080/"
        },
        "id": "nWxrY-q8VGbV",
        "outputId": "165d58b5-068f-4152-d672-5dc50f6cabe2"
      },
      "execution_count": null,
      "outputs": [
        {
          "output_type": "stream",
          "name": "stdout",
          "text": [
            "Saving model to: models/03_pytorch_computer_vision_model_2.pth\n"
          ]
        }
      ]
    },
    {
      "cell_type": "code",
      "source": [
        "# Create a new instance\n",
        "torch.manual_seed(42)\n",
        "\n",
        "loaded_model_2 = FashionMNISTModelV2(input_shape = 1, # Number of color images on it's shape\n",
        "                                     hidden_units = 10,\n",
        "                                     output_shape = len(class_names))\n",
        "\n",
        "# Load in the save state_dict()\n",
        "loaded_model_2.load_state_dict(torch.load(f = MODEL_SAVE_PATH))\n",
        "\n",
        "# Send the model to the target device\n",
        "loaded_model_2.to(device)"
      ],
      "metadata": {
        "colab": {
          "base_uri": "https://localhost:8080/"
        },
        "id": "1JNRqB12VJzN",
        "outputId": "ec3cc00e-b7c8-43bf-ee83-8fadcb9675fc"
      },
      "execution_count": null,
      "outputs": [
        {
          "output_type": "execute_result",
          "data": {
            "text/plain": [
              "FashionMNISTModelV2(\n",
              "  (conv_block_1): Sequential(\n",
              "    (0): Conv2d(1, 10, kernel_size=(3, 3), stride=(1, 1), padding=(1, 1))\n",
              "    (1): ReLU()\n",
              "    (2): Conv2d(10, 10, kernel_size=(3, 3), stride=(1, 1), padding=(1, 1))\n",
              "    (3): ReLU()\n",
              "    (4): MaxPool2d(kernel_size=2, stride=2, padding=0, dilation=1, ceil_mode=False)\n",
              "  )\n",
              "  (conv_block_2): Sequential(\n",
              "    (0): Conv2d(10, 10, kernel_size=(3, 3), stride=(1, 1), padding=(1, 1))\n",
              "    (1): ReLU()\n",
              "    (2): Conv2d(10, 10, kernel_size=(3, 3), stride=(1, 1), padding=(1, 1))\n",
              "    (3): ReLU()\n",
              "    (4): MaxPool2d(kernel_size=2, stride=2, padding=0, dilation=1, ceil_mode=False)\n",
              "  )\n",
              "  (classifier): Sequential(\n",
              "    (0): Flatten(start_dim=1, end_dim=-1)\n",
              "    (1): Linear(in_features=490, out_features=10, bias=True)\n",
              "  )\n",
              ")"
            ]
          },
          "metadata": {},
          "execution_count": 90
        }
      ]
    },
    {
      "cell_type": "code",
      "source": [
        "# Evaluate loaded model\n",
        "torch.manual_seed(42)\n",
        "\n",
        "loaded_model_2_results = eval_model(\n",
        "    model = loaded_model_2,\n",
        "    data_loader = test_dataloader,\n",
        "    loss_fn = loss_fn,\n",
        "    accuracy_fn = accuracy_fn\n",
        ")\n",
        "\n",
        "loaded_model_2_results"
      ],
      "metadata": {
        "colab": {
          "base_uri": "https://localhost:8080/"
        },
        "id": "KK--xglfVMji",
        "outputId": "fdabd587-f0c4-40c6-c779-3b3a1fb82be3"
      },
      "execution_count": null,
      "outputs": [
        {
          "output_type": "execute_result",
          "data": {
            "text/plain": [
              "{'model_name': 'FashionMNISTModelV2',\n",
              " 'model_loss': 0.27587777376174927,\n",
              " 'model_acc': 90.37539936102236}"
            ]
          },
          "metadata": {},
          "execution_count": 91
        }
      ]
    },
    {
      "cell_type": "code",
      "source": [
        "model_2_results"
      ],
      "metadata": {
        "colab": {
          "base_uri": "https://localhost:8080/"
        },
        "id": "8l6U3kLNVOnh",
        "outputId": "5696d1d7-87a1-42ec-80cf-b61f4830dd05"
      },
      "execution_count": null,
      "outputs": [
        {
          "output_type": "execute_result",
          "data": {
            "text/plain": [
              "{'model_name': 'FashionMNISTModelV2',\n",
              " 'model_loss': 0.27587777376174927,\n",
              " 'model_acc': 90.37539936102236}"
            ]
          },
          "metadata": {},
          "execution_count": 92
        }
      ]
    }
  ]
}